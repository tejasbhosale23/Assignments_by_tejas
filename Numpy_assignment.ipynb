{
  "nbformat": 4,
  "nbformat_minor": 0,
  "metadata": {
    "colab": {
      "provenance": [],
      "authorship_tag": "ABX9TyM6XweJvkwXFh+xRhzRLhLg",
      "include_colab_link": true
    },
    "kernelspec": {
      "name": "python3",
      "display_name": "Python 3"
    },
    "language_info": {
      "name": "python"
    }
  },
  "cells": [
    {
      "cell_type": "markdown",
      "metadata": {
        "id": "view-in-github",
        "colab_type": "text"
      },
      "source": [
        "<a href=\"https://colab.research.google.com/github/tejasbhosalepw/Assignments_by_tejas/blob/main/Numpy_assignment.ipynb\" target=\"_parent\"><img src=\"https://colab.research.google.com/assets/colab-badge.svg\" alt=\"Open In Colab\"/></a>"
      ]
    },
    {
      "cell_type": "markdown",
      "source": [
        "Q1. What is a Python library? Why do we use Python libraries?"
      ],
      "metadata": {
        "id": "wtSZ9wKDrerh"
      }
    },
    {
      "cell_type": "markdown",
      "source": [
        "**Python Library** :- A Python library is a collection of pre-written code and functionalities that extend the capabilities of Python.\n",
        "These libraries provide ready-to-use modules, functions, and classes that developers can import into their Python programs to perform specific tasks without having to write the code from scratch.\n",
        "\n",
        "**Use of Python Libraries** :-\n",
        "1.Code reusability.\n",
        "2. Improves efficiency.\n",
        "3. Specialized functionality."
      ],
      "metadata": {
        "id": "X_moNNJvs7F9"
      }
    },
    {
      "cell_type": "markdown",
      "source": [
        "Q2. What is the difference between Numpy array and List?"
      ],
      "metadata": {
        "id": "OFqG9PActu7n"
      }
    },
    {
      "cell_type": "markdown",
      "source": [
        "1. The Numpy array is faster than list because it stores homogoneus data.\n",
        "2. The  Numpy array is faster than list because it takes less space to store data.\n",
        "3.NumPy arrays are highly optimized for numerical computations and memory efficiency as compare to list."
      ],
      "metadata": {
        "id": "BCj3u6BNt1-_"
      }
    },
    {
      "cell_type": "markdown",
      "source": [
        "Q3. Find the shape, size and dimension of the following array?\n",
        "\n",
        "[[1, 2, 3, 4]\n",
        "\n",
        "[5, 6, 7, 8],\n",
        "\n",
        "[9, 10, 11, 12]]"
      ],
      "metadata": {
        "id": "yb3RXPN6uccM"
      }
    },
    {
      "cell_type": "code",
      "source": [
        "import numpy as np\n",
        "arr1 = np.array([[1,2,3,4],[5,6,7,8],[9,10,11,12]])\n",
        "arr1"
      ],
      "metadata": {
        "colab": {
          "base_uri": "https://localhost:8080/"
        },
        "id": "3ZdrpPZYs59z",
        "outputId": "0f55e321-c0b2-4e00-f689-d1082b061fea"
      },
      "execution_count": 9,
      "outputs": [
        {
          "output_type": "execute_result",
          "data": {
            "text/plain": [
              "array([[ 1,  2,  3,  4],\n",
              "       [ 5,  6,  7,  8],\n",
              "       [ 9, 10, 11, 12]])"
            ]
          },
          "metadata": {},
          "execution_count": 9
        }
      ]
    },
    {
      "cell_type": "code",
      "source": [
        "size = arr1.size\n",
        "size"
      ],
      "metadata": {
        "colab": {
          "base_uri": "https://localhost:8080/"
        },
        "id": "EkoLgU36uwL-",
        "outputId": "caad630b-9341-41df-daad-44f5ac73015a"
      },
      "execution_count": 15,
      "outputs": [
        {
          "output_type": "execute_result",
          "data": {
            "text/plain": [
              "12"
            ]
          },
          "metadata": {},
          "execution_count": 15
        }
      ]
    },
    {
      "cell_type": "code",
      "source": [
        "shape = arr1.shape\n",
        "shape"
      ],
      "metadata": {
        "colab": {
          "base_uri": "https://localhost:8080/"
        },
        "id": "yvWBrFCLvCAh",
        "outputId": "1b1904e3-2697-42a6-f18c-4f2c7ebe11ee"
      },
      "execution_count": 18,
      "outputs": [
        {
          "output_type": "execute_result",
          "data": {
            "text/plain": [
              "(3, 4)"
            ]
          },
          "metadata": {},
          "execution_count": 18
        }
      ]
    },
    {
      "cell_type": "code",
      "source": [
        "dimension  = arr1.ndim\n",
        "dimension"
      ],
      "metadata": {
        "colab": {
          "base_uri": "https://localhost:8080/"
        },
        "id": "GskhJe4_wDkH",
        "outputId": "61494a20-a0ea-45af-a973-0f580e3831be"
      },
      "execution_count": 20,
      "outputs": [
        {
          "output_type": "execute_result",
          "data": {
            "text/plain": [
              "2"
            ]
          },
          "metadata": {},
          "execution_count": 20
        }
      ]
    },
    {
      "cell_type": "markdown",
      "source": [
        "Q4. Write python code to access the first row of the following array?\n",
        "\n",
        "[[1, 2, 3, 4]\n",
        "\n",
        "[5, 6, 7, 8],\n",
        "\n",
        "[9, 10, 11, 12]]"
      ],
      "metadata": {
        "id": "2iFrzXtgwOW6"
      }
    },
    {
      "cell_type": "code",
      "source": [
        "import numpy as np\n",
        "arr = np.array([[1,2,3,4], [5,6,7,8],[9,10,11,12]])\n",
        "first_row = arr[0]\n",
        "first_row"
      ],
      "metadata": {
        "colab": {
          "base_uri": "https://localhost:8080/"
        },
        "id": "N92WRppnwJMk",
        "outputId": "ec941538-6cb6-4544-f8f5-8e40f33d6049"
      },
      "execution_count": 22,
      "outputs": [
        {
          "output_type": "execute_result",
          "data": {
            "text/plain": [
              "array([1, 2, 3, 4])"
            ]
          },
          "metadata": {},
          "execution_count": 22
        }
      ]
    },
    {
      "cell_type": "markdown",
      "source": [
        "Q5. How do you access the element at the third row and fourth column from the given numpy array?\n",
        "\n",
        "[[1, 2, 3, 4]\n",
        "\n",
        "[5, 6, 7, 8],\n",
        "\n",
        "[9, 10, 11, 12]]"
      ],
      "metadata": {
        "id": "hsCXbNBSwyQu"
      }
    },
    {
      "cell_type": "code",
      "source": [
        "import numpy as np\n",
        "arr = np.array([[1,2,3,4], [5,6,7,8], [9,10,11,12]])\n",
        "elemnt = arr[2][3]\n",
        "elemnt"
      ],
      "metadata": {
        "colab": {
          "base_uri": "https://localhost:8080/"
        },
        "id": "7G70x6b5wr0I",
        "outputId": "dbc340df-cf90-4e8c-db90-752aede898da"
      },
      "execution_count": 23,
      "outputs": [
        {
          "output_type": "execute_result",
          "data": {
            "text/plain": [
              "12"
            ]
          },
          "metadata": {},
          "execution_count": 23
        }
      ]
    },
    {
      "cell_type": "markdown",
      "source": [
        "Q6. Write co^e to extract all odd-indexed elements from the given numpy array?\n",
        "\n",
        "[[1, 2, 3, 4]\n",
        "\n",
        "[5, 6, 7, 8],\n",
        "\n",
        "[9, 10, 11, 12]]"
      ],
      "metadata": {
        "id": "2PzEiw40xYIt"
      }
    },
    {
      "cell_type": "code",
      "source": [
        "\n",
        "import numpy as np\n",
        "arr = np.array([[1,2,3,4], [5,6,7,8],[9,10,11,12]])\n",
        "odd_indexed_elements = arr[:, 1::2]\n",
        "odd_indexed_elements\n"
      ],
      "metadata": {
        "colab": {
          "base_uri": "https://localhost:8080/"
        },
        "id": "0If4emtBxNZD",
        "outputId": "febfa956-c3b6-45b6-c869-3cf4d7a1cf3d"
      },
      "execution_count": 27,
      "outputs": [
        {
          "output_type": "execute_result",
          "data": {
            "text/plain": [
              "array([[ 2,  4],\n",
              "       [ 6,  8],\n",
              "       [10, 12]])"
            ]
          },
          "metadata": {},
          "execution_count": 27
        }
      ]
    },
    {
      "cell_type": "markdown",
      "source": [
        "Q7. How can you generate a random 3x3 matrix with values between 0 and 1?"
      ],
      "metadata": {
        "id": "uUpTT9S-zAba"
      }
    },
    {
      "cell_type": "code",
      "source": [
        "import random\n",
        "arr = np.random.rand(3,3)\n",
        "arr"
      ],
      "metadata": {
        "colab": {
          "base_uri": "https://localhost:8080/"
        },
        "id": "zfrqb1V5x-Za",
        "outputId": "ce1895ec-5917-4cbd-ee9d-52cc8c49ced4"
      },
      "execution_count": 45,
      "outputs": [
        {
          "output_type": "execute_result",
          "data": {
            "text/plain": [
              "array([[0.22826734, 0.79936439, 0.17180683],\n",
              "       [0.14525635, 0.31193872, 0.34708345],\n",
              "       [0.60192127, 0.15418245, 0.92825534]])"
            ]
          },
          "metadata": {},
          "execution_count": 45
        }
      ]
    },
    {
      "cell_type": "markdown",
      "source": [
        "Q8. Describe the difference between np.random.rand and np.random.randn?"
      ],
      "metadata": {
        "id": "vbJdHpS20vIW"
      }
    },
    {
      "cell_type": "markdown",
      "source": [
        "**np.random.rand**\n",
        "\n",
        "1. Generates random numbers from a uniform distribution between 0 and 1.\n",
        "\n",
        "2. All values generated are equally likely within the range [0, 1].\n",
        "\n",
        "3. The shape of the output array is determined by the arguments passed to the function.\n",
        "\n",
        "**np.random.randn**\n",
        "\n",
        "1. Generates random numbers from a standard normal distribution (mean=0, standard deviation=1)\n",
        "\n",
        "2. Random values are more likely to be closer to 0, with the probability decreasing as values move further away from 0 in both positive and negative directions.\n",
        "\n",
        "3. The shape of the output array is determined by the arguments passed to the function."
      ],
      "metadata": {
        "id": "JIQJRed805yK"
      }
    },
    {
      "cell_type": "markdown",
      "source": [
        "Q9. Write code to increase the dimension of the following array?\n",
        "\n",
        "[[1, 2, 3, 4]\n",
        "\n",
        "[5, 6, 7, 8],\n",
        "\n",
        "[9, 10, 11, 12]]"
      ],
      "metadata": {
        "id": "KoMBCXc71E4m"
      }
    },
    {
      "cell_type": "code",
      "source": [
        "import numpy as np\n",
        "arr = np.array([[1,2,3,4], [5,6,7,8],[9,10,11,12]])\n",
        "arr1 = arr.reshape(1,3,4)\n",
        "arr1"
      ],
      "metadata": {
        "colab": {
          "base_uri": "https://localhost:8080/"
        },
        "id": "Bj5HXjf31Aak",
        "outputId": "c40aa3e7-b90f-4bc2-f9ab-3a356cdb6532"
      },
      "execution_count": 54,
      "outputs": [
        {
          "output_type": "execute_result",
          "data": {
            "text/plain": [
              "array([[[ 1,  2,  3,  4],\n",
              "        [ 5,  6,  7,  8],\n",
              "        [ 9, 10, 11, 12]]])"
            ]
          },
          "metadata": {},
          "execution_count": 54
        }
      ]
    },
    {
      "cell_type": "markdown",
      "source": [
        "Q10. How to transpose the following array in NumPy?\n",
        "\n",
        "[[1, 2, 3, 4]\n",
        "\n",
        "[5, 6, 7, 8],\n",
        "\n",
        "[9, 10, 11, 12]]"
      ],
      "metadata": {
        "id": "XexCualj1H90"
      }
    },
    {
      "cell_type": "code",
      "source": [
        "import numpy as np\n",
        "arr = np.array([[1,2,3,4],[5,6,7,8], [9,10,11,12]])\n",
        "arr1 = np.transpose(arr)\n",
        "arr1"
      ],
      "metadata": {
        "colab": {
          "base_uri": "https://localhost:8080/"
        },
        "id": "bbFhviS11MZB",
        "outputId": "c356ac68-2e3f-49d4-9cdb-2201a5cdf0fa"
      },
      "execution_count": 62,
      "outputs": [
        {
          "output_type": "execute_result",
          "data": {
            "text/plain": [
              "array([[ 1,  5,  9],\n",
              "       [ 2,  6, 10],\n",
              "       [ 3,  7, 11],\n",
              "       [ 4,  8, 12]])"
            ]
          },
          "metadata": {},
          "execution_count": 62
        }
      ]
    },
    {
      "cell_type": "markdown",
      "source": [
        "Q11. Consider the following matrix:\n",
        "\n",
        "Matrix A2 [[1, 2, 3, 4] [5, 6, 7, 8],[9, 10, 11, 12]]\n",
        "\n",
        "Matrix B2 [[1, 2, 3, 4] [5, 6, 7, 8],[9, 10, 11, 12]]\n",
        "\n",
        "Perform the following operation using Python1\n",
        ",+ Index wiLe multiplicatio'\n",
        "]+ Matix multiplicatio'\n",
        "+ Add both the maticK\n",
        "-+ Subtact matix B om\n",
        "+ Diide Matix B by A"
      ],
      "metadata": {
        "id": "ArVKfcbh1NoP"
      }
    },
    {
      "cell_type": "code",
      "source": [
        "import numpy as np\n",
        "arr1 = np.array([[1,2,3,4],[5,6,7,8],[9,10,11,12]])\n",
        "arr1"
      ],
      "metadata": {
        "colab": {
          "base_uri": "https://localhost:8080/"
        },
        "id": "CXiK2vMR1SY2",
        "outputId": "0bc601ac-5c57-478e-9db7-f4914a60e114"
      },
      "execution_count": 63,
      "outputs": [
        {
          "output_type": "execute_result",
          "data": {
            "text/plain": [
              "array([[ 1,  2,  3,  4],\n",
              "       [ 5,  6,  7,  8],\n",
              "       [ 9, 10, 11, 12]])"
            ]
          },
          "metadata": {},
          "execution_count": 63
        }
      ]
    },
    {
      "cell_type": "code",
      "source": [
        "arr2 = np.array([[1,2,3,4],[5,6,7,8],[9,10,11,12]])\n",
        "arr2"
      ],
      "metadata": {
        "colab": {
          "base_uri": "https://localhost:8080/"
        },
        "id": "UnsZ_aTM-hg0",
        "outputId": "bf4ccac4-4d8c-4644-984f-c4d3d925016c"
      },
      "execution_count": 64,
      "outputs": [
        {
          "output_type": "execute_result",
          "data": {
            "text/plain": [
              "array([[ 1,  2,  3,  4],\n",
              "       [ 5,  6,  7,  8],\n",
              "       [ 9, 10, 11, 12]])"
            ]
          },
          "metadata": {},
          "execution_count": 64
        }
      ]
    },
    {
      "cell_type": "code",
      "source": [
        "# addition\n",
        "arr1 + arr2"
      ],
      "metadata": {
        "colab": {
          "base_uri": "https://localhost:8080/"
        },
        "id": "-3walw9--pi5",
        "outputId": "c1e4e4db-1e08-4396-b6c2-640aac8c324c"
      },
      "execution_count": 65,
      "outputs": [
        {
          "output_type": "execute_result",
          "data": {
            "text/plain": [
              "array([[ 2,  4,  6,  8],\n",
              "       [10, 12, 14, 16],\n",
              "       [18, 20, 22, 24]])"
            ]
          },
          "metadata": {},
          "execution_count": 65
        }
      ]
    },
    {
      "cell_type": "code",
      "source": [
        "# substraction\n",
        "arr1 -arr2"
      ],
      "metadata": {
        "colab": {
          "base_uri": "https://localhost:8080/"
        },
        "id": "GZVPvCJT-t9N",
        "outputId": "aae28e02-c8e7-48f0-e416-9434bf550e5d"
      },
      "execution_count": 66,
      "outputs": [
        {
          "output_type": "execute_result",
          "data": {
            "text/plain": [
              "array([[0, 0, 0, 0],\n",
              "       [0, 0, 0, 0],\n",
              "       [0, 0, 0, 0]])"
            ]
          },
          "metadata": {},
          "execution_count": 66
        }
      ]
    },
    {
      "cell_type": "code",
      "source": [
        "# multiplication\n",
        "arr1 * arr2"
      ],
      "metadata": {
        "colab": {
          "base_uri": "https://localhost:8080/"
        },
        "id": "XN0KFRMT-zaS",
        "outputId": "8466a721-7aff-4452-96c9-2f07c7c7921c"
      },
      "execution_count": 67,
      "outputs": [
        {
          "output_type": "execute_result",
          "data": {
            "text/plain": [
              "array([[  1,   4,   9,  16],\n",
              "       [ 25,  36,  49,  64],\n",
              "       [ 81, 100, 121, 144]])"
            ]
          },
          "metadata": {},
          "execution_count": 67
        }
      ]
    },
    {
      "cell_type": "code",
      "source": [
        "# division\n",
        "arr1 / arr2"
      ],
      "metadata": {
        "colab": {
          "base_uri": "https://localhost:8080/"
        },
        "id": "Vc7mjzFr_NSU",
        "outputId": "69c8569f-9d20-46df-b1a7-e13362b6e824"
      },
      "execution_count": 68,
      "outputs": [
        {
          "output_type": "execute_result",
          "data": {
            "text/plain": [
              "array([[1., 1., 1., 1.],\n",
              "       [1., 1., 1., 1.],\n",
              "       [1., 1., 1., 1.]])"
            ]
          },
          "metadata": {},
          "execution_count": 68
        }
      ]
    },
    {
      "cell_type": "markdown",
      "source": [
        "Q12. Which function in Numpy can be used to swap the byte order of an array?"
      ],
      "metadata": {
        "id": "y1jqYcT41TQF"
      }
    },
    {
      "cell_type": "markdown",
      "source": [
        "**'byteswap'** method is used to swap the byte order of an array. This method is particularly useful when dealing with data that requires byte order conversion, suchas when reading binary data from different systems with different endian formats."
      ],
      "metadata": {
        "id": "Y8czhvxe1Z32"
      }
    },
    {
      "cell_type": "markdown",
      "source": [
        "Q13. What is the significance of the np.linalg.inv function?"
      ],
      "metadata": {
        "id": "qG1G7OXA1akc"
      }
    },
    {
      "cell_type": "markdown",
      "source": [
        "1. Inverse of a matrix\n",
        "2. Solving Linear systems\n",
        "3. Numerical Stability.\n",
        "4. Error Handling"
      ],
      "metadata": {
        "id": "dCfQ0ioT1eEv"
      }
    },
    {
      "cell_type": "markdown",
      "source": [
        "Q14. What does the np.reshape function do, and how is it used?"
      ],
      "metadata": {
        "id": "j-XjVyMJ1e-E"
      }
    },
    {
      "cell_type": "markdown",
      "source": [
        "**np.reshape** :- It changes the shape of an array while preventing its data.\n",
        "The total number of elements in the reshaped array must remain the same as the original array.\n",
        "\n",
        "syntax:\n",
        "np.reshape(arr, newshape, order='C')"
      ],
      "metadata": {
        "id": "qA51ksGuAcIV"
      }
    },
    {
      "cell_type": "code",
      "source": [
        "import numpy as np\n",
        "arr = np.array([[1,2,3], [4,5,6]])\n",
        "reshape= np.reshape(arr, (3,2))\n",
        "reshape"
      ],
      "metadata": {
        "colab": {
          "base_uri": "https://localhost:8080/"
        },
        "id": "aF0s0uGoBBqH",
        "outputId": "34ca48bb-e229-4820-f64a-c6aedfeb3a8e"
      },
      "execution_count": 69,
      "outputs": [
        {
          "output_type": "execute_result",
          "data": {
            "text/plain": [
              "array([[1, 2],\n",
              "       [3, 4],\n",
              "       [5, 6]])"
            ]
          },
          "metadata": {},
          "execution_count": 69
        }
      ]
    },
    {
      "cell_type": "markdown",
      "source": [
        "Q15. What is broadcasting in Numpy?"
      ],
      "metadata": {
        "id": "x5gK0nBU1kIx"
      }
    },
    {
      "cell_type": "markdown",
      "source": [
        "**Broadcasting** in Numpy refers to a set of rules that allow arrays with different shapes to be combined together.\n",
        "\n",
        "**Broadcasting works**:\n",
        "1. When arrays have compatible dimensions.\n",
        "2. Numpy automatically aligns the dimensions of arrays during broadcasting.\n",
        "3. Broadcasting allows for efficient memory usage and computation."
      ],
      "metadata": {
        "id": "IqsJyP9_Be-2"
      }
    }
  ]
}