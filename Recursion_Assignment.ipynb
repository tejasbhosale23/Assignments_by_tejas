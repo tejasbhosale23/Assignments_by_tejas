{
  "nbformat": 4,
  "nbformat_minor": 0,
  "metadata": {
    "colab": {
      "provenance": [],
      "authorship_tag": "ABX9TyM4wnPtqqXE/xAFWrleziwF",
      "include_colab_link": true
    },
    "kernelspec": {
      "name": "python3",
      "display_name": "Python 3"
    },
    "language_info": {
      "name": "python"
    }
  },
  "cells": [
    {
      "cell_type": "markdown",
      "metadata": {
        "id": "view-in-github",
        "colab_type": "text"
      },
      "source": [
        "<a href=\"https://colab.research.google.com/github/tejasbhosalepw/Assignments_by_tejas/blob/main/Recursion_Assignment.ipynb\" target=\"_parent\"><img src=\"https://colab.research.google.com/assets/colab-badge.svg\" alt=\"Open In Colab\"/></a>"
      ]
    },
    {
      "cell_type": "code",
      "execution_count": null,
      "metadata": {
        "id": "6RHAvjMulsur"
      },
      "outputs": [],
      "source": []
    },
    {
      "cell_type": "markdown",
      "source": [
        "Q.1 Can you explain the logic and working of the Tower of Hanoi algorithm by writing a Java program?\n",
        "How does the recursion work, and how are the movements of disks between rods accomplished?"
      ],
      "metadata": {
        "id": "XV0294BWl8h0"
      }
    },
    {
      "cell_type": "markdown",
      "source": [],
      "metadata": {
        "id": "82S2-u3cmGr7"
      }
    },
    {
      "cell_type": "code",
      "source": [],
      "metadata": {
        "id": "hHLh7IkAmE79"
      },
      "execution_count": null,
      "outputs": []
    },
    {
      "cell_type": "markdown",
      "source": [
        "Q.2 Given two strings word1 and word2, return the minimum number of operations required to convert word1\n",
        "to word2.\n",
        "\n",
        "Example 1:\n",
        "\n",
        "Input: word1 = \"horse\", word2 = \"ros\"\n",
        "\n",
        "Output: 3\n",
        "\n",
        "Explanation:\n",
        "\n",
        "horse -> rorse (replace 'h' with 'r')\n",
        "\n",
        "rorse -> rose (remove 'r')\n",
        "\n",
        "rose -> ros (remove 'e')\n",
        "\n",
        "Example 2:\n",
        "\n",
        "Input: word1 = \"intention\", word2 = \"execution\"\n",
        "\n",
        "Output: 5\n",
        "\n",
        "Explanation:\n",
        "\n",
        "intention -> inention (remove 't')\n",
        "\n",
        "inention -> enention (replace 'i' with 'e')\n",
        "\n",
        "enention -> exention (replace 'n' with 'x')\n",
        "\n",
        "exention -> exection (replace 'n' with 'c')\n",
        "\n",
        "exection -> execution (insert 'u')"
      ],
      "metadata": {
        "id": "7dC-YD__mRVa"
      }
    },
    {
      "cell_type": "code",
      "source": [
        "def min_operations(word1, word2):\n",
        "    def helper(i, j):\n",
        "        # If either string is empty, the number of operations is the length of the other string\n",
        "        if i == 0:\n",
        "            return j\n",
        "        if j == 0:\n",
        "            return i\n",
        "\n",
        "        # If the current characters match, no operation is needed\n",
        "        if word1[i - 1] == word2[j - 1]:\n",
        "            return helper(i - 1, j - 1)\n",
        "\n",
        "        # Otherwise, consider three operations: replace, insert, delete\n",
        "        replace_op = helper(i - 1, j - 1)\n",
        "        insert_op = helper(i, j - 1)\n",
        "        delete_op = helper(i - 1, j)\n",
        "\n",
        "        # Return the minimum of the three operations + 1 (for the current operation)\n",
        "        return min(replace_op, insert_op, delete_op) + 1\n",
        "\n",
        "    return helper(len(word1), len(word2))\n",
        "\n",
        "# Example usage:\n",
        "word1 = \"horse\"\n",
        "word2 = \"ros\"\n",
        "result = min_operations(word1, word2)\n",
        "print(result)\n"
      ],
      "metadata": {
        "colab": {
          "base_uri": "https://localhost:8080/"
        },
        "id": "XUibhqazmSYC",
        "outputId": "3be4ea26-8258-4722-e89e-2428e05d7567"
      },
      "execution_count": 2,
      "outputs": [
        {
          "output_type": "stream",
          "name": "stdout",
          "text": [
            "3\n"
          ]
        }
      ]
    },
    {
      "cell_type": "markdown",
      "source": [
        "Q. 3 Print the max value of the array [ 13, 1, -3, 22, 5]."
      ],
      "metadata": {
        "id": "zQIR5otLm1ax"
      }
    },
    {
      "cell_type": "code",
      "source": [
        "def find_max(arr, n):\n",
        "    # Base case: If the array has only one element, return that element\n",
        "    if n == 1:\n",
        "        return arr[0]\n",
        "\n",
        "    # Recursive case: Find the maximum value in the rest of the array\n",
        "    max_in_rest = find_max(arr[1:], n - 1)\n",
        "\n",
        "    # Compare the maximum value in the rest with the first element\n",
        "    return max(arr[0], max_in_rest)\n",
        "\n",
        "# Example usage:\n",
        "arr = [13, 1, -3, 22, 5]\n",
        "result = find_max(arr, len(arr))\n",
        "print(result)\n"
      ],
      "metadata": {
        "colab": {
          "base_uri": "https://localhost:8080/"
        },
        "id": "Mk_iG6vFmmbT",
        "outputId": "66ca1c58-bfc3-41af-906f-ea25d305e7ef"
      },
      "execution_count": 3,
      "outputs": [
        {
          "output_type": "stream",
          "name": "stdout",
          "text": [
            "22\n"
          ]
        }
      ]
    },
    {
      "cell_type": "markdown",
      "source": [
        "Q.4 Find the sum of the values of the array [92, 23, 15, -20, 10]."
      ],
      "metadata": {
        "id": "pkkT9Hiim-09"
      }
    },
    {
      "cell_type": "code",
      "source": [
        "def find_sum(arr, n):\n",
        "    # Base case: If the array has no elements, return 0\n",
        "    if n == 0:\n",
        "        return 0\n",
        "\n",
        "    # Recursive case: Find the sum of the values in the rest of the array\n",
        "    sum_in_rest = find_sum(arr[1:], n - 1)\n",
        "\n",
        "    # Add the current element to the sum of the rest\n",
        "    return arr[0] + sum_in_rest\n",
        "\n",
        "# Example usage:\n",
        "arr = [92, 23, 15, -20, 10]\n",
        "result = find_sum(arr, len(arr))\n",
        "print(result)\n"
      ],
      "metadata": {
        "colab": {
          "base_uri": "https://localhost:8080/"
        },
        "id": "3UqSLzdOm94E",
        "outputId": "39b48bed-71db-4ef3-97f6-8bd526b4a080"
      },
      "execution_count": 4,
      "outputs": [
        {
          "output_type": "stream",
          "name": "stdout",
          "text": [
            "120\n"
          ]
        }
      ]
    },
    {
      "cell_type": "markdown",
      "source": [
        "Q.5 Given a number n. Print if it is an armstrong number or not.An armstrong number is a number if the sum\n",
        "of every digit in that number raised to the power of total digits in that number is equal to the number.\n",
        "\n",
        "Example :\n",
        "153 = 1^3 + 5^3 + 3^3 = 1 + 125 + 27 = 153 hence 153 is an armstrong number. (Easy)\n",
        "\n",
        "Input1 : 153\n",
        "\n",
        "Output1 : Yes\n",
        "\n",
        "Input 2 : 134\n",
        "\n",
        "Output2 : No"
      ],
      "metadata": {
        "id": "m_l40kZonNbL"
      }
    },
    {
      "cell_type": "code",
      "source": [
        "def count_digits(n):\n",
        "    # Base case: If the number is 0, it has 1 digit\n",
        "    if n == 0:\n",
        "        return 1\n",
        "\n",
        "    # Recursive case: Count the digits in the remaining part of the number\n",
        "    return 1 + count_digits(n // 10)\n",
        "\n",
        "def is_armstrong_number(n):\n",
        "    # Base case: If the number is a single-digit number, it is an Armstrong number\n",
        "    if n < 10:\n",
        "        return True\n",
        "\n",
        "    # Count the total digits in the number\n",
        "    total_digits = count_digits(n)\n",
        "\n",
        "    # Calculate the sum of digits raised to the power of total digits\n",
        "    digit_sum = sum(int(digit) ** total_digits for digit in str(n))\n",
        "\n",
        "    # Check if the sum is equal to the original number\n",
        "    return digit_sum == n\n",
        "\n",
        "# Example usage:\n",
        "input1 = 153\n",
        "output1 = is_armstrong_number(input1)\n",
        "print(\"Output1:\", \"Yes\" if output1 else \"No\")\n",
        "\n",
        "input2 = 134\n",
        "output2 = is_armstrong_number(input2)\n",
        "print(\"Output2:\", \"Yes\" if output2 else \"No\")\n"
      ],
      "metadata": {
        "colab": {
          "base_uri": "https://localhost:8080/"
        },
        "id": "S10-KA8xnJvm",
        "outputId": "22c4e175-21e9-4bbf-b79c-764b1f4ec9d2"
      },
      "execution_count": 5,
      "outputs": [
        {
          "output_type": "stream",
          "name": "stdout",
          "text": [
            "Output1: No\n",
            "Output2: No\n"
          ]
        }
      ]
    }
  ]
}