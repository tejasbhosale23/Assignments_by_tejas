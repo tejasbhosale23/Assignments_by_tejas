{
  "cells": [
    {
      "cell_type": "markdown",
      "metadata": {
        "id": "view-in-github",
        "colab_type": "text"
      },
      "source": [
        "<a href=\"https://colab.research.google.com/github/tejasbhosalepw/Assignments_by_tejas/blob/main/Python_control_flow_Assignment_3_9_23.ipynb\" target=\"_parent\"><img src=\"https://colab.research.google.com/assets/colab-badge.svg\" alt=\"Open In Colab\"/></a>"
      ]
    },
    {
      "cell_type": "markdown",
      "metadata": {
        "id": "leNJOmY5fTMa"
      },
      "source": [
        "Q1. Write a Python program to check if a given number is positive or negative."
      ]
    },
    {
      "cell_type": "code",
      "execution_count": null,
      "metadata": {
        "colab": {
          "base_uri": "https://localhost:8080/"
        },
        "id": "WDm2UsjtfngZ",
        "outputId": "85ee982c-8e71-448e-d54d-3bf8a78000c1"
      },
      "outputs": [
        {
          "name": "stdout",
          "output_type": "stream",
          "text": [
            "enter the number-1\n",
            "this is negative number\n"
          ]
        }
      ],
      "source": [
        "num = int(input('enter the number'))\n",
        "if num > 0:\n",
        "  print('this is positive number')\n",
        "elif num == 0:\n",
        "  print('this is zero number')\n",
        "else:\n",
        "  print('this is negative number')"
      ]
    },
    {
      "cell_type": "markdown",
      "metadata": {
        "id": "1CNS9pE1rbyR"
      },
      "source": [
        "Q2. Create a program that determines if a person is eligible to vote based on their age."
      ]
    },
    {
      "cell_type": "code",
      "execution_count": null,
      "metadata": {
        "colab": {
          "base_uri": "https://localhost:8080/"
        },
        "id": "7a5Z-izPf8T7",
        "outputId": "29e4ec3d-926b-422d-c777-f617d5c9bba1"
      },
      "outputs": [
        {
          "name": "stdout",
          "output_type": "stream",
          "text": [
            "enter the age18\n",
            "you are eligible for voting\n"
          ]
        }
      ],
      "source": [
        "age = int(input('enter the age'))\n",
        "if age>=18:\n",
        "  print('you are eligible for voting')\n",
        "else:\n",
        "  print('you are not eligible for voting')"
      ]
    },
    {
      "cell_type": "markdown",
      "metadata": {
        "id": "pNtfugdsrzDR"
      },
      "source": [
        "Q3. Develop a program to find the maximum of two numbers using if-else statements."
      ]
    },
    {
      "cell_type": "code",
      "execution_count": null,
      "metadata": {
        "colab": {
          "base_uri": "https://localhost:8080/"
        },
        "id": "Pkj-CRXGruCm",
        "outputId": "0b14003c-24a4-41d3-dd40-145deccd3d39"
      },
      "outputs": [
        {
          "name": "stdout",
          "output_type": "stream",
          "text": [
            "enter the first number12\n",
            "enter the second number14\n",
            "14 is maximum of 12 & 14\n"
          ]
        }
      ],
      "source": [
        "number1 = int(input('enter the first number'))\n",
        "number2 = int(input('enter the second number'))\n",
        "if number1>number2:\n",
        "  print(f'{number1} is maximum of {number1} & {number2}')\n",
        "else:\n",
        "  print(f\"{number2} is maximum of {number1} & {number2}\")"
      ]
    },
    {
      "cell_type": "markdown",
      "metadata": {
        "id": "mWnkQ9Jbs4ew"
      },
      "source": [
        "Q4. Write a Python script to classify a given year as a leap year or not."
      ]
    },
    {
      "cell_type": "code",
      "execution_count": null,
      "metadata": {
        "colab": {
          "base_uri": "https://localhost:8080/"
        },
        "id": "LB2WaPdfstfv",
        "outputId": "fc0e374d-6b71-4d78-f21a-01bea6984ead"
      },
      "outputs": [
        {
          "name": "stdout",
          "output_type": "stream",
          "text": [
            "enter the year2012\n",
            "this is leap year\n"
          ]
        }
      ],
      "source": [
        "year = int(input('enter the year'))\n",
        "if year%4 == 0:\n",
        "  if year%100 != 0:\n",
        "    print('this is leap year')\n",
        "  else:\n",
        "    print('not a leap year')\n",
        "else:\n",
        "  print('not a leap year')"
      ]
    },
    {
      "cell_type": "markdown",
      "metadata": {
        "id": "GgleTT_HtxZH"
      },
      "source": [
        "Q5. Create a program that checks whether a character is a vowel or a consonant."
      ]
    },
    {
      "cell_type": "code",
      "execution_count": null,
      "metadata": {
        "colab": {
          "base_uri": "https://localhost:8080/"
        },
        "id": "U1CdxXAatu9u",
        "outputId": "d768d1b8-c781-4e2c-9da8-f07c09eadcde"
      },
      "outputs": [
        {
          "name": "stdout",
          "output_type": "stream",
          "text": [
            "this is consonant\n"
          ]
        }
      ],
      "source": [
        "word = 'h'\n",
        "vowel = ('aeiouAEIOU')\n",
        "if word in vowel:\n",
        "  print('this is vowel')\n",
        "else:\n",
        "  print('this is consonant')"
      ]
    },
    {
      "cell_type": "markdown",
      "metadata": {
        "id": "MWod27I4wSFg"
      },
      "source": [
        "Q6. Implement a program to determine whether a given number is even or odd."
      ]
    },
    {
      "cell_type": "code",
      "execution_count": null,
      "metadata": {
        "colab": {
          "base_uri": "https://localhost:8080/"
        },
        "id": "H07ii7a7uRlZ",
        "outputId": "89d9d40f-0e1b-4527-e462-787af9685b8b"
      },
      "outputs": [
        {
          "name": "stdout",
          "output_type": "stream",
          "text": [
            "enter the number33\n",
            "this is odd number\n"
          ]
        }
      ],
      "source": [
        "num = int(input('enter the number'))\n",
        "if num%2 == 0:\n",
        "  print('this is a even number')\n",
        "else:\n",
        "  print('this is odd number')"
      ]
    },
    {
      "cell_type": "markdown",
      "metadata": {
        "id": "Pjygx1Cwwmd5"
      },
      "source": [
        "Q7. Write a Python function to calculate the absolute value of a number without using the `abs()` function."
      ]
    },
    {
      "cell_type": "code",
      "execution_count": null,
      "metadata": {
        "colab": {
          "base_uri": "https://localhost:8080/"
        },
        "id": "WTPEUMJlwhEk",
        "outputId": "46f88555-2e80-4e4d-ef16-f99c0651eb06"
      },
      "outputs": [
        {
          "name": "stdout",
          "output_type": "stream",
          "text": [
            "enter the number-5\n",
            "5\n"
          ]
        }
      ],
      "source": [
        "num = int(input('enter the number'))\n",
        "print(abs(num))"
      ]
    },
    {
      "cell_type": "markdown",
      "metadata": {
        "id": "5DW6fbrwygmT"
      },
      "source": [
        "Q8. Develop a program that determines the largest of three given numbers using if-else statements."
      ]
    },
    {
      "cell_type": "code",
      "execution_count": null,
      "metadata": {
        "colab": {
          "base_uri": "https://localhost:8080/"
        },
        "id": "86b2J4ExyUte",
        "outputId": "27c9b15f-d806-45cc-8a93-688e55588c76"
      },
      "outputs": [
        {
          "name": "stdout",
          "output_type": "stream",
          "text": [
            "enter the first number14\n",
            "enter the second number12\n",
            "enter the third number11\n",
            "14\n"
          ]
        }
      ],
      "source": [
        "num1 = int(input('enter the first number'))\n",
        "num2 = int(input('enter the second number'))\n",
        "num3 = int(input('enter the third number'))\n",
        "if num1>num2:\n",
        "  if num1>num3:\n",
        "    print(num1)\n",
        "  else:\n",
        "    print(num3)\n",
        "elif num2>num3:\n",
        "  print(num2)\n",
        "else:\n",
        "  print(num3)"
      ]
    },
    {
      "cell_type": "markdown",
      "metadata": {
        "id": "z57TG8Jk0Dlf"
      },
      "source": [
        "Q9. Create a program that checks if a given string is a palindrome."
      ]
    },
    {
      "cell_type": "code",
      "execution_count": null,
      "metadata": {
        "colab": {
          "base_uri": "https://localhost:8080/"
        },
        "id": "6j3rlHp-zOaf",
        "outputId": "7ad95a12-2792-46b2-cb81-50ad7beabe48"
      },
      "outputs": [
        {
          "name": "stdout",
          "output_type": "stream",
          "text": [
            "enter the stringmom\n",
            "this is palindrome string\n"
          ]
        }
      ],
      "source": [
        "string = input('enter the string')\n",
        "s1 = string[::-1]\n",
        "if string==s1:\n",
        "  print('this is palindrome string')\n",
        "else:\n",
        "  print('this is not a palindrome string')"
      ]
    },
    {
      "cell_type": "markdown",
      "metadata": {
        "id": "iVPlW_QK0et2"
      },
      "source": [
        "Q10. Write a Python program to calculate the grade based on a student's score."
      ]
    },
    {
      "cell_type": "code",
      "execution_count": null,
      "metadata": {
        "colab": {
          "base_uri": "https://localhost:8080/"
        },
        "id": "QBgtIA8y0YlE",
        "outputId": "09c8f575-d48f-4580-a858-1f9daf7d55e8"
      },
      "outputs": [
        {
          "name": "stdout",
          "output_type": "stream",
          "text": [
            "enter your score55\n",
            "second class\n"
          ]
        }
      ],
      "source": [
        "s = int(input('enter your score'))\n",
        "if s >70:\n",
        "  print('distinction')\n",
        "if s > 60:\n",
        "  print('first class')\n",
        "if s > 50:\n",
        "  print('second class')\n",
        "else:\n",
        "  print('fail')"
      ]
    },
    {
      "cell_type": "markdown",
      "metadata": {
        "id": "DQNoDQmZtrK6"
      },
      "source": [
        "Nested If-Else Statements:"
      ]
    },
    {
      "cell_type": "markdown",
      "metadata": {
        "id": "elycv42e28gp"
      },
      "source": [
        "Q11. Write a program to find the largest among three numbers using nested if-else statements."
      ]
    },
    {
      "cell_type": "code",
      "execution_count": null,
      "metadata": {
        "colab": {
          "base_uri": "https://localhost:8080/"
        },
        "id": "07_dZAau2peA",
        "outputId": "6ae113c7-7f46-4720-b97f-12d4b7110b8e"
      },
      "outputs": [
        {
          "name": "stdout",
          "output_type": "stream",
          "text": [
            "enter the first number12\n",
            "enter the second number4\n",
            "enter the third number123\n",
            "123\n"
          ]
        }
      ],
      "source": [
        "num1 = int(input('enter the first number'))\n",
        "num2 = int(input('enter the second number'))\n",
        "num3 = int(input('enter the third number'))\n",
        "if num1>num2:\n",
        "  if num1>num3:\n",
        "    print(num1)\n",
        "  else:\n",
        "    print(num3)\n",
        "elif num2>num3:\n",
        "  print(num2)\n",
        "else:\n",
        "  print(num3)"
      ]
    },
    {
      "cell_type": "markdown",
      "metadata": {
        "id": "37MAJGmX4wT6"
      },
      "source": [
        "Q12. Implement a program to determine if a triangle is equilateral, isosceles, or scalene."
      ]
    },
    {
      "cell_type": "code",
      "execution_count": null,
      "metadata": {
        "colab": {
          "base_uri": "https://localhost:8080/"
        },
        "id": "j8D4nMny4r0s",
        "outputId": "a14deb6f-4a5c-4b16-812a-f7d09b91dd1a"
      },
      "outputs": [
        {
          "name": "stdout",
          "output_type": "stream",
          "text": [
            "Input lengths of the triangle sides: \n",
            "x: 12\n",
            "y: 13\n",
            "z: 12\n",
            "isosceles triangle\n"
          ]
        }
      ],
      "source": [
        "x = int(input(\"x: \"))\n",
        "y = int(input(\"y: \"))\n",
        "z = int(input(\"z: \"))\n",
        "if x == y == z:\n",
        "\tprint(\"Equilateral triangle\")\n",
        "if x==y or y==z or z==x:\n",
        "\tprint(\"isosceles triangle\")\n",
        "else:\n",
        "\tprint(\"Scalene triangle\")\n"
      ]
    },
    {
      "cell_type": "markdown",
      "metadata": {
        "id": "HvuQTBfc5Wjm"
      },
      "source": [
        "Q13. Develop a program that checks if a year is a leap year and also if it is a century year."
      ]
    },
    {
      "cell_type": "code",
      "execution_count": null,
      "metadata": {
        "colab": {
          "base_uri": "https://localhost:8080/"
        },
        "id": "EbKbG5BU5Lv1",
        "outputId": "b1a726a8-7702-4014-f206-d47382b1d75e"
      },
      "outputs": [
        {
          "name": "stdout",
          "output_type": "stream",
          "text": [
            "enter the year2012\n",
            "this is leap year\n"
          ]
        }
      ],
      "source": [
        "year = int(input('enter the year'))\n",
        "if year%4 == 0:\n",
        "  if year%100 != 0:\n",
        "    print('this is leap year')\n",
        "  else:\n",
        "    print('not a leap year')\n",
        "else:\n",
        "  print('not a leap year')"
      ]
    },
    {
      "cell_type": "markdown",
      "metadata": {
        "id": "rP-648UX5rFC"
      },
      "source": [
        "Q14. Write a Python script to determine if a number is positive, negative, or zero."
      ]
    },
    {
      "cell_type": "code",
      "execution_count": null,
      "metadata": {
        "colab": {
          "base_uri": "https://localhost:8080/"
        },
        "id": "5G_H-9Fc5laS",
        "outputId": "8a1cb4b5-e981-4fb5-ceb1-9466ba4a7327"
      },
      "outputs": [
        {
          "name": "stdout",
          "output_type": "stream",
          "text": [
            "enter the number-1\n",
            "negative number\n"
          ]
        }
      ],
      "source": [
        "num = int(input('enter the number'))\n",
        "if num > 0:\n",
        "  print('This is positive number')\n",
        "if num == 0:\n",
        "  print('zero number')\n",
        "else:\n",
        "  print('negative number')"
      ]
    },
    {
      "cell_type": "markdown",
      "metadata": {
        "id": "bwTTa1adA-oE"
      },
      "source": [
        "Q15. Create a program to check if a person is a teenager (between 13 and 19 years old)."
      ]
    },
    {
      "cell_type": "code",
      "execution_count": null,
      "metadata": {
        "colab": {
          "base_uri": "https://localhost:8080/"
        },
        "id": "lkNN0_y76UBK",
        "outputId": "45762f2e-71f9-4337-dffe-de115ec3d5b5"
      },
      "outputs": [
        {
          "name": "stdout",
          "output_type": "stream",
          "text": [
            "enter your age22\n",
            "person is not a teenager\n"
          ]
        }
      ],
      "source": [
        "age = int(input('enter your age'))\n",
        "if 19 > age > 13:\n",
        "  print('person is teenager')\n",
        "else:\n",
        "  print('person is not a teenager')"
      ]
    },
    {
      "cell_type": "markdown",
      "metadata": {
        "id": "r1GcFhtoCZyu"
      },
      "source": [
        "Q16. Develop a program that determines the type of angle based on its measure (acute, obtuse, or right)."
      ]
    },
    {
      "cell_type": "code",
      "execution_count": null,
      "metadata": {
        "id": "dTwNamhEBbyH"
      },
      "outputs": [],
      "source": []
    },
    {
      "cell_type": "markdown",
      "metadata": {
        "id": "neV-eCYDOrF-"
      },
      "source": [
        "Q17. Write a Python program to calculate the roots of a quadratic equation."
      ]
    },
    {
      "cell_type": "code",
      "execution_count": null,
      "metadata": {
        "colab": {
          "base_uri": "https://localhost:8080/"
        },
        "id": "mm_d3wtGOsXG",
        "outputId": "fe7e778e-81f4-42ab-8961-fd98c89af6b4"
      },
      "outputs": [
        {
          "name": "stdout",
          "output_type": "stream",
          "text": [
            "Enter a: 12\n",
            "Enter b: 4\n",
            "Enter c: 6\n",
            "The solution are (-0.16666666666666666-0.6871842709362768j) and (-0.16666666666666666+0.6871842709362768j)\n"
          ]
        }
      ],
      "source": [
        "import cmath\n",
        "a = float(input('Enter a: '))\n",
        "b = float(input('Enter b: '))\n",
        "c = float(input('Enter c: '))\n",
        "\n",
        "d = (b**2) - (4*a*c)\n",
        "\n",
        "# find two solutions\n",
        "sol1 = (-b-cmath.sqrt(d))/(2*a)\n",
        "sol2 = (-b+cmath.sqrt(d))/(2*a)\n",
        "print(f'The solution are {sol1} and {sol2}')"
      ]
    },
    {
      "cell_type": "markdown",
      "metadata": {
        "id": "K9hxZ9taPaDi"
      },
      "source": [
        "Q18. Implement a program to determine the day of the week based on a user-provided number (1 for Monday, 2\n",
        "for Tuesday, etc.)."
      ]
    },
    {
      "cell_type": "code",
      "execution_count": null,
      "metadata": {
        "colab": {
          "base_uri": "https://localhost:8080/"
        },
        "id": "8RXyhfpyO7Wo",
        "outputId": "9e7f5a09-9218-48d9-c07e-052ccf07852a"
      },
      "outputs": [
        {
          "name": "stdout",
          "output_type": "stream",
          "text": [
            "enter the number1\n",
            "Monday\n",
            "enter number between 1 to 7\n"
          ]
        }
      ],
      "source": [
        "a = int(input('enter the number'))\n",
        "if a ==1:\n",
        "  print('Monday')\n",
        "if a==2:\n",
        "  print('Tuesday')\n",
        "if a==3:\n",
        "  print('Wednesday')\n",
        "if a==4:\n",
        "  print('Thursday')\n",
        "if a==5:\n",
        "  print('Friday')\n",
        "if a==6:\n",
        "  print('saturday')\n",
        "if a==7:\n",
        "  print('sunday')\n",
        "else:\n",
        "  print('enter number between 1 to 7')"
      ]
    },
    {
      "cell_type": "markdown",
      "metadata": {
        "id": "VkleOJXxQ18P"
      },
      "source": [
        "Q19. Create a program that determines if a year is a leap year and also if it is evenly divisible by 400."
      ]
    },
    {
      "cell_type": "code",
      "execution_count": null,
      "metadata": {
        "colab": {
          "base_uri": "https://localhost:8080/"
        },
        "id": "iubJXlB8QMNX",
        "outputId": "0fa56c6f-2048-48f5-d3ff-501cb6a9306a"
      },
      "outputs": [
        {
          "name": "stdout",
          "output_type": "stream",
          "text": [
            "enter the year3004\n",
            "leap year\n"
          ]
        }
      ],
      "source": [
        "year = int(input('enter the year'))\n",
        "if year%4 == 0:\n",
        "  if year%100 == 0:\n",
        "    if year%400 == 0:\n",
        "      print('this is a leap year')\n",
        "    else:\n",
        "      print('not a leap year')\n",
        "  else:\n",
        "    print('leap year')\n",
        "\n",
        "else:\n",
        "  print('not a leap year')"
      ]
    },
    {
      "cell_type": "markdown",
      "metadata": {
        "id": "FUUKw7WEV9T2"
      },
      "source": [
        "Q20. Develop a program that checks if a given number is prime or not using nested if-else statements."
      ]
    },
    {
      "cell_type": "code",
      "execution_count": null,
      "metadata": {
        "colab": {
          "base_uri": "https://localhost:8080/"
        },
        "id": "uFoPGiSpU1K6",
        "outputId": "73474be4-c7e5-4584-b12f-8472afdabd9b"
      },
      "outputs": [
        {
          "name": "stdout",
          "output_type": "stream",
          "text": [
            "enter the number23\n",
            "this is prime number\n"
          ]
        }
      ],
      "source": [
        "n = int(input('enter the number'))\n",
        "prime = True\n",
        "for i in range(2,n):\n",
        "  if n%i == 0:\n",
        "    prime = False\n",
        "    break\n",
        "if(prime==True):\n",
        "  print('this is prime number')\n",
        "else:\n",
        "  print('this is not a prime number')"
      ]
    },
    {
      "cell_type": "markdown",
      "metadata": {
        "id": "yY3FDqHatZ8L"
      },
      "source": [
        "**Elif Statements**"
      ]
    },
    {
      "cell_type": "markdown",
      "metadata": {
        "id": "N9c0s6bmZfeE"
      },
      "source": [
        "Q21. Write a Python program to assign grades based on different ranges of scores using elif statements."
      ]
    },
    {
      "cell_type": "code",
      "execution_count": null,
      "metadata": {
        "colab": {
          "base_uri": "https://localhost:8080/"
        },
        "id": "TJEOdJonYHnw",
        "outputId": "a2c90716-b672-4e19-fe8f-86f17c9e95c5"
      },
      "outputs": [
        {
          "name": "stdout",
          "output_type": "stream",
          "text": [
            "enter the number55\n",
            "second class\n"
          ]
        }
      ],
      "source": [
        "n = int(input('enter the number'))\n",
        "if n > 75:\n",
        "  print('destination ')\n",
        "elif n>60:\n",
        "  print('first class')\n",
        "elif n>50:\n",
        "  print('second class')\n",
        "else:\n",
        "  print('fail')"
      ]
    },
    {
      "cell_type": "markdown",
      "metadata": {
        "id": "ErmPvWadaNu3"
      },
      "source": [
        "Q22. Implement a program to determine the type of a triangle based on its angles."
      ]
    },
    {
      "cell_type": "code",
      "execution_count": null,
      "metadata": {
        "colab": {
          "base_uri": "https://localhost:8080/"
        },
        "id": "FKTjGO6maCsg",
        "outputId": "5124f371-7396-46a2-8904-e7d2756ab201"
      },
      "outputs": [
        {
          "name": "stdout",
          "output_type": "stream",
          "text": [
            "enter the first angle60\n",
            "enter the second angle60\n",
            "enter the third angle60\n",
            "This is equivalent trinagle\n"
          ]
        }
      ],
      "source": [
        "a = int(input('enter the first angle'))\n",
        "b = int(input('enter the second angle'))\n",
        "c = int(input('enter the third angle'))\n",
        "if a==b & b==c:\n",
        "  print('This is equivalent trinagle')\n",
        "elif a==b or b==c or a==c:\n",
        "  print('This is isosceles triangle')\n",
        "else:\n",
        "  print('Scalene triangle')"
      ]
    },
    {
      "cell_type": "markdown",
      "metadata": {
        "id": "d61dybszzRpF"
      },
      "source": [
        "Q23. Develop a program to categorize a given person's BMI into underweight, normal, overweight, or obese using\n",
        "elif statements."
      ]
    },
    {
      "cell_type": "code",
      "execution_count": null,
      "metadata": {
        "colab": {
          "base_uri": "https://localhost:8080/"
        },
        "id": "JmnRlOYozaLa",
        "outputId": "8baabe4e-db83-4afc-8753-b481187c6b00"
      },
      "outputs": [
        {
          "name": "stdout",
          "output_type": "stream",
          "text": [
            "enter the your BMI19.5\n",
            "your weight is normal\n"
          ]
        }
      ],
      "source": [
        "BMI = float(input('enter the your BMI'))\n",
        "if BMI <= 18.5:\n",
        "  print('you are underweight')\n",
        "elif 18.5<BMI<24.5:\n",
        "  print('your weight is normal')\n",
        "elif BMI >= 24.5:\n",
        "  print('you are overweight')\n",
        "else:\n",
        "  print('you are obese')"
      ]
    },
    {
      "cell_type": "markdown",
      "metadata": {
        "id": "EmQ9-oUM0pep"
      },
      "source": [
        "Q24. Create a program that determines whether a given number is positive, negative, or zero using elif\n",
        "statements."
      ]
    },
    {
      "cell_type": "code",
      "execution_count": null,
      "metadata": {
        "colab": {
          "base_uri": "https://localhost:8080/"
        },
        "id": "pkaO6aqD0gUl",
        "outputId": "ae5d5848-fb82-49e6-e9a5-d8b89c76e121"
      },
      "outputs": [
        {
          "name": "stdout",
          "output_type": "stream",
          "text": [
            "enter the number-1\n",
            "-1 is negative number\n"
          ]
        }
      ],
      "source": [
        "num = int(input('enter the number'))\n",
        "if num > 0:\n",
        "  print(f'{num} is positive number')\n",
        "elif num == 0:\n",
        "  print(f'{num} is zero number')\n",
        "else:\n",
        "  print(f'{num} is negative number')"
      ]
    },
    {
      "cell_type": "markdown",
      "metadata": {
        "id": "o7KLT1zG1E7l"
      },
      "source": [
        "Q25. Write a Python script to determine the type of a character (uppercase, lowercase, or special) using elif\n",
        "statements."
      ]
    },
    {
      "cell_type": "code",
      "execution_count": null,
      "metadata": {
        "colab": {
          "base_uri": "https://localhost:8080/"
        },
        "id": "1oiA3mAn1Bez",
        "outputId": "ff817478-fe67-495f-add6-c49dee3699d6"
      },
      "outputs": [
        {
          "name": "stdout",
          "output_type": "stream",
          "text": [
            "enter the string: Hello\n",
            "uppercase\n"
          ]
        }
      ],
      "source": [
        "string = input('enter the string: ')\n",
        "if string.upper():\n",
        "  print('uppercase')\n",
        "elif string.lower():\n",
        "  print('lowercase')\n",
        "else:\n",
        "  print('special')"
      ]
    },
    {
      "cell_type": "markdown",
      "metadata": {
        "id": "hFodrVy-1phE"
      },
      "source": [
        "Q26. Implement a program to calculate the discounted price based on different purchase amounts using elif\n",
        "statements."
      ]
    },
    {
      "cell_type": "code",
      "execution_count": null,
      "metadata": {
        "colab": {
          "base_uri": "https://localhost:8080/"
        },
        "id": "-2ifCdeS1ROP",
        "outputId": "6e81527e-15a3-40cd-9ea7-b7d171985739"
      },
      "outputs": [
        {
          "name": "stdout",
          "output_type": "stream",
          "text": [
            "enter the purchase amount600\n",
            "your discounted price is 30.0\n"
          ]
        }
      ],
      "source": [
        "purchase_amount = int(input('enter the purchase amount'))\n",
        "if purchase_amount > 1000:\n",
        "  print(f'your disocunted price is {purchase_amount*0.1}')\n",
        "elif purchase_amount >500:\n",
        "  print(f'your discounted price is {purchase_amount*0.05}')\n",
        "else:\n",
        "  print('you will not get any discount')"
      ]
    },
    {
      "cell_type": "markdown",
      "metadata": {
        "id": "aT32xsHY3CTW"
      },
      "source": [
        "Q27. Develop a program to calculate the electricity bill based on different consumption slabs using elif\n",
        "statements."
      ]
    },
    {
      "cell_type": "code",
      "execution_count": null,
      "metadata": {
        "colab": {
          "base_uri": "https://localhost:8080/"
        },
        "id": "27Rm2Wa03DQi",
        "outputId": "a3307169-4f83-453a-d75f-9790d8e25782"
      },
      "outputs": [
        {
          "name": "stdout",
          "output_type": "stream",
          "text": [
            "enter the units500\n",
            "we can not calculate\n"
          ]
        }
      ],
      "source": [
        "unit = int(input('enter the units'))\n",
        "if unit <=100:\n",
        "  print(unit*10)\n",
        "elif unit<=200:\n",
        "  print(((100*10)+(unit-100)*15))\n",
        "elif unit<=300:\n",
        "  print(((100*10)+(100*15)+(unit-200)*15))\n",
        "else:\n",
        "  print('we can not calculate')"
      ]
    },
    {
      "cell_type": "markdown",
      "metadata": {
        "id": "R3b8Yqc25RLN"
      },
      "source": [
        "Q28. Create a program to determine the type of quadrilateral based on its angles and sides using elif\n",
        "statements."
      ]
    },
    {
      "cell_type": "code",
      "execution_count": null,
      "metadata": {
        "id": "9Wg9YGlo4TNa"
      },
      "outputs": [],
      "source": []
    },
    {
      "cell_type": "markdown",
      "metadata": {
        "id": "JnQQ3jR2FKsF"
      },
      "source": [
        "Q29. Write a Python script to determine the season based on a user-provided month using elif statements."
      ]
    },
    {
      "cell_type": "code",
      "execution_count": null,
      "metadata": {
        "colab": {
          "base_uri": "https://localhost:8080/"
        },
        "id": "PBnnBWSzFNf0",
        "outputId": "42b6894b-2061-48e9-ef1a-975c4bb5e354"
      },
      "outputs": [
        {
          "name": "stdout",
          "output_type": "stream",
          "text": [
            "enter the month: oct\n",
            "Winter\n"
          ]
        }
      ],
      "source": [
        "month = input('enter the month: ')\n",
        "if month == 'may' or month =='feb' or month == 'march' or month == 'april':\n",
        "    print('summer')\n",
        "elif month == 'june' or month == 'july' or month == 'august' or month == 'september':\n",
        "  print('Mansoon')\n",
        "elif month == 'oct' or month=='nov' or month=='dec' or month=='jan':\n",
        "  print('Winter')\n",
        "else:\n",
        "  print('zero')"
      ]
    },
    {
      "cell_type": "markdown",
      "metadata": {
        "id": "7-2rFLcsITzD"
      },
      "source": [
        "Q30. Implement a program to determine the type of a year (leap or common) and month (30 or 31 days) using\n",
        "elif statements."
      ]
    },
    {
      "cell_type": "code",
      "execution_count": null,
      "metadata": {
        "colab": {
          "base_uri": "https://localhost:8080/"
        },
        "id": "y_PdTyi2HKeC",
        "outputId": "2808736c-8c35-4dfa-b383-835cd1d17f86"
      },
      "outputs": [
        {
          "name": "stdout",
          "output_type": "stream",
          "text": [
            "enter the year2000\n",
            "enter the month in word: octomber\n",
            "leap year\n",
            "30 days in month\n"
          ]
        }
      ],
      "source": [
        "year = int(input('enter the year'))\n",
        "month = input('enter the month in word: ')\n",
        "if (year%4) == 0:\n",
        "  print('leap year')\n",
        "else:\n",
        "  print('common year')\n",
        "\n",
        "if month == 'january' or month == 'march' or month== 'may' or month == 'july' or month == 'august' or month == 'octomber' or month == 'December':\n",
        "  print('31 days month')\n",
        "elif month == 'february':\n",
        "  print('28 days month on common year and 29 days month on leap year')\n",
        "else:\n",
        "  print('30 days in month')"
      ]
    },
    {
      "cell_type": "markdown",
      "metadata": {
        "id": "JKkZdBbJLrXQ"
      },
      "source": [
        "Basic Level:"
      ]
    },
    {
      "cell_type": "markdown",
      "metadata": {
        "id": "o2D1HdkUuEvk"
      },
      "source": [
        "Q1. Write a Python program that checks if a given number is positive, negative, or zero."
      ]
    },
    {
      "cell_type": "code",
      "execution_count": null,
      "metadata": {
        "colab": {
          "base_uri": "https://localhost:8080/"
        },
        "id": "S9dQE7ksKSVj",
        "outputId": "6a4661de-9634-4324-aedf-be1005e9ead3"
      },
      "outputs": [
        {
          "name": "stdout",
          "output_type": "stream",
          "text": [
            "enter the number2\n",
            "2 is positive number\n"
          ]
        }
      ],
      "source": [
        "num = int(input('enter the number'))\n",
        "if num > 0:\n",
        "  print(f'{num} is positive number')\n",
        "elif num == 0:\n",
        "  print(f'{num} is zero number')\n",
        "else:\n",
        "  print(f'{num} is negative number')"
      ]
    },
    {
      "cell_type": "markdown",
      "metadata": {
        "id": "MNIW0m6IuaZ-"
      },
      "source": [
        "Q2. Create a program to determine if a person is eligible to vote based on their age."
      ]
    },
    {
      "cell_type": "code",
      "execution_count": null,
      "metadata": {
        "colab": {
          "base_uri": "https://localhost:8080/"
        },
        "id": "6LbGnB__uPtr",
        "outputId": "a05e5b0b-a130-4a55-858d-af61ec22196a"
      },
      "outputs": [
        {
          "name": "stdout",
          "output_type": "stream",
          "text": [
            "enter the age19\n",
            "you are eligible for voting\n"
          ]
        }
      ],
      "source": [
        "Age = int(input('enter the age: '))\n",
        "if Age >=18:\n",
        "  print('you are eligible for voting')\n",
        "else:\n",
        "  print('you are not eligible for voting')"
      ]
    },
    {
      "cell_type": "markdown",
      "metadata": {
        "id": "jV_R_7rcHNmq"
      },
      "source": [
        "Q3. Write a program to find the maximum of two given numbers using conditional statements."
      ]
    },
    {
      "cell_type": "code",
      "execution_count": null,
      "metadata": {
        "colab": {
          "base_uri": "https://localhost:8080/"
        },
        "id": "0qvidw-7G_15",
        "outputId": "76e75dfc-e934-4d53-95ca-7d928f145da3"
      },
      "outputs": [
        {
          "name": "stdout",
          "output_type": "stream",
          "text": [
            "enter the first number12\n",
            "enter the second number11\n",
            "12 is greater than 11\n"
          ]
        }
      ],
      "source": [
        "num1 = int(input('enter the first number'))\n",
        "num2 = int(input('enter the second number'))\n",
        "if num1 > num2:\n",
        "  print(f'{num1} is greater than {num2}')\n",
        "else:\n",
        "  print(f'{num2} is greater than {num1}')"
      ]
    },
    {
      "cell_type": "markdown",
      "metadata": {
        "id": "cAHIITfBHueY"
      },
      "source": [
        "Q4. Develop a program that calculates the grade of a student based on their exam score."
      ]
    },
    {
      "cell_type": "code",
      "execution_count": null,
      "metadata": {
        "colab": {
          "base_uri": "https://localhost:8080/"
        },
        "id": "OND38agxHrf6",
        "outputId": "6d0240e4-652e-4972-b677-27d48538ead1"
      },
      "outputs": [
        {
          "name": "stdout",
          "output_type": "stream",
          "text": [
            "enter your exam score: 32\n",
            "fail\n"
          ]
        }
      ],
      "source": [
        "score = int(input('enter your exam score: '))\n",
        "if score >= 75:\n",
        "  print('Distinction')\n",
        "elif score >= 60:\n",
        "  print('First class')\n",
        "elif score >= 50:\n",
        "  print('second class')\n",
        "else:\n",
        "  print('fail')"
      ]
    },
    {
      "cell_type": "markdown",
      "metadata": {
        "id": "LX0se6uZIZ5t"
      },
      "source": [
        "Q5. Create a program that checks if a year is a leap year or not."
      ]
    },
    {
      "cell_type": "code",
      "execution_count": null,
      "metadata": {
        "colab": {
          "base_uri": "https://localhost:8080/"
        },
        "id": "AGo9IFxeIXsi",
        "outputId": "980a1d79-f887-4430-f4dd-8a5a106cd9aa"
      },
      "outputs": [
        {
          "name": "stdout",
          "output_type": "stream",
          "text": [
            "enter the year: 2020\n",
            "2020 is a leap year\n"
          ]
        }
      ],
      "source": [
        "year = int(input('enter the year: '))\n",
        "if year%4 == 0:\n",
        "  print(f'{year} is a leap year')\n",
        "else:\n",
        "  print(f'{year} is not a leap year ')"
      ]
    },
    {
      "cell_type": "markdown",
      "metadata": {
        "id": "f6mybw0uI0bg"
      },
      "source": [
        "Q6. Write a program to classify a triangle based on its sides' lengths."
      ]
    },
    {
      "cell_type": "code",
      "execution_count": null,
      "metadata": {
        "colab": {
          "base_uri": "https://localhost:8080/"
        },
        "id": "lDwlduSqIyny",
        "outputId": "7260ab9e-368d-479d-d458-1267171c48cd"
      },
      "outputs": [
        {
          "name": "stdout",
          "output_type": "stream",
          "text": [
            "x: 70\n",
            "y: 70\n",
            "z: 40\n",
            "isosceles triangle\n"
          ]
        }
      ],
      "source": [
        "x = int(input(\"x: \"))\n",
        "y = int(input(\"y: \"))\n",
        "z = int(input(\"z: \"))\n",
        "if x == y == z:\n",
        "\tprint(\"Equilateral triangle\")\n",
        "if x==y or y==z or z==x:\n",
        "\tprint(\"isosceles triangle\")\n",
        "else:\n",
        "\tprint(\"Scalene triangle\")\n"
      ]
    },
    {
      "cell_type": "markdown",
      "metadata": {
        "id": "OgozlSQmJJvm"
      },
      "source": [
        "Q7. Build a program that determines the largest of three given numbers."
      ]
    },
    {
      "cell_type": "code",
      "execution_count": null,
      "metadata": {
        "colab": {
          "base_uri": "https://localhost:8080/"
        },
        "id": "Vs9KiExhJFdX",
        "outputId": "c44d47ad-e054-4d69-b541-cb19de0e3393"
      },
      "outputs": [
        {
          "name": "stdout",
          "output_type": "stream",
          "text": [
            "enter the first number324\n",
            "enter the second number324\n",
            "enter the third number345\n",
            "345 is largest among three numbers\n"
          ]
        }
      ],
      "source": [
        "num1 = int(input('enter the first number'))\n",
        "num2 = int(input('enter the second number'))\n",
        "num3 = int(input('enter the third number'))\n",
        "if num1>num2:\n",
        "  if num1>num3:\n",
        "    print(f'{num1} is largest among three numbers')\n",
        "  else:\n",
        "    print(f'{num3} is largest among three numbers')\n",
        "elif num2>num3:\n",
        "  print(f'{num2} is largest among three numbers')\n",
        "else:\n",
        "  print(f'{num3} is largest among three numbers')"
      ]
    },
    {
      "cell_type": "markdown",
      "metadata": {
        "id": "p3bufIiGJ5tK"
      },
      "source": [
        "Q8. Develop a program that checks whether a character is a vowel or a consonant."
      ]
    },
    {
      "cell_type": "code",
      "execution_count": null,
      "metadata": {
        "colab": {
          "base_uri": "https://localhost:8080/"
        },
        "id": "MFxuC9-8JYE2",
        "outputId": "52eb68c6-85f1-4794-8bba-acb035877cca"
      },
      "outputs": [
        {
          "name": "stdout",
          "output_type": "stream",
          "text": [
            "this is vowel\n"
          ]
        }
      ],
      "source": [
        "word = 'e'\n",
        "vowel = ('aeiouAEIOU')\n",
        "if word in vowel:\n",
        "  print('this is vowel')\n",
        "else:\n",
        "  print('this is consonant')"
      ]
    },
    {
      "cell_type": "markdown",
      "metadata": {
        "id": "Pm7RzRZ3LGNq"
      },
      "source": [
        "Q9. Create a program to calculate the total cost of a shopping cart based on discounts."
      ]
    },
    {
      "cell_type": "code",
      "execution_count": null,
      "metadata": {
        "colab": {
          "base_uri": "https://localhost:8080/"
        },
        "id": "-VzbhrmpK454",
        "outputId": "97221ea1-78f5-4063-f99a-6e6172cb7c0d"
      },
      "outputs": [
        {
          "name": "stdout",
          "output_type": "stream",
          "text": [
            "enter the purchase amount32323\n",
            "your disocunted price is 3232.3\n"
          ]
        }
      ],
      "source": [
        "purchase_amount = int(input('enter the purchase amount'))\n",
        "if purchase_amount > 1000:\n",
        "  print(f'your disocunted price is {purchase_amount*0.1}')\n",
        "elif purchase_amount >500:\n",
        "  print(f'your discounted price is {purchase_amount*0.05}')\n",
        "else:\n",
        "  print('you will not get any discount')"
      ]
    },
    {
      "cell_type": "markdown",
      "metadata": {
        "id": "sxMV9DBELroz"
      },
      "source": [
        "Q10. Write a program that checks if a given number is even or odd."
      ]
    },
    {
      "cell_type": "code",
      "execution_count": null,
      "metadata": {
        "colab": {
          "base_uri": "https://localhost:8080/"
        },
        "id": "fq1FyBO_LpEL",
        "outputId": "8ae4368b-fecb-422f-d816-deb1ec3946f0"
      },
      "outputs": [
        {
          "name": "stdout",
          "output_type": "stream",
          "text": [
            "enter the number3\n",
            "3 is a odd number\n"
          ]
        }
      ],
      "source": [
        "num = int(input('enter the number'))\n",
        "if num%2==0:\n",
        "  print(f'{num} is a even number')\n",
        "else:\n",
        "  print(f'{num} is a odd number')"
      ]
    },
    {
      "cell_type": "markdown",
      "metadata": {
        "id": "t7uFKjnUUpqH"
      },
      "source": [
        "**Intermediate Level**"
      ]
    },
    {
      "cell_type": "markdown",
      "metadata": {
        "id": "Gs1AnK0KUyJe"
      },
      "source": [
        "Q11. Write a program that calculates the roots of a quadratic equation"
      ]
    },
    {
      "cell_type": "code",
      "execution_count": null,
      "metadata": {
        "colab": {
          "base_uri": "https://localhost:8080/"
        },
        "id": "bjgf--GEUYT0",
        "outputId": "74ed599d-67cc-4e2a-d02c-000282161e00"
      },
      "outputs": [
        {
          "name": "stdout",
          "output_type": "stream",
          "text": [
            "Enter a: 43\n",
            "Enter b: 13\n",
            "Enter c: 16\n",
            "The solution are (-0.1511627906976744-0.5909677097475843j) and (-0.1511627906976744+0.5909677097475843j)\n"
          ]
        }
      ],
      "source": [
        "import cmath\n",
        "a = float(input('Enter a: '))\n",
        "b = float(input('Enter b: '))\n",
        "c = float(input('Enter c: '))\n",
        "\n",
        "d = (b**2) - (4*a*c)\n",
        "\n",
        "# find two solutions\n",
        "sol1 = (-b-cmath.sqrt(d))/(2*a)\n",
        "sol2 = (-b+cmath.sqrt(d))/(2*a)\n",
        "print(f'The solution are {sol1} and {sol2}')"
      ]
    },
    {
      "cell_type": "markdown",
      "metadata": {
        "id": "Ue0AcYE7VNrL"
      },
      "source": [
        "Q12. Create a program that determines the day of the week based on the day number (1-7)."
      ]
    },
    {
      "cell_type": "code",
      "execution_count": null,
      "metadata": {
        "colab": {
          "base_uri": "https://localhost:8080/"
        },
        "id": "0s_6J7X0VEsI",
        "outputId": "2d373411-961a-4231-d319-a252d6d7a930"
      },
      "outputs": [
        {
          "name": "stdout",
          "output_type": "stream",
          "text": [
            "enter the number5\n",
            "Friday\n"
          ]
        }
      ],
      "source": [
        "a = int(input('enter the number'))\n",
        "if a ==1:\n",
        "  print('Monday')\n",
        "elif a==2:\n",
        "  print('Tuesday')\n",
        "elif a==3:\n",
        "  print('Wednesday')\n",
        "elif a==4:\n",
        "  print('Thursday')\n",
        "elif a==5:\n",
        "  print('Friday')\n",
        "elif a==6:\n",
        "  print('saturday')\n",
        "elif a==7:\n",
        "  print('sunday')\n",
        "else:\n",
        "  print('enter number between 1 to 7')"
      ]
    },
    {
      "cell_type": "markdown",
      "metadata": {
        "id": "MHTtdWBjVmH8"
      },
      "source": [
        "Q13. Develop a program that calculates the factorial of a given number using recursion."
      ]
    },
    {
      "cell_type": "code",
      "execution_count": null,
      "metadata": {
        "colab": {
          "base_uri": "https://localhost:8080/"
        },
        "id": "czgkpFuxVZfo",
        "outputId": "c6df42e3-2ad4-4c27-c38f-d0abe018640c"
      },
      "outputs": [
        {
          "name": "stdout",
          "output_type": "stream",
          "text": [
            "enter the number5\n",
            "120\n"
          ]
        }
      ],
      "source": [
        "num = int(input('enter the number'))\n",
        "factorial = 1\n",
        "for i in range(1, num+1):\n",
        "  factorial = factorial * i\n",
        "print(factorial)"
      ]
    },
    {
      "cell_type": "markdown",
      "metadata": {
        "id": "azygNHW1W4ZP"
      },
      "source": [
        "Q14. Write a program to find the largest among three numbers without using the `max()` function."
      ]
    },
    {
      "cell_type": "code",
      "execution_count": null,
      "metadata": {
        "colab": {
          "base_uri": "https://localhost:8080/"
        },
        "id": "-6UpCC69V9hG",
        "outputId": "c16f2000-8858-4fbc-b04c-6623f84bbd5c"
      },
      "outputs": [
        {
          "name": "stdout",
          "output_type": "stream",
          "text": [
            "54\n"
          ]
        }
      ],
      "source": [
        "num1 = int(input('enter the first number'))\n",
        "num2 = int(input('enter the second number'))\n",
        "num3 = int(input('enter the third number'))\n",
        "maximum_number = max(num1,num2,num3)\n",
        "print(maximum_number)"
      ]
    },
    {
      "cell_type": "markdown",
      "metadata": {
        "id": "268SCqQ6XcSS"
      },
      "source": [
        "Q15. Create a program that simulates a basic ATM transaction menu."
      ]
    },
    {
      "cell_type": "code",
      "execution_count": null,
      "metadata": {
        "id": "gI_g-TVOXHVy"
      },
      "outputs": [],
      "source": []
    },
    {
      "cell_type": "markdown",
      "metadata": {
        "id": "EhgbvNcGY-m_"
      },
      "source": [
        "Q16. Build a program that checks if a given string is a palindrome or not."
      ]
    },
    {
      "cell_type": "code",
      "execution_count": null,
      "metadata": {
        "colab": {
          "base_uri": "https://localhost:8080/"
        },
        "id": "WTSCNqaFY_k7",
        "outputId": "38fbc12b-633a-46ec-a2f9-bc843276ecff"
      },
      "outputs": [
        {
          "name": "stdout",
          "output_type": "stream",
          "text": [
            "enter the word: mam\n",
            "This is palindrome string\n"
          ]
        }
      ],
      "source": [
        "string = input('enter the word: ')\n",
        "reverse_string = string[::-1]\n",
        "if string == reverse_string:\n",
        "  print('This is palindrome string')\n",
        "else:\n",
        "  print('this is not a palindrome string')"
      ]
    },
    {
      "cell_type": "markdown",
      "metadata": {
        "id": "kT-xmJfGZlrU"
      },
      "source": [
        "Q17. Write a program that calculates the average of a list of numbers, excluding the smallest and largest values."
      ]
    },
    {
      "cell_type": "code",
      "execution_count": null,
      "metadata": {
        "colab": {
          "base_uri": "https://localhost:8080/"
        },
        "id": "AglU79iFZgu_",
        "outputId": "bf2d1626-f351-426b-95fc-d31f023cad85"
      },
      "outputs": [
        {
          "name": "stdout",
          "output_type": "stream",
          "text": [
            "8\n",
            "2\n",
            "None\n"
          ]
        }
      ],
      "source": [
        "from traitlets.config.configurable import MultipleInstanceError\n",
        "list= [2,3,4,5,6,8]\n",
        "list1 = []\n",
        "max = 1\n",
        "for i in list:\n",
        "  if i > max:\n",
        "    max = i\n",
        "    # list.remove(max)\n",
        "print(max)\n",
        "\n",
        "min = 100\n",
        "for i in list:\n",
        "  if i<min:\n",
        "    min = i\n",
        "    # list.remove(min)\n",
        "    # list1 -= i\n",
        "list1 = list.remove(max)\n",
        "print(min)\n",
        "print(list1)"
      ]
    },
    {
      "cell_type": "markdown",
      "metadata": {
        "id": "fEJhczvHaPqS"
      },
      "source": [
        "Q18. Develop a program that converts a given temperature from Celsius to Fahrenheit."
      ]
    },
    {
      "cell_type": "code",
      "execution_count": null,
      "metadata": {
        "colab": {
          "base_uri": "https://localhost:8080/"
        },
        "id": "FP4nmNH8bK3B",
        "outputId": "572d270e-8a13-46b4-e8b1-722e74bf1861"
      },
      "outputs": [
        {
          "name": "stdout",
          "output_type": "stream",
          "text": [
            "enter the temperature in celcius 32.3\n",
            "Temperature of 32.3 celsius to Fahrenheit is 90.13999999999999\n"
          ]
        }
      ],
      "source": [
        "celsius = float(input('enter the temperature in celcius ')) # take input as floating num or integer num.\n",
        "fahrenheit = (1.8 * celsius) + 32\n",
        "print(f'Temperature of {celsius} celsius to Fahrenheit is {fahrenheit}')"
      ]
    },
    {
      "cell_type": "markdown",
      "metadata": {
        "id": "R5P1TLntdcHH"
      },
      "source": [
        "Q19. Create a program that simulates a basic calculator for addition, subtraction, multiplication, and division."
      ]
    },
    {
      "cell_type": "code",
      "execution_count": null,
      "metadata": {
        "colab": {
          "base_uri": "https://localhost:8080/"
        },
        "id": "kudZG3_FeHbH",
        "outputId": "d9210c87-f4e8-4930-ee4c-efa731699b24"
      },
      "outputs": [
        {
          "name": "stdout",
          "output_type": "stream",
          "text": [
            "select operation: \n",
            "1.Add\n",
            "2.substract\n",
            "3.multiply\n",
            "4.divide\n",
            "enter choice(1/2/3/4): 1\n",
            "enter first number: 21\n",
            "enter second number: 32\n",
            "21.0 + 32.0 = 53.0\n"
          ]
        }
      ],
      "source": [
        "# from traitlets.config.application import T\n",
        "def Add(x,y):\n",
        "  return x + y\n",
        "def substract(x,y):\n",
        "  return x - y\n",
        "def multiply(x,y):\n",
        "  return x * y\n",
        "def divide(x,y):\n",
        "  return x / y\n",
        "\n",
        "print('select operation: ')\n",
        "print('1.Add')\n",
        "print('2.substract')\n",
        "print('3.multiply')\n",
        "print('4.divide')\n",
        "\n",
        "\n",
        "choice = input('enter choice(1/2/3/4): ')\n",
        "\n",
        "if choice in ('1','2', '3', '4'):\n",
        "  num1 = float(input('enter first number: '))\n",
        "  num2 = float(input('enter second number: '))\n",
        "\n",
        "  if choice == '1':\n",
        "    print(f'{num1} + {num2} = {Add(num1,num2)}')\n",
        "  elif choice == '2':\n",
        "    print(f'{num1} + {num2} = {substract(num1,num2)}')\n",
        "  elif choice == '3':\n",
        "    print(f'{num1} + {num2} = {multiply(num1, num2)}')\n",
        "  elif choice == '4':\n",
        "    print(f'{num1} + {num2} = {divide(num1,num2)}')\n",
        "else:\n",
        "  print('invalid input')"
      ]
    },
    {
      "cell_type": "markdown",
      "metadata": {
        "id": "3aSro5Nok0cU"
      },
      "source": [
        "Q20. Write a program that determines the roots of a cubic equation using the Cardano formula."
      ]
    },
    {
      "cell_type": "code",
      "execution_count": null,
      "metadata": {
        "id": "QMNFcVLyjPJ8"
      },
      "outputs": [],
      "source": []
    },
    {
      "cell_type": "markdown",
      "metadata": {
        "id": "w5cVPLKek7Az"
      },
      "source": [
        "**Advanced Level**"
      ]
    },
    {
      "cell_type": "markdown",
      "metadata": {
        "id": "gdRe3BsjlAzf"
      },
      "source": [
        "Q21. Create a program that calculates the income tax based on the user's income and tax brackets."
      ]
    },
    {
      "cell_type": "code",
      "execution_count": null,
      "metadata": {
        "colab": {
          "base_uri": "https://localhost:8080/"
        },
        "id": "q948wHPyk_Dq",
        "outputId": "0742d1aa-4c3b-4287-9111-1b61fb3e2bc9"
      },
      "outputs": [
        {
          "output_type": "stream",
          "name": "stdout",
          "text": [
            "What's your annual income?\n",
            ">>> 359000\n",
            "Total tax applicable at \\ ₹359000.0 is ₹5450.0\n"
          ]
        }
      ],
      "source": [
        "def calculate(amount, percent):\n",
        "\treturn (amount * percent) / 100\n",
        "\n",
        "def calculate_income_tax(total_income:\n",
        "\t\t\t\t\t\tfloat) -> float:\n",
        "\n",
        "\tif total_income <= 250000:\n",
        "\t\treturn 0\n",
        "\telif total_income <= 500000:\n",
        "\t\treturn calculate(total_income -\n",
        "\t\t\t\t\t\t250000, 5)\n",
        "\telif total_income <= 750000:\n",
        "\t\treturn calculate(total_income -\n",
        "\t\t\t\t\t\t500000, 10) + 12500\n",
        "\telif total_income <= 1000000:\n",
        "\t\treturn calculate(total_income -\n",
        "\t\t\t\t\t\t750000, 15) + 37500\n",
        "\telif total_income <= 1250000:\n",
        "\t\treturn calculate(total_income -\n",
        "\t\t\t\t\t\t1000000, 20) + 75000\n",
        "\telif total_income <= 1500000:\n",
        "\t\treturn calculate(total_income -\n",
        "\t\t\t\t\t\t1250000, 25) + 125000\n",
        "\telse:\n",
        "\t\treturn calculate(total_income -\n",
        "\t\t\t\t\t\t1500000, 30) + 187500\n",
        "\n",
        "\n",
        "if __name__ == '__main__':\n",
        "\ttotal_income = float(input(\"What's your annual income?\\n>>> \"))\n",
        "\ttax = calculate_income_tax(total_income)\n",
        "\tprint(f\"Total tax applicable at \\ ₹{total_income} is ₹{tax}\")"
      ]
    },
    {
      "cell_type": "markdown",
      "metadata": {
        "id": "8ZTCTavwmhrX"
      },
      "source": [
        "Q22. Write a program that simulates a rock-paper-scissors game against the computer."
      ]
    },
    {
      "cell_type": "code",
      "execution_count": null,
      "metadata": {
        "colab": {
          "base_uri": "https://localhost:8080/"
        },
        "id": "rgr-uHylmncT",
        "outputId": "c919df79-408b-4d51-fda1-58bbe99151f6"
      },
      "outputs": [
        {
          "name": "stdout",
          "output_type": "stream",
          "text": [
            "Choose Rock, Paper, or Scissors: Rock\n",
            "You chose:  Rock\n",
            "Computer chose:  Scissors\n",
            "You win!\n"
          ]
        }
      ],
      "source": [
        "import random\n",
        "options = [\"Rock\", \"Paper\", \"Scissors\"]\n",
        "user_choice = input(\"Choose Rock, Paper, or Scissors: \")\n",
        "computer_choice = random.choice(options)\n",
        "print(\"You chose: \", user_choice)\n",
        "print(\"Computer chose: \", computer_choice)\n",
        "\n",
        "if user_choice == computer_choice:\n",
        "    print(\"It's a tie!\")\n",
        "\n",
        "elif user_choice == \"Rock\" and computer_choice == \"Scissors\":\n",
        "    print(\"You win!\")\n",
        "\n",
        "elif user_choice == \"Paper\" and computer_choice == \"Rock\":\n",
        "    print(\"You win!\")\n",
        "\n",
        "elif user_choice == \"Scissors\" and computer_choice == \"Paper\":\n",
        "    print(\"You win!\")\n",
        "else:\n",
        "    print(\"Computer wins!\")"
      ]
    },
    {
      "cell_type": "markdown",
      "metadata": {
        "id": "Rnw4-zYDmofY"
      },
      "source": [
        "Q23. Develop a program that generates a random password based on user preferences (length, complexity)."
      ]
    },
    {
      "cell_type": "code",
      "execution_count": null,
      "metadata": {
        "colab": {
          "base_uri": "https://localhost:8080/"
        },
        "id": "fB0ytKTkmr2y",
        "outputId": "ec36d8bd-ea8a-4110-d63c-59dc045394f5"
      },
      "outputs": [
        {
          "name": "stdout",
          "output_type": "stream",
          "text": [
            "enter password length \n",
            "9\n",
            "your password is: \"s\" \n"
          ]
        }
      ],
      "source": [
        "import random\n",
        "import string\n",
        "if __name__ == '__main__':\n",
        "  s1 = string.ascii_lowercase\n",
        "  s2 = string.ascii_uppercase\n",
        "  s3 = string.digits\n",
        "  s4 = string.punctuation\n",
        "\n",
        "  plen = int(input('enter password length \\n'))\n",
        "  s = []\n",
        "  s.extend(list(s1))\n",
        "  s.extend(list(s2))\n",
        "  s.extend(list(s3))\n",
        "  s.extend(list(s4))\n",
        "  print('your password is: ')\n",
        "  # print(\" \".join(random.sample(s,plen)))"
      ]
    },
    {
      "cell_type": "markdown",
      "metadata": {
        "id": "D1AgO6Swmsjk"
      },
      "source": [
        "Q24. Create a program that implements a simple text-based adventure game with branching scenarios."
      ]
    },
    {
      "cell_type": "code",
      "execution_count": null,
      "metadata": {
        "id": "YxTlPvywmv-5"
      },
      "outputs": [],
      "source": []
    },
    {
      "cell_type": "markdown",
      "metadata": {
        "id": "NkIfQ9Jgmwtz"
      },
      "source": [
        "Q25. Build a program that solves a linear equation for x, considering different cases."
      ]
    },
    {
      "cell_type": "code",
      "execution_count": null,
      "metadata": {
        "colab": {
          "base_uri": "https://localhost:8080/"
        },
        "id": "DiSD25Uemz67",
        "outputId": "c6b027fb-a7fb-4fe3-9654-25809a6e5e09"
      },
      "outputs": [
        {
          "data": {
            "text/plain": [
              "3236.0"
            ]
          },
          "execution_count": 9,
          "metadata": {},
          "output_type": "execute_result"
        }
      ],
      "source": [
        "def solve_linear(equation,var='x'):\n",
        "    expression = equation.replace(\"=\",\"-(\")+\")\"\n",
        "    grouped = eval(expression.replace(var,'1j'))\n",
        "    return -grouped.real/grouped.imag\n",
        "solve_linear(\"x - 2*x + 5*x - 46*(235-24) = x + 2\")"
      ]
    },
    {
      "cell_type": "markdown",
      "metadata": {
        "id": "QHYpGzuzm1O8"
      },
      "source": [
        "Q26. Write a program that simulates a basic quiz game with multiple-choice questions and scoring."
      ]
    },
    {
      "cell_type": "code",
      "execution_count": null,
      "metadata": {
        "colab": {
          "base_uri": "https://localhost:8080/"
        },
        "id": "Mf378e_Bm4kh",
        "outputId": "64e9922f-400a-42c1-ae9c-b600c5e3ad60"
      },
      "outputs": [
        {
          "output_type": "stream",
          "name": "stdout",
          "text": [
            "Wellcome to quiz game !!\n",
            "NOTE: if your spelling is incorrect then it is considered as wrong answer\n",
            "Do you want to play ? no\n",
            "thankyou you are out of a game.\n",
            "\n",
            "number of question is 0\n",
            "your score is 0\n",
            "0% quetions are correct\n",
            "20.0% questions are correct.\n"
          ]
        }
      ],
      "source": [
        "print(\"Wellcome to quiz game !!\")\n",
        "print('NOTE: if your spelling is incorrect then it is considered as wrong answer')\n",
        "score = 0\n",
        "question_no = 0\n",
        "playing = input('Do you want to play ? ').lower()\n",
        "if playing == 'yes':\n",
        "    question_no += 1\n",
        "    ques = input(f'\\n{question_no}. what does CPU stand for? ').lower()\n",
        "    if ques == 'central processing unit':\n",
        "        score +=1\n",
        "        print('correct! you got 1 point')\n",
        "    else:\n",
        "        print('Incorrect!')\n",
        "        print(f'correct answer is --> central processing unit')\n",
        "\n",
        "    question_no += 1\n",
        "    ques = input(f'\\n{question_no}. what does GPU stand for? ').lower()\n",
        "    if ques == 'graphics processing unit':\n",
        "        score +=1\n",
        "        print('correct! you got 1 point')\n",
        "    else:\n",
        "        print('Incorrect!')\n",
        "        print(f'correct answer is --> graphics processing unit')\n",
        "\n",
        "    question_no += 1\n",
        "    ques = input(f'\\n{question_no}. what does RAM stand for? ').lower()\n",
        "    if ques == 'random access memory':\n",
        "        score +=1\n",
        "        print('correct! you got 1 point')\n",
        "    else:\n",
        "        print('Incorrect!')\n",
        "        print(f'correct answer is --> random access memory')\n",
        "    question_no += 1\n",
        "    ques = input(f'\\n{question_no}. what does PSU stand for? ').lower()\n",
        "\n",
        "    if ques == 'power supply unit':\n",
        "        score +=1\n",
        "        print('correct! you got 1 point')\n",
        "    else:\n",
        "        print('Incorrect!')\n",
        "        print(f'correct answer is --> power supply unit')\n",
        "\n",
        "    question_no += 1\n",
        "    ques = input(f'\\n{question_no}. what does ROM stand for? ').lower()\n",
        "\n",
        "    if ques == 'read only memory':\n",
        "        score +=1\n",
        "        print('correct! you got 1 point')\n",
        "    else:\n",
        "        print('Incorrect!')\n",
        "        print(f'current answer is --> read only memory')\n",
        "\n",
        "else:\n",
        "    print('thankyou you are out of a game.')\n",
        "    quit()\n",
        "\n",
        "print(f'\\nnumber of question is {question_no}')\n",
        "print(f'your score is {score}')\n",
        "try:\n",
        "    percentage = (score *100)/question_no\n",
        "except ZeroDivisionError:\n",
        "    print('0% quetions are correct')\n",
        "\n",
        "print(f'{percentage}% questions are correct.')"
      ]
    },
    {
      "cell_type": "markdown",
      "metadata": {
        "id": "ymIpemuHm99r"
      },
      "source": [
        "Q27. Develop a program that determines whether a given year is a prime number or not."
      ]
    },
    {
      "cell_type": "code",
      "execution_count": null,
      "metadata": {
        "colab": {
          "base_uri": "https://localhost:8080/"
        },
        "id": "4u1AUinrnAe5",
        "outputId": "80251dba-8d29-4e18-932b-bb987ceb9bd0"
      },
      "outputs": [
        {
          "name": "stdout",
          "output_type": "stream",
          "text": [
            "enter the num13\n",
            "13 is a prime number\n"
          ]
        }
      ],
      "source": [
        "num = int(input('enter the num'))\n",
        "Prime = True\n",
        "for i in range(2,num):\n",
        "  if num%i ==0:\n",
        "    Prime= False\n",
        "    break\n",
        "if Prime == True:\n",
        "  print(f'{num} is a prime number')\n",
        "else:\n",
        "  print(f'{num} is not a prime number')"
      ]
    },
    {
      "cell_type": "markdown",
      "metadata": {
        "id": "Oy0eaTP6nEQd"
      },
      "source": [
        "Q28. Create a program that sorts three numbers in ascending order using conditional statements."
      ]
    },
    {
      "cell_type": "code",
      "execution_count": null,
      "metadata": {
        "colab": {
          "base_uri": "https://localhost:8080/"
        },
        "id": "ldTlhM_GnIop",
        "outputId": "6389ac06-21e2-48d0-df89-8ad4b85fa2e4"
      },
      "outputs": [
        {
          "name": "stdout",
          "output_type": "stream",
          "text": [
            "Enter a: 23\n",
            "Enter b: 12\n",
            "Enter c: 11\n",
            "11.0 < 12.0 < 23.0\n"
          ]
        }
      ],
      "source": [
        "a = float(input(\"Enter a: \"))\n",
        "b = float(input(\"Enter b: \"))\n",
        "c = float(input(\"Enter c: \"))\n",
        "\n",
        "if a > b:\n",
        "    a,b = b,a\n",
        "if a > c:\n",
        "    a,c = c,a\n",
        "if b > c:\n",
        "    b,c = c,b\n",
        "\n",
        "print (a, \"<\", b, \"<\", c)"
      ]
    },
    {
      "cell_type": "markdown",
      "metadata": {
        "id": "RcLLBap9nJTw"
      },
      "source": [
        "Q29. Build a program that determines the roots of a quartic equation using numerical methods."
      ]
    },
    {
      "cell_type": "code",
      "execution_count": null,
      "metadata": {
        "colab": {
          "base_uri": "https://localhost:8080/"
        },
        "id": "U_qLYAzLnM3C",
        "outputId": "924b2860-6406-473b-a05c-b91660bafaa6"
      },
      "outputs": [
        {
          "name": "stdout",
          "output_type": "stream",
          "text": [
            "Enter a: 12\n",
            "Enter b: 14\n",
            "Enter c: 16\n",
            "The solution are (-0.5833333333333334-0.9965217285917832j) and (-0.5833333333333334+0.9965217285917832j)\n"
          ]
        }
      ],
      "source": [
        "import cmath\n",
        "a = float(input('Enter a: '))\n",
        "b = float(input('Enter b: '))\n",
        "c = float(input('Enter c: '))\n",
        "\n",
        "d = (b**2) - (4*a*c)\n",
        "\n",
        "# find two solutions\n",
        "sol1 = (-b-cmath.sqrt(d))/(2*a)\n",
        "sol2 = (-b+cmath.sqrt(d))/(2*a)\n",
        "print(f'The solution are {sol1} and {sol2}')"
      ]
    },
    {
      "cell_type": "markdown",
      "metadata": {
        "id": "oJ1w9eabnQ9F"
      },
      "source": [
        "Q30. Write a program that calculates the BMI (Body Mass Index) and provides health recommendations based\n",
        "on the user's input."
      ]
    },
    {
      "cell_type": "code",
      "execution_count": null,
      "metadata": {
        "colab": {
          "base_uri": "https://localhost:8080/"
        },
        "id": "RQCq-qTGnR4i",
        "outputId": "2b4c5845-63b0-46a7-8497-dfa01d8f4945"
      },
      "outputs": [
        {
          "name": "stdout",
          "output_type": "stream",
          "text": [
            "enter your weight in kg: 60\n",
            "enter the height in meter: 2.3\n",
            "11.342155009451798\n",
            "you need some improvment\n"
          ]
        }
      ],
      "source": [
        "wt = int(input('enter your weight in kg: '))\n",
        "height = float(input('enter the height in meter: '))\n",
        "bmi = wt/(height*height)\n",
        "print(bmi)\n",
        "if bmi >= 20:\n",
        "  print('you are healthy')\n",
        "elif bmi >=10:\n",
        "  print('you need some improvment')\n",
        "else:\n",
        "  print('you are too weak need lots of improvement')\n"
      ]
    },
    {
      "cell_type": "markdown",
      "metadata": {
        "id": "UtdUuiy1ugeA"
      },
      "source": [
        "**Challenge Level**"
      ]
    },
    {
      "cell_type": "markdown",
      "metadata": {
        "id": "1g-Hs4GGlOsA"
      },
      "source": [
        "Q31. Create a program that validates a password based on complexity rules (length, characters, etc.)."
      ]
    },
    {
      "cell_type": "code",
      "execution_count": null,
      "metadata": {
        "colab": {
          "base_uri": "https://localhost:8080/"
        },
        "id": "Tp8m2qUtnTko",
        "outputId": "d108b126-034f-4da4-8f55-f62a8cab5c9e"
      },
      "outputs": [
        {
          "name": "stdout",
          "output_type": "stream",
          "text": [
            "enter password length\n",
            "8\n",
            "tl%D.@Jv\n"
          ]
        }
      ],
      "source": [
        "import string\n",
        "import random\n",
        "# from time import time\n",
        "if __name__ == \"__main__\":\n",
        "    # init = time()\n",
        "    s1 = string.ascii_lowercase\n",
        "    s2 = string.ascii_uppercase\n",
        "    s3 = string.digits\n",
        "    s4 = string.punctuation\n",
        "    plen = int(input(\"enter password length\\n\"))\n",
        "    s = []\n",
        "    s.extend(list(s1))\n",
        "    s.extend(list(s2))\n",
        "    s.extend(list(s3))\n",
        "    s.extend(list(s4))\n",
        "\n",
        "    random.shuffle(s)\n",
        "    print(\"\".join(s[0:plen]))\n",
        "    # print(\"time required to execute this is\", time()-init)\n",
        "\n"
      ]
    },
    {
      "cell_type": "markdown",
      "metadata": {
        "id": "x1T6wYLNlSrH"
      },
      "source": [
        "Q32. Develop a program that performs matrix addition and subtraction based on user input."
      ]
    },
    {
      "cell_type": "code",
      "execution_count": null,
      "metadata": {
        "colab": {
          "base_uri": "https://localhost:8080/"
        },
        "id": "UI3w7g23lWmX",
        "outputId": "72602d5a-6616-44d0-e307-5811a8858dd6"
      },
      "outputs": [
        {
          "name": "stdout",
          "output_type": "stream",
          "text": [
            "Printing elements of first matrix\n",
            "[[1 2 5]\n",
            " [3 4 6]]\n",
            "Printing elements of second matrix\n",
            "[[4 5 6]\n",
            " [6 7 8]]\n",
            "Addition of two matrix\n",
            "[[ 5  7 11]\n",
            " [ 9 11 14]]\n",
            "substraction of two matrix\n",
            "[[-3 -3 -1]\n",
            " [-3 -3 -2]]\n"
          ]
        }
      ],
      "source": [
        "import numpy as np\n",
        "\n",
        "# creating first matrix\n",
        "A = np.array([[1, 2,5], [3, 4,6]])\n",
        "B = np.array([[4, 5,6], [6, 7,8]])\n",
        "\n",
        "print(\"Printing elements of first matrix\")\n",
        "print(A)\n",
        "print(\"Printing elements of second matrix\")\n",
        "print(B)\n",
        "\n",
        "# adding two matrix\n",
        "print(\"Addition of two matrix\")\n",
        "print(np.add(A, B))\n",
        "print('substraction of two matrix')\n",
        "print(np.subtract(A,B))"
      ]
    },
    {
      "cell_type": "markdown",
      "metadata": {
        "id": "CGDwTNcvlXTs"
      },
      "source": [
        "Q33. Write a program that calculates the greatest common divisor (GCD) of two numbers using the Euclidean\n",
        "algorithm."
      ]
    },
    {
      "cell_type": "code",
      "execution_count": null,
      "metadata": {
        "colab": {
          "base_uri": "https://localhost:8080/"
        },
        "id": "od1hJ7VFlZe0",
        "outputId": "035ceb0a-65f5-45a5-a992-b38e6cf11403"
      },
      "outputs": [
        {
          "name": "stdout",
          "output_type": "stream",
          "text": [
            "The gcd of 60 and 48 is : 12\n"
          ]
        }
      ],
      "source": [
        "import math\n",
        "print(\"The gcd of 60 and 48 is : \", end=\"\")\n",
        "print(math.gcd(60, 48))"
      ]
    },
    {
      "cell_type": "markdown",
      "metadata": {
        "id": "wKulYic6lcRV"
      },
      "source": [
        "Q34. Build a program that performs matrix multiplication using nested loops and conditional statements."
      ]
    },
    {
      "cell_type": "code",
      "execution_count": null,
      "metadata": {
        "colab": {
          "base_uri": "https://localhost:8080/"
        },
        "id": "vsvHduEeleo5",
        "outputId": "24478d42-e46a-4d85-f53d-1c26e858ae35"
      },
      "outputs": [
        {
          "name": "stdout",
          "output_type": "stream",
          "text": [
            "[114 160  60]\n",
            "[74 97 73]\n",
            "[119 157 112]\n"
          ]
        }
      ],
      "source": [
        "import numpy as np\n",
        "A = [[12, 7, 3],\n",
        "\t[4, 5, 6],\n",
        "\t[7, 8, 9]]\n",
        "\n",
        "B = [[5, 8, 1],\n",
        "\t[6, 7, 3],\n",
        "\t[4, 5, 9]]\n",
        "\n",
        "result=[[0,0,0],\n",
        "\t\t[0,0,0],\n",
        "\t\t[0,0,0]]\n",
        "\n",
        "result = np.dot(A,B)\n",
        "\n",
        "for r in result:\n",
        "\tprint(r)\n"
      ]
    },
    {
      "cell_type": "markdown",
      "metadata": {
        "id": "8K0APO1flfhb"
      },
      "source": [
        "Q35. Create a program that simulates a basic text-based tic-tac-toe game against the computer."
      ]
    },
    {
      "cell_type": "code",
      "execution_count": null,
      "metadata": {
        "colab": {
          "base_uri": "https://localhost:8080/"
        },
        "id": "hu1WGihWlhxC",
        "outputId": "dc45989e-6933-4e07-bb72-fc7fc3771ed8"
      },
      "outputs": [
        {
          "name": "stdout",
          "output_type": "stream",
          "text": [
            "[[0 0 0]\n",
            " [0 0 0]\n",
            " [0 0 0]]\n",
            "Board after 1 move\n",
            "[[1 0 0]\n",
            " [0 0 0]\n",
            " [0 0 0]]\n",
            "Board after 2 move\n",
            "[[1 0 0]\n",
            " [0 0 0]\n",
            " [0 2 0]]\n",
            "Board after 3 move\n",
            "[[1 1 0]\n",
            " [0 0 0]\n",
            " [0 2 0]]\n",
            "Board after 4 move\n",
            "[[1 1 0]\n",
            " [0 0 0]\n",
            " [2 2 0]]\n",
            "Board after 5 move\n",
            "[[1 1 1]\n",
            " [0 0 0]\n",
            " [2 2 0]]\n",
            "Winner is: 1\n"
          ]
        }
      ],
      "source": [
        "import numpy as np\n",
        "import random\n",
        "from time import sleep\n",
        "def create_board():\n",
        "\treturn(np.array([[0, 0, 0],\n",
        "\t\t\t\t\t[0, 0, 0],\n",
        "\t\t\t\t\t[0, 0, 0]]))\n",
        "\n",
        "# Check for empty places on board\n",
        "def possibilities(board):\n",
        "\tl = []\n",
        "\n",
        "\tfor i in range(len(board)):\n",
        "\t\tfor j in range(len(board)):\n",
        "\t\t\tif board[i][j] == 0:\n",
        "\t\t\t\tl.append((i, j))\n",
        "\treturn(l)\n",
        "def random_place(board, player):\n",
        "\tselection = possibilities(board)\n",
        "\tcurrent_loc = random.choice(selection)\n",
        "\tboard[current_loc] = player\n",
        "\treturn(board)\n",
        "def row_win(board, player):\n",
        "\tfor x in range(len(board)):\n",
        "\t\twin = True\n",
        "\n",
        "\t\tfor y in range(len(board)):\n",
        "\t\t\tif board[x, y] != player:\n",
        "\t\t\t\twin = False\n",
        "\t\t\t\tcontinue\n",
        "\t\tif win == True:\n",
        "\t\t\treturn(win)\n",
        "\treturn(win)\n",
        "\n",
        "def col_win(board, player):\n",
        "\tfor x in range(len(board)):\n",
        "\t\twin = True\n",
        "\t\tfor y in range(len(board)):\n",
        "\t\t\tif board[y][x] != player:\n",
        "\t\t\t\twin = False\n",
        "\t\t\t\tcontinue\n",
        "\t\tif win == True:\n",
        "\t\t\treturn(win)\n",
        "\treturn(win)\n",
        "\n",
        "def diag_win(board, player):\n",
        "\twin = True\n",
        "\ty = 0\n",
        "\tfor x in range(len(board)):\n",
        "\t\tif board[x, x] != player:\n",
        "\t\t\twin = False\n",
        "\tif win:\n",
        "\t\treturn win\n",
        "\twin = True\n",
        "\tif win:\n",
        "\t\tfor x in range(len(board)):\n",
        "\t\t\ty = len(board) - 1 - x\n",
        "\t\t\tif board[x, y] != player:\n",
        "\t\t\t\twin = False\n",
        "\treturn win\n",
        "\n",
        "def evaluate(board):\n",
        "\twinner = 0\n",
        "\tfor player in [1, 2]:\n",
        "\t\tif (row_win(board, player) or\n",
        "\t\t\t\tcol_win(board, player) or\n",
        "\t\t\t\tdiag_win(board, player)):\n",
        "\n",
        "\t\t\twinner = player\n",
        "\n",
        "\tif np.all(board != 0) and winner == 0:\n",
        "\t\twinner = -1\n",
        "\treturn winner\n",
        "\n",
        "def play_game():\n",
        "\tboard, winner, counter = create_board(), 0, 1\n",
        "\tprint(board)\n",
        "\tsleep(2)\n",
        "\n",
        "\twhile winner == 0:\n",
        "\t\tfor player in [1, 2]:\n",
        "\t\t\tboard = random_place(board, player)\n",
        "\t\t\tprint(\"Board after \" + str(counter) + \" move\")\n",
        "\t\t\tprint(board)\n",
        "\t\t\tsleep(2)\n",
        "\t\t\tcounter += 1\n",
        "\t\t\twinner = evaluate(board)\n",
        "\t\t\tif winner != 0:\n",
        "\t\t\t\tbreak\n",
        "\treturn(winner)\n",
        "\n",
        "# Driver Code\n",
        "print(\"Winner is: \" + str(play_game()))"
      ]
    },
    {
      "cell_type": "markdown",
      "metadata": {
        "id": "vF8gq6dBliXY"
      },
      "source": [
        "Q36. Write a program that generates Fibonacci numbers up to a specified term using iterative methods."
      ]
    },
    {
      "cell_type": "code",
      "execution_count": null,
      "metadata": {
        "id": "Nkg-L49jlk4I",
        "colab": {
          "base_uri": "https://localhost:8080/"
        },
        "outputId": "bfc373c0-ffc7-4ad5-c12f-198326a68ece"
      },
      "outputs": [
        {
          "output_type": "stream",
          "name": "stdout",
          "text": [
            "Enter the number of terms in the sequence: 2\n",
            "0 1 "
          ]
        }
      ],
      "source": [
        "a = 0\n",
        "b = 1\n",
        "n=int(input(\"Enter the number of terms in the sequence: \"))\n",
        "print(a,b,end=\" \")\n",
        "while(n-2):\n",
        "    c=a+b\n",
        "    a,b = b,c\n",
        "    print(c,end=\" \")\n",
        "    n=n-1"
      ]
    },
    {
      "cell_type": "markdown",
      "metadata": {
        "id": "Lb0DdgV_llfJ"
      },
      "source": [
        "Q37. Develop a program that calculates the nth term of the Fibonacci sequence using memoization."
      ]
    },
    {
      "cell_type": "code",
      "execution_count": null,
      "metadata": {
        "id": "W8Jqnxt1lngl",
        "colab": {
          "base_uri": "https://localhost:8080/"
        },
        "outputId": "ce6afb33-d791-4fb0-9f7a-30d371f1d06c"
      },
      "outputs": [
        {
          "output_type": "stream",
          "name": "stdout",
          "text": [
            "34\n"
          ]
        }
      ],
      "source": [
        "def Fibonacci(n):\n",
        "\tif n<= 0:\n",
        "\t\tprint(\"Incorrect input\")\n",
        "\telif n == 1:\n",
        "\t\treturn 0\n",
        "\telif n == 2:\n",
        "\t\treturn 1\n",
        "\telse:\n",
        "\t\treturn Fibonacci(n-1)+Fibonacci(n-2)\n",
        "\n",
        "print(Fibonacci(10))"
      ]
    },
    {
      "cell_type": "markdown",
      "metadata": {
        "id": "aRNeI7_IloG9"
      },
      "source": [
        "Q38. Create a program that generates a calendar for a given month and year using conditional statements."
      ]
    },
    {
      "cell_type": "code",
      "execution_count": null,
      "metadata": {
        "colab": {
          "base_uri": "https://localhost:8080/"
        },
        "id": "H-b-9_KdlqkE",
        "outputId": "71dd9833-34cd-4376-9a62-971fea2a9dd0"
      },
      "outputs": [
        {
          "name": "stdout",
          "output_type": "stream",
          "text": [
            "Please enter the Year: 2023\n",
            "Please enter the month: 9\n",
            "The Calendar of:     September 2023\n",
            "Mo Tu We Th Fr Sa Su\n",
            "             1  2  3\n",
            " 4  5  6  7  8  9 10\n",
            "11 12 13 14 15 16 17\n",
            "18 19 20 21 22 23 24\n",
            "25 26 27 28 29 30\n",
            "\n"
          ]
        }
      ],
      "source": [
        "import calendar\n",
        "year = int(input (\"Please enter the Year: \"))\n",
        "month = int(input (\"Please enter the month: \"))\n",
        "\n",
        "print(\"The Calendar of: \", calendar.month(year, month))"
      ]
    },
    {
      "cell_type": "markdown",
      "metadata": {
        "id": "j6XROn5pltAE"
      },
      "source": [
        "Q39. Build a program that simulates a basic text-based blackjack game against the computer."
      ]
    },
    {
      "cell_type": "code",
      "execution_count": null,
      "metadata": {
        "colab": {
          "base_uri": "https://localhost:8080/"
        },
        "id": "rw_lx419ltsO",
        "outputId": "b0aaa04e-f16a-4ed7-ac30-50bc27ea1770"
      },
      "outputs": [
        {
          "name": "stdout",
          "output_type": "stream",
          "text": [
            "Cards Player Has: [('2', 'Clubs'), ('3', 'Diamonds')]\n",
            "Score Of The Player: 5\n",
            "\n",
            "\n",
            "What do you want? [\"play\" to request another card, \"stop\" to stop]: play\n",
            "Cards Player Has: [('2', 'Clubs'), ('3', 'Diamonds'), ('Queen', 'Spades')]\n",
            "Score Of The Player: 15\n",
            "\n",
            "\n",
            "What do you want? [\"play\" to request another card, \"stop\" to stop]: stop\n",
            "Cards Dealer Has: [('6', 'Clubs'), ('8', 'Hearts'), ('Jack', 'Clubs')]\n",
            "Score Of The Dealer: 24\n",
            "\n",
            "\n",
            "Cards Dealer Has: [('6', 'Clubs'), ('8', 'Hearts'), ('Jack', 'Clubs')]\n",
            "Score Of The Dealer: 24\n",
            "Cards Player Has: [('2', 'Clubs'), ('3', 'Diamonds'), ('Queen', 'Spades')]\n",
            "Score Of The Player: 15\n",
            "Player wins (Dealer Loss Because Dealer Score is exceeding 21)\n"
          ]
        }
      ],
      "source": [
        "import random\n",
        "\n",
        "card_categories = ['Hearts', 'Diamonds', 'Clubs', 'Spades']\n",
        "cards_list = ['Ace', '2', '3', '4', '5', '6', '7', '8', '9', '10', 'Jack', 'Queen', 'King']\n",
        "deck = [(card, category) for category in card_categories for card in cards_list]\n",
        "\n",
        "def card_value(card):\n",
        "\tif card[0] in ['Jack', 'Queen', 'King']:\n",
        "\t\treturn 10\n",
        "\telif card[0] == 'Ace':\n",
        "\t\treturn 11\n",
        "\telse:\n",
        "\t\treturn int(card[0])\n",
        "\n",
        "random.shuffle(deck)\n",
        "player_card = [deck.pop(), deck.pop()]\n",
        "dealer_card = [deck.pop(), deck.pop()]\n",
        "\n",
        "while True:\n",
        "\tplayer_score = sum(card_value(card) for card in player_card)\n",
        "\tdealer_score = sum(card_value(card) for card in dealer_card)\n",
        "\tprint(\"Cards Player Has:\", player_card)\n",
        "\tprint(\"Score Of The Player:\", player_score)\n",
        "\tprint(\"\\n\")\n",
        "\tchoice = input('What do you want? [\"play\" to request another card, \"stop\" to stop]: ').lower()\n",
        "\tif choice == \"play\":\n",
        "\t\tnew_card = deck.pop()\n",
        "\t\tplayer_card.append(new_card)\n",
        "\telif choice == \"stop\":\n",
        "\t\tbreak\n",
        "\telse:\n",
        "\t\tprint(\"Invalid choice. Please try again.\")\n",
        "\t\tcontinue\n",
        "\n",
        "\tif player_score > 21:\n",
        "\t\tprint(\"Cards Dealer Has:\", dealer_card)\n",
        "\t\tprint(\"Score Of The Dealer:\", dealer_score)\n",
        "\t\tprint(\"Cards Player Has:\", player_card)\n",
        "\t\tprint(\"Score Of The Player:\", player_score)\n",
        "\t\tprint(\"Dealer wins (Player Loss Because Player Score is exceeding 21)\")\n",
        "\t\tbreak\n",
        "\n",
        "while dealer_score < 17:\n",
        "\tnew_card = deck.pop()\n",
        "\tdealer_card.append(new_card)\n",
        "\tdealer_score += card_value(new_card)\n",
        "\n",
        "print(\"Cards Dealer Has:\", dealer_card)\n",
        "print(\"Score Of The Dealer:\", dealer_score)\n",
        "print(\"\\n\")\n",
        "\n",
        "if dealer_score > 21:\n",
        "\tprint(\"Cards Dealer Has:\", dealer_card)\n",
        "\tprint(\"Score Of The Dealer:\", dealer_score)\n",
        "\tprint(\"Cards Player Has:\", player_card)\n",
        "\tprint(\"Score Of The Player:\", player_score)\n",
        "\tprint(\"Player wins (Dealer Loss Because Dealer Score is exceeding 21)\")\n",
        "elif player_score > dealer_score:\n",
        "\tprint(\"Cards Dealer Has:\", dealer_card)\n",
        "\tprint(\"Score Of The Dealer:\", dealer_score)\n",
        "\tprint(\"Cards Player Has:\", player_card)\n",
        "\tprint(\"Score Of The Player:\", player_score)\n",
        "\tprint(\"Player wins (Player Has High Score than Dealer)\")\n",
        "elif dealer_score > player_score:\n",
        "\tprint(\"Cards Dealer Has:\", dealer_card)\n",
        "\tprint(\"Score Of The Dealer:\", dealer_score)\n",
        "\tprint(\"Cards Player Has:\", player_card)\n",
        "\tprint(\"Score Of The Player:\", player_score)\n",
        "\tprint(\"Dealer wins (Dealer Has High Score than Player)\")\n",
        "else:\n",
        "\tprint(\"Cards Dealer Has:\", dealer_card)\n",
        "\tprint(\"Score Of The Dealer:\", dealer_score)\n",
        "\tprint(\"Cards Player Has:\", player_card)\n",
        "\tprint(\"Score Of The Player:\", player_score)\n",
        "\tprint(\"It's a tie.\")\n"
      ]
    },
    {
      "cell_type": "markdown",
      "metadata": {
        "id": "AXHrf9wrluOu"
      },
      "source": [
        "Q40. Write a program that generates the prime factors of a given number using trial division."
      ]
    },
    {
      "cell_type": "code",
      "execution_count": null,
      "metadata": {
        "colab": {
          "base_uri": "https://localhost:8080/"
        },
        "id": "TKmJS6WtlwWM",
        "outputId": "f2db5063-d7e1-4b17-b565-bd0d5dc944c0"
      },
      "outputs": [
        {
          "name": "stdout",
          "output_type": "stream",
          "text": [
            "2\n",
            "2\n",
            "2\n",
            "5\n",
            "5\n"
          ]
        }
      ],
      "source": [
        "import math\n",
        "def prime_factors(num):\n",
        "    while num % 2 == 0:\n",
        "        print(2,)\n",
        "        num = num / 2\n",
        "    for i in range(3, int(math.sqrt(num)) + 1, 2):\n",
        "\n",
        "        # while i divides n , print i ad divide n\n",
        "        while num % i == 0:\n",
        "            print(i,)\n",
        "            num = num / i\n",
        "    if num > 2:\n",
        "        print(num)\n",
        "num = 200\n",
        "prime_factors(num)"
      ]
    },
    {
      "cell_type": "code",
      "execution_count": null,
      "metadata": {
        "id": "X14IWB4AKP4u"
      },
      "outputs": [],
      "source": []
    }
  ],
  "metadata": {
    "colab": {
      "provenance": [],
      "authorship_tag": "ABX9TyNttVLCG9TadNPjXPon4n6P",
      "include_colab_link": true
    },
    "kernelspec": {
      "display_name": "Python 3",
      "name": "python3"
    },
    "language_info": {
      "name": "python"
    }
  },
  "nbformat": 4,
  "nbformat_minor": 0
}