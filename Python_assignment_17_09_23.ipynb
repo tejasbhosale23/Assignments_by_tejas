{
  "nbformat": 4,
  "nbformat_minor": 0,
  "metadata": {
    "colab": {
      "provenance": [],
      "authorship_tag": "ABX9TyNTWsUoaoK55YZG4lfHzexE",
      "include_colab_link": true
    },
    "kernelspec": {
      "name": "python3",
      "display_name": "Python 3"
    },
    "language_info": {
      "name": "python"
    }
  },
  "cells": [
    {
      "cell_type": "markdown",
      "metadata": {
        "id": "view-in-github",
        "colab_type": "text"
      },
      "source": [
        "<a href=\"https://colab.research.google.com/github/tejasbhosalepw/Assignments_by_tejas/blob/main/Python_assignment_17_09_23.ipynb\" target=\"_parent\"><img src=\"https://colab.research.google.com/assets/colab-badge.svg\" alt=\"Open In Colab\"/></a>"
      ]
    },
    {
      "cell_type": "markdown",
      "source": [
        "**For Loop**"
      ],
      "metadata": {
        "id": "oxfWPz-VunMF"
      }
    },
    {
      "cell_type": "markdown",
      "source": [
        "Q1. Write a Python program to print numbers from 1 to 10 using a for loop."
      ],
      "metadata": {
        "id": "FwTWDSY3uthE"
      }
    },
    {
      "cell_type": "code",
      "source": [
        "for i in range(1,11):\n",
        "  print(i)"
      ],
      "metadata": {
        "colab": {
          "base_uri": "https://localhost:8080/"
        },
        "id": "ifT-PkZSurcr",
        "outputId": "deae6e90-79d4-4109-b675-a1a8ac1df38f"
      },
      "execution_count": null,
      "outputs": [
        {
          "output_type": "stream",
          "name": "stdout",
          "text": [
            "1\n",
            "2\n",
            "3\n",
            "4\n",
            "5\n",
            "6\n",
            "7\n",
            "8\n",
            "9\n",
            "10\n"
          ]
        }
      ]
    },
    {
      "cell_type": "markdown",
      "source": [
        "Q2. Explain the difference between a for loop and a while loop in Python."
      ],
      "metadata": {
        "id": "mX_ljdrQvDyL"
      }
    },
    {
      "cell_type": "markdown",
      "source": [
        "**For loop** :- 1.Iterate over sequence of items.\n",
        "2. For loops are designed for iterating over a sequence of items. Eg. list, tuple, etc.\n",
        "3.For loop require a sequence to iterate over.\n",
        "**While loop** :- 1.Used to repeatedly execute a block of statements while a condition is true.\n",
        "2. While loop is used when the number of iterations is not known in advance or when we want to repeat a block of code until a certain condition is met.\n",
        "3. While the loop requires an initial condition that is tested at the beginning of the loop."
      ],
      "metadata": {
        "id": "QkyOf0mRvPMy"
      }
    },
    {
      "cell_type": "markdown",
      "source": [
        "Q3. Write a Python program to calculate the sum of all numbers from 1 to 100 using a for loop."
      ],
      "metadata": {
        "id": "r629OmMDwwaX"
      }
    },
    {
      "cell_type": "code",
      "source": [
        "sum = 0\n",
        "for i in range(1,101):\n",
        "  sum += i\n",
        "print(sum)"
      ],
      "metadata": {
        "colab": {
          "base_uri": "https://localhost:8080/"
        },
        "id": "L-G84VPsvMR3",
        "outputId": "c0fd06b9-7411-4d2d-febf-a96c16561bc4"
      },
      "execution_count": null,
      "outputs": [
        {
          "output_type": "stream",
          "name": "stdout",
          "text": [
            "5050\n"
          ]
        }
      ]
    },
    {
      "cell_type": "markdown",
      "source": [
        "Q4. How do you iterate through a list using a for loop in Python?"
      ],
      "metadata": {
        "id": "lRS_CyeYxcXM"
      }
    },
    {
      "cell_type": "markdown",
      "source": [
        "1. Firstly create the list.\n",
        "2. use for loop and iterate each element in the list.\n",
        "3. print the element.\n",
        "\n",
        "Below is an example of it.\n",
        "\n"
      ],
      "metadata": {
        "id": "Jl8zK6G2407G"
      }
    },
    {
      "cell_type": "code",
      "source": [
        "list = [1,2,4,6,8]\n",
        "for i in list:\n",
        "  print(i)"
      ],
      "metadata": {
        "id": "WvKcSfqVxu23",
        "colab": {
          "base_uri": "https://localhost:8080/"
        },
        "outputId": "6883c6fa-ecf0-4348-cb8d-036366be1946"
      },
      "execution_count": null,
      "outputs": [
        {
          "output_type": "stream",
          "name": "stdout",
          "text": [
            "1\n",
            "2\n",
            "4\n",
            "6\n",
            "8\n"
          ]
        }
      ]
    },
    {
      "cell_type": "markdown",
      "source": [
        "Q5.Write a Python program to find the product of all elements in a list using a for loop."
      ],
      "metadata": {
        "id": "Lhl8qz8cxorE"
      }
    },
    {
      "cell_type": "code",
      "source": [
        "product = 1\n",
        "list = [3,2,1,6,2]\n",
        "for i in list:\n",
        "  product = product * i\n",
        "print(product)"
      ],
      "metadata": {
        "colab": {
          "base_uri": "https://localhost:8080/"
        },
        "id": "DLTvtwepw__c",
        "outputId": "f7c97087-abaf-4c89-c83e-1451f0982b56"
      },
      "execution_count": null,
      "outputs": [
        {
          "output_type": "stream",
          "name": "stdout",
          "text": [
            "72\n"
          ]
        }
      ]
    },
    {
      "cell_type": "markdown",
      "source": [
        "Q6. Create a Python program that prints all even numbers from 1 to 20 using a for loop"
      ],
      "metadata": {
        "id": "po2LcczPyII7"
      }
    },
    {
      "cell_type": "code",
      "source": [
        "l_even = []\n",
        "for i in range(1,21):\n",
        "  if i%2 == 0:\n",
        "    l_even.append(i)\n",
        "print(l_even)"
      ],
      "metadata": {
        "colab": {
          "base_uri": "https://localhost:8080/"
        },
        "id": "Unp_GEYfx-BN",
        "outputId": "3bd72688-80cd-4304-e5ce-4a782910efb5"
      },
      "execution_count": null,
      "outputs": [
        {
          "output_type": "stream",
          "name": "stdout",
          "text": [
            "[2, 4, 6, 8, 10, 12, 14, 16, 18, 20]\n"
          ]
        }
      ]
    },
    {
      "cell_type": "markdown",
      "source": [
        "Q7. Write a Python program that calculates the factorial of a number using a for loop."
      ],
      "metadata": {
        "id": "znn_8dMLyfhy"
      }
    },
    {
      "cell_type": "code",
      "source": [
        "factorial = 1\n",
        "num = int(input('enter the number: '))\n",
        "for i in range(1,num+1):\n",
        "  factorial = factorial * i\n",
        "print(f'factorial of {num} is {factorial}')"
      ],
      "metadata": {
        "colab": {
          "base_uri": "https://localhost:8080/"
        },
        "id": "1HIRrTYGyZ-x",
        "outputId": "265b7a35-fe17-4a77-a2c5-d35a7c91c487"
      },
      "execution_count": null,
      "outputs": [
        {
          "output_type": "stream",
          "name": "stdout",
          "text": [
            "enter the number: 5\n",
            "factorial of 5 is 120\n"
          ]
        }
      ]
    },
    {
      "cell_type": "markdown",
      "source": [
        "Q8. How can you iterate through the characters of a string using a for loop in Python?\n"
      ],
      "metadata": {
        "id": "uHKapYEPIKh-"
      }
    },
    {
      "cell_type": "code",
      "source": [
        "s = 'tejasd'\n",
        "for i in s:\n",
        "  print(i)"
      ],
      "metadata": {
        "colab": {
          "base_uri": "https://localhost:8080/"
        },
        "id": "wcYmKE1yH1s3",
        "outputId": "25779abd-3d8d-439b-e133-2987145dec68"
      },
      "execution_count": null,
      "outputs": [
        {
          "output_type": "stream",
          "name": "stdout",
          "text": [
            "t\n",
            "e\n",
            "j\n",
            "a\n",
            "s\n",
            "d\n"
          ]
        }
      ]
    },
    {
      "cell_type": "markdown",
      "source": [
        "Q9. Write a Python program to find the largest number in a list using a for loop.\n"
      ],
      "metadata": {
        "id": "12vC25iVJK5P"
      }
    },
    {
      "cell_type": "code",
      "source": [
        "list = [12,32,11,43,22]\n",
        "max = list[0]\n",
        "for i in list:\n",
        "  if i > max:\n",
        "    max = i\n",
        "print('largest number in list is', max)"
      ],
      "metadata": {
        "colab": {
          "base_uri": "https://localhost:8080/"
        },
        "id": "e6BXRZdnIzD4",
        "outputId": "df2c3108-6e9a-4c93-d516-58fca7b57dc7"
      },
      "execution_count": null,
      "outputs": [
        {
          "output_type": "stream",
          "name": "stdout",
          "text": [
            "largest number in list is 43\n"
          ]
        }
      ]
    },
    {
      "cell_type": "markdown",
      "source": [
        "Q10. Create a Python program that prints the Fibonacci sequence up to a specified limit using a for loop.\n"
      ],
      "metadata": {
        "id": "SjWPya-rJ8NX"
      }
    },
    {
      "cell_type": "code",
      "source": [
        "nterms = int(input(\"How many terms? \"))\n",
        "n1, n2 = 0, 1\n",
        "count = 0\n",
        "if nterms <= 0:\n",
        "   print(\"Please enter a positive integer\")\n",
        "elif nterms == 1:\n",
        "   print(\"Fibonacci sequence upto\",nterms,\":\")\n",
        "   print(n1)\n",
        "else:\n",
        "   print(\"Fibonacci sequence:\")\n",
        "   while count < nterms:\n",
        "       print(n1)\n",
        "       nth = n1 + n2\n",
        "       n1 = n2\n",
        "       n2 = nth\n",
        "       count += 1"
      ],
      "metadata": {
        "id": "2SnvEca2Jd3O",
        "colab": {
          "base_uri": "https://localhost:8080/"
        },
        "outputId": "5bab941a-f598-431c-ca87-35fcf574e82b"
      },
      "execution_count": null,
      "outputs": [
        {
          "output_type": "stream",
          "name": "stdout",
          "text": [
            "How many terms? 6\n",
            "Fibonacci sequence:\n",
            "0\n",
            "1\n",
            "1\n",
            "2\n",
            "3\n",
            "5\n"
          ]
        }
      ]
    },
    {
      "cell_type": "markdown",
      "source": [
        "Q11. Write a Python program to count the number of vowels in a given string using a for loop.\n"
      ],
      "metadata": {
        "id": "YoE3dM84JN72"
      }
    },
    {
      "cell_type": "code",
      "source": [
        "string = 'pwskillscenter'\n",
        "vowels = 'aeiou'\n",
        "count = 0\n",
        "for i in string:\n",
        "  if i in vowels:\n",
        "    count +=1\n",
        "print(count)\n"
      ],
      "metadata": {
        "id": "P3nZ-s_zZTWs",
        "colab": {
          "base_uri": "https://localhost:8080/"
        },
        "outputId": "ace15a1b-a783-4ecb-cc10-8d9f41389f50"
      },
      "execution_count": null,
      "outputs": [
        {
          "output_type": "stream",
          "name": "stdout",
          "text": [
            "3\n"
          ]
        }
      ]
    },
    {
      "cell_type": "markdown",
      "source": [
        "Q12.Create a Python program that generates a multiplication table for a given number using a for loop."
      ],
      "metadata": {
        "id": "hWjcvaz7Oin3"
      }
    },
    {
      "cell_type": "code",
      "source": [
        "num = int(input('enter the number: '))\n",
        "for i in range(1,11):\n",
        "  print(f'{num} x {i} = {num*i}')"
      ],
      "metadata": {
        "colab": {
          "base_uri": "https://localhost:8080/"
        },
        "id": "bwHiSXDhJeDS",
        "outputId": "f068a035-416f-49ac-fdbb-f88829d66293"
      },
      "execution_count": null,
      "outputs": [
        {
          "output_type": "stream",
          "name": "stdout",
          "text": [
            "enter the number: 23\n",
            "23 x 1 = 23\n",
            "23 x 2 = 46\n",
            "23 x 3 = 69\n",
            "23 x 4 = 92\n",
            "23 x 5 = 115\n",
            "23 x 6 = 138\n",
            "23 x 7 = 161\n",
            "23 x 8 = 184\n",
            "23 x 9 = 207\n",
            "23 x 10 = 230\n"
          ]
        }
      ]
    },
    {
      "cell_type": "markdown",
      "source": [
        "Q13. Write a Python program to reverse a list using a for loop.\n"
      ],
      "metadata": {
        "id": "NSx3L3nDPElc"
      }
    },
    {
      "cell_type": "code",
      "source": [
        "list = [1, 2, 'pw' ,3,5,7,'python']\n",
        "l1 = []\n",
        "for i in list[::-1]:\n",
        "  l1.append(i)\n",
        "print(l1)\n"
      ],
      "metadata": {
        "colab": {
          "base_uri": "https://localhost:8080/"
        },
        "id": "uoBPV6FJO5r4",
        "outputId": "02127b33-8617-4234-d1e9-d7bb84f30f45"
      },
      "execution_count": null,
      "outputs": [
        {
          "output_type": "stream",
          "name": "stdout",
          "text": [
            "['python', 7, 5, 3, 'pw', 2, 1]\n"
          ]
        }
      ]
    },
    {
      "cell_type": "markdown",
      "source": [
        "Q14. Write a Python program to find the common elements between two lists using a for loop.\n"
      ],
      "metadata": {
        "id": "3TtcjzQQP5Bh"
      }
    },
    {
      "cell_type": "code",
      "source": [
        "list1 = [1,23,34,45,55]\n",
        "list2 = [1,23,65,12,11]\n",
        "common_element = []\n",
        "for i in list1:\n",
        "  if i in list2:\n",
        "    common_element.append(i)\n",
        "print(common_element)\n"
      ],
      "metadata": {
        "colab": {
          "base_uri": "https://localhost:8080/"
        },
        "id": "a-_bqs-YPQig",
        "outputId": "bf50df29-fc7b-4333-f9b0-1c9edb6f467f"
      },
      "execution_count": null,
      "outputs": [
        {
          "output_type": "stream",
          "name": "stdout",
          "text": [
            "[1, 23]\n"
          ]
        }
      ]
    },
    {
      "cell_type": "markdown",
      "source": [
        "Q15. Explain how to use a for loop to iterate through the keys and values of a dictionary in Python.\n"
      ],
      "metadata": {
        "id": "IsBgMLN8Qmhb"
      }
    },
    {
      "cell_type": "markdown",
      "source": [
        "1. create dictionary of key-value pair.\n",
        "2. use for loop and iterate i in dictionary.\n",
        "3. print keys from dictionary with the help of for loop."
      ],
      "metadata": {
        "id": "IvA45SJmQvDF"
      }
    },
    {
      "cell_type": "markdown",
      "source": [
        "Q16. Write a Python program to find the GCD (Greatest Common Divisor) of two numbers using a for loop."
      ],
      "metadata": {
        "id": "4JevlfkxQxI-"
      }
    },
    {
      "cell_type": "code",
      "source": [
        "num1 = int(input('enter the first number: '))\n",
        "num2 = int(input('enter the second number: '))\n",
        "for i in range(1, min(num1,num2)):\n",
        "  if num1%i == 0 and num2%i == 0:\n",
        "    GCD = i\n",
        "print(f'GCD of {num1} and {num2} is {GCD}')"
      ],
      "metadata": {
        "colab": {
          "base_uri": "https://localhost:8080/"
        },
        "id": "69THrd82QgcH",
        "outputId": "bbe24b38-3aa0-4161-e0d6-1580af9dfe65"
      },
      "execution_count": null,
      "outputs": [
        {
          "output_type": "stream",
          "name": "stdout",
          "text": [
            "enter the first number: 12\n",
            "enter the second number: 36\n",
            "GCD of 12 and 36 is 6\n"
          ]
        }
      ]
    },
    {
      "cell_type": "markdown",
      "source": [
        "Q17. Create a Python program that checks if a string is a palindrome using a for loop.\n"
      ],
      "metadata": {
        "id": "_nQUVlTQS9PH"
      }
    },
    {
      "cell_type": "code",
      "source": [
        "string = input('enter the string: ')\n",
        "string1 = ''\n",
        "for i in string[::-1]:\n",
        "  string1 += i\n",
        "if string == string1:\n",
        "  print('Given string is palindrome string')\n",
        "else:\n",
        "  print('Given String is not a palindrome string')\n"
      ],
      "metadata": {
        "colab": {
          "base_uri": "https://localhost:8080/"
        },
        "id": "nGqqAhxWRTl_",
        "outputId": "7a67417f-1768-4961-fc57-0e312177061a"
      },
      "execution_count": null,
      "outputs": [
        {
          "output_type": "stream",
          "name": "stdout",
          "text": [
            "enter the string: hello\n",
            "Given String is not a palindrome string\n"
          ]
        }
      ]
    },
    {
      "cell_type": "markdown",
      "source": [
        "Q18. Write a Python program to remove duplicates from a list using a for loop.\n",
        "|"
      ],
      "metadata": {
        "id": "RKyCo2fmY8up"
      }
    },
    {
      "cell_type": "code",
      "source": [
        "list = [1,1,2,23,23,43,5]\n",
        "final_list = []\n",
        "for i in list:\n",
        "  if i not in final_list:\n",
        "    final_list.append(i)\n",
        "print(final_list)"
      ],
      "metadata": {
        "colab": {
          "base_uri": "https://localhost:8080/"
        },
        "id": "4NlD-_wPTydk",
        "outputId": "6891a9b1-01f8-4031-c3c1-994126d8aa1b"
      },
      "execution_count": null,
      "outputs": [
        {
          "output_type": "stream",
          "name": "stdout",
          "text": [
            "[1, 2, 23, 43, 5]\n"
          ]
        }
      ]
    },
    {
      "cell_type": "markdown",
      "source": [
        "Q19. Create a Python program that counts the number of words in a sentence using a for loop."
      ],
      "metadata": {
        "id": "f8Zb5igvdifD"
      }
    },
    {
      "cell_type": "code",
      "source": [
        "sentence = 'hello everyone 123sdf '\n",
        "count = 0\n",
        "for i in sentence:\n",
        "  if i.isalpha():\n",
        "    count+=1\n",
        "print(count)"
      ],
      "metadata": {
        "colab": {
          "base_uri": "https://localhost:8080/"
        },
        "id": "kvL873z4ZWmo",
        "outputId": "467f9e6a-e921-496a-dec0-aa89cedd6dc2"
      },
      "execution_count": null,
      "outputs": [
        {
          "output_type": "stream",
          "name": "stdout",
          "text": [
            "16\n"
          ]
        }
      ]
    },
    {
      "cell_type": "markdown",
      "source": [
        "Q20.Write a Python program to find the sum of all odd numbers from 1 to 50 using a for loop.\n"
      ],
      "metadata": {
        "id": "fvwoRxgRel1C"
      }
    },
    {
      "cell_type": "code",
      "source": [
        "odd_sum = 0\n",
        "for i in range(1,51):\n",
        "  if i % 2 != 0:\n",
        "    odd_sum += i\n",
        "  else:\n",
        "    pass\n",
        "print('The sum of first 50 odd number is', odd_sum)"
      ],
      "metadata": {
        "colab": {
          "base_uri": "https://localhost:8080/"
        },
        "id": "kQwT7jQyeFKM",
        "outputId": "1c2efb82-3a9d-4455-d856-cfb17a63f28b"
      },
      "execution_count": null,
      "outputs": [
        {
          "output_type": "stream",
          "name": "stdout",
          "text": [
            "The sum of first 50 odd number is 625\n"
          ]
        }
      ]
    },
    {
      "cell_type": "markdown",
      "source": [
        "Q21. Write a Python program that checks if a given year is a leap year using a for loop.\n"
      ],
      "metadata": {
        "id": "XzNxYB51gz9j"
      }
    },
    {
      "cell_type": "code",
      "source": [
        "year = int(input('enter the year: '))\n",
        "if year%4 == 0:\n",
        "  if year%100 != 0:\n",
        "    print('this is leap year')\n",
        "  else:\n",
        "    print('not a leap year')\n",
        "else:\n",
        "  print('not a leap year')"
      ],
      "metadata": {
        "colab": {
          "base_uri": "https://localhost:8080/"
        },
        "id": "r-cdCclJgQXq",
        "outputId": "6b9a2fac-6937-402b-e55a-172be10b2dd8"
      },
      "execution_count": null,
      "outputs": [
        {
          "output_type": "stream",
          "name": "stdout",
          "text": [
            "enter the year: 2320\n",
            "this is leap year\n"
          ]
        }
      ]
    },
    {
      "cell_type": "markdown",
      "source": [
        "Q22. Create a Python program that calculates the square root of a number using a for loop.\n"
      ],
      "metadata": {
        "id": "FGSoqCWUiwff"
      }
    },
    {
      "cell_type": "code",
      "source": [
        "num = int(input('enter the number: '))\n",
        "squareroot = num ** 0.5\n",
        "print('squareroot of given number is' , squareroot)"
      ],
      "metadata": {
        "colab": {
          "base_uri": "https://localhost:8080/"
        },
        "id": "S3hWbRX8iVKx",
        "outputId": "b13afcc7-e738-4c1c-f3d8-919d3c66149d"
      },
      "execution_count": null,
      "outputs": [
        {
          "output_type": "stream",
          "name": "stdout",
          "text": [
            "enter the number: 35\n",
            "squareroot of given number is 5.916079783099616\n"
          ]
        }
      ]
    },
    {
      "cell_type": "markdown",
      "source": [
        "Q23. Write a Python program to find the LCM (Least Common Multiple) of two numbers using a for loop.\n"
      ],
      "metadata": {
        "id": "Y8Lc4E5_kn9D"
      }
    },
    {
      "cell_type": "code",
      "source": [
        "num1 = int(input('enter the first number '))\n",
        "num2 = int(input('enter the second number '))\n",
        "for i in range(max(num1, num2), (num1*num2)+1):\n",
        "  if i%num1 == 0 and i%num2 == 0:\n",
        "    lcm = i\n",
        "    break\n",
        "print(f'lcm of given two numbers {num1} and {num2} is {lcm}')"
      ],
      "metadata": {
        "colab": {
          "base_uri": "https://localhost:8080/"
        },
        "id": "ckwN_9nZkaLW",
        "outputId": "7a39fe5f-6990-4f68-b0fd-1aa9540207ba"
      },
      "execution_count": null,
      "outputs": [
        {
          "output_type": "stream",
          "name": "stdout",
          "text": [
            "enter the first number 12\n",
            "enter the second number 24\n",
            "lcm of given two numbers 12 and 24 is 24\n"
          ]
        }
      ]
    },
    {
      "cell_type": "markdown",
      "source": [
        "**If-Else**"
      ],
      "metadata": {
        "id": "eV264M2InHf7"
      }
    },
    {
      "cell_type": "markdown",
      "source": [
        "Q1. Write a Python program to check if a number is positive, negative, or zero using an if-else statement."
      ],
      "metadata": {
        "id": "X8oLP4CWndRR"
      }
    },
    {
      "cell_type": "code",
      "source": [
        "number = int(input('enter the number: '))\n",
        "if number >= 1:\n",
        "  print('The given number is positive number')\n",
        "elif number == 0:\n",
        "  print('The given number is zero number')\n",
        "else:\n",
        "  print('The given number is negative number')"
      ],
      "metadata": {
        "colab": {
          "base_uri": "https://localhost:8080/"
        },
        "id": "f13Osr73my7V",
        "outputId": "7e42cdf0-caae-4f0f-e644-fa103e266230"
      },
      "execution_count": null,
      "outputs": [
        {
          "output_type": "stream",
          "name": "stdout",
          "text": [
            "enter the number: 1\n",
            "The given number is positive number\n"
          ]
        }
      ]
    },
    {
      "cell_type": "markdown",
      "source": [
        "Q2. Create a Python program that checks if a given number is even or odd using an if-else statement.\n"
      ],
      "metadata": {
        "id": "Es_uW1yIqBVX"
      }
    },
    {
      "cell_type": "code",
      "source": [
        "num = int(input('enter the number'))\n",
        "if num % 2 == 0:\n",
        "  print('The given number is even number')\n",
        "else:\n",
        "  print('the given number is odd number')"
      ],
      "metadata": {
        "colab": {
          "base_uri": "https://localhost:8080/"
        },
        "id": "KNUcilDRp73r",
        "outputId": "a51fcd44-7c98-48cc-9196-78ad1b8494c1"
      },
      "execution_count": null,
      "outputs": [
        {
          "output_type": "stream",
          "name": "stdout",
          "text": [
            "enter the number23\n",
            "the given number is odd number\n"
          ]
        }
      ]
    },
    {
      "cell_type": "markdown",
      "source": [
        "Q3. How can you use nested if-else statements in Python, and provide an example?\n"
      ],
      "metadata": {
        "id": "W36bP9HmqjDS"
      }
    },
    {
      "cell_type": "markdown",
      "source": [
        "**nested if-else statements** :- It means an if-else statement inside another if statement. In simple words, there is an outer if statements and inside it another if-else statement is present and such type of statement is known as nested if statement.\n",
        "\n",
        "Below is example of it."
      ],
      "metadata": {
        "id": "_HLw3GcrrBs2"
      }
    },
    {
      "cell_type": "code",
      "source": [
        "var = 100\n",
        "if var < 200:\n",
        "   print(\"Expression value is less than 200\")\n",
        "   if var == 150:\n",
        "      print(\"Which is 150\")\n",
        "   elif var == 100:\n",
        "      print(\"Which is 100\")\n",
        "   elif var == 50:\n",
        "      print(\"Which is 50\")\n",
        "   elif var < 50:\n",
        "      print(\"Expression value is less than 50\")\n",
        "else:\n",
        "   print(\"Could not find true expression\")"
      ],
      "metadata": {
        "id": "hqN6W7SZrqVW",
        "colab": {
          "base_uri": "https://localhost:8080/"
        },
        "outputId": "79e4b04a-a7a3-442e-db99-f072ee416a4f"
      },
      "execution_count": null,
      "outputs": [
        {
          "output_type": "stream",
          "name": "stdout",
          "text": [
            "Expression value is less than 200\n",
            "Which is 100\n"
          ]
        }
      ]
    },
    {
      "cell_type": "markdown",
      "source": [
        "Q4. Write a Python program to determine the largest of three numbers using if-else.\n"
      ],
      "metadata": {
        "id": "T_B5nwYYtX-a"
      }
    },
    {
      "cell_type": "code",
      "source": [
        "num1 = int(input('enter first number: '))\n",
        "num2 = int(input('enter second number: '))\n",
        "num3 = int(input('enter third number: '))\n",
        "\n",
        "if (num1 >= num2) and (num1 >= num3):\n",
        "   largest = num1\n",
        "elif (num2 >= num1) and (num2 >= num3):\n",
        "   largest = num2\n",
        "else:\n",
        "   largest = num3\n",
        "print('the largest number from three number is', largest)"
      ],
      "metadata": {
        "colab": {
          "base_uri": "https://localhost:8080/"
        },
        "id": "HhmOZGkTqgzj",
        "outputId": "29fbc6b3-62d2-4f7c-aee6-c08162adc448"
      },
      "execution_count": null,
      "outputs": [
        {
          "output_type": "stream",
          "name": "stdout",
          "text": [
            "enter first number: 12\n",
            "enter second number: 14\n",
            "enter third number: 16\n",
            "the largest number from three number is 16\n"
          ]
        }
      ]
    },
    {
      "cell_type": "markdown",
      "source": [
        "Q5. Write a Python program that calculates the absolute value of a number using if-else.\n"
      ],
      "metadata": {
        "id": "2cRQU5s--hrI"
      }
    },
    {
      "cell_type": "code",
      "source": [
        "def getabsolute(value):\n",
        "  if(value<0):\n",
        "    return -value\n",
        "  return value\n",
        "num = int(input('enter the number: '))\n",
        "print('Absolute number of given number is' , getabsolute(num))"
      ],
      "metadata": {
        "colab": {
          "base_uri": "https://localhost:8080/"
        },
        "id": "zIBNJ5-I6HaQ",
        "outputId": "4c7eb4da-92f3-4e03-e7eb-811e5bd804c0"
      },
      "execution_count": null,
      "outputs": [
        {
          "output_type": "stream",
          "name": "stdout",
          "text": [
            "enter the number: -34\n",
            "Absolute number of given number is 34\n"
          ]
        }
      ]
    },
    {
      "cell_type": "markdown",
      "source": [
        "Q6. Create a Python program that checks if a given character is a vowel or consonant using if-else."
      ],
      "metadata": {
        "id": "DCS9scewAcLa"
      }
    },
    {
      "cell_type": "code",
      "source": [
        "character = 'oiu'\n",
        "vowels = 'aeiou'\n",
        "if character in vowels:\n",
        "  print('it is vowels')\n",
        "else:\n",
        "  print('it is consonant')"
      ],
      "metadata": {
        "colab": {
          "base_uri": "https://localhost:8080/"
        },
        "id": "q6pfl-VI_CWO",
        "outputId": "75648fe5-5d14-4cec-c3f0-75bd280c97b5"
      },
      "execution_count": null,
      "outputs": [
        {
          "output_type": "stream",
          "name": "stdout",
          "text": [
            "it is consonant\n"
          ]
        }
      ]
    },
    {
      "cell_type": "markdown",
      "source": [
        "Q7. Write a Python program to determine if a user is eligible to vote based on their age using if-else.\n"
      ],
      "metadata": {
        "id": "hioVkngWNZ-z"
      }
    },
    {
      "cell_type": "code",
      "source": [
        "age = int(input('enter the age: '))\n",
        "if age >= 18:\n",
        "  print('you are eligible for voting')\n",
        "else:\n",
        "  print('you are not eligible for voting')"
      ],
      "metadata": {
        "id": "v0HrxA-RBkYz",
        "colab": {
          "base_uri": "https://localhost:8080/"
        },
        "outputId": "4e97540c-4762-40db-e174-82efbb07e300"
      },
      "execution_count": null,
      "outputs": [
        {
          "output_type": "stream",
          "name": "stdout",
          "text": [
            "enter the age: 19\n",
            "you are eligible for voting\n"
          ]
        }
      ]
    },
    {
      "cell_type": "markdown",
      "source": [
        "Q8. Create a Python program that calculates the discount amount based on the purchase amount using if-else."
      ],
      "metadata": {
        "id": "QYk6CsUtOCiP"
      }
    },
    {
      "cell_type": "code",
      "source": [
        "purchase_amount = int(input('enter the purchase amount: '))\n",
        "if purchase_amount >= 200:\n",
        "  print(purchase_amount - (purchase_amount*(5/100)))\n",
        "elif purchase_amount >= 300:\n",
        "  print(purchase_amount - (purchase_amount*(10/100)))\n",
        "else:\n",
        "  print('you are not eligible for discount')"
      ],
      "metadata": {
        "colab": {
          "base_uri": "https://localhost:8080/"
        },
        "id": "OCw-2FNdN96h",
        "outputId": "5ab70844-0186-468a-e8b1-99eed02709bb"
      },
      "execution_count": null,
      "outputs": [
        {
          "output_type": "stream",
          "name": "stdout",
          "text": [
            "enter the purchase amount: 310\n",
            "294.5\n"
          ]
        }
      ]
    },
    {
      "cell_type": "markdown",
      "source": [
        "Q9. Write a Python program to check if a number is within a specified range using if-else.\n"
      ],
      "metadata": {
        "id": "uR2q_gwBP6cH"
      }
    },
    {
      "cell_type": "code",
      "source": [
        "num = int(input('enter the number'))\n",
        "if num >= 51:\n",
        "  print('The number is in out of range')\n",
        "else:\n",
        "  print('The number is in range')"
      ],
      "metadata": {
        "colab": {
          "base_uri": "https://localhost:8080/"
        },
        "id": "Og64kN27O2GC",
        "outputId": "f0d64544-f667-4207-a4cb-69a120174582"
      },
      "execution_count": null,
      "outputs": [
        {
          "output_type": "stream",
          "name": "stdout",
          "text": [
            "enter the number43\n",
            "The number is in range\n"
          ]
        }
      ]
    },
    {
      "cell_type": "markdown",
      "source": [
        "Q10.Create a Python program that determines the grade of a student based on their score using if-else."
      ],
      "metadata": {
        "id": "GyvUZ9AdQ08X"
      }
    },
    {
      "cell_type": "code",
      "source": [
        "score = int(input('enter your score: '))\n",
        "if score >= 75:\n",
        "  print('Your grade is Distinction')\n",
        "elif score >= 65:\n",
        "  print('Your grade is First class')\n",
        "elif score >= 50:\n",
        "  print('your grade is second class')\n",
        "elif score >= 35:\n",
        "  print('you just passed ')\n",
        "else:\n",
        "  print('you fail')"
      ],
      "metadata": {
        "colab": {
          "base_uri": "https://localhost:8080/"
        },
        "id": "GKlLWU9BQo29",
        "outputId": "7966b811-6bda-4c1f-eddf-b89b6e6284bf"
      },
      "execution_count": null,
      "outputs": [
        {
          "output_type": "stream",
          "name": "stdout",
          "text": [
            "enter your score: 54\n",
            "your grade is second class\n"
          ]
        }
      ]
    },
    {
      "cell_type": "markdown",
      "source": [
        "Q11. Write a Python program to check if a string is empty or not using if-else."
      ],
      "metadata": {
        "id": "ZlsSD4mvSdgJ"
      }
    },
    {
      "cell_type": "code",
      "source": [
        "string = 'sfs'\n",
        "if string == '':\n",
        "  print('string is empty')\n",
        "else:\n",
        "  print('string is not empty')"
      ],
      "metadata": {
        "colab": {
          "base_uri": "https://localhost:8080/"
        },
        "id": "ulPZwTy4SOj9",
        "outputId": "f6262ad1-005a-465e-8c4c-26dd7bc11460"
      },
      "execution_count": null,
      "outputs": [
        {
          "output_type": "stream",
          "name": "stdout",
          "text": [
            "string is not empty\n"
          ]
        }
      ]
    },
    {
      "cell_type": "markdown",
      "source": [
        "Q12. Create a Python program that identifies the type of a triangle (e.g., equilateral, isosceles, or scalene) based on input values using if-else.\n"
      ],
      "metadata": {
        "id": "pqk-anreTO85"
      }
    },
    {
      "cell_type": "code",
      "source": [
        "print(\"Input lengths of the triangle sides: \")\n",
        "x = int(input(\"x: \"))\n",
        "y = int(input(\"y: \"))\n",
        "z = int(input(\"z: \"))\n",
        "\n",
        "if x == y == z:\n",
        "\tprint(\"Equilateral triangle\")\n",
        "elif x==y or y==z or z==x:\n",
        "\tprint(\"isosceles triangle\")\n",
        "else:\n",
        "\tprint(\"Scalene triangle\")"
      ],
      "metadata": {
        "colab": {
          "base_uri": "https://localhost:8080/"
        },
        "id": "iW4Ykf9cTHqQ",
        "outputId": "6f0e0d89-0f77-4c28-90f7-058564241397"
      },
      "execution_count": null,
      "outputs": [
        {
          "output_type": "stream",
          "name": "stdout",
          "text": [
            "Input lengths of the triangle sides: \n",
            "x: 60\n",
            "y: 60\n",
            "z: 60\n",
            "Equilateral triangle\n"
          ]
        }
      ]
    },
    {
      "cell_type": "markdown",
      "source": [
        "Q13. Write a Python program to determine the day of the week based on a user-provided number using if-else."
      ],
      "metadata": {
        "id": "pmhrrdyIXXUv"
      }
    },
    {
      "cell_type": "code",
      "source": [
        "Day = int(input('Enter the number between 1 to 7: '))\n",
        "if Day == 1:\n",
        "  print('Monday')\n",
        "elif Day == 2:\n",
        "  print('Tuesday')\n",
        "elif Day == 3:\n",
        "  print('Wednesday')\n",
        "elif Day == 4:\n",
        "  print('Thursday')\n",
        "elif Day == 5:\n",
        "  print('Friday')\n",
        "elif Day == 6:\n",
        "  print('Saturday')\n",
        "elif Day == 7:\n",
        "  print('SUnday')\n",
        "else:\n",
        "  print('Invalid Input')"
      ],
      "metadata": {
        "colab": {
          "base_uri": "https://localhost:8080/"
        },
        "id": "fQ1FbFHqXLcp",
        "outputId": "52340776-9d50-4a92-85f6-bc3441eb5150"
      },
      "execution_count": null,
      "outputs": [
        {
          "output_type": "stream",
          "name": "stdout",
          "text": [
            "Enter the number between 1 to 7: 5\n",
            "Friday\n"
          ]
        }
      ]
    },
    {
      "cell_type": "markdown",
      "source": [
        "Q14. Create a Python program that checks if a given year is a leap year using both if-else and a function."
      ],
      "metadata": {
        "id": "7bhW_4CcY3-9"
      }
    },
    {
      "cell_type": "code",
      "source": [
        "year = int(input('enter the year: '))\n",
        "if year%4 == 0:\n",
        "  if year%100 != 0:\n",
        "    print('this is leap year')\n",
        "  else:\n",
        "    print('not a leap year')\n",
        "else:\n",
        "  print('not a leap year')"
      ],
      "metadata": {
        "colab": {
          "base_uri": "https://localhost:8080/"
        },
        "id": "_z8wFSOgYvDx",
        "outputId": "d4bc435c-2aff-402d-fa3e-5b8632cd5fbb"
      },
      "execution_count": null,
      "outputs": [
        {
          "output_type": "stream",
          "name": "stdout",
          "text": [
            "enter the year: 2012\n",
            "this is leap year\n"
          ]
        }
      ]
    },
    {
      "cell_type": "markdown",
      "source": [
        "Q15. How do you use the \"assert\" statement in Python to add debugging checks within if-else blocks?\n"
      ],
      "metadata": {
        "id": "9LcfFM4JZYNq"
      }
    },
    {
      "cell_type": "markdown",
      "source": [
        "Python's assert statement allows us to write sanity checks in our code.\n",
        "These checks are known as assertions, and we can use them to test if certain assumptions remain true while we're developing code.\n",
        "If any of assertions turn false, then we have a  bug in code."
      ],
      "metadata": {
        "id": "CbYfjJMY-JM0"
      }
    },
    {
      "cell_type": "markdown",
      "source": [],
      "metadata": {
        "id": "76ehtaoOZclb"
      }
    },
    {
      "cell_type": "markdown",
      "source": [
        "Q16. Create a Python program that determines the eligibility of a person for a senior citizen discount based on age using if-else.\n"
      ],
      "metadata": {
        "id": "1ht_sj6SZd8H"
      }
    },
    {
      "cell_type": "code",
      "source": [
        "age = int(input('enter the age '))\n",
        "if age >= 65:\n",
        "  print('you will 15% discount')\n",
        "elif age >= 55:\n",
        "  print('you will get 10% discount')\n",
        "elif age >= 45:\n",
        "  print('you will get 5% discount')\n",
        "else:\n",
        "  print('you are not eligible for any discount')"
      ],
      "metadata": {
        "colab": {
          "base_uri": "https://localhost:8080/"
        },
        "id": "Ls-GC88rZWKz",
        "outputId": "33dff29e-23d9-4bd0-b11a-807192b4497d"
      },
      "execution_count": null,
      "outputs": [
        {
          "output_type": "stream",
          "name": "stdout",
          "text": [
            "enter the age 32\n",
            "you are not eligible for any discount\n"
          ]
        }
      ]
    },
    {
      "cell_type": "markdown",
      "source": [
        "Q17.Write a Python program to categorize a given character as uppercase, lowercase, or neither using if-else.\n"
      ],
      "metadata": {
        "id": "WmHe3w-cbR9Q"
      }
    },
    {
      "cell_type": "code",
      "source": [
        "character = 'ds'\n",
        "if (character >= 'A' and character <= 'Z'):\n",
        "  print(character, 'is an uppecase character')\n",
        "elif (character >= 'a' and character <= 'z'):\n",
        "  print(character,'is an lowercase character')\n",
        "else:\n",
        "  print(character, 'is not a alphabetic character')"
      ],
      "metadata": {
        "colab": {
          "base_uri": "https://localhost:8080/"
        },
        "id": "q58TJ_1wa_kA",
        "outputId": "08f77ae4-1ab7-4f5f-9d45-aa8e3a85feb2"
      },
      "execution_count": null,
      "outputs": [
        {
          "output_type": "stream",
          "name": "stdout",
          "text": [
            "ds is an lowercase character\n"
          ]
        }
      ]
    },
    {
      "cell_type": "markdown",
      "source": [
        "Q18. Write a Python program to determine the roots of a quadratic equation using if-else"
      ],
      "metadata": {
        "id": "n5Z010B0qKNR"
      }
    },
    {
      "cell_type": "code",
      "source": [
        "import cmath\n",
        "a = float(input('Enter a: '))\n",
        "b = float(input('Enter b: '))\n",
        "c = float(input('Enter c: '))\n",
        "\n",
        "d = (b**2) - (4*a*c)\n",
        "\n",
        "sol1 = (-b-cmath.sqrt(d))/(2*a)\n",
        "sol2 = (-b+cmath.sqrt(d))/(2*a)\n",
        "print(f'The solution are {sol1} and {sol2}')"
      ],
      "metadata": {
        "colab": {
          "base_uri": "https://localhost:8080/"
        },
        "id": "zLfeD87aqHej",
        "outputId": "95771bf3-ee6f-41da-f50f-70a5bdbff2ff"
      },
      "execution_count": null,
      "outputs": [
        {
          "output_type": "stream",
          "name": "stdout",
          "text": [
            "Enter a: 12\n",
            "Enter b: 4\n",
            "Enter c: 8\n",
            "The solution are (-0.16666666666666666-0.7993052538854531j) and (-0.16666666666666666+0.7993052538854531j)\n"
          ]
        }
      ]
    },
    {
      "cell_type": "markdown",
      "source": [
        "Q19. Create a Python program that checks if a given year is a century year or not using if-else.\n"
      ],
      "metadata": {
        "id": "8ZMwdE5ivCYo"
      }
    },
    {
      "cell_type": "code",
      "source": [
        "def find_century(year):\n",
        "  if (year <= 0):\n",
        "    print('0 and negative is not allow for a year')\n",
        "  elif (year <= 100):\n",
        "    print('1st century')\n",
        "  elif (year %100 == 0):\n",
        "    print(year // 100, 'century')\n",
        "  else:\n",
        "    print(year // 100 + 1, 'century')\n",
        "\n",
        "year = 1923\n",
        "find_century(year)"
      ],
      "metadata": {
        "id": "6w_ZUoMIvHm0",
        "colab": {
          "base_uri": "https://localhost:8080/"
        },
        "outputId": "d32124ed-a824-469b-f30f-b9c979cb7afb"
      },
      "execution_count": null,
      "outputs": [
        {
          "output_type": "stream",
          "name": "stdout",
          "text": [
            "21 century\n"
          ]
        }
      ]
    },
    {
      "cell_type": "markdown",
      "source": [
        "Q20.Write a Python program to determine if a given number is a perfect square using if-else.\n"
      ],
      "metadata": {
        "id": "byGhtw5Dv8xZ"
      }
    },
    {
      "cell_type": "code",
      "source": [
        "import math\n",
        "num = int(input('enter the number: '))\n",
        "sqrt_num = math.sqrt(num)\n",
        "if sqrt_num.is_integer():\n",
        "  print('The number is a perfect square')\n",
        "else:\n",
        "  print('The number is not a perfect square')"
      ],
      "metadata": {
        "id": "W02YkK8jwAdD",
        "colab": {
          "base_uri": "https://localhost:8080/"
        },
        "outputId": "838f7471-a2e6-468e-bc26-3dbd44dbc9af"
      },
      "execution_count": null,
      "outputs": [
        {
          "output_type": "stream",
          "name": "stdout",
          "text": [
            "enter the number16\n",
            "The number is a perfect square\n"
          ]
        }
      ]
    },
    {
      "cell_type": "markdown",
      "source": [
        "Q21. Explain the purpose of the \"continue\" and \"break\" statements within if-else loops.\n"
      ],
      "metadata": {
        "id": "VvuUDYDrwD7l"
      }
    },
    {
      "cell_type": "markdown",
      "source": [
        "**Break :-** A break statement in Python alters the flow of a loop by terminating it once a specified condition is met.\n",
        "\n",
        "**Continue:** The continue statement in Python is used to skip the remaining code inside a loop for the current iteration only."
      ],
      "metadata": {
        "id": "CTdnoA6twIQD"
      }
    },
    {
      "cell_type": "markdown",
      "source": [
        "Q22. Create a Python program that calculates the BMI (Body Mass Index) of a person based on their weight and height using if-else.\n"
      ],
      "metadata": {
        "id": "DYWh4v7qwKLP"
      }
    },
    {
      "cell_type": "code",
      "source": [
        "height = float(input('enter the height in cm: '))\n",
        "weight = float(input('enter the weight in cm: '))\n",
        "BMI = weight/(height*height)\n",
        "if BMI <= 18.5:\n",
        "  print('you are underweight')\n",
        "elif 18.5<BMI<24.5:\n",
        "  print('your weight is normal')\n",
        "elif BMI >= 24.5:\n",
        "  print('you are overweight')\n",
        "else:\n",
        "  print('you are obese')"
      ],
      "metadata": {
        "id": "6lnM9N9iwHNp",
        "colab": {
          "base_uri": "https://localhost:8080/"
        },
        "outputId": "41b40958-6732-4a1a-c09b-953916d3b341"
      },
      "execution_count": null,
      "outputs": [
        {
          "output_type": "stream",
          "name": "stdout",
          "text": [
            "enter the height in cm: 160\n",
            "enter the weight in cm: 56\n",
            "you are underweight\n"
          ]
        }
      ]
    },
    {
      "cell_type": "markdown",
      "source": [
        "Q23. How can you use the \"filter()\" function with if-else statements to filter elements from a list?\n"
      ],
      "metadata": {
        "id": "UusU7wBy01hE"
      }
    },
    {
      "cell_type": "markdown",
      "source": [
        "The `filter()` is a built-in Python function to filter list items. It requires a filter function and list `filter(fn, list)`. In our case, we will create a filter_height function. It returns True when height is less than 150 else False.|"
      ],
      "metadata": {
        "id": "E_6Ya-_kYumK"
      }
    },
    {
      "cell_type": "markdown",
      "source": [
        "Q24. Write a Python program to determine if a given number is prime or not using if-else.\n"
      ],
      "metadata": {
        "id": "uvGcoOla4ymL"
      }
    },
    {
      "cell_type": "code",
      "source": [
        "n = int(input('enter the number: '))\n",
        "prime = True\n",
        "for i in range(2,n):\n",
        "  if n%i == 0:\n",
        "    prime = False\n",
        "    break\n",
        "if(prime==True):\n",
        "  print('this is prime number')\n",
        "else:\n",
        "  print('this is not a prime number')"
      ],
      "metadata": {
        "colab": {
          "base_uri": "https://localhost:8080/"
        },
        "id": "lUkJ1g4F4LVe",
        "outputId": "28d31ff8-08fb-4ac4-ad7f-655543ef381d"
      },
      "execution_count": null,
      "outputs": [
        {
          "output_type": "stream",
          "name": "stdout",
          "text": [
            "enter the number: 33\n",
            "this is not a prime number\n"
          ]
        }
      ]
    },
    {
      "cell_type": "markdown",
      "source": [
        "**Map :-**"
      ],
      "metadata": {
        "id": "s7aCr5J71DqX"
      }
    },
    {
      "cell_type": "markdown",
      "source": [
        "Q1. Explain the purpose of the `map()` function in Python and provide an example of how it can be used to apply a function to each element of an iterable.\n"
      ],
      "metadata": {
        "id": "CYwyhQgU1M4U"
      }
    },
    {
      "cell_type": "markdown",
      "source": [
        "Map in python is a function that works as an iterator to return a result after applying a function to every item of an iterable(tuple, lists, etc.).\n",
        "It is used when we want to apply a single tranformation function to all the iterable elements.\n",
        "The iterable and function are passed as arguments to the map in python."
      ],
      "metadata": {
        "id": "flvOcFz71dkG"
      }
    },
    {
      "cell_type": "markdown",
      "source": [
        "Q2. Write a Python program that uses the `map()` function to square each element of a list of numbers.\n"
      ],
      "metadata": {
        "id": "1paFxqiV2IQB"
      }
    },
    {
      "cell_type": "code",
      "source": [
        "l = [12, 4, 6, 8, 10]\n",
        "list(map(lambda a: a*a, l))"
      ],
      "metadata": {
        "id": "3v1LG2395UjK",
        "colab": {
          "base_uri": "https://localhost:8080/"
        },
        "outputId": "50457566-3515-4b80-ed1c-cc3e2a62f0cb"
      },
      "execution_count": null,
      "outputs": [
        {
          "output_type": "execute_result",
          "data": {
            "text/plain": [
              "[144, 16, 36, 64, 100]"
            ]
          },
          "metadata": {},
          "execution_count": 1
        }
      ]
    },
    {
      "cell_type": "markdown",
      "source": [
        "Q3. How does the `map()` function differ from a list comprehension in Python, and when would you choose one over the other?"
      ],
      "metadata": {
        "id": "J2sird9K3ksr"
      }
    },
    {
      "cell_type": "markdown",
      "source": [
        "1. map() function code is simple and compact than list comprehension.\n",
        "2. map() function code is easy to understand & easy to implement.\n",
        "3. In map function, we use lambda() function for execution, while in list comprehension we need to use for-loop or while-loop, if-else statement for execution.\n",
        "4. List comprehension execution is faster than that of map function when the formula expression is huge and complex. Map function is faster than list comprehension when the formula is already defined as a function earlier."
      ],
      "metadata": {
        "id": "kPv0g7b-3za8"
      }
    },
    {
      "cell_type": "markdown",
      "source": [
        "Q4. Create a Python program that uses the `map()` function to convert a list of names to uppercase."
      ],
      "metadata": {
        "id": "JYMr_e155Pc-"
      }
    },
    {
      "cell_type": "code",
      "source": [
        "l = ['tejas', 'pwskill', 'center']\n",
        "list(map(lambda a: a.upper(), l))"
      ],
      "metadata": {
        "colab": {
          "base_uri": "https://localhost:8080/"
        },
        "id": "-S-Himsv3cdr",
        "outputId": "833440d5-0440-44c4-f590-6a2daa1aaa24"
      },
      "execution_count": null,
      "outputs": [
        {
          "output_type": "execute_result",
          "data": {
            "text/plain": [
              "['TEJAS', 'PWSKILL', 'CENTER']"
            ]
          },
          "metadata": {},
          "execution_count": 2
        }
      ]
    },
    {
      "cell_type": "markdown",
      "source": [
        "Q5. Write a Python program that uses the `map()` function to calculate the length of each word in a list of strings.\n"
      ],
      "metadata": {
        "id": "rDDRyYmo7rcU"
      }
    },
    {
      "cell_type": "code",
      "source": [
        "l = ['pwskill', 'center', 'skill']\n",
        "list(map(lambda a : len(a), l))"
      ],
      "metadata": {
        "colab": {
          "base_uri": "https://localhost:8080/"
        },
        "id": "EuQrLQe15vVT",
        "outputId": "efdefaad-7177-4bb1-b39c-9396e0dba17f"
      },
      "execution_count": null,
      "outputs": [
        {
          "output_type": "execute_result",
          "data": {
            "text/plain": [
              "[7, 6, 5]"
            ]
          },
          "metadata": {},
          "execution_count": 3
        }
      ]
    },
    {
      "cell_type": "markdown",
      "source": [
        "Q6. How can you use the `map()` function to apply a custom function to elements of multiple lists simultaneously in Python?\n"
      ],
      "metadata": {
        "id": "T_OlEfk68kSD"
      }
    },
    {
      "cell_type": "markdown",
      "source": [
        "If we supply multiple iterables to map(), then the transformation function must take as many arguments as iterables we pass in.\n",
        "Each iteration of map() will pass one value from each iterable as an argument to function ."
      ],
      "metadata": {
        "id": "B-074K8192_e"
      }
    },
    {
      "cell_type": "markdown",
      "source": [
        "Q7. Create a Python program that uses `map()` to convert a list of temperatures from Celsius to Fahrenheit.\n"
      ],
      "metadata": {
        "id": "n9K00CVV-eGC"
      }
    },
    {
      "cell_type": "markdown",
      "source": [],
      "metadata": {
        "id": "3CGV2Q9enkUZ"
      }
    },
    {
      "cell_type": "code",
      "source": [
        "def celcius_temp(c):\n",
        "  return (c*1.8) + 32\n",
        "l = [32,29,36,19]\n",
        "list(map(celcius_temp, l))"
      ],
      "metadata": {
        "id": "zBF_5IZe8SZV",
        "colab": {
          "base_uri": "https://localhost:8080/"
        },
        "outputId": "c4490ba9-28af-4c72-dc96-d81fae9277b5"
      },
      "execution_count": null,
      "outputs": [
        {
          "output_type": "execute_result",
          "data": {
            "text/plain": [
              "[89.6, 84.2, 96.8, 66.2]"
            ]
          },
          "metadata": {},
          "execution_count": 7
        }
      ]
    },
    {
      "cell_type": "markdown",
      "source": [
        "Q8. Write a Python program that uses the `map()` function to round each element of a list of floating-point numbers to the nearest integer"
      ],
      "metadata": {
        "id": "ef-ON3LnOAY-"
      }
    },
    {
      "cell_type": "code",
      "source": [
        "def rounded_num(n):\n",
        "  rounded_number = round(n)\n",
        "  return rounded_number\n",
        "l = [32.2, 43.3, 123.2, 87.5]\n",
        "list(map(rounded_num, l))"
      ],
      "metadata": {
        "colab": {
          "base_uri": "https://localhost:8080/"
        },
        "id": "ofv0qYgICiav",
        "outputId": "6721e495-dd83-42b7-9776-8c2c42ea561b"
      },
      "execution_count": null,
      "outputs": [
        {
          "output_type": "execute_result",
          "data": {
            "text/plain": [
              "[32, 43, 123, 88]"
            ]
          },
          "metadata": {},
          "execution_count": 8
        }
      ]
    },
    {
      "cell_type": "markdown",
      "source": [
        "**Reduce :-**"
      ],
      "metadata": {
        "id": "ksqjejAMO4nk"
      }
    },
    {
      "cell_type": "markdown",
      "source": [
        "Q1. What is the `reduce()` function in Python, and what module should you import to use it? Provide an example of its basic usage.\n"
      ],
      "metadata": {
        "id": "hvn9HPYJO9uE"
      }
    },
    {
      "cell_type": "markdown",
      "source": [
        "**Reduce()**:-  The reduce(fun, seq) function is used to apply a particular function passed in its argument to all of the list elements mentioned in the sequence passed along.\n",
        "\n",
        "**working** :- At first step, first two elements of sequence are picked and the result is obtained.\n",
        "\n",
        "**module** :- This function is defined in 'functools' module.\n",
        "\n",
        "**usage** :- reduce() is useful when you need to apply a function to an iterable and reduce it to a single cumulative value.\n",
        "\n"
      ],
      "metadata": {
        "id": "MUxSMQwBPxgf"
      }
    },
    {
      "cell_type": "markdown",
      "source": [
        "Q2. Write a Python program that uses the `reduce()` function to find the product of all elements in a list."
      ],
      "metadata": {
        "id": "c10H6F8cRahK"
      }
    },
    {
      "cell_type": "code",
      "source": [
        "l = [3,4,6,8,1]\n",
        "from functools import reduce\n",
        "reduce(lambda a,b : a*b, l )"
      ],
      "metadata": {
        "colab": {
          "base_uri": "https://localhost:8080/"
        },
        "id": "btm3scmeOp7s",
        "outputId": "d1a61407-be68-4e2a-f00f-12365b36b938"
      },
      "execution_count": null,
      "outputs": [
        {
          "output_type": "execute_result",
          "data": {
            "text/plain": [
              "576"
            ]
          },
          "metadata": {},
          "execution_count": 9
        }
      ]
    },
    {
      "cell_type": "markdown",
      "source": [
        "Q3. Create a Python program that uses `reduce()` to find the maximum element in a list of numbers.\n"
      ],
      "metadata": {
        "id": "rg1cQ3R_SAUP"
      }
    },
    {
      "cell_type": "code",
      "source": [
        "from functools import reduce\n",
        "l = [2,3,4,65,7,8]\n",
        "reduce(lambda a,b : a if a>b else b, l)"
      ],
      "metadata": {
        "id": "UAK-WQsOR936",
        "colab": {
          "base_uri": "https://localhost:8080/"
        },
        "outputId": "07c46120-e73d-46ea-f6b7-1162ecdbcc4c"
      },
      "execution_count": null,
      "outputs": [
        {
          "output_type": "execute_result",
          "data": {
            "text/plain": [
              "65"
            ]
          },
          "metadata": {},
          "execution_count": 10
        }
      ]
    },
    {
      "cell_type": "markdown",
      "source": [
        "Q4. How can you use the `reduce()` function to concatenate a list of strings into a single string?\n"
      ],
      "metadata": {
        "id": "CHb01GRAU-wp"
      }
    },
    {
      "cell_type": "markdown",
      "source": [
        "1. import reduce from functools module.\n",
        "2. enter the list of string. and stored that in one variable.\n",
        "3. define the function for concatenating the string.\n",
        "4. print the result.\n",
        "\n",
        "Below is an example for concatenating string."
      ],
      "metadata": {
        "id": "ak8wZobVVucO"
      }
    },
    {
      "cell_type": "code",
      "source": [
        "from functools import reduce\n",
        "\n",
        "string_list = ['pw', 'skill', 'center']\n",
        "\n",
        "def concatenating_string(str1, str2):\n",
        "  return str1 + ', ' + str2\n",
        "result = reduce(concatenating_string, string_list)\n",
        "print(result)"
      ],
      "metadata": {
        "colab": {
          "base_uri": "https://localhost:8080/"
        },
        "id": "aiG9zABxU4Hs",
        "outputId": "abe0829d-6f6f-484b-9610-31d51bfeb4d3"
      },
      "execution_count": null,
      "outputs": [
        {
          "output_type": "stream",
          "name": "stdout",
          "text": [
            "pw, skill, center\n"
          ]
        }
      ]
    },
    {
      "cell_type": "markdown",
      "source": [
        "Q5. Write a Python program that calculates the factorial of a number using the `reduce()` function."
      ],
      "metadata": {
        "id": "ENhqrO0tXCCv"
      }
    },
    {
      "cell_type": "code",
      "source": [
        "num = int(input('enter the number which you want factorial: '))\n",
        "from functools import reduce\n",
        "fact = reduce(lambda a,b : a*b, range(1, num+1))\n",
        "print('The factorial of given number is', fact)"
      ],
      "metadata": {
        "colab": {
          "base_uri": "https://localhost:8080/"
        },
        "id": "lvMAlXggW4PZ",
        "outputId": "076e8e45-3473-489f-98cc-2a2de85748bf"
      },
      "execution_count": null,
      "outputs": [
        {
          "output_type": "stream",
          "name": "stdout",
          "text": [
            "enter the number which you want factorial: 5\n",
            "The factorial of given number is 120\n"
          ]
        }
      ]
    },
    {
      "cell_type": "markdown",
      "source": [
        "Q6. Create a Python program that uses `reduce()` to find the GCD (Greatest Common Divisor) of a list of numbers.\n"
      ],
      "metadata": {
        "id": "ME-vv6wuZ-u9"
      }
    },
    {
      "cell_type": "code",
      "source": [
        "x = int(input('enter the number'))\n",
        "y=int(input('enter the number'))\n",
        "for i in range(1, min(x,y)):\n",
        "  if x%i == 0 and y%i == 0:\n",
        "    hcf = i\n",
        "    # break\n",
        "print(f'hcm of given two num {x} and {y} is {hcf}')\n"
      ],
      "metadata": {
        "id": "1iIFKwNQYR2F"
      },
      "execution_count": null,
      "outputs": []
    },
    {
      "cell_type": "markdown",
      "source": [
        "Q7. Write a Python program that uses the `reduce()` function to find the sum of the digits of a given number.\n"
      ],
      "metadata": {
        "id": "u8Xxn1_newRv"
      }
    },
    {
      "cell_type": "code",
      "source": [
        "from functools import reduce\n",
        "test_list = [12,56, 98,34]\n",
        "print('The original list is: ' + str(test_list))\n",
        "res = [reduce(lambda x,y: int(x) + int(y), list(str(i))) for i in test_list]\n",
        "print('list integer summation: ' + str(res))"
      ],
      "metadata": {
        "colab": {
          "base_uri": "https://localhost:8080/"
        },
        "id": "8DdLcqhEez6N",
        "outputId": "7b92baf0-8e3e-4e1e-d03a-2341e361f1a3"
      },
      "execution_count": null,
      "outputs": [
        {
          "output_type": "stream",
          "name": "stdout",
          "text": [
            "The original list is: [12, 56, 98, 34]\n",
            "list integer summation: [3, 11, 17, 7]\n"
          ]
        }
      ]
    },
    {
      "cell_type": "markdown",
      "source": [
        "**Filter :-**"
      ],
      "metadata": {
        "id": "_G2xKtyFifxw"
      }
    },
    {
      "cell_type": "markdown",
      "source": [
        "Q1. Explain the purpose of the `filter()` function in Python and provide an example of how it can be used to filter elements from an iterable."
      ],
      "metadata": {
        "id": "rzYQC7UpikiH"
      }
    },
    {
      "cell_type": "markdown",
      "source": [
        "**filter()** :- It allows us to perform filtering operations on iterables. It is a build-in-function in python.\n",
        "The filter function can be applied to an iterable such as a list or a dictionary and create a new iterator.\n",
        "\n",
        "**purpose of filter() function** :- It allows us to filter a range of data based on criteria we define."
      ],
      "metadata": {
        "id": "LY5RDiAJjA3e"
      }
    },
    {
      "cell_type": "markdown",
      "source": [
        "Q2. Write a Python program that uses the `filter()` function to select even numbers from a list of integers."
      ],
      "metadata": {
        "id": "0n_nZZB0lBfM"
      }
    },
    {
      "cell_type": "code",
      "source": [
        "l = [2,12,3,5,8,10,6,9]\n",
        "list(filter(lambda a: a%2==0, l))"
      ],
      "metadata": {
        "colab": {
          "base_uri": "https://localhost:8080/"
        },
        "id": "VD9jLWyugfK_",
        "outputId": "71f035c3-57be-4c30-969d-e8bcd9565862"
      },
      "execution_count": null,
      "outputs": [
        {
          "output_type": "execute_result",
          "data": {
            "text/plain": [
              "[2, 12, 8, 10, 6]"
            ]
          },
          "metadata": {},
          "execution_count": 19
        }
      ]
    },
    {
      "cell_type": "markdown",
      "source": [
        "Q3. Create a Python program that uses the `filter()` function to select names that start with a specific letter from a list of strings.\n"
      ],
      "metadata": {
        "id": "cU6EiOS8mVEG"
      }
    },
    {
      "cell_type": "code",
      "source": [
        "l = ['pw', 'pwsss', 'demo', 'center', 'python']\n",
        "list(filter(lambda a: a[0]=='p', l))"
      ],
      "metadata": {
        "colab": {
          "base_uri": "https://localhost:8080/"
        },
        "id": "-HNqiDIMmOl3",
        "outputId": "2aaffa9f-4e03-4ea6-bbee-dbf1fe8314ee"
      },
      "execution_count": null,
      "outputs": [
        {
          "output_type": "execute_result",
          "data": {
            "text/plain": [
              "['pw', 'pwsss', 'python']"
            ]
          },
          "metadata": {},
          "execution_count": 20
        }
      ]
    },
    {
      "cell_type": "markdown",
      "source": [
        "Q4.Write a Python program that uses the `filter()` function to select prime numbers from a list of integers."
      ],
      "metadata": {
        "id": "QTzFhB6WnCmN"
      }
    },
    {
      "cell_type": "code",
      "source": [
        "# Define a function to check if a number is prime\n",
        "def is_prime(n):\n",
        "    if n <= 1:\n",
        "        return False\n",
        "    if n <= 3:\n",
        "        return True\n",
        "    if n % 2 == 0 or n % 3 == 0:\n",
        "        return False\n",
        "    i = 5\n",
        "    while i * i <= n:\n",
        "        if n % i == 0 or n % (i + 2) == 0:\n",
        "            return False\n",
        "        i += 6\n",
        "    return True\n",
        "\n",
        "numbers = [1, 2, 3, 4, 5, 6, 7, 8, 9, 10, 11, 12, 13, 14, 15, 16, 17]\n",
        "print(\"List of integers:\")\n",
        "print(numbers)\n",
        "\n",
        "prime_numbers = list(filter(is_prime, numbers))\n",
        "print(\"\\nExtract prime numbers of the said list:\")\n",
        "print(prime_numbers)\n"
      ],
      "metadata": {
        "colab": {
          "base_uri": "https://localhost:8080/"
        },
        "id": "9kWi7TS3m-wQ",
        "outputId": "a52334af-9fe7-494f-a1b4-9a92da287cc4"
      },
      "execution_count": null,
      "outputs": [
        {
          "output_type": "stream",
          "name": "stdout",
          "text": [
            "List of integers:\n",
            "[1, 2, 3, 4, 5, 6, 7, 8, 9, 10, 11, 12, 13, 14, 15, 16, 17]\n",
            "\n",
            "Extract prime numbers of the said list:\n",
            "[2, 3, 5, 7, 11, 13, 17]\n"
          ]
        }
      ]
    },
    {
      "cell_type": "markdown",
      "source": [
        "Q5. How can you use the `filter()` function to remove None values from a list in Python?"
      ],
      "metadata": {
        "id": "dlqoUCEyq_2L"
      }
    },
    {
      "cell_type": "code",
      "source": [
        "test_list = [1, None, 4,5,None, None, 8]\n",
        "res = list(filter(lambda i: i is not None, test_list))\n",
        "print(res)"
      ],
      "metadata": {
        "colab": {
          "base_uri": "https://localhost:8080/"
        },
        "id": "BtXRiALMrNjE",
        "outputId": "1c279630-9029-4faf-8dbf-c240a947f853"
      },
      "execution_count": null,
      "outputs": [
        {
          "output_type": "stream",
          "name": "stdout",
          "text": [
            "[1, 4, 5, 8]\n"
          ]
        }
      ]
    },
    {
      "cell_type": "markdown",
      "source": [
        "Q6. Create a Python program that uses `filter()` to select words longer than a certain length from a list of strings."
      ],
      "metadata": {
        "id": "mMav0FDOskRm"
      }
    },
    {
      "cell_type": "code",
      "source": [
        "l = ['pw', 'skill', 'center']\n",
        "list(filter(a if len(a)>len(b) else b, l))"
      ],
      "metadata": {
        "id": "Hgyh4CGjpJX9",
        "colab": {
          "base_uri": "https://localhost:8080/",
          "height": 193
        },
        "outputId": "1bcb8ee6-3611-4010-eaee-a502bf36dac5"
      },
      "execution_count": null,
      "outputs": [
        {
          "output_type": "error",
          "ename": "NameError",
          "evalue": "ignored",
          "traceback": [
            "\u001b[0;31m---------------------------------------------------------------------------\u001b[0m",
            "\u001b[0;31mNameError\u001b[0m                                 Traceback (most recent call last)",
            "\u001b[0;32m<ipython-input-1-3abfd4e56254>\u001b[0m in \u001b[0;36m<cell line: 2>\u001b[0;34m()\u001b[0m\n\u001b[1;32m      1\u001b[0m \u001b[0ml\u001b[0m \u001b[0;34m=\u001b[0m \u001b[0;34m[\u001b[0m\u001b[0;34m'pw'\u001b[0m\u001b[0;34m,\u001b[0m \u001b[0;34m'skill'\u001b[0m\u001b[0;34m,\u001b[0m \u001b[0;34m'center'\u001b[0m\u001b[0;34m]\u001b[0m\u001b[0;34m\u001b[0m\u001b[0;34m\u001b[0m\u001b[0m\n\u001b[0;32m----> 2\u001b[0;31m \u001b[0mlist\u001b[0m\u001b[0;34m(\u001b[0m\u001b[0mfilter\u001b[0m\u001b[0;34m(\u001b[0m\u001b[0ma\u001b[0m \u001b[0;32mif\u001b[0m \u001b[0mlen\u001b[0m\u001b[0;34m(\u001b[0m\u001b[0ma\u001b[0m\u001b[0;34m)\u001b[0m\u001b[0;34m>\u001b[0m \u001b[0mlen\u001b[0m\u001b[0;34m(\u001b[0m\u001b[0mb\u001b[0m\u001b[0;34m)\u001b[0m \u001b[0;32melse\u001b[0m \u001b[0mb\u001b[0m\u001b[0;34m,\u001b[0m \u001b[0ml\u001b[0m\u001b[0;34m)\u001b[0m\u001b[0;34m)\u001b[0m\u001b[0;34m\u001b[0m\u001b[0;34m\u001b[0m\u001b[0m\n\u001b[0m",
            "\u001b[0;31mNameError\u001b[0m: name 'a' is not defined"
          ]
        }
      ]
    },
    {
      "cell_type": "markdown",
      "source": [
        "Q7. Write a Python program that uses the `filter()` function to select elements greater than a specified threshold from a list of values.\n"
      ],
      "metadata": {
        "id": "0HbNRJDxd0qF"
      }
    },
    {
      "cell_type": "code",
      "source": [
        "l = ['python', 'is', 'great','language']\n",
        "print('The original list: ' + str(l))\n",
        "\n",
        "thres = 4\n",
        "res = list(filter(lambda i: len(i) >= thres, l))\n",
        "print('The above Threshold size strings are: ', res)"
      ],
      "metadata": {
        "colab": {
          "base_uri": "https://localhost:8080/"
        },
        "id": "_iswTJ7zX_WZ",
        "outputId": "e37dfedd-5830-424e-ba86-0fd1664e5a99"
      },
      "execution_count": null,
      "outputs": [
        {
          "output_type": "stream",
          "name": "stdout",
          "text": [
            "The original list: ['python', 'is', 'great', 'language']\n",
            "The above Threshold size strings are:  ['python', 'great', 'language']\n"
          ]
        }
      ]
    },
    {
      "cell_type": "markdown",
      "source": [
        "**Recursion**"
      ],
      "metadata": {
        "id": "g20Z7dtSd7n9"
      }
    },
    {
      "cell_type": "markdown",
      "source": [
        "Q1. Explain the concept of recursion in Python. How does it differ from iteration?\n"
      ],
      "metadata": {
        "id": "Dt69BjXTfksf"
      }
    },
    {
      "cell_type": "markdown",
      "source": [
        "**Recursion** :- It is a technique in which the function calls itself in its body to solve the problem, typically breaking into smaller and more manageable sub-problems.\n",
        "\n",
        "In simple terms, an iterative function is one that loops to repeat some part of the code, and a recursive function is one that calls itself again to repeat the code."
      ],
      "metadata": {
        "id": "wXaQctjbfyMN"
      }
    },
    {
      "cell_type": "markdown",
      "source": [
        "Q2. Write a Python program to calculate the factorial of a number using recursion.\n"
      ],
      "metadata": {
        "id": "Yfh753hGiNAo"
      }
    },
    {
      "cell_type": "code",
      "source": [
        "def recur_factorial(n):\n",
        "   if n == 1:\n",
        "       return n\n",
        "   else:\n",
        "       return n*recur_factorial(n-1)\n",
        "num = 7\n",
        "if num < 0:\n",
        "   print(\"Sorry, factorial does not exist for negative numbers\")\n",
        "elif num == 0:\n",
        "   print(\"The factorial of 0 is 1\")\n",
        "else:\n",
        "   print(\"The factorial of\", num, \"is\", recur_factorial(num))"
      ],
      "metadata": {
        "colab": {
          "base_uri": "https://localhost:8080/"
        },
        "id": "hiDCHfK5d82O",
        "outputId": "5ff0aa3a-11c4-4bc4-d7dc-a0ffe6354882"
      },
      "execution_count": null,
      "outputs": [
        {
          "output_type": "stream",
          "name": "stdout",
          "text": [
            "The factorial of 7 is 5040\n"
          ]
        }
      ]
    },
    {
      "cell_type": "markdown",
      "source": [
        "Q3. Create a recursive Python function to find the nth Fibonacci number.\n"
      ],
      "metadata": {
        "id": "WBN8-LPUi1uE"
      }
    },
    {
      "cell_type": "code",
      "source": [
        "def Fibonacci(n):\n",
        "  if n<=0:\n",
        "    print('Incorrect input')\n",
        "  elif n == 1:\n",
        "    return 0\n",
        "  elif n == 2:\n",
        "    return 1\n",
        "  else:\n",
        "    return Fibonacci(n-1) + Fibonacci(n-2)\n",
        "\n",
        "print(Fibonacci(10))"
      ],
      "metadata": {
        "colab": {
          "base_uri": "https://localhost:8080/"
        },
        "id": "Q5GHnPZzilkB",
        "outputId": "778e5bfc-7746-4375-92a1-736d826673d1"
      },
      "execution_count": null,
      "outputs": [
        {
          "output_type": "stream",
          "name": "stdout",
          "text": [
            "34\n"
          ]
        }
      ]
    },
    {
      "cell_type": "markdown",
      "source": [
        "Q4. Write a recursive Python function to calculate the sum of all elements in a list."
      ],
      "metadata": {
        "id": "8KFKMmfYj5rB"
      }
    },
    {
      "cell_type": "code",
      "source": [
        "def sum_arr(arr,size):\n",
        "   if (size == 0):\n",
        "     return 0\n",
        "   else:\n",
        "     return arr[size-1] + sum_arr(arr,size-1)\n",
        "n=int(input(\"Enter the number of elements for list:\"))\n",
        "a=[]\n",
        "for i in range(0,n):\n",
        "    element=int(input(\"Enter element:\"))\n",
        "    a.append(element)\n",
        "print(\"The list is:\")\n",
        "print(a)\n",
        "print(\"Sum of items in list:\")\n",
        "b=sum_arr(a,n)\n",
        "print(b)"
      ],
      "metadata": {
        "colab": {
          "base_uri": "https://localhost:8080/"
        },
        "id": "oKKx4ZiPj0t3",
        "outputId": "55da2867-8951-470a-d4a3-b38c44798e6f"
      },
      "execution_count": null,
      "outputs": [
        {
          "output_type": "stream",
          "name": "stdout",
          "text": [
            "Enter the number of elements for list:4\n",
            "Enter element:12\n",
            "Enter element:9\n",
            "Enter element:13\n",
            "Enter element:6\n",
            "The list is:\n",
            "[12, 9, 13, 6]\n",
            "Sum of items in list:\n",
            "40\n"
          ]
        }
      ]
    },
    {
      "cell_type": "markdown",
      "source": [
        "Q5. How can you prevent a recursive function from running indefinitely, causing a stack overflow error?"
      ],
      "metadata": {
        "id": "9Qi8p_y7kgCy"
      }
    },
    {
      "cell_type": "markdown",
      "source": [
        "By allocating call frames on the heap instead of the system stack, we don't get overflow until all heap memory is used. Since the heap is typically much larger than the system stack, we can have very deep recursion with no problem."
      ],
      "metadata": {
        "id": "8ohlVRZzVIbC"
      }
    },
    {
      "cell_type": "markdown",
      "source": [
        "Q6. Create a recursive Python function to find the greatest common divisor (GCD) of two numbers using the Euclidean algorithm.\n"
      ],
      "metadata": {
        "id": "w8ikRheTkpLc"
      }
    },
    {
      "cell_type": "code",
      "source": [],
      "metadata": {
        "id": "BDTu6uR1ksBw"
      },
      "execution_count": null,
      "outputs": []
    },
    {
      "cell_type": "markdown",
      "source": [
        "Q7. Write a recursive Python function to reverse a string.\n"
      ],
      "metadata": {
        "id": "CFw1C6Dmktc-"
      }
    },
    {
      "cell_type": "code",
      "source": [
        "def reverse(string):\n",
        "  if len(string) == 0:\n",
        "    return string\n",
        "  else:\n",
        "    return reverse(string[1:]) + string[0]\n",
        "\n",
        "a = str(input('enter a string: '))\n",
        "print('reversed string: ', reverse(a))"
      ],
      "metadata": {
        "colab": {
          "base_uri": "https://localhost:8080/"
        },
        "id": "4jpEz3l_kwR9",
        "outputId": "9bf63e03-c1cc-4be8-dba9-85013e15f40a"
      },
      "execution_count": null,
      "outputs": [
        {
          "output_type": "stream",
          "name": "stdout",
          "text": [
            "enter a string: pwskill\n",
            "reversed string:  llikswp\n"
          ]
        }
      ]
    },
    {
      "cell_type": "markdown",
      "source": [
        "Q8. Create a recursive Python function to calculate the power of a number (x^n).\n"
      ],
      "metadata": {
        "id": "DoIos3nEkxIu"
      }
    },
    {
      "cell_type": "code",
      "source": [
        "def power(a, b):\n",
        "    if b != 0:\n",
        "        return a * power(a, b - 1)\n",
        "    else:\n",
        "        return 1\n",
        "a = 4\n",
        "b = 3\n",
        "print(a, \"to the power\", b, \"is\", power(a, b))"
      ],
      "metadata": {
        "colab": {
          "base_uri": "https://localhost:8080/"
        },
        "id": "95WEPB_ok0A3",
        "outputId": "7304586b-0eeb-4e49-9d7c-afb1d6b74971"
      },
      "execution_count": null,
      "outputs": [
        {
          "output_type": "stream",
          "name": "stdout",
          "text": [
            "4 to the power 3 is 64\n"
          ]
        }
      ]
    },
    {
      "cell_type": "markdown",
      "source": [
        "Q9. Write a recursive Python function to find all permutations of a given string."
      ],
      "metadata": {
        "id": "l_viS7upk0n1"
      }
    },
    {
      "cell_type": "code",
      "source": [
        "def swap(ch, i, j):\n",
        "    temp = ch[i]\n",
        "    ch[i] = ch[j]\n",
        "    ch[j] = temp\n",
        "\n",
        "def permutations(ch, curr_index=0):\n",
        "    if curr_index == len(ch) - 1:\n",
        "        print(''.join(ch))\n",
        "    for i in range(curr_index, len(ch)):\n",
        "        swap(ch, curr_index, i)\n",
        "        permutations(ch, curr_index + 1)\n",
        "        swap(ch, curr_index, i)\n",
        "\n",
        "if __name__ == '__main__':\n",
        "    s = 'ABC'\n",
        "    permutations(list(s))"
      ],
      "metadata": {
        "colab": {
          "base_uri": "https://localhost:8080/"
        },
        "id": "5OGvfrhQk3IQ",
        "outputId": "c1ed9107-9e16-4a77-f016-b5491ab3c3aa"
      },
      "execution_count": null,
      "outputs": [
        {
          "output_type": "stream",
          "name": "stdout",
          "text": [
            "ABC\n",
            "ACB\n",
            "BAC\n",
            "BCA\n",
            "CBA\n",
            "CAB\n"
          ]
        }
      ]
    },
    {
      "cell_type": "markdown",
      "source": [
        "Q10. Write a recursive Python function to check if a string is a palindrome.\n"
      ],
      "metadata": {
        "id": "WxZWzSoSk3rh"
      }
    },
    {
      "cell_type": "code",
      "source": [
        "def is_palindrome(s):\n",
        "    if len(s) < 1:\n",
        "        return True\n",
        "    else:\n",
        "        if s[0] == s[-1]:\n",
        "            return is_palindrome(s[1:-1])\n",
        "        else:\n",
        "            return False\n",
        "a=str(input(\"Enter string:\"))\n",
        "if(is_palindrome(a)==True):\n",
        "    print(\"String is a palindrome!\")\n",
        "else:\n",
        "    print(\"String isn't a palindrome!\")"
      ],
      "metadata": {
        "colab": {
          "base_uri": "https://localhost:8080/"
        },
        "id": "bwy1kPsNk6E9",
        "outputId": "9fa8e11f-27d4-48db-a595-b3c931d9becb"
      },
      "execution_count": null,
      "outputs": [
        {
          "output_type": "stream",
          "name": "stdout",
          "text": [
            "Enter string:tej\n",
            "String isn't a palindrome!\n"
          ]
        }
      ]
    },
    {
      "cell_type": "markdown",
      "source": [
        "Q11. Create a recursive Python function to generate all possible combinations of a list of elements.\n"
      ],
      "metadata": {
        "id": "nqWkDDrrk6i1"
      }
    },
    {
      "cell_type": "code",
      "source": [
        "test_list = [4, 5, 6, 7, 3, 8]\n",
        "\n",
        "# printing original list\n",
        "print(\"The original list is : \" + str(test_list))\n",
        "\n",
        "def get_combinations(lst, n):\n",
        "\tif n == 0:\n",
        "\t\treturn [[]]\n",
        "\telse:\n",
        "\t\treturn [ for i in range(len(lst) - n + 1) for c in get_combinations(lst[i+1:], n-1)]\n",
        "\n",
        "res = [tuple(c) for i in range(1, 4) for c in get_combinations(test_list, i)]\n",
        "print(\"The combinations of elements till length N : \" + str(res))"
      ],
      "metadata": {
        "colab": {
          "base_uri": "https://localhost:8080/",
          "height": 141
        },
        "id": "d0YTnSeuk81V",
        "outputId": "d9e78622-17bb-429f-f3fb-c5f4512cc8d7"
      },
      "execution_count": null,
      "outputs": [
        {
          "output_type": "error",
          "ename": "SyntaxError",
          "evalue": "ignored",
          "traceback": [
            "\u001b[0;36m  File \u001b[0;32m\"<ipython-input-23-ade0bf18b3a3>\"\u001b[0;36m, line \u001b[0;32m13\u001b[0m\n\u001b[0;31m    return [ for i in range(len(lst) - n + 1) for c in get_combinations(lst[i+1:], n-1)]\u001b[0m\n\u001b[0m             ^\u001b[0m\n\u001b[0;31mSyntaxError\u001b[0m\u001b[0;31m:\u001b[0m invalid syntax\n"
          ]
        }
      ]
    },
    {
      "cell_type": "markdown",
      "source": [
        "**Basic Of Functions**"
      ],
      "metadata": {
        "id": "FFuNbkR6quPt"
      }
    },
    {
      "cell_type": "markdown",
      "source": [
        "Q1. What is a function in Python, and why is it used?\n"
      ],
      "metadata": {
        "id": "ZMp51JClq5lw"
      }
    },
    {
      "cell_type": "markdown",
      "source": [
        "**function in python** :- It is a block of code which only runs when it is called. we can pass data, known as parameters, into a function.\n",
        "\n",
        "**uses**: It makes a program more readable."
      ],
      "metadata": {
        "id": "oe1S2eQTrSAE"
      }
    },
    {
      "cell_type": "markdown",
      "source": [
        "Q2. How do you define a function in Python? Provide an example."
      ],
      "metadata": {
        "id": "c_owTzLKrp4C"
      }
    },
    {
      "cell_type": "markdown",
      "source": [
        "In python, we define a function with the def keyword, then write the function identifier(name) followed by parentheses and colon.\n",
        "\n",
        "eg. of function defination."
      ],
      "metadata": {
        "id": "LLq5fIHhtRT2"
      }
    },
    {
      "cell_type": "code",
      "source": [
        "def myfunction():\n",
        "    print(\"Hello World\")\n",
        "myfunction()"
      ],
      "metadata": {
        "colab": {
          "base_uri": "https://localhost:8080/"
        },
        "id": "n8Pn-ayWpK-r",
        "outputId": "d387e425-cd9b-4892-f1fb-975ef2e238ad"
      },
      "execution_count": null,
      "outputs": [
        {
          "output_type": "stream",
          "name": "stdout",
          "text": [
            "Hello World\n"
          ]
        }
      ]
    },
    {
      "cell_type": "markdown",
      "source": [
        "Q3. Explain the difference between a function definition and a function call.\n"
      ],
      "metadata": {
        "id": "XDHf5ktm0n2u"
      }
    },
    {
      "cell_type": "markdown",
      "source": [
        "**function defination** :- A function is a block of code that define the function code.\n",
        "\n",
        "**function call** :- used to call the defined function."
      ],
      "metadata": {
        "id": "P0wOXOcx1YYS"
      }
    },
    {
      "cell_type": "markdown",
      "source": [
        "Q4.Write a Python program that defines a function to calculate the sum of two numbers and then calls the function.\n"
      ],
      "metadata": {
        "id": "5DZ3-Nb01zmT"
      }
    },
    {
      "cell_type": "code",
      "source": [
        "def sum(a,b):\n",
        "  return a + b\n",
        "num1 = int(input('enter the first number: '))\n",
        "num2 = int(input('enter the second number: '))\n",
        "print(sum(num1,num2))"
      ],
      "metadata": {
        "colab": {
          "base_uri": "https://localhost:8080/"
        },
        "id": "cHMJNfmF0dil",
        "outputId": "9db70311-c570-4a20-f594-805207826ad8"
      },
      "execution_count": null,
      "outputs": [
        {
          "output_type": "stream",
          "name": "stdout",
          "text": [
            "enter the first number: 12\n",
            "enter the second number: 6\n",
            "18\n"
          ]
        }
      ]
    },
    {
      "cell_type": "markdown",
      "source": [
        "Q5. What is a function signature, and what information does it typically include?\n"
      ],
      "metadata": {
        "id": "dK8OizOt2gsh"
      }
    },
    {
      "cell_type": "markdown",
      "source": [
        "**Function signature** :- It defines input and output of functions or methods.\n",
        "\n",
        "**signature includes**:\n",
        "1. Parameters and their types\n",
        "2. a return value and type\n",
        "3. exceptions that might be thrown or passed back\n",
        "4. information about the availability of the method in an object-oriented program."
      ],
      "metadata": {
        "id": "82ZwRLAD3RQp"
      }
    },
    {
      "cell_type": "markdown",
      "source": [
        "Q6. Create a Python function that takes two arguments and returns their product.\n"
      ],
      "metadata": {
        "id": "hlHJgtke3wcC"
      }
    },
    {
      "cell_type": "code",
      "source": [
        "def product(a, b):\n",
        "  return a*b\n",
        "num1 = int(input('enter the first number: '))\n",
        "num2 = int(input('enter the second number: '))\n",
        "print('product of two numbers is', product(num1, num2))"
      ],
      "metadata": {
        "colab": {
          "base_uri": "https://localhost:8080/"
        },
        "id": "nXHvQGto2F6U",
        "outputId": "131b91fd-8092-41ca-a37d-da0cb7ef75f1"
      },
      "execution_count": null,
      "outputs": [
        {
          "output_type": "stream",
          "name": "stdout",
          "text": [
            "enter the first number: 12\n",
            "enter the second number: 3\n",
            "product of two numbers is 36\n"
          ]
        }
      ]
    },
    {
      "cell_type": "markdown",
      "source": [
        "**Function Parameters and Arguments:**"
      ],
      "metadata": {
        "id": "zGQLZUdJ4mX0"
      }
    },
    {
      "cell_type": "markdown",
      "source": [
        "Q1. Explain the concepts of formal parameters and actual arguments in Python functions.\n"
      ],
      "metadata": {
        "id": "2-nhk2wL5ed5"
      }
    },
    {
      "cell_type": "markdown",
      "source": [
        "**Formal Paramaters**:- 1. Define when the function is called.\n",
        "2. They will be in the called function.\n",
        "3. The data type must be included.\n",
        "\n",
        "**Actual Parameters**:- 1. Defined when it is invoked.\n",
        "2. passed on calling a function.\n",
        "3. Data types will not be mentioned."
      ],
      "metadata": {
        "id": "HxkHO9xZ6IRZ"
      }
    },
    {
      "cell_type": "markdown",
      "source": [
        "Q2. Write a Python program that defines a function with default argument values."
      ],
      "metadata": {
        "id": "84oluABj73LD"
      }
    },
    {
      "cell_type": "code",
      "source": [
        "def default(firstname = 'tejas', lastname= 'bhosale'):\n",
        "  print(firstname, lastname)\n",
        "default()"
      ],
      "metadata": {
        "colab": {
          "base_uri": "https://localhost:8080/"
        },
        "id": "kK53NVhV4TZI",
        "outputId": "b0a5d4c2-f1e2-45fc-ac8a-e81656dd1714"
      },
      "execution_count": null,
      "outputs": [
        {
          "output_type": "stream",
          "name": "stdout",
          "text": [
            "tejas bhosale\n"
          ]
        }
      ]
    },
    {
      "cell_type": "markdown",
      "source": [
        "Q3. How do you use keyword arguments in Python function calls? Provide an example.\n"
      ],
      "metadata": {
        "id": "hLa2bF31-6A3"
      }
    },
    {
      "cell_type": "markdown",
      "source": [
        "With keyword arguments, as long as you assign a value to the parameter, the positions of the arguments do not matter. However, they do have to come after positional arguments and before default/optional arguments in a function call."
      ],
      "metadata": {
        "id": "8KePegyhAe4C"
      }
    },
    {
      "cell_type": "markdown",
      "source": [
        "Q4. Create a Python function that accepts a variable number of arguments and calculates their sum.\n"
      ],
      "metadata": {
        "id": "S2hRk5oikPA9"
      }
    },
    {
      "cell_type": "code",
      "source": [
        "def add_num(*args):\n",
        "  sum = 0\n",
        "  for i in args:\n",
        "    sum += i\n",
        "  return sum\n",
        "result = add_num(23,21,4,6,7)\n",
        "print('sum is', result)"
      ],
      "metadata": {
        "colab": {
          "base_uri": "https://localhost:8080/"
        },
        "id": "nNQ1cjkf-bi2",
        "outputId": "187f40b6-da52-4f9f-ac57-d795d52bfd86"
      },
      "execution_count": null,
      "outputs": [
        {
          "output_type": "stream",
          "name": "stdout",
          "text": [
            "sum is 61\n"
          ]
        }
      ]
    },
    {
      "cell_type": "markdown",
      "source": [
        "Q5. What is the purpose of the `*args` and `**kwargs` syntax in function parameter lists?\n"
      ],
      "metadata": {
        "id": "MEBx8ftZly9v"
      }
    },
    {
      "cell_type": "markdown",
      "source": [
        "*args :- It passes variable number of non-keyworded arguments and on which operation of the tuple can be performed.\n",
        "\n",
        "**kwargs :- It passes variable number of keyword arguments dictionary to function on which operation of a dictionary can be performed."
      ],
      "metadata": {
        "id": "JDLYzHEIl6M-"
      }
    },
    {
      "cell_type": "markdown",
      "source": [
        "**Return Values and Scoping:**"
      ],
      "metadata": {
        "id": "xTnEyOuRmx-q"
      }
    },
    {
      "cell_type": "markdown",
      "source": [
        "Q1. Describe the role of the `return` statement in Python functions and provide examples.\n"
      ],
      "metadata": {
        "id": "L4S_4Dfgm825"
      }
    },
    {
      "cell_type": "markdown",
      "source": [
        "**return statement** is used to end the execution of the function call and 'returns' the result to the caller.\n",
        "The statements after the return statements are not executed. If the ruturn statement is without any expression, then the special value NOne is returned.\n",
        "A return statement is overall used to invoke a function so that the passed statements can be executed."
      ],
      "metadata": {
        "id": "NHCRcp7UEnPq"
      }
    },
    {
      "cell_type": "markdown",
      "source": [
        "Q2. Explain the concept of variable scope in Python, including local and global variables.\n"
      ],
      "metadata": {
        "id": "N6d_HSM1nG7M"
      }
    },
    {
      "cell_type": "markdown",
      "source": [
        "**Variable Scope** :- It refers to the accessibility of a variable in a given program or function.\n",
        "\n",
        "**Global Varible** :- This are 'declared' outside of the functions in a program and can be accessed by any of the function.\n",
        "\n",
        "**Local Variable** :- This are declared inside a specific function and can only be accessed by the function in which it is declared."
      ],
      "metadata": {
        "id": "ANh9t_GFKpph"
      }
    },
    {
      "cell_type": "markdown",
      "source": [
        "Q3. Write a Python program that demonstrates the use of global variables within functions.\n"
      ],
      "metadata": {
        "id": "a2acUrXmnMMG"
      }
    },
    {
      "cell_type": "code",
      "source": [
        "num = 12 #global variable\n",
        "def variable():\n",
        "  print(num) #printing global variable in function.\n",
        "variable()"
      ],
      "metadata": {
        "id": "iY8b2S4NnQcY",
        "colab": {
          "base_uri": "https://localhost:8080/"
        },
        "outputId": "d6fac549-8cc0-413d-8155-29d054a1f632"
      },
      "execution_count": null,
      "outputs": [
        {
          "output_type": "stream",
          "name": "stdout",
          "text": [
            "12\n"
          ]
        }
      ]
    },
    {
      "cell_type": "markdown",
      "source": [
        "Q4. Create a Python function that calculates the factorial of a number and returns it.\n"
      ],
      "metadata": {
        "id": "alWpQbMEnRE0"
      }
    },
    {
      "cell_type": "code",
      "source": [
        "def factorial_num(n):\n",
        "  factorial = 1\n",
        "  for i in range(2, n+1):\n",
        "    factorial = factorial * i\n",
        "  return factorial\n",
        "num = int(input('enter the number: '))\n",
        "print('factorial of given number is',factorial_num(num))"
      ],
      "metadata": {
        "id": "NMDbP9B3nUe0",
        "colab": {
          "base_uri": "https://localhost:8080/"
        },
        "outputId": "f021a414-affa-4320-d902-bbcd90be9128"
      },
      "execution_count": null,
      "outputs": [
        {
          "output_type": "stream",
          "name": "stdout",
          "text": [
            "enter the number: 5\n",
            "factorial of given number is 120\n"
          ]
        }
      ]
    },
    {
      "cell_type": "markdown",
      "source": [
        "Q5. How can you access variables defined outside a function from within the function?\n"
      ],
      "metadata": {
        "id": "wliN1XGcnVOt"
      }
    },
    {
      "cell_type": "markdown",
      "source": [
        "Variables declared outside a function are known as **global variables**. We can access such variables inside and outside of a function,as they have global scope.\n",
        "\n",
        "below is an example of a global variable."
      ],
      "metadata": {
        "id": "ng35HyUvUktc"
      }
    },
    {
      "cell_type": "code",
      "source": [
        "x = 10\n",
        "def show():\n",
        "  print('The value of x is', x)\n",
        "show()"
      ],
      "metadata": {
        "id": "c9RAsd-qnYv6",
        "colab": {
          "base_uri": "https://localhost:8080/"
        },
        "outputId": "cc2623c2-98e2-42da-b6ae-6e6b076f2700"
      },
      "execution_count": null,
      "outputs": [
        {
          "output_type": "stream",
          "name": "stdout",
          "text": [
            "The value of x is 10\n"
          ]
        }
      ]
    },
    {
      "cell_type": "markdown",
      "source": [
        "**Lambda Functions and Higher-Order Functions:**"
      ],
      "metadata": {
        "id": "Yhpnfs4gncGc"
      }
    },
    {
      "cell_type": "markdown",
      "source": [
        "Q1. What are lambda functions in Python, and when are they typically used?\n"
      ],
      "metadata": {
        "id": "zHLk-pUPVNJo"
      }
    },
    {
      "cell_type": "markdown",
      "source": [
        "**Python Lambda functions** are anonymous function means that the function is without a name.\n",
        "\n",
        "\n",
        "**Lambda functions** are efficient whenever we want to create a function that will only contain simple expressions.\n",
        "\n"
      ],
      "metadata": {
        "id": "iw78xGWPVWCl"
      }
    },
    {
      "cell_type": "markdown",
      "source": [
        "Q2. Write a Python program that uses lambda functions to sort a list of tuples based on the second element"
      ],
      "metadata": {
        "id": "e0mEODUnnnZM"
      }
    },
    {
      "cell_type": "code",
      "source": [
        "subject_marks = [('English', 88), ('Science', 90), ('Maths', 97), ('Social sciences', 82)]\n",
        "print(\"Original list of tuples:\")\n",
        "print(subject_marks)\n",
        "subject_marks.sort(key = lambda x: x[1])\n",
        "print(\"\\nSorting the List of Tuples:\")\n",
        "print(subject_marks)"
      ],
      "metadata": {
        "colab": {
          "base_uri": "https://localhost:8080/"
        },
        "id": "c9hRT0Y7W003",
        "outputId": "aa045359-5c2d-4ca1-ae34-58b745c5381f"
      },
      "execution_count": null,
      "outputs": [
        {
          "output_type": "stream",
          "name": "stdout",
          "text": [
            "Original list of tuples:\n",
            "[('English', 88), ('Science', 90), ('Maths', 97), ('Social sciences', 82)]\n",
            "\n",
            "Sorting the List of Tuples:\n",
            "[('Social sciences', 82), ('English', 88), ('Science', 90), ('Maths', 97)]\n"
          ]
        }
      ]
    },
    {
      "cell_type": "markdown",
      "source": [
        "Q3. Explain the concept of higher-order functions in Python, and provide an example."
      ],
      "metadata": {
        "id": "TsEKERtrW3O_"
      }
    },
    {
      "cell_type": "markdown",
      "source": [
        "**Higher-order functions** :- This are functions that take a function as a parameter and return a function as an output.\n",
        "A function in python with another function as an argument or returns a function as an output.\n",
        "\n",
        "**useful higher-order functions** are map(), filter(), and reduce().\n",
        "\n",
        "below is an example of higher-order functions."
      ],
      "metadata": {
        "id": "aCCFJNBJa_B1"
      }
    },
    {
      "cell_type": "code",
      "source": [
        "num = [1,24,6,8]\n",
        "square = map(lambda x : x**2, num)\n",
        "print(list(square))"
      ],
      "metadata": {
        "colab": {
          "base_uri": "https://localhost:8080/"
        },
        "id": "0MhJGIsfW69p",
        "outputId": "ecd9148a-0fad-4b32-c08a-41cb2d2b2cba"
      },
      "execution_count": null,
      "outputs": [
        {
          "output_type": "stream",
          "name": "stdout",
          "text": [
            "[1, 576, 36, 64]\n"
          ]
        }
      ]
    },
    {
      "cell_type": "markdown",
      "source": [
        "Q4. Create a Python function that takes a list of numbers and a function as arguments, applying the function to each element in the list.\n"
      ],
      "metadata": {
        "id": "_WJ5KvKdW7ly"
      }
    },
    {
      "cell_type": "code",
      "source": [],
      "metadata": {
        "id": "RX38IBfaW992"
      },
      "execution_count": null,
      "outputs": []
    },
    {
      "cell_type": "markdown",
      "source": [
        "**Built-in Functions :-**"
      ],
      "metadata": {
        "id": "1zzFpoV9W_Gb"
      }
    },
    {
      "cell_type": "markdown",
      "source": [
        "Q1.Describe the role of built-in functions like `len()`, `max()`, and `min()` in Python.\n"
      ],
      "metadata": {
        "id": "m025pWRKXGNM"
      }
    },
    {
      "cell_type": "markdown",
      "source": [
        "**len()** : used to print the length of string.\n",
        "\n",
        "**max()** :- returns the item with the highest value or the item with the highest value in an iterable.\n",
        "\n",
        "**min()** :- returns the item with the lowest value or the item with the lowest value in an iterable."
      ],
      "metadata": {
        "id": "ZA46H_LdXJrk"
      }
    },
    {
      "cell_type": "markdown",
      "source": [
        "Q2. Write a Python program that uses the `map()` function to apply a function to each element of a list.\n"
      ],
      "metadata": {
        "id": "GcqfACvCXLLQ"
      }
    },
    {
      "cell_type": "code",
      "source": [
        "num = [1,2,4,5]\n",
        "def square(x):\n",
        "  return x*x\n",
        "list(map(square, num))"
      ],
      "metadata": {
        "colab": {
          "base_uri": "https://localhost:8080/"
        },
        "id": "S8tl6ugkXItd",
        "outputId": "1708bc8d-9704-4332-f71d-cb914862a07c"
      },
      "execution_count": null,
      "outputs": [
        {
          "output_type": "execute_result",
          "data": {
            "text/plain": [
              "[1, 4, 16, 25]"
            ]
          },
          "metadata": {},
          "execution_count": 12
        }
      ]
    },
    {
      "cell_type": "markdown",
      "source": [
        "Q3. How does the `filter()` function work in Python, and when would you use it?\n"
      ],
      "metadata": {
        "id": "JDhwSD8FXZfY"
      }
    },
    {
      "cell_type": "markdown",
      "source": [
        "**filter()** :- It works on each element of the iterable and tests whether the returned value is true or false. The output sequence will contain all those elements of the iterable for which the function has returned True.\n",
        "\n",
        "**use cases** :- It is used to filter out the specific element from the list."
      ],
      "metadata": {
        "id": "OoLeE3HLhcIb"
      }
    },
    {
      "cell_type": "markdown",
      "source": [
        "Q4. Create a Python program that uses the `reduce()` function to find the product of all elements in a list."
      ],
      "metadata": {
        "id": "rA1o_YFJXnEF"
      }
    },
    {
      "cell_type": "code",
      "source": [
        "from functools import reduce\n",
        "l = [1,2, 4,5, 8]\n",
        "print('The product of all element in list', reduce(lambda a,b : a*b, l))"
      ],
      "metadata": {
        "colab": {
          "base_uri": "https://localhost:8080/"
        },
        "id": "EOIhwXVXXpvw",
        "outputId": "62b1f525-798f-4bc5-b26e-674abb3cb960"
      },
      "execution_count": null,
      "outputs": [
        {
          "output_type": "stream",
          "name": "stdout",
          "text": [
            "the product of all element in list 320\n"
          ]
        }
      ]
    },
    {
      "cell_type": "markdown",
      "source": [
        "**Function Documentation and Best Practices :-**"
      ],
      "metadata": {
        "id": "JAh9vwOHXqaX"
      }
    },
    {
      "cell_type": "markdown",
      "source": [
        "Q1. Explain the purpose of docstrings in Python functions and how to write them.\n"
      ],
      "metadata": {
        "id": "_m0eG5JZXy5C"
      }
    },
    {
      "cell_type": "markdown",
      "source": [
        "**Docstrings** :- python documentation strings provide a convenient way of associating documentation with python modules, functions, classes, and methods.\n",
        "It's specified in source code that is used, like a comment, to document a specific segment of code.\n",
        "\n",
        "**Declaring docstrings** : The docstring are declared using '''triple single quotes''' or \"\"\"triple double quotes\"\"\""
      ],
      "metadata": {
        "id": "ZRM8xiyQxluO"
      }
    },
    {
      "cell_type": "markdown",
      "source": [
        "Q2. Describe some best practices for naming functions and variables in Python, including naming conventions and guidelines.\n"
      ],
      "metadata": {
        "id": "5uhZ4SGzX1nz"
      }
    },
    {
      "cell_type": "markdown",
      "source": [
        "**Functions** and **Variables** are easy for understanding and implementing.\n",
        "\n",
        "A **variable** name must start with a letter or the underscore character. A variable name cannot start with a number.\n",
        "A **variable** name can only contain alpha-numeric characters and underscores (A-z, 0-9, and _ ) Variable names are case-sensitive (age, Age and AGE are three different variables)"
      ],
      "metadata": {
        "id": "7bclmnlAMzhh"
      }
    },
    {
      "cell_type": "code",
      "source": [],
      "metadata": {
        "id": "CXhgA44rX6u_"
      },
      "execution_count": null,
      "outputs": []
    }
  ]
}