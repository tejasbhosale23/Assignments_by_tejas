{
  "nbformat": 4,
  "nbformat_minor": 0,
  "metadata": {
    "colab": {
      "provenance": [],
      "authorship_tag": "ABX9TyPAdx61NuQieis7dOWksyoy",
      "include_colab_link": true
    },
    "kernelspec": {
      "name": "python3",
      "display_name": "Python 3"
    },
    "language_info": {
      "name": "python"
    }
  },
  "cells": [
    {
      "cell_type": "markdown",
      "metadata": {
        "id": "view-in-github",
        "colab_type": "text"
      },
      "source": [
        "<a href=\"https://colab.research.google.com/github/tejasbhosalepw/Assignments_by_tejas/blob/main/Assignment_Python_For_Loop_2_9_23.ipynb\" target=\"_parent\"><img src=\"https://colab.research.google.com/assets/colab-badge.svg\" alt=\"Open In Colab\"/></a>"
      ]
    },
    {
      "cell_type": "markdown",
      "source": [
        "Basic Level"
      ],
      "metadata": {
        "id": "JANK9E1Fji-G"
      }
    },
    {
      "cell_type": "markdown",
      "source": [
        "1.. Write a Python program to print the numbers from 1 to 10 using a `for` loop."
      ],
      "metadata": {
        "id": "Yx5k4kb_jvB7"
      }
    },
    {
      "cell_type": "code",
      "source": [
        "for i in range(0,11):\n",
        "  print(i)"
      ],
      "metadata": {
        "colab": {
          "base_uri": "https://localhost:8080/"
        },
        "id": "7CD_czM_jraV",
        "outputId": "077f7aa6-b66f-483d-d88d-eba60a24188e"
      },
      "execution_count": null,
      "outputs": [
        {
          "output_type": "stream",
          "name": "stdout",
          "text": [
            "0\n",
            "1\n",
            "2\n",
            "3\n",
            "4\n",
            "5\n",
            "6\n",
            "7\n",
            "8\n",
            "9\n",
            "10\n"
          ]
        }
      ]
    },
    {
      "cell_type": "markdown",
      "source": [
        "Q2. Create a program that calculates the sum of all numbers in a list using a `for` loop."
      ],
      "metadata": {
        "id": "zanFzIhvj-Ey"
      }
    },
    {
      "cell_type": "code",
      "source": [
        "l = [2,3,4,5]\n",
        "sum = 0\n",
        "for i in l:\n",
        "  sum = sum + i\n",
        "print(sum)"
      ],
      "metadata": {
        "colab": {
          "base_uri": "https://localhost:8080/"
        },
        "id": "rTBEUyubj5nL",
        "outputId": "cf549c20-c86d-4839-cc9a-2088b33d3a1a"
      },
      "execution_count": null,
      "outputs": [
        {
          "output_type": "stream",
          "name": "stdout",
          "text": [
            "14\n"
          ]
        }
      ]
    },
    {
      "cell_type": "markdown",
      "source": [
        "Q3. Write a program to print the characters of a string in reverse order using a `for` loop."
      ],
      "metadata": {
        "id": "eN2Bbf_2nuQy"
      }
    },
    {
      "cell_type": "code",
      "source": [
        "character = input('enter the string character: ')\n",
        "s1 = ''\n",
        "for i in character:\n",
        "  s1 = character[::-1]\n",
        "print(s1)\n"
      ],
      "metadata": {
        "colab": {
          "base_uri": "https://localhost:8080/"
        },
        "id": "bWp6GQKekOwZ",
        "outputId": "95992cfe-bc64-4bb3-8b08-51ac7174e262"
      },
      "execution_count": null,
      "outputs": [
        {
          "output_type": "stream",
          "name": "stdout",
          "text": [
            "enter the string character: tejas\n",
            "sajet\n"
          ]
        }
      ]
    },
    {
      "cell_type": "markdown",
      "source": [
        "Q4. Develop a program that finds the factorial of a given number using a `for` loop."
      ],
      "metadata": {
        "id": "2GQ_XO2tos3g"
      }
    },
    {
      "cell_type": "code",
      "source": [
        "factorial = 1\n",
        "num = int(input('enter the number which you want factorial: '))\n",
        "for i in range(1, num+1):\n",
        "  factorial = factorial * i\n",
        "print(factorial)"
      ],
      "metadata": {
        "colab": {
          "base_uri": "https://localhost:8080/"
        },
        "id": "H-eidhqtoXbx",
        "outputId": "533fdc8b-734d-473c-c640-af1179165e08"
      },
      "execution_count": null,
      "outputs": [
        {
          "output_type": "stream",
          "name": "stdout",
          "text": [
            "enter the number which you want factorial: 10\n",
            "3628800\n"
          ]
        }
      ]
    },
    {
      "cell_type": "markdown",
      "source": [
        "Q5. Create a program to print the multiplication table of a given number using a `for` loop."
      ],
      "metadata": {
        "id": "5dBegD1fpfCK"
      }
    },
    {
      "cell_type": "code",
      "source": [
        "num = int(input('enter the number which you want multiplication table: '))\n",
        "for i in range(1,11):\n",
        "  print(f'{num} X {i} = {num*i}')"
      ],
      "metadata": {
        "colab": {
          "base_uri": "https://localhost:8080/"
        },
        "id": "2wGgq3RspRKv",
        "outputId": "70a80e38-93a0-496d-e406-220dda1b1546"
      },
      "execution_count": null,
      "outputs": [
        {
          "output_type": "stream",
          "name": "stdout",
          "text": [
            "enter the number which you want multiplication table: 5\n",
            "5 X 1 = 5\n",
            "5 X 2 = 10\n",
            "5 X 3 = 15\n",
            "5 X 4 = 20\n",
            "5 X 5 = 25\n",
            "5 X 6 = 30\n",
            "5 X 7 = 35\n",
            "5 X 8 = 40\n",
            "5 X 9 = 45\n",
            "5 X 10 = 50\n"
          ]
        }
      ]
    },
    {
      "cell_type": "markdown",
      "source": [
        "Q6.Write a program that counts the number of even and odd numbers in a list using a `for` loop."
      ],
      "metadata": {
        "id": "mKUxax9JqiCM"
      }
    },
    {
      "cell_type": "code",
      "source": [
        "l = [3,5,7,9,4,6,8]\n",
        "count_even = 0\n",
        "count_odd = 0\n",
        "for i in l:\n",
        "  if i%2 == 0:\n",
        "    count_even += 1\n",
        "  else:\n",
        "    count_odd += 1\n",
        "print('odd number in list is', count_odd)\n",
        "print('even number in list is', count_even)"
      ],
      "metadata": {
        "colab": {
          "base_uri": "https://localhost:8080/"
        },
        "id": "XIUWerGHqd-b",
        "outputId": "bd3374c1-f136-41f9-f271-438f9b4237a1"
      },
      "execution_count": null,
      "outputs": [
        {
          "output_type": "stream",
          "name": "stdout",
          "text": [
            "odd number in list is 4\n",
            "even number in list is 3\n"
          ]
        }
      ]
    },
    {
      "cell_type": "markdown",
      "source": [
        "Q7. Develop a program that prints the squares of numbers from 1 to 5 using a `for` loop"
      ],
      "metadata": {
        "id": "_SvZI_ypuffD"
      }
    },
    {
      "cell_type": "code",
      "source": [
        "square = []\n",
        "for i in range(0,6):\n",
        "  square.append(i**2)\n",
        "print(square)"
      ],
      "metadata": {
        "colab": {
          "base_uri": "https://localhost:8080/"
        },
        "id": "8jJBMMeBrjkn",
        "outputId": "d0cc364e-bcea-4be6-d6c0-3a38a983e138"
      },
      "execution_count": null,
      "outputs": [
        {
          "output_type": "stream",
          "name": "stdout",
          "text": [
            "[0, 1, 4, 9, 16, 25]\n"
          ]
        }
      ]
    },
    {
      "cell_type": "markdown",
      "source": [
        "Q8. Create a program to find the length of a string without using the `len()` function"
      ],
      "metadata": {
        "id": "-Vp1cQP71biE"
      }
    },
    {
      "cell_type": "code",
      "source": [
        "string = input('enter the string: ')\n",
        "count = 0\n",
        "for i in string:\n",
        "  count += 1\n",
        "print('length of given string is',count)"
      ],
      "metadata": {
        "colab": {
          "base_uri": "https://localhost:8080/"
        },
        "id": "PT78ajy3utYL",
        "outputId": "98e00831-6264-4f28-e80c-64841c740301"
      },
      "execution_count": null,
      "outputs": [
        {
          "output_type": "stream",
          "name": "stdout",
          "text": [
            "enter the string: tejas\n",
            "length of given string is 5\n"
          ]
        }
      ]
    },
    {
      "cell_type": "markdown",
      "source": [
        "Q9. Write a program that calculates the average of a list of numbers using a `for` loop."
      ],
      "metadata": {
        "id": "iM_Nup1U3w00"
      }
    },
    {
      "cell_type": "code",
      "source": [
        "l = [18,32,56,54]\n",
        "sum = 0\n",
        "for i in l:\n",
        "  sum += i\n",
        "avg = sum/len(l)\n",
        "print(avg)"
      ],
      "metadata": {
        "colab": {
          "base_uri": "https://localhost:8080/"
        },
        "id": "auUVS6gf2dVc",
        "outputId": "c1352271-352c-4a9d-ef17-8938a1536983"
      },
      "execution_count": null,
      "outputs": [
        {
          "output_type": "stream",
          "name": "stdout",
          "text": [
            "40.0\n"
          ]
        }
      ]
    },
    {
      "cell_type": "markdown",
      "source": [
        "Q10. Develop a program that prints the first `n` Fibonacci numbers using a `for` loop."
      ],
      "metadata": {
        "id": "U_9Wiq664edf"
      }
    },
    {
      "cell_type": "code",
      "source": [
        "first = 0\n",
        "second = 1\n",
        "print(first)\n",
        "print(second)\n",
        "for x in range(1,9):\n",
        "    third = first + second\n",
        "    print(third)\n",
        "    first,second=second,third"
      ],
      "metadata": {
        "colab": {
          "base_uri": "https://localhost:8080/"
        },
        "id": "sVNqfPF-4BrH",
        "outputId": "2a7d844b-ebc7-48fe-8f2e-4b4189cfe477"
      },
      "execution_count": null,
      "outputs": [
        {
          "output_type": "stream",
          "name": "stdout",
          "text": [
            "0\n",
            "1\n",
            "1\n",
            "2\n",
            "3\n",
            "5\n",
            "8\n",
            "13\n",
            "21\n",
            "34\n"
          ]
        }
      ]
    },
    {
      "cell_type": "markdown",
      "source": [
        "**Intermediate** Level"
      ],
      "metadata": {
        "id": "qo-ZVU3P5lwQ"
      }
    },
    {
      "cell_type": "markdown",
      "source": [
        "Q11. Write a program to check if a given list contains any duplicates using a `for` loop."
      ],
      "metadata": {
        "id": "f0DQObj06NUW"
      }
    },
    {
      "cell_type": "code",
      "source": [
        "count = {}\n",
        "l=[23,2,54,23,4]\n",
        "dup_count = {}\n",
        "for i in l:\n",
        "    if i not in count:\n",
        "        count[i] = 1\n",
        "    # print('list does not contains duplicates')\n",
        "    else:\n",
        "        count[i] += 1\n",
        "        dup_count[i] = count[i]\n",
        "print('list contains duplicates')"
      ],
      "metadata": {
        "colab": {
          "base_uri": "https://localhost:8080/"
        },
        "id": "SEwPYUN75NZK",
        "outputId": "b949e22b-92d5-4a70-d39e-0d549eefb959"
      },
      "execution_count": null,
      "outputs": [
        {
          "output_type": "stream",
          "name": "stdout",
          "text": [
            "list contains duplicates\n"
          ]
        }
      ]
    },
    {
      "cell_type": "markdown",
      "source": [
        "Q12. Create a program that prints the prime numbers in a given range using a `for` loop."
      ],
      "metadata": {
        "id": "gZw-wxDHRiPF"
      }
    },
    {
      "cell_type": "code",
      "source": [
        "start_no = int(input('enter starting number: '))\n",
        "stop_no = int(input('enter last no.:  '))\n",
        "for i in range(start_no, stop_no):\n",
        "  if i>1:\n",
        "    for j in range(2,i):\n",
        "      if i%j == 0:\n",
        "        break\n",
        "    else:\n",
        "      print(i)"
      ],
      "metadata": {
        "colab": {
          "base_uri": "https://localhost:8080/"
        },
        "id": "muC7KRhfND7L",
        "outputId": "df38502c-cef8-48cd-ec64-310354e29851"
      },
      "execution_count": null,
      "outputs": [
        {
          "output_type": "stream",
          "name": "stdout",
          "text": [
            "enter starting number2\n",
            "enter last no.20\n",
            "2\n",
            "3\n",
            "5\n",
            "7\n",
            "11\n",
            "13\n",
            "17\n",
            "19\n"
          ]
        }
      ]
    },
    {
      "cell_type": "markdown",
      "source": [
        "Q13. Develop a program that counts the number of vowels in a string using a `for` loop."
      ],
      "metadata": {
        "id": "IxZHL5M_jJiT"
      }
    },
    {
      "cell_type": "code",
      "source": [
        "string = input('Enter the string: ')\n",
        "vowels = 'aeiouAEIOU'\n",
        "count = 0\n",
        "for i in string:\n",
        "  if i in vowels:\n",
        "    count +=1\n",
        "  # count += 1\n",
        "print('vowel in the string is',count)\n"
      ],
      "metadata": {
        "colab": {
          "base_uri": "https://localhost:8080/"
        },
        "id": "1ljVG68cT7sE",
        "outputId": "a4c71626-d3e2-43cd-9583-5a0f09507a98"
      },
      "execution_count": null,
      "outputs": [
        {
          "output_type": "stream",
          "name": "stdout",
          "text": [
            "Enter the string: welcome to pw skill center\n",
            "vowel in the string is 7\n"
          ]
        }
      ]
    },
    {
      "cell_type": "markdown",
      "source": [
        "Q14. Write a program to find the maximum element in a 2D list using a nested `for` loop."
      ],
      "metadata": {
        "id": "bhEie_HMkuYe"
      }
    },
    {
      "cell_type": "code",
      "source": [],
      "metadata": {
        "id": "0794fTTNjgL4"
      },
      "execution_count": null,
      "outputs": []
    },
    {
      "cell_type": "markdown",
      "source": [
        "Q15. Create a program that removes all occurrences of a specific element from a list using a `for` loop."
      ],
      "metadata": {
        "id": "NYWY6C1JlFRm"
      }
    },
    {
      "cell_type": "code",
      "source": [
        "list = [10, 20, 10, 30, 10, 40, 10, 50]\n",
        "n = int(input('enter the number you want to remove'))\n",
        "print (\"Original list:\")\n",
        "print (list)\n",
        "for i in list:\n",
        "    if i == n:\n",
        "        list.remove(i)\n",
        "\n",
        "print (f\"list after removing {n} elements:\")\n",
        "print (list)"
      ],
      "metadata": {
        "colab": {
          "base_uri": "https://localhost:8080/"
        },
        "id": "DTENk1y4lJLC",
        "outputId": "dcbe743a-118e-4604-d799-8e9eabd647cf"
      },
      "execution_count": null,
      "outputs": [
        {
          "output_type": "stream",
          "name": "stdout",
          "text": [
            "enter the number you want to remove20\n",
            "Original list:\n",
            "[10, 20, 10, 30, 10, 40, 10, 50]\n",
            "list after removing 20 elements:\n",
            "[10, 10, 30, 10, 40, 10, 50]\n"
          ]
        }
      ]
    },
    {
      "cell_type": "markdown",
      "source": [
        "Q16. Develop a program that generates a multiplication table for numbers from 1 to 5 using a nested `for` loop"
      ],
      "metadata": {
        "id": "7z3Vr3ltpmU0"
      }
    },
    {
      "cell_type": "code",
      "source": [
        "for i in range(1,6):\n",
        "  for j in range(1,11):\n",
        "    print(f'{j} X {i} = {i*j}')"
      ],
      "metadata": {
        "id": "1YaoG3TTpHT0",
        "colab": {
          "base_uri": "https://localhost:8080/"
        },
        "outputId": "2c80ac56-e867-4da4-995d-04d66633e413"
      },
      "execution_count": null,
      "outputs": [
        {
          "output_type": "stream",
          "name": "stdout",
          "text": [
            "1 X 1 = 1\n",
            "2 X 1 = 2\n",
            "3 X 1 = 3\n",
            "4 X 1 = 4\n",
            "5 X 1 = 5\n",
            "6 X 1 = 6\n",
            "7 X 1 = 7\n",
            "8 X 1 = 8\n",
            "9 X 1 = 9\n",
            "10 X 1 = 10\n",
            "1 X 2 = 2\n",
            "2 X 2 = 4\n",
            "3 X 2 = 6\n",
            "4 X 2 = 8\n",
            "5 X 2 = 10\n",
            "6 X 2 = 12\n",
            "7 X 2 = 14\n",
            "8 X 2 = 16\n",
            "9 X 2 = 18\n",
            "10 X 2 = 20\n",
            "1 X 3 = 3\n",
            "2 X 3 = 6\n",
            "3 X 3 = 9\n",
            "4 X 3 = 12\n",
            "5 X 3 = 15\n",
            "6 X 3 = 18\n",
            "7 X 3 = 21\n",
            "8 X 3 = 24\n",
            "9 X 3 = 27\n",
            "10 X 3 = 30\n",
            "1 X 4 = 4\n",
            "2 X 4 = 8\n",
            "3 X 4 = 12\n",
            "4 X 4 = 16\n",
            "5 X 4 = 20\n",
            "6 X 4 = 24\n",
            "7 X 4 = 28\n",
            "8 X 4 = 32\n",
            "9 X 4 = 36\n",
            "10 X 4 = 40\n",
            "1 X 5 = 5\n",
            "2 X 5 = 10\n",
            "3 X 5 = 15\n",
            "4 X 5 = 20\n",
            "5 X 5 = 25\n",
            "6 X 5 = 30\n",
            "7 X 5 = 35\n",
            "8 X 5 = 40\n",
            "9 X 5 = 45\n",
            "10 X 5 = 50\n"
          ]
        }
      ]
    },
    {
      "cell_type": "markdown",
      "source": [
        "Q17. Write a program that converts a list of Fahrenheit temperatures to Celsius using a `for` loop."
      ],
      "metadata": {
        "id": "hQqksZ3qr0WY"
      }
    },
    {
      "cell_type": "code",
      "source": [
        "fahrenheit_temp = float(input('enter the fahrenheit temperature: '))\n",
        "celcius_temp = (fahrenheit_temp-32)/1.8\n",
        "print(celcius_temp)"
      ],
      "metadata": {
        "id": "4nWGtAmyqTM3",
        "colab": {
          "base_uri": "https://localhost:8080/"
        },
        "outputId": "636c1004-28ef-421f-c04a-ad57f91dd90e"
      },
      "execution_count": null,
      "outputs": [
        {
          "output_type": "stream",
          "name": "stdout",
          "text": [
            "enter the fahrenheit temperature: 100.1\n",
            "37.83333333333333\n"
          ]
        }
      ]
    },
    {
      "cell_type": "markdown",
      "source": [
        "Q18. Create a program to print the common elements from two lists using a `for` loop.\n"
      ],
      "metadata": {
        "id": "JGJ_mF-Eujk_"
      }
    },
    {
      "cell_type": "code",
      "source": [
        "list1 = [12,32,13,7,9]\n",
        "list2 = [11,8,19,21,9]\n",
        "for i in list1:\n",
        "  if i in list2:\n",
        "    print(i)"
      ],
      "metadata": {
        "colab": {
          "base_uri": "https://localhost:8080/"
        },
        "id": "LtKGlV1TuHIX",
        "outputId": "1cef9be9-ea0e-4735-e254-cc98d5b5d2b9"
      },
      "execution_count": null,
      "outputs": [
        {
          "output_type": "stream",
          "name": "stdout",
          "text": [
            "9\n"
          ]
        }
      ]
    },
    {
      "cell_type": "markdown",
      "source": [
        "Q19. Develop a program that prints the pattern of right-angled triangles using a `for` loop. Use ‘*’ to draw the\n",
        "pattern"
      ],
      "metadata": {
        "id": "wnxnYbRqwFDW"
      }
    },
    {
      "cell_type": "code",
      "source": [
        "n = int(input('enter the number: '))\n",
        "for i in range(n, 0, -1):\n",
        "  # for j in range(n-i):\n",
        "  #   print(' ', end='')\n",
        "\n",
        "  for j in range(2*i-1):\n",
        "    print('*', end='')\n",
        "\n",
        "  print('\\r')"
      ],
      "metadata": {
        "colab": {
          "base_uri": "https://localhost:8080/"
        },
        "id": "6Ohi20nUvP94",
        "outputId": "9782dbb3-2dd1-47af-ab85-8b7cf8aba0ce"
      },
      "execution_count": null,
      "outputs": [
        {
          "output_type": "stream",
          "name": "stdout",
          "text": [
            "enter the number: 3\n",
            "*****\n",
            "***\n",
            "*\n"
          ]
        }
      ]
    },
    {
      "cell_type": "markdown",
      "source": [
        "Q20. Write a program to find the greatest common divisor (GCD) of two numbers using a `for` loop."
      ],
      "metadata": {
        "id": "5cukC9ceMHP2"
      }
    },
    {
      "cell_type": "code",
      "source": [
        "x = int(input('enter the number: '))\n",
        "y=int(input('enter the number: '))\n",
        "for i in range(1, min(x,y)):\n",
        "  if x%i == 0 and y%i == 0:\n",
        "    hcf = i\n",
        "print(f'hcm of given two num {x} and {y} is {hcf}')"
      ],
      "metadata": {
        "id": "EyTYW44ywPW_",
        "colab": {
          "base_uri": "https://localhost:8080/"
        },
        "outputId": "bd23057a-69c0-4836-e493-141f8aa2100e"
      },
      "execution_count": null,
      "outputs": [
        {
          "output_type": "stream",
          "name": "stdout",
          "text": [
            "enter the number: 8\n",
            "enter the number: 32\n",
            "hcm of given two num 8 and 32 is 4\n"
          ]
        }
      ]
    },
    {
      "cell_type": "markdown",
      "source": [
        "Advanced Level"
      ],
      "metadata": {
        "id": "YTaUvzn_OJL4"
      }
    },
    {
      "cell_type": "markdown",
      "source": [
        "Q21. Create a program that calculates the sum of the digits of numbers in a list using a list comprehension."
      ],
      "metadata": {
        "id": "Dg-xXr6BOa3r"
      }
    },
    {
      "cell_type": "code",
      "source": [
        "list = [2,3,5,6,8,4]\n",
        "sum1 = 0\n",
        "for i in list:\n",
        "  # if type[i] == int:\n",
        "    sum1 += sum1+i\n",
        "print(sum1)"
      ],
      "metadata": {
        "colab": {
          "base_uri": "https://localhost:8080/"
        },
        "id": "03FZ3oSJM29h",
        "outputId": "c6d39216-beee-40f3-dc3a-1a9e02304cc6"
      },
      "execution_count": null,
      "outputs": [
        {
          "output_type": "stream",
          "name": "stdout",
          "text": [
            "196\n"
          ]
        }
      ]
    },
    {
      "cell_type": "markdown",
      "source": [
        "Q22. Write a program to find the prime factors of a given number using a `for` loop and list comprehension."
      ],
      "metadata": {
        "id": "cDkRjfwF0cCL"
      }
    },
    {
      "cell_type": "code",
      "source": [
        "import math\n",
        "def primefactors(n):\n",
        "  while n%2 == 0:\n",
        "    print(n)\n",
        "    n = n //2\n",
        "  for i in range(3, int(math.sqrt(n))+1, 2):\n",
        "    while n % i == 0:\n",
        "      print(i)\n",
        "      n = n // i\n",
        "\n",
        "  if n > 2:\n",
        "    print(n)\n",
        "\n",
        "n = 56\n",
        "primefactors(n)"
      ],
      "metadata": {
        "colab": {
          "base_uri": "https://localhost:8080/"
        },
        "id": "XfBvrqNfX0tq",
        "outputId": "e6a20da7-8753-44cd-968a-75b9a2840762"
      },
      "execution_count": null,
      "outputs": [
        {
          "output_type": "stream",
          "name": "stdout",
          "text": [
            "56\n",
            "28\n",
            "14\n",
            "7\n"
          ]
        }
      ]
    },
    {
      "cell_type": "markdown",
      "source": [
        "Q23. Develop a program that extracts unique elements from a list and stores them in a new list using a list\n",
        "comprehension."
      ],
      "metadata": {
        "id": "PDAainaa2cQ1"
      }
    },
    {
      "cell_type": "code",
      "source": [
        "import operator as op\n",
        "def unique(list1):\n",
        "  unique_list = []\n",
        "  for i in list1:\n",
        "    if op.countOf(unique_list, i) == 0:\n",
        "      unique_list.append(i)\n",
        "  for i in unique_list:\n",
        "    print(i)\n",
        "\n",
        "list1 = [10, 29,10, 30, 40]\n",
        "print('the unique values from 1st list is')\n",
        "unique(list1)\n",
        "\n",
        "list2 = [1,2,1,1,3,4,5,3]\n",
        "print('the unique values from 2nd list is')\n",
        "unique(list2)"
      ],
      "metadata": {
        "id": "dk8C_LxU2fLe",
        "colab": {
          "base_uri": "https://localhost:8080/"
        },
        "outputId": "e22186c2-7b14-40b6-8d37-9ac1c8c2b4fa"
      },
      "execution_count": null,
      "outputs": [
        {
          "output_type": "stream",
          "name": "stdout",
          "text": [
            "the unique values from 1st list is\n",
            "10\n",
            "29\n",
            "30\n",
            "40\n",
            "the unique values from 2nd list is\n",
            "1\n",
            "2\n",
            "3\n",
            "4\n",
            "5\n"
          ]
        }
      ]
    },
    {
      "cell_type": "markdown",
      "source": [
        "Q24. Create a program that generates a list of all palindromic numbers up to a specified limit using a list\n",
        "comprehension"
      ],
      "metadata": {
        "id": "MdXBQ5l82nc8"
      }
    },
    {
      "cell_type": "code",
      "source": [
        "num = int(input(\"Enter a value:\"))\n",
        "# temp = num\n",
        "rev = 0\n",
        "s=[]\n",
        "for i in range(0,num+1):\n",
        "  temp = i\n",
        "  dig = i % 10\n",
        "  rev = rev * 10 + dig\n",
        "  i = i // 10\n",
        "if(temp == rev):\n",
        "  s.append[i]\n",
        "  # print(\"This value is a palindrome number!\")\n",
        "else:\n",
        "  i+=1\n"
      ],
      "metadata": {
        "id": "daCbFG5e2qei"
      },
      "execution_count": null,
      "outputs": []
    },
    {
      "cell_type": "markdown",
      "source": [
        "Q25. Write a program to flatten a nested list using list comprehension."
      ],
      "metadata": {
        "id": "RHJSmC5XWH7O"
      }
    },
    {
      "cell_type": "code",
      "source": [
        "my_list = [[1], [2, 3, 5, 8], [4, 5, 6, 7]]\n",
        "\n",
        "flat_list = []\n",
        "for i in my_list:\n",
        "    for j in i:\n",
        "        flat_list.append(j)\n",
        "print(flat_list)"
      ],
      "metadata": {
        "id": "ZYCCwUz13THf",
        "colab": {
          "base_uri": "https://localhost:8080/"
        },
        "outputId": "12ca3845-3006-48a0-bf90-a31e528151f3"
      },
      "execution_count": null,
      "outputs": [
        {
          "output_type": "stream",
          "name": "stdout",
          "text": [
            "[1, 2, 3, 5, 8, 4, 5, 6, 7]\n"
          ]
        }
      ]
    },
    {
      "cell_type": "markdown",
      "source": [
        "Q26. Develop a program that computes the sum of even and odd numbers in a list separately using list\n",
        "comprehension"
      ],
      "metadata": {
        "id": "XOJtM-y4WRnc"
      }
    },
    {
      "cell_type": "code",
      "source": [
        "l_even = 0\n",
        "l_odd = 0\n",
        "num = [1,2,3,4,55,4,32,23,76,12]\n",
        "for i in num:\n",
        "  if i%2 == 0:\n",
        "    l_even +=i\n",
        "  else:\n",
        "    l_odd +=i\n",
        "print('sum of even numeber in list is', l_even)\n",
        "print('sum of odd number in list is', l_odd)"
      ],
      "metadata": {
        "colab": {
          "base_uri": "https://localhost:8080/"
        },
        "id": "2wD7iKUlWVB2",
        "outputId": "087d538b-d8e9-4f3e-ebfc-030b75232a58"
      },
      "execution_count": null,
      "outputs": [
        {
          "output_type": "stream",
          "name": "stdout",
          "text": [
            "sum of even numeber in list is 130\n",
            "sum of odd number in list is 82\n"
          ]
        }
      ]
    },
    {
      "cell_type": "markdown",
      "source": [
        "Q27. Create a program that generates a list of squares of odd numbers between 1 and 10 using list\n",
        "comprehension."
      ],
      "metadata": {
        "id": "DXU4HtZSWV9e"
      }
    },
    {
      "cell_type": "code",
      "source": [
        "num = 10\n",
        "result = []\n",
        "for i in range(1,num):\n",
        "  if i%2!=0:\n",
        "    result.append(i*i)\n",
        "print(result)"
      ],
      "metadata": {
        "colab": {
          "base_uri": "https://localhost:8080/"
        },
        "id": "-zSMACewWY8G",
        "outputId": "6f37b8f8-23a1-4319-a8d0-5d1515ea1ee5"
      },
      "execution_count": null,
      "outputs": [
        {
          "output_type": "stream",
          "name": "stdout",
          "text": [
            "[1, 9, 25, 49, 81]\n"
          ]
        }
      ]
    },
    {
      "cell_type": "markdown",
      "source": [
        "Q28. Write a program that combines two lists into a dictionary using list comprehension."
      ],
      "metadata": {
        "id": "NXsww_P0WZvJ"
      }
    },
    {
      "cell_type": "code",
      "source": [
        "test_keys = [\"Rash\", \"Kil\", \"tejas\"]\n",
        "test_values = ['dev',6, 5]\n",
        "print(\"Original key list is : \" + str(test_keys))\n",
        "print(\"Original value list is : \" + str(test_values))\n",
        "dict = {}\n",
        "for key in test_keys:\n",
        "    for value in test_values:\n",
        "        dict[key] = value\n",
        "        test_values.remove(value)\n",
        "        break\n",
        "print('conversion of two lists into dict : ', dict)"
      ],
      "metadata": {
        "colab": {
          "base_uri": "https://localhost:8080/"
        },
        "id": "n_MBICgqWcVU",
        "outputId": "5b16dd66-8d91-4012-a704-351db8f06894"
      },
      "execution_count": null,
      "outputs": [
        {
          "output_type": "stream",
          "name": "stdout",
          "text": [
            "Original key list is : ['Rash', 'Kil', 'tejas']\n",
            "Original value list is : ['dev', 6, 5]\n",
            "conversion of two lists into dict :  {'Rash': 'dev', 'Kil': 6, 'tejas': 5}\n"
          ]
        }
      ]
    },
    {
      "cell_type": "markdown",
      "source": [
        "Q29. Develop a program that extracts the vowels from a string and stores them in a list using list comprehension"
      ],
      "metadata": {
        "id": "520HkKbTWc8L"
      }
    },
    {
      "cell_type": "code",
      "source": [
        "string = 'hello welcome to the pw skill center '\n",
        "vowels = 'aeiouAEIOU'\n",
        "vowel = []\n",
        "for i in string:\n",
        "  if i in vowels:\n",
        "    vowel.append(i)\n",
        "print(vowel)"
      ],
      "metadata": {
        "colab": {
          "base_uri": "https://localhost:8080/"
        },
        "id": "xhzgmB_2Wfh_",
        "outputId": "0cd909f9-3c43-4aa3-811f-2bc1e8d02bdc"
      },
      "execution_count": null,
      "outputs": [
        {
          "output_type": "stream",
          "name": "stdout",
          "text": [
            "['e', 'o', 'e', 'o', 'e', 'o', 'e', 'i', 'e', 'e']\n"
          ]
        }
      ]
    },
    {
      "cell_type": "markdown",
      "source": [
        "Q30. Create a program that removes all non-numeric characters from a list of strings using list comprehension."
      ],
      "metadata": {
        "id": "4rMU4AOCWgRs"
      }
    },
    {
      "cell_type": "code",
      "source": [
        "list = ['pw', 23, 'skill', 'center', 24]\n",
        "for i in list:\n",
        "  if i == isalpha():\n",
        "    i.remove(list)\n",
        "print(list)"
      ],
      "metadata": {
        "colab": {
          "base_uri": "https://localhost:8080/",
          "height": 245
        },
        "id": "1_DBMus0Wil7",
        "outputId": "96262b51-9514-4648-8a19-ce668cfcf0e7"
      },
      "execution_count": null,
      "outputs": [
        {
          "output_type": "error",
          "ename": "NameError",
          "evalue": "ignored",
          "traceback": [
            "\u001b[0;31m---------------------------------------------------------------------------\u001b[0m",
            "\u001b[0;31mNameError\u001b[0m                                 Traceback (most recent call last)",
            "\u001b[0;32m<ipython-input-39-89c8f19ccd37>\u001b[0m in \u001b[0;36m<cell line: 2>\u001b[0;34m()\u001b[0m\n\u001b[1;32m      1\u001b[0m \u001b[0mlist\u001b[0m \u001b[0;34m=\u001b[0m \u001b[0;34m[\u001b[0m\u001b[0;34m'pw'\u001b[0m\u001b[0;34m,\u001b[0m \u001b[0;36m23\u001b[0m\u001b[0;34m,\u001b[0m \u001b[0;34m'skill'\u001b[0m\u001b[0;34m,\u001b[0m \u001b[0;34m'center'\u001b[0m\u001b[0;34m,\u001b[0m \u001b[0;36m24\u001b[0m\u001b[0;34m]\u001b[0m\u001b[0;34m\u001b[0m\u001b[0;34m\u001b[0m\u001b[0m\n\u001b[1;32m      2\u001b[0m \u001b[0;32mfor\u001b[0m \u001b[0mi\u001b[0m \u001b[0;32min\u001b[0m \u001b[0mlist\u001b[0m\u001b[0;34m:\u001b[0m\u001b[0;34m\u001b[0m\u001b[0;34m\u001b[0m\u001b[0m\n\u001b[0;32m----> 3\u001b[0;31m   \u001b[0;32mif\u001b[0m \u001b[0mi\u001b[0m \u001b[0;34m==\u001b[0m \u001b[0misalpha\u001b[0m\u001b[0;34m(\u001b[0m\u001b[0;34m)\u001b[0m\u001b[0;34m:\u001b[0m\u001b[0;34m\u001b[0m\u001b[0;34m\u001b[0m\u001b[0m\n\u001b[0m\u001b[1;32m      4\u001b[0m     \u001b[0mi\u001b[0m\u001b[0;34m.\u001b[0m\u001b[0mremove\u001b[0m\u001b[0;34m(\u001b[0m\u001b[0mlist\u001b[0m\u001b[0;34m)\u001b[0m\u001b[0;34m\u001b[0m\u001b[0;34m\u001b[0m\u001b[0m\n\u001b[1;32m      5\u001b[0m \u001b[0mprint\u001b[0m\u001b[0;34m(\u001b[0m\u001b[0mlist\u001b[0m\u001b[0;34m)\u001b[0m\u001b[0;34m\u001b[0m\u001b[0;34m\u001b[0m\u001b[0m\n",
            "\u001b[0;31mNameError\u001b[0m: name 'isalpha' is not defined"
          ]
        }
      ]
    },
    {
      "cell_type": "markdown",
      "source": [
        "Challenge Level"
      ],
      "metadata": {
        "id": "mD9_0_tcWjWH"
      }
    },
    {
      "cell_type": "markdown",
      "source": [
        "Q31. Write a program to generate a list of prime numbers using the Sieve of Eratosthenes algorithm and list\n",
        "comprehension."
      ],
      "metadata": {
        "id": "Nat2UD6UWwjG"
      }
    },
    {
      "cell_type": "code",
      "source": [
        "def prime_eratosthenes(n):\n",
        "    prime_list = []\n",
        "    for i in range(2, n+1):\n",
        "        if i not in prime_list:\n",
        "            print (i)\n",
        "            for j in range(i*i, n+1, i):\n",
        "                prime_list.append(j)\n",
        "\n",
        "print(prime_eratosthenes(100));"
      ],
      "metadata": {
        "id": "Zy6VAbHkWuCG",
        "colab": {
          "base_uri": "https://localhost:8080/"
        },
        "outputId": "6e195d6d-d406-4508-fe16-980bf544748f"
      },
      "execution_count": null,
      "outputs": [
        {
          "output_type": "stream",
          "name": "stdout",
          "text": [
            "2\n",
            "3\n",
            "5\n",
            "7\n",
            "11\n",
            "13\n",
            "17\n",
            "19\n",
            "23\n",
            "29\n",
            "31\n",
            "37\n",
            "41\n",
            "43\n",
            "47\n",
            "53\n",
            "59\n",
            "61\n",
            "67\n",
            "71\n",
            "73\n",
            "79\n",
            "83\n",
            "89\n",
            "97\n",
            "None\n"
          ]
        }
      ]
    },
    {
      "cell_type": "markdown",
      "source": [
        "Q32. Create a program that generates a list of all Pythagorean triplets up to a specified limit using list\n",
        "comprehension."
      ],
      "metadata": {
        "id": "cycdlOELW0gO"
      }
    },
    {
      "cell_type": "code",
      "source": [
        "def pythagoreanTriplets(limits) :\n",
        "\tc, m = 0, 2\n",
        "\twhile c < limits :\n",
        "\t\tfor n in range(1, m) :\n",
        "\t\t\ta = m * m - n * n\n",
        "\t\t\tb = 2 * m * n\n",
        "\t\t\tc = m * m + n * n\n",
        "\n",
        "\t\t\tif c > limits :\n",
        "\t\t\t\tbreak\n",
        "\t\t\tprint(a, b, c)\n",
        "\t\tm = m + 1\n",
        "if __name__ == '__main__' :\n",
        "\tlimit = 20\n",
        "\tpythagoreanTriplets(limit)"
      ],
      "metadata": {
        "id": "bnx8h5BpW4IY",
        "colab": {
          "base_uri": "https://localhost:8080/"
        },
        "outputId": "7d538a4b-3570-4574-b1df-808602c7a56e"
      },
      "execution_count": null,
      "outputs": [
        {
          "output_type": "stream",
          "name": "stdout",
          "text": [
            "3 4 5\n",
            "8 6 10\n",
            "5 12 13\n",
            "15 8 17\n",
            "12 16 20\n"
          ]
        }
      ]
    },
    {
      "cell_type": "markdown",
      "source": [
        "Q33. Develop a program that generates a list of all possible combinations of two lists using list comprehension."
      ],
      "metadata": {
        "id": "PcZ5VMqnW4un"
      }
    },
    {
      "cell_type": "code",
      "source": [
        "import itertools\n",
        "from itertools import permutations\n",
        "list_1 = ['a','b','c','d', 'e']\n",
        "list_2 = [1,4,9]\n",
        "unique_combinations = []\n",
        "permut = itertools.permutations(list_1, len(list_2))\n",
        "for i in permut:\n",
        "  zipped = zip(i, list_2)\n",
        "  unique_combinations.append(list(zipped))\n",
        "print(unique_combinations)"
      ],
      "metadata": {
        "id": "jbtAmELcW7lt",
        "colab": {
          "base_uri": "https://localhost:8080/"
        },
        "outputId": "cde14c46-ed34-4ce2-a589-38b295f50d10"
      },
      "execution_count": null,
      "outputs": [
        {
          "output_type": "stream",
          "name": "stdout",
          "text": [
            "[[('a', 1), ('b', 4), ('c', 9)], [('a', 1), ('b', 4), ('d', 9)], [('a', 1), ('b', 4), ('e', 9)], [('a', 1), ('c', 4), ('b', 9)], [('a', 1), ('c', 4), ('d', 9)], [('a', 1), ('c', 4), ('e', 9)], [('a', 1), ('d', 4), ('b', 9)], [('a', 1), ('d', 4), ('c', 9)], [('a', 1), ('d', 4), ('e', 9)], [('a', 1), ('e', 4), ('b', 9)], [('a', 1), ('e', 4), ('c', 9)], [('a', 1), ('e', 4), ('d', 9)], [('b', 1), ('a', 4), ('c', 9)], [('b', 1), ('a', 4), ('d', 9)], [('b', 1), ('a', 4), ('e', 9)], [('b', 1), ('c', 4), ('a', 9)], [('b', 1), ('c', 4), ('d', 9)], [('b', 1), ('c', 4), ('e', 9)], [('b', 1), ('d', 4), ('a', 9)], [('b', 1), ('d', 4), ('c', 9)], [('b', 1), ('d', 4), ('e', 9)], [('b', 1), ('e', 4), ('a', 9)], [('b', 1), ('e', 4), ('c', 9)], [('b', 1), ('e', 4), ('d', 9)], [('c', 1), ('a', 4), ('b', 9)], [('c', 1), ('a', 4), ('d', 9)], [('c', 1), ('a', 4), ('e', 9)], [('c', 1), ('b', 4), ('a', 9)], [('c', 1), ('b', 4), ('d', 9)], [('c', 1), ('b', 4), ('e', 9)], [('c', 1), ('d', 4), ('a', 9)], [('c', 1), ('d', 4), ('b', 9)], [('c', 1), ('d', 4), ('e', 9)], [('c', 1), ('e', 4), ('a', 9)], [('c', 1), ('e', 4), ('b', 9)], [('c', 1), ('e', 4), ('d', 9)], [('d', 1), ('a', 4), ('b', 9)], [('d', 1), ('a', 4), ('c', 9)], [('d', 1), ('a', 4), ('e', 9)], [('d', 1), ('b', 4), ('a', 9)], [('d', 1), ('b', 4), ('c', 9)], [('d', 1), ('b', 4), ('e', 9)], [('d', 1), ('c', 4), ('a', 9)], [('d', 1), ('c', 4), ('b', 9)], [('d', 1), ('c', 4), ('e', 9)], [('d', 1), ('e', 4), ('a', 9)], [('d', 1), ('e', 4), ('b', 9)], [('d', 1), ('e', 4), ('c', 9)], [('e', 1), ('a', 4), ('b', 9)], [('e', 1), ('a', 4), ('c', 9)], [('e', 1), ('a', 4), ('d', 9)], [('e', 1), ('b', 4), ('a', 9)], [('e', 1), ('b', 4), ('c', 9)], [('e', 1), ('b', 4), ('d', 9)], [('e', 1), ('c', 4), ('a', 9)], [('e', 1), ('c', 4), ('b', 9)], [('e', 1), ('c', 4), ('d', 9)], [('e', 1), ('d', 4), ('a', 9)], [('e', 1), ('d', 4), ('b', 9)], [('e', 1), ('d', 4), ('c', 9)]]\n"
          ]
        }
      ]
    },
    {
      "cell_type": "markdown",
      "source": [
        "Q34. Write a program that calculates the mean, median, and mode of a list of numbers using list\n",
        "comprehension."
      ],
      "metadata": {
        "id": "v_yXOy1NW8RR"
      }
    },
    {
      "cell_type": "code",
      "source": [
        "n_num = [1, 2, 3, 4, 5]\n",
        "n = len(n_num)\n",
        "get_sum = sum(n_num)\n",
        "mean = get_sum / n\n",
        "print(\"Mean / Average is: \" + str(mean))\n",
        "\n",
        "n_num.sort()\n",
        "if n % 2 == 0:\n",
        "    median1 = n_num[n//2]\n",
        "    median2 = n_num[n//2 - 1]\n",
        "    median = (median1 + median2)/2\n",
        "else:\n",
        "    median = n_num[n//2]\n",
        "print(\"Median is: \" + str(median))\n",
        "\n",
        "from collections import Counter\n",
        "data = Counter(n_num)\n",
        "get_mode = dict(data)\n",
        "mode = [k for k, v in get_mode.items() if v == max(list(data.values()))]\n",
        "\n",
        "if len(mode) == n:\n",
        "    get_mode = \"No mode found\"\n",
        "else:\n",
        "    get_mode = \"Mode is / are: \" + ', '.join(map(str, mode))\n",
        "\n",
        "print(get_mode)"
      ],
      "metadata": {
        "id": "JBkQ6yFEW-Zg",
        "colab": {
          "base_uri": "https://localhost:8080/"
        },
        "outputId": "f9a3a91b-818e-4de8-9c63-0890ec875fa6"
      },
      "execution_count": null,
      "outputs": [
        {
          "output_type": "stream",
          "name": "stdout",
          "text": [
            "Mean / Average is: 3.0\n",
            "Median is: 3\n",
            "No mode found\n"
          ]
        }
      ]
    },
    {
      "cell_type": "markdown",
      "source": [
        "Q35. Create a program that generates Pascal's triangle up to a specified number of rows using list\n",
        "comprehension."
      ],
      "metadata": {
        "id": "qcypafdxW_AW"
      }
    },
    {
      "cell_type": "code",
      "source": [],
      "metadata": {
        "id": "fja-hzCvXBuE"
      },
      "execution_count": null,
      "outputs": []
    },
    {
      "cell_type": "markdown",
      "source": [
        "Q36. Develop a program that calculates the sum of the digits of a factorial of numbers from 1 to 5 using list\n",
        "comprehension."
      ],
      "metadata": {
        "id": "PqepTAPTXCS3"
      }
    },
    {
      "cell_type": "code",
      "source": [
        "factorial = 1\n",
        "for i in range(1,6):\n",
        "  factorial = factorial * i\n",
        "print(factorial)"
      ],
      "metadata": {
        "id": "b3wwdy9vXEq8",
        "colab": {
          "base_uri": "https://localhost:8080/"
        },
        "outputId": "b7a3f10e-82cb-4efd-c0b6-65d147efe6aa"
      },
      "execution_count": null,
      "outputs": [
        {
          "output_type": "stream",
          "name": "stdout",
          "text": [
            "120\n"
          ]
        }
      ]
    },
    {
      "cell_type": "markdown",
      "source": [
        "Q37. Write a program that finds the longest word in a sentence using list comprehension"
      ],
      "metadata": {
        "id": "fN-JfKsWXFOJ"
      }
    },
    {
      "cell_type": "code",
      "source": [
        "def largestWord(s):\n",
        "\ts = sorted(s, key = len)\n",
        "\tprint(s[-1])\n",
        "if __name__ == \"__main__\":\n",
        "\ts = \"be confident and be yourself\"\n",
        "\tl = list(s.split(\" \"))\n",
        "\tlargestWord(l)"
      ],
      "metadata": {
        "id": "QTitfg4RXHUe",
        "colab": {
          "base_uri": "https://localhost:8080/"
        },
        "outputId": "0f72482f-97e0-4283-8fca-c90ba433de7c"
      },
      "execution_count": null,
      "outputs": [
        {
          "output_type": "stream",
          "name": "stdout",
          "text": [
            "confident\n"
          ]
        }
      ]
    },
    {
      "cell_type": "markdown",
      "source": [
        "Q38. Create a program that filters a list of strings to include only those with more than three vowels using list\n",
        "comprehension."
      ],
      "metadata": {
        "id": "NQZZqmTxXH4f"
      }
    },
    {
      "cell_type": "code",
      "source": [
        "test_list = [\"gfg\", \"best\", \"for\", \"geeks\"]\n",
        "print(\"The original list is : \" + str(test_list))\n",
        "res = \"\"\n",
        "max_len = 0\n",
        "for i in test_list:\n",
        "\tvow_len = len([el for el in i if el in ['a', 'e', 'o', 'u', 'i']])\n",
        "\n",
        "\tif vow_len > max_len:\n",
        "\t\tmax_len = vow_len\n",
        "\t\tres = i\n",
        "print(\"Maximum vowels word : \" + str(res))"
      ],
      "metadata": {
        "id": "mkvfmvlZXJnu",
        "colab": {
          "base_uri": "https://localhost:8080/"
        },
        "outputId": "d4836fa6-41d7-40f6-9a64-5ece9a8afc3e"
      },
      "execution_count": null,
      "outputs": [
        {
          "output_type": "stream",
          "name": "stdout",
          "text": [
            "The original list is : ['gfg', 'best', 'for', 'geeks']\n",
            "Maximum vowels word : geeks\n"
          ]
        }
      ]
    },
    {
      "cell_type": "markdown",
      "source": [
        "Q39. Develop a program that calculates the sum of the digits of numbers from 1 to 1000 using list\n",
        "comprehension."
      ],
      "metadata": {
        "id": "w_SeUao4XKKV"
      }
    },
    {
      "cell_type": "code",
      "source": [
        "sum = 0\n",
        "for i in range(1,1001):\n",
        "  sum += i\n",
        "print(sum)"
      ],
      "metadata": {
        "id": "lq7tLALiXMVx",
        "colab": {
          "base_uri": "https://localhost:8080/"
        },
        "outputId": "baca1ebd-de7b-47b5-93ef-e94b38af3a39"
      },
      "execution_count": null,
      "outputs": [
        {
          "output_type": "stream",
          "name": "stdout",
          "text": [
            "500500\n"
          ]
        }
      ]
    },
    {
      "cell_type": "markdown",
      "source": [
        "Q40. Write a program that generates a list of prime palindromic numbers using list comprehension"
      ],
      "metadata": {
        "id": "Ti_iJ3cjXNCA"
      }
    },
    {
      "cell_type": "code",
      "source": [
        "# using While Loop\n",
        "number = int(input(\"Please Enter any Value: \"))\n",
        "\n",
        "reverse = 0\n",
        "temp = number\n",
        "\n",
        "while(temp > 0):\n",
        "    Reminder = temp % 10\n",
        "    reverse = (reverse * 10) + Reminder\n",
        "    temp = temp //10\n",
        "\n",
        "print(\"Reverse of it is = %d\" %reverse)\n",
        "\n",
        "if(number == reverse):\n",
        "    print(\"%d is a Palindrome\" %number)\n",
        "else:\n",
        "    print(\"%d is Not\" %number)"
      ],
      "metadata": {
        "id": "9og1N3H3XOtK",
        "colab": {
          "base_uri": "https://localhost:8080/"
        },
        "outputId": "002c8cc1-22c8-4038-c46d-ef0e342c99f1"
      },
      "execution_count": null,
      "outputs": [
        {
          "output_type": "stream",
          "name": "stdout",
          "text": [
            "Please Enter any Value: 32\n",
            "Reverse of it is = 23\n",
            "32 is Not\n"
          ]
        }
      ]
    }
  ]
}