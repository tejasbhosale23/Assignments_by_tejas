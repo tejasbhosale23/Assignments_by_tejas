{
  "nbformat": 4,
  "nbformat_minor": 0,
  "metadata": {
    "colab": {
      "provenance": []
    },
    "kernelspec": {
      "name": "python3",
      "display_name": "Python 3"
    },
    "language_info": {
      "name": "python"
    }
  },
  "cells": [
    {
      "cell_type": "markdown",
      "source": [
        "Python Basic variables"
      ],
      "metadata": {
        "id": "L3qwZQuPi1ta"
      }
    },
    {
      "cell_type": "markdown",
      "source": [
        "Q1. Declare two variables, `x` and `y`, and assign them integer values. Swap the\n",
        "values of these variables without using any temporary variable."
      ],
      "metadata": {
        "id": "whVns2iKi_B7"
      }
    },
    {
      "cell_type": "code",
      "source": [
        "x = 6\n",
        "y = 4\n",
        "x = x + y\n",
        "y = x -y\n",
        "x = x-y\n",
        "print(\"value of 'x' after swaping is\",x)\n",
        "print(\"value of 'y' after swaping is\",y)"
      ],
      "metadata": {
        "colab": {
          "base_uri": "https://localhost:8080/"
        },
        "id": "E2P00F6ajDRb",
        "outputId": "3db70365-bf9b-4e54-e4ed-e649654f2961"
      },
      "execution_count": null,
      "outputs": [
        {
          "output_type": "stream",
          "name": "stdout",
          "text": [
            "value of 'x' after swaping is 4\n",
            "value of 'y' after swaping is 6\n"
          ]
        }
      ]
    },
    {
      "cell_type": "markdown",
      "source": [
        "Q2. Create a program that calculates the area of a rectangle. Take the length and\n",
        "width as inputs from the user and store them in variables. Calculate and\n",
        "display the area."
      ],
      "metadata": {
        "id": "0dun4s3ij2ZT"
      }
    },
    {
      "cell_type": "code",
      "source": [
        "length = int(input('enter the length of rectangle'))\n",
        "width = int(input('enter the width of rectangle'))\n",
        "Area_of_rectangle = length * width  # formula for area of rectangle\n",
        "print('The area of rectangle is', Area_of_rectangle)"
      ],
      "metadata": {
        "colab": {
          "base_uri": "https://localhost:8080/"
        },
        "id": "orwl7FhYj64p",
        "outputId": "89c47c6d-142e-40a2-8436-0abdec9c5491"
      },
      "execution_count": null,
      "outputs": [
        {
          "output_type": "stream",
          "name": "stdout",
          "text": [
            "enter the length of rectangle12\n",
            "enter the width of rectangle6\n",
            "The area of rectangle is 72\n"
          ]
        }
      ]
    },
    {
      "cell_type": "markdown",
      "source": [
        "Q3. Write a Python program that converts temperatures from Celsius to\n",
        "Fahrenheit. Take the temperature in Celsius as input, store it in a variable,\n",
        "convert it to Fahrenheit, and display the result."
      ],
      "metadata": {
        "id": "hWAdh77GkwnD"
      }
    },
    {
      "cell_type": "code",
      "source": [
        "celsius = float(input('enter the temperature in celcius ')) # take input as floating num or integer num.\n",
        "fahrenheit = (1.8 * celsius) + 32\n",
        "print(f'Temperature of {celsius} celsius to Fahrenheit is {fahrenheit}')"
      ],
      "metadata": {
        "colab": {
          "base_uri": "https://localhost:8080/"
        },
        "id": "RZWeLIgEk1qB",
        "outputId": "046a7026-7b8b-467a-c8b6-9a3e4bf041e6"
      },
      "execution_count": null,
      "outputs": [
        {
          "output_type": "stream",
          "name": "stdout",
          "text": [
            "enter the temperature in celcius 43.4\n",
            "Temperature of 43.4 celsius to Fahrenheit is 110.12\n"
          ]
        }
      ]
    },
    {
      "cell_type": "markdown",
      "source": [
        "**String based Questions**"
      ],
      "metadata": {
        "id": "BfI5mrBcpHCR"
      }
    },
    {
      "cell_type": "markdown",
      "source": [
        "Q1. Write a Python program that takes a string as input and prints the length of\n",
        "the string."
      ],
      "metadata": {
        "id": "LYm-uf_JpM9k"
      }
    },
    {
      "cell_type": "code",
      "source": [
        "string = input('enter the string')\n",
        "print('the length of given string is',len(string))"
      ],
      "metadata": {
        "colab": {
          "base_uri": "https://localhost:8080/"
        },
        "id": "wqyHiBq9pK7X",
        "outputId": "adec4399-740b-49c1-b4ba-6031cfc4e0ad"
      },
      "execution_count": null,
      "outputs": [
        {
          "output_type": "stream",
          "name": "stdout",
          "text": [
            "enter the stringdfsfds\n",
            "the length of given string is 6\n"
          ]
        }
      ]
    },
    {
      "cell_type": "markdown",
      "source": [
        "Q2. Create a program that takes a sentence from the user and counts the number\n",
        "of vowels (a, e, i, o, u) in the string."
      ],
      "metadata": {
        "id": "5nXGzCgQpucV"
      }
    },
    {
      "cell_type": "code",
      "source": [
        "user = input('enter the sentence ')\n",
        "vowels = 'aeiouAEIOU'\n",
        "count = 0\n",
        "for i in user:\n",
        "  if i in vowels:\n",
        "    count += 1\n",
        "print('The number of vowels in given sentence is', count)"
      ],
      "metadata": {
        "id": "RoUm1uglpxf3",
        "colab": {
          "base_uri": "https://localhost:8080/"
        },
        "outputId": "d894c2a7-ea7c-417a-f4f2-ba362d21c7c9"
      },
      "execution_count": 34,
      "outputs": [
        {
          "output_type": "stream",
          "name": "stdout",
          "text": [
            "enter the sentence This is pwskill data science couse\n",
            "The number of vowels in given sentence is 11\n"
          ]
        },
        {
          "output_type": "execute_result",
          "data": {
            "text/plain": [
              "11"
            ]
          },
          "metadata": {},
          "execution_count": 34
        }
      ]
    },
    {
      "cell_type": "markdown",
      "source": [
        "Q3. Given a string, reverse the order of characters using string slicing and print\n",
        "the reversed string."
      ],
      "metadata": {
        "id": "qQ0tpR2-uTr5"
      }
    },
    {
      "cell_type": "code",
      "source": [
        "s = 'Pwskillcenter'\n",
        "print('the reverse of given string is ',s[::-1])"
      ],
      "metadata": {
        "colab": {
          "base_uri": "https://localhost:8080/"
        },
        "id": "reMKaI1ntttY",
        "outputId": "e309f480-967f-4019-df61-ee6cdc413aa3"
      },
      "execution_count": 39,
      "outputs": [
        {
          "output_type": "stream",
          "name": "stdout",
          "text": [
            "the reverse of given string is  retnecllikswP\n"
          ]
        }
      ]
    },
    {
      "cell_type": "markdown",
      "source": [
        "Q4. Write a program that takes a string as input and checks if it is a palindrome\n",
        "(reads the same forwards and backwards)."
      ],
      "metadata": {
        "id": "EHbVkDzNu821"
      }
    },
    {
      "cell_type": "code",
      "source": [
        "s = input('enter the string ')\n",
        "s1 = s[::-1]\n",
        "if s == s1:\n",
        "  print('this palindrome')\n",
        "else:\n",
        "  print('this is not a palindrom')"
      ],
      "metadata": {
        "colab": {
          "base_uri": "https://localhost:8080/"
        },
        "id": "WFIRm1MHvCLF",
        "outputId": "5ddebcd7-05d2-40f5-8111-d9a3d9d09ec4"
      },
      "execution_count": 40,
      "outputs": [
        {
          "output_type": "stream",
          "name": "stdout",
          "text": [
            "enter the stringmam\n",
            "this palindrome\n"
          ]
        }
      ]
    },
    {
      "cell_type": "markdown",
      "source": [
        "Q5. Create a program that takes a string as input and removes all the spaces from\n",
        "it. Print the modified string without spaces."
      ],
      "metadata": {
        "id": "zF1EFDSpvPAt"
      }
    },
    {
      "cell_type": "code",
      "source": [
        "s = input('enter the string')\n",
        "s1 = s.replace(\" \", \"\")\n",
        "print('modified string after removes all the spaces is', s1)"
      ],
      "metadata": {
        "colab": {
          "base_uri": "https://localhost:8080/"
        },
        "id": "7B22fCNrvIPa",
        "outputId": "cd5873ea-ebbd-4530-8218-174b7679ebc6"
      },
      "execution_count": 42,
      "outputs": [
        {
          "output_type": "stream",
          "name": "stdout",
          "text": [
            "enter the stringthis is tejas\n",
            "modified string after removes all the spaces is thisistejas\n"
          ]
        }
      ]
    },
    {
      "cell_type": "code",
      "source": [],
      "metadata": {
        "id": "NIQTUvZ1v0YG"
      },
      "execution_count": null,
      "outputs": []
    }
  ]
}