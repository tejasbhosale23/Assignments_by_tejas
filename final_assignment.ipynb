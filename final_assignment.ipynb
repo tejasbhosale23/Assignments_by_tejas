{
  "nbformat": 4,
  "nbformat_minor": 0,
  "metadata": {
    "colab": {
      "provenance": [],
      "authorship_tag": "ABX9TyP2pubMHaEmDlaLqGZUUF95",
      "include_colab_link": true
    },
    "kernelspec": {
      "name": "python3",
      "display_name": "Python 3"
    },
    "language_info": {
      "name": "python"
    }
  },
  "cells": [
    {
      "cell_type": "markdown",
      "metadata": {
        "id": "view-in-github",
        "colab_type": "text"
      },
      "source": [
        "<a href=\"https://colab.research.google.com/github/tejasbhosale23/Assignments_by_tejas/blob/main/final_assignment.ipynb\" target=\"_parent\"><img src=\"https://colab.research.google.com/assets/colab-badge.svg\" alt=\"Open In Colab\"/></a>"
      ]
    },
    {
      "cell_type": "code",
      "source": [
        "pip install notebook-as-pdf"
      ],
      "metadata": {
        "id": "CuVJywVQ2csh",
        "outputId": "d51c643a-e978-4d10-e256-180a74270937",
        "colab": {
          "base_uri": "https://localhost:8080/"
        }
      },
      "execution_count": null,
      "outputs": [
        {
          "output_type": "stream",
          "name": "stdout",
          "text": [
            "Requirement already satisfied: notebook-as-pdf in /usr/local/lib/python3.10/dist-packages (0.5.0)\n",
            "Requirement already satisfied: nbconvert in /usr/local/lib/python3.10/dist-packages (from notebook-as-pdf) (6.5.4)\n",
            "Requirement already satisfied: pyppeteer in /usr/local/lib/python3.10/dist-packages (from notebook-as-pdf) (2.0.0)\n",
            "Requirement already satisfied: PyPDF2 in /usr/local/lib/python3.10/dist-packages (from notebook-as-pdf) (3.0.1)\n",
            "Requirement already satisfied: lxml in /usr/local/lib/python3.10/dist-packages (from nbconvert->notebook-as-pdf) (4.9.4)\n",
            "Requirement already satisfied: beautifulsoup4 in /usr/local/lib/python3.10/dist-packages (from nbconvert->notebook-as-pdf) (4.12.3)\n",
            "Requirement already satisfied: bleach in /usr/local/lib/python3.10/dist-packages (from nbconvert->notebook-as-pdf) (6.1.0)\n",
            "Requirement already satisfied: defusedxml in /usr/local/lib/python3.10/dist-packages (from nbconvert->notebook-as-pdf) (0.7.1)\n",
            "Requirement already satisfied: entrypoints>=0.2.2 in /usr/local/lib/python3.10/dist-packages (from nbconvert->notebook-as-pdf) (0.4)\n",
            "Requirement already satisfied: jinja2>=3.0 in /usr/local/lib/python3.10/dist-packages (from nbconvert->notebook-as-pdf) (3.1.4)\n",
            "Requirement already satisfied: jupyter-core>=4.7 in /usr/local/lib/python3.10/dist-packages (from nbconvert->notebook-as-pdf) (5.7.2)\n",
            "Requirement already satisfied: jupyterlab-pygments in /usr/local/lib/python3.10/dist-packages (from nbconvert->notebook-as-pdf) (0.3.0)\n",
            "Requirement already satisfied: MarkupSafe>=2.0 in /usr/local/lib/python3.10/dist-packages (from nbconvert->notebook-as-pdf) (2.1.5)\n",
            "Requirement already satisfied: mistune<2,>=0.8.1 in /usr/local/lib/python3.10/dist-packages (from nbconvert->notebook-as-pdf) (0.8.4)\n",
            "Requirement already satisfied: nbclient>=0.5.0 in /usr/local/lib/python3.10/dist-packages (from nbconvert->notebook-as-pdf) (0.10.0)\n",
            "Requirement already satisfied: nbformat>=5.1 in /usr/local/lib/python3.10/dist-packages (from nbconvert->notebook-as-pdf) (5.10.4)\n",
            "Requirement already satisfied: packaging in /usr/local/lib/python3.10/dist-packages (from nbconvert->notebook-as-pdf) (24.1)\n",
            "Requirement already satisfied: pandocfilters>=1.4.1 in /usr/local/lib/python3.10/dist-packages (from nbconvert->notebook-as-pdf) (1.5.1)\n",
            "Requirement already satisfied: pygments>=2.4.1 in /usr/local/lib/python3.10/dist-packages (from nbconvert->notebook-as-pdf) (2.16.1)\n",
            "Requirement already satisfied: tinycss2 in /usr/local/lib/python3.10/dist-packages (from nbconvert->notebook-as-pdf) (1.3.0)\n",
            "Requirement already satisfied: traitlets>=5.0 in /usr/local/lib/python3.10/dist-packages (from nbconvert->notebook-as-pdf) (5.7.1)\n",
            "Requirement already satisfied: appdirs<2.0.0,>=1.4.3 in /usr/local/lib/python3.10/dist-packages (from pyppeteer->notebook-as-pdf) (1.4.4)\n",
            "Requirement already satisfied: certifi>=2023 in /usr/local/lib/python3.10/dist-packages (from pyppeteer->notebook-as-pdf) (2024.7.4)\n",
            "Requirement already satisfied: importlib-metadata>=1.4 in /usr/local/lib/python3.10/dist-packages (from pyppeteer->notebook-as-pdf) (8.4.0)\n",
            "Requirement already satisfied: pyee<12.0.0,>=11.0.0 in /usr/local/lib/python3.10/dist-packages (from pyppeteer->notebook-as-pdf) (11.1.0)\n",
            "Requirement already satisfied: tqdm<5.0.0,>=4.42.1 in /usr/local/lib/python3.10/dist-packages (from pyppeteer->notebook-as-pdf) (4.66.5)\n",
            "Requirement already satisfied: urllib3<2.0.0,>=1.25.8 in /usr/local/lib/python3.10/dist-packages (from pyppeteer->notebook-as-pdf) (1.26.19)\n",
            "Requirement already satisfied: websockets<11.0,>=10.0 in /usr/local/lib/python3.10/dist-packages (from pyppeteer->notebook-as-pdf) (10.4)\n",
            "Requirement already satisfied: zipp>=0.5 in /usr/local/lib/python3.10/dist-packages (from importlib-metadata>=1.4->pyppeteer->notebook-as-pdf) (3.20.1)\n",
            "Requirement already satisfied: platformdirs>=2.5 in /usr/local/lib/python3.10/dist-packages (from jupyter-core>=4.7->nbconvert->notebook-as-pdf) (4.2.2)\n",
            "Requirement already satisfied: jupyter-client>=6.1.12 in /usr/local/lib/python3.10/dist-packages (from nbclient>=0.5.0->nbconvert->notebook-as-pdf) (6.1.12)\n",
            "Requirement already satisfied: fastjsonschema>=2.15 in /usr/local/lib/python3.10/dist-packages (from nbformat>=5.1->nbconvert->notebook-as-pdf) (2.20.0)\n",
            "Requirement already satisfied: jsonschema>=2.6 in /usr/local/lib/python3.10/dist-packages (from nbformat>=5.1->nbconvert->notebook-as-pdf) (4.23.0)\n",
            "Requirement already satisfied: typing-extensions in /usr/local/lib/python3.10/dist-packages (from pyee<12.0.0,>=11.0.0->pyppeteer->notebook-as-pdf) (4.12.2)\n",
            "Requirement already satisfied: soupsieve>1.2 in /usr/local/lib/python3.10/dist-packages (from beautifulsoup4->nbconvert->notebook-as-pdf) (2.6)\n",
            "Requirement already satisfied: six>=1.9.0 in /usr/local/lib/python3.10/dist-packages (from bleach->nbconvert->notebook-as-pdf) (1.16.0)\n",
            "Requirement already satisfied: webencodings in /usr/local/lib/python3.10/dist-packages (from bleach->nbconvert->notebook-as-pdf) (0.5.1)\n",
            "Requirement already satisfied: attrs>=22.2.0 in /usr/local/lib/python3.10/dist-packages (from jsonschema>=2.6->nbformat>=5.1->nbconvert->notebook-as-pdf) (24.2.0)\n",
            "Requirement already satisfied: jsonschema-specifications>=2023.03.6 in /usr/local/lib/python3.10/dist-packages (from jsonschema>=2.6->nbformat>=5.1->nbconvert->notebook-as-pdf) (2023.12.1)\n",
            "Requirement already satisfied: referencing>=0.28.4 in /usr/local/lib/python3.10/dist-packages (from jsonschema>=2.6->nbformat>=5.1->nbconvert->notebook-as-pdf) (0.35.1)\n",
            "Requirement already satisfied: rpds-py>=0.7.1 in /usr/local/lib/python3.10/dist-packages (from jsonschema>=2.6->nbformat>=5.1->nbconvert->notebook-as-pdf) (0.20.0)\n",
            "Requirement already satisfied: pyzmq>=13 in /usr/local/lib/python3.10/dist-packages (from jupyter-client>=6.1.12->nbclient>=0.5.0->nbconvert->notebook-as-pdf) (24.0.1)\n",
            "Requirement already satisfied: python-dateutil>=2.1 in /usr/local/lib/python3.10/dist-packages (from jupyter-client>=6.1.12->nbclient>=0.5.0->nbconvert->notebook-as-pdf) (2.8.2)\n",
            "Requirement already satisfied: tornado>=4.1 in /usr/local/lib/python3.10/dist-packages (from jupyter-client>=6.1.12->nbclient>=0.5.0->nbconvert->notebook-as-pdf) (6.3.3)\n"
          ]
        }
      ]
    },
    {
      "cell_type": "markdown",
      "source": [
        "Q1.3  name = [\"Mohan\", \"dash\", \"karam\", \"chandra\",\"gandhi\",\"Bapu\"]\n",
        "do the following operations in this list;"
      ],
      "metadata": {
        "id": "Tw69EL0g5utR"
      }
    },
    {
      "cell_type": "code",
      "execution_count": null,
      "metadata": {
        "id": "ZEN4lffa5o41"
      },
      "outputs": [],
      "source": [
        "name = ['Mohan', 'dash', 'karam', 'chandra', 'gandhi', 'bapu']"
      ]
    },
    {
      "cell_type": "markdown",
      "source": [
        "a. Add an element 'freedom_fighter' in this  list at the oth index."
      ],
      "metadata": {
        "id": "1v5E2OmY5_1D"
      }
    },
    {
      "cell_type": "code",
      "source": [
        "name[0] = 'freedom_fighter'"
      ],
      "metadata": {
        "id": "DtvzQHcD5-hr"
      },
      "execution_count": null,
      "outputs": []
    },
    {
      "cell_type": "code",
      "source": [
        "name"
      ],
      "metadata": {
        "colab": {
          "base_uri": "https://localhost:8080/"
        },
        "id": "LqIerJxP6N-1",
        "outputId": "40eb29c9-df56-4e70-f0d7-93d93c1fb2bc"
      },
      "execution_count": null,
      "outputs": [
        {
          "output_type": "execute_result",
          "data": {
            "text/plain": [
              "['freedom_fighter', 'dash', 'karam', 'chandra', 'gandhi', 'bapu']"
            ]
          },
          "metadata": {},
          "execution_count": 3
        }
      ]
    },
    {
      "cell_type": "markdown",
      "source": [
        "b. find the output of the following and explain how ?\n",
        "\n",
        "name = [“freedomFighter”,\"Bapuji\",\"MOhan\" \"dash\", \"karam\",\n",
        "\"chandra\",\"gandhi\"]\n",
        "\n",
        "length1=len((name[-len(name)+1:-1:2]))\n",
        "\n",
        "length2=len((name[-len(name)+1:-1]))\n",
        "\n",
        "print(length1+length2)"
      ],
      "metadata": {
        "id": "HE2G_s766V14"
      }
    },
    {
      "cell_type": "code",
      "source": [
        "name = ['freedomFighter', 'Bapuji', 'Mohan', 'dash', 'karam', 'chandra', 'gandhi']\n",
        "length1 = len((name[-len(name)+1: -1:2]))"
      ],
      "metadata": {
        "id": "8ITUUpeg6PG3"
      },
      "execution_count": null,
      "outputs": []
    },
    {
      "cell_type": "code",
      "source": [
        "length1"
      ],
      "metadata": {
        "colab": {
          "base_uri": "https://localhost:8080/"
        },
        "id": "rOLJ92zn7y5i",
        "outputId": "2272d158-1aaa-4710-b0b7-af4a3159643e"
      },
      "execution_count": null,
      "outputs": [
        {
          "output_type": "execute_result",
          "data": {
            "text/plain": [
              "3"
            ]
          },
          "metadata": {},
          "execution_count": 5
        }
      ]
    },
    {
      "cell_type": "code",
      "source": [
        "length2 = len((name[-len(name)+1:-1]))"
      ],
      "metadata": {
        "id": "6PkZOnzS71vs"
      },
      "execution_count": null,
      "outputs": []
    },
    {
      "cell_type": "code",
      "source": [
        "length2"
      ],
      "metadata": {
        "colab": {
          "base_uri": "https://localhost:8080/"
        },
        "id": "Ii4noQqO8bLK",
        "outputId": "68bd95a1-36ec-4f66-cb05-d6d6d158425b"
      },
      "execution_count": null,
      "outputs": [
        {
          "output_type": "execute_result",
          "data": {
            "text/plain": [
              "5"
            ]
          },
          "metadata": {},
          "execution_count": 7
        }
      ]
    },
    {
      "cell_type": "code",
      "source": [
        "print(length1+length2)"
      ],
      "metadata": {
        "colab": {
          "base_uri": "https://localhost:8080/"
        },
        "id": "y-j6ud4e8c1R",
        "outputId": "989f91a9-3243-4e7d-dd30-2c677ad8746f"
      },
      "execution_count": null,
      "outputs": [
        {
          "output_type": "stream",
          "name": "stdout",
          "text": [
            "8\n"
          ]
        }
      ]
    },
    {
      "cell_type": "markdown",
      "source": [
        "c) add two more elements in the name ['netaji', 'Bose'] at the end of the list."
      ],
      "metadata": {
        "id": "UknI-Lxe-X-A"
      }
    },
    {
      "cell_type": "code",
      "source": [
        "name_one = ['Netaji', 'Bose']\n",
        "for i in name_one:\n",
        "  name.append(i)\n",
        "\n",
        "name"
      ],
      "metadata": {
        "colab": {
          "base_uri": "https://localhost:8080/"
        },
        "id": "S6wrzarK8flU",
        "outputId": "a9dc9a94-f81c-4626-b477-e3a20db4b2af"
      },
      "execution_count": null,
      "outputs": [
        {
          "output_type": "execute_result",
          "data": {
            "text/plain": [
              "['freedomFighter',\n",
              " 'Bapuji',\n",
              " 'Mohan',\n",
              " 'dash',\n",
              " 'karam',\n",
              " 'chandra',\n",
              " 'gandhi',\n",
              " 'Netaji',\n",
              " 'Bose']"
            ]
          },
          "metadata": {},
          "execution_count": 14
        }
      ]
    },
    {
      "cell_type": "markdown",
      "source": [
        "d. what will be the value of temp:\n",
        "\n",
        "name = [\"Bapuji\", \"dash\", \"karam\", \"chandra\",\"gandi\",\"Mohan\"]\n",
        "\n",
        "temp=name[-1]\n",
        "\n",
        "name[-1]=name[0]\n",
        "\n",
        "name[0]=temp\n",
        "\n",
        "print(name)"
      ],
      "metadata": {
        "id": "6GFKk7DN_V00"
      }
    },
    {
      "cell_type": "markdown",
      "source": [
        "Ans . value of temp is 'Mohan'."
      ],
      "metadata": {
        "id": "F2_IO9zcACRI"
      }
    },
    {
      "cell_type": "code",
      "source": [],
      "metadata": {
        "id": "U-TIlgtl-mDK"
      },
      "execution_count": null,
      "outputs": []
    },
    {
      "cell_type": "markdown",
      "source": [
        "Question 1.4. Find the output of the following.\n"
      ],
      "metadata": {
        "id": "ThHtHwgcAJeB"
      }
    },
    {
      "cell_type": "code",
      "source": [
        "animal = ['Human', 'cat', 'mat', 'rat', 'Human', 'Lion']\n",
        "print(animal.count('Human'))\n",
        "print(animal.index('rat'))\n",
        "print(len(animal))"
      ],
      "metadata": {
        "colab": {
          "base_uri": "https://localhost:8080/"
        },
        "id": "TwUxHcFZATuq",
        "outputId": "f6ebfa45-ec0f-4368-d9e3-71e73a9a0df8"
      },
      "execution_count": null,
      "outputs": [
        {
          "output_type": "stream",
          "name": "stdout",
          "text": [
            "2\n",
            "3\n",
            "6\n"
          ]
        }
      ]
    },
    {
      "cell_type": "markdown",
      "source": [
        "Question 1.5 tuple1=(10,20, 'Apple', 3.4, 'a', ['master', 'ji'], ('sita', 'geeta', 22), [{'roll_no':1}, {'name':'Navneet'})"
      ],
      "metadata": {
        "id": "41zSc1fIA0vT"
      }
    },
    {
      "cell_type": "code",
      "source": [
        "tuple1 = (10,20,\"Apple\",3.4,'a',[\"master\",\"ji\"],(\"sita\",\"geeta\",22),[{\"roll_no\":1},\n",
        "{\"name\":\"Navneet\"}])"
      ],
      "metadata": {
        "id": "__qaUbRpAqWR"
      },
      "execution_count": null,
      "outputs": []
    },
    {
      "cell_type": "markdown",
      "source": [
        "a) print(len(tuple))"
      ],
      "metadata": {
        "id": "lxZfay5fBpE5"
      }
    },
    {
      "cell_type": "code",
      "source": [
        "len(tuple1)"
      ],
      "metadata": {
        "colab": {
          "base_uri": "https://localhost:8080/"
        },
        "id": "OBGAnFGGBgvg",
        "outputId": "428f36b2-631b-4dd1-aa7f-039c60f72381"
      },
      "execution_count": null,
      "outputs": [
        {
          "output_type": "execute_result",
          "data": {
            "text/plain": [
              "8"
            ]
          },
          "metadata": {},
          "execution_count": 19
        }
      ]
    },
    {
      "cell_type": "markdown",
      "source": [
        "b) print(tuple[-1][-1]['name'])"
      ],
      "metadata": {
        "id": "MYixTstYBwyT"
      }
    },
    {
      "cell_type": "code",
      "source": [
        "tuple1[-1][-1]['name']"
      ],
      "metadata": {
        "colab": {
          "base_uri": "https://localhost:8080/",
          "height": 35
        },
        "id": "dEBzV2krBuGs",
        "outputId": "cb33a7bb-e587-4381-876c-795e4a84daa5"
      },
      "execution_count": null,
      "outputs": [
        {
          "output_type": "execute_result",
          "data": {
            "text/plain": [
              "'Navneet'"
            ],
            "application/vnd.google.colaboratory.intrinsic+json": {
              "type": "string"
            }
          },
          "metadata": {},
          "execution_count": 20
        }
      ]
    },
    {
      "cell_type": "markdown",
      "source": [
        "c) fetch the value of roll_no from this tuple."
      ],
      "metadata": {
        "id": "Ubq63DsDIdCN"
      }
    },
    {
      "cell_type": "code",
      "source": [
        "last_element = tuple1[-1]\n",
        "first_dict = last_element[0]\n",
        "\n",
        "# Fetching the value associated with 'roll_no'\n",
        "roll_no_value = first_dict[\"roll_no\"]\n",
        "\n",
        "print(roll_no_value)"
      ],
      "metadata": {
        "colab": {
          "base_uri": "https://localhost:8080/"
        },
        "id": "-zTA0ZbvB-LA",
        "outputId": "48ef448f-d6c4-4829-ab43-4e9181910778"
      },
      "execution_count": null,
      "outputs": [
        {
          "output_type": "stream",
          "name": "stdout",
          "text": [
            "1\n"
          ]
        }
      ]
    },
    {
      "cell_type": "markdown",
      "source": [
        "d) print(tuple1[-3][1])"
      ],
      "metadata": {
        "id": "caRindg6K-7D"
      }
    },
    {
      "cell_type": "code",
      "source": [
        "print(tuple1[-3][1])"
      ],
      "metadata": {
        "colab": {
          "base_uri": "https://localhost:8080/"
        },
        "id": "y5sv7jFIIpIc",
        "outputId": "8a34a144-e484-445d-8a2b-535563b685a1"
      },
      "execution_count": null,
      "outputs": [
        {
          "output_type": "stream",
          "name": "stdout",
          "text": [
            "ji\n"
          ]
        }
      ]
    },
    {
      "cell_type": "markdown",
      "source": [
        "e) fetch the element '22' from this tuple."
      ],
      "metadata": {
        "id": "fGC2Npb0LMVA"
      }
    },
    {
      "cell_type": "code",
      "source": [
        "tuple1[6][2]"
      ],
      "metadata": {
        "colab": {
          "base_uri": "https://localhost:8080/"
        },
        "id": "I0jocbgfLK9Z",
        "outputId": "b01dd1ea-2329-45a8-c5d5-948ff9f4c9c8"
      },
      "execution_count": null,
      "outputs": [
        {
          "output_type": "execute_result",
          "data": {
            "text/plain": [
              "22"
            ]
          },
          "metadata": {},
          "execution_count": 24
        }
      ]
    },
    {
      "cell_type": "markdown",
      "source": [
        "1.6 Write a program to display the appropriate message as per the color of signal(RED-Stop/ yellow-Stay/Green-GO) at the road crossing."
      ],
      "metadata": {
        "id": "Gn0JWR-ELnZr"
      }
    },
    {
      "cell_type": "code",
      "source": [
        "signal_color = input('Enter signal color (Red, Yellow, Green): ')\n",
        "\n",
        "if signal_color == 'red':\n",
        "  print('Stop')\n",
        "elif signal_color == 'yellow':\n",
        "  print('Stay')\n",
        "elif signal_color == 'green':\n",
        "  print('Go')\n",
        "else:\n",
        "  print('Invalid color. please enter red, yellow or green')"
      ],
      "metadata": {
        "colab": {
          "base_uri": "https://localhost:8080/"
        },
        "id": "vwCr8ac_LjMo",
        "outputId": "aa731a42-72b9-453d-b9aa-ca4b8dc63825"
      },
      "execution_count": null,
      "outputs": [
        {
          "output_type": "stream",
          "name": "stdout",
          "text": [
            "Enter signal color (Red, Yellow, Green): red\n",
            "Stop\n"
          ]
        }
      ]
    },
    {
      "cell_type": "markdown",
      "source": [
        "1.7 Write a program to create a simple calculator performing only four basic operations(+,-,/,*)."
      ],
      "metadata": {
        "id": "k6WCjvh_NHeb"
      }
    },
    {
      "cell_type": "code",
      "source": [
        "def add(x,y):\n",
        "  return x + y\n",
        "\n",
        "def substract(x,y):\n",
        "  return x - y\n",
        "\n",
        "def multiply(x,y):\n",
        "  return x * y\n",
        "\n",
        "def divide(x,y):\n",
        "  return x / y\n",
        "\n",
        "# print('Simple Calculator')\n",
        "# print('Select operation')\n",
        "# print('1. Add(+)')\n",
        "# print('2. substract(-)')\n",
        "# print('3. multiply(*)')\n",
        "# print('4. Divide(/)')\n",
        "\n",
        "x = float(input('enter first amount: '))\n",
        "y = float(input('enter second amount: '))\n",
        "\n",
        "print(add(x,y))\n",
        "print(substract(x,y))\n",
        "print(multiply(x,y))\n",
        "print(divide(x,y))"
      ],
      "metadata": {
        "colab": {
          "base_uri": "https://localhost:8080/"
        },
        "id": "Ykupn3UtNBOW",
        "outputId": "cb723f9e-9dc2-4aef-8949-f34416d6ba35"
      },
      "execution_count": null,
      "outputs": [
        {
          "output_type": "stream",
          "name": "stdout",
          "text": [
            "enter first amount: 43\n",
            "enter second amount: 1\n",
            "44.0\n",
            "42.0\n",
            "43.0\n",
            "43.0\n"
          ]
        }
      ]
    },
    {
      "cell_type": "markdown",
      "source": [
        "1.8 Write a program to find the larger of the three pre-specified numbers using ternary operators."
      ],
      "metadata": {
        "id": "3N0o9Vm2R14C"
      }
    },
    {
      "cell_type": "code",
      "source": [
        "a = 10\n",
        "b =24\n",
        "c =55\n",
        "\n",
        "largest = a if (a > b and a >c) else (b if b>c else c)\n",
        "print(largest)"
      ],
      "metadata": {
        "colab": {
          "base_uri": "https://localhost:8080/"
        },
        "id": "I48Z0f6yRGgh",
        "outputId": "dbe4fc8f-f263-4495-dd88-49baa87c128f"
      },
      "execution_count": null,
      "outputs": [
        {
          "output_type": "stream",
          "name": "stdout",
          "text": [
            "55\n"
          ]
        }
      ]
    },
    {
      "cell_type": "markdown",
      "source": [
        "1.9 Write a program to find the factors of a whole number using a while loop."
      ],
      "metadata": {
        "id": "9xLNkW4dTq13"
      }
    },
    {
      "cell_type": "code",
      "source": [
        "number = int(input(\"Enter a whole number: \"))\n",
        "\n",
        "divisor = 1\n",
        "\n",
        "print(f\"Factors of {number} are:\")\n",
        "while divisor <= number:\n",
        "    if number % divisor == 0:\n",
        "        print(divisor)\n",
        "    divisor += 1\n"
      ],
      "metadata": {
        "colab": {
          "base_uri": "https://localhost:8080/"
        },
        "id": "8BtYp-Y_TIfI",
        "outputId": "3af382e4-c161-4785-e991-5f145bdb8563"
      },
      "execution_count": null,
      "outputs": [
        {
          "output_type": "stream",
          "name": "stdout",
          "text": [
            "Enter a whole number: 80\n",
            "Factors of 80 are:\n",
            "1\n",
            "2\n",
            "4\n",
            "5\n",
            "8\n",
            "10\n",
            "16\n",
            "20\n",
            "40\n",
            "80\n"
          ]
        }
      ]
    },
    {
      "cell_type": "markdown",
      "source": [
        "1.10. Write a program to find the sum of all the positive numbers entered by the user. As soon as the user\n",
        "enters a negative number, stop taking in any further input from the user and display the sum ."
      ],
      "metadata": {
        "id": "1TMGDNOsVknr"
      }
    },
    {
      "cell_type": "code",
      "source": [
        "sum = 0\n",
        "for i in range(1000):\n",
        "  num = int(input('enter a positive number'))\n",
        "\n",
        "  if num < 0:\n",
        "    break\n",
        "\n",
        "  sum += num\n",
        "\n",
        "print(sum)"
      ],
      "metadata": {
        "colab": {
          "base_uri": "https://localhost:8080/"
        },
        "id": "F4PALNxJU8KC",
        "outputId": "c57695da-2aa9-4197-b14d-e0ed5c2fa07a"
      },
      "execution_count": null,
      "outputs": [
        {
          "output_type": "stream",
          "name": "stdout",
          "text": [
            "enter a positive number121\n",
            "enter a positive number323\n",
            "enter a positive number323\n",
            "enter a positive number43\n",
            "enter a positive number-9\n",
            "810\n"
          ]
        }
      ]
    },
    {
      "cell_type": "markdown",
      "source": [
        "1.11 Write the program to find prime numbers between 2 to 100 using nested for loops.\n"
      ],
      "metadata": {
        "id": "HdWHr1JFPfyv"
      }
    },
    {
      "cell_type": "code",
      "source": [
        "for num in range(2, 100):\n",
        "  is_prime = True\n",
        "  for i in range(2, num):\n",
        "    if num % i == 0:\n",
        "      is_prime = False\n",
        "      break\n",
        "\n",
        "  if is_prime:\n",
        "    print(num)"
      ],
      "metadata": {
        "colab": {
          "base_uri": "https://localhost:8080/"
        },
        "id": "Xhw8W_bIOTey",
        "outputId": "d2e370b8-4bc7-49d4-b5a2-e090680b4cb7"
      },
      "execution_count": null,
      "outputs": [
        {
          "output_type": "stream",
          "name": "stdout",
          "text": [
            "2\n",
            "3\n",
            "5\n",
            "7\n",
            "11\n",
            "13\n",
            "17\n",
            "19\n",
            "23\n",
            "29\n",
            "31\n",
            "37\n",
            "41\n",
            "43\n",
            "47\n",
            "53\n",
            "59\n",
            "61\n",
            "67\n",
            "71\n",
            "73\n",
            "79\n",
            "83\n",
            "89\n",
            "97\n"
          ]
        }
      ]
    },
    {
      "cell_type": "markdown",
      "source": [
        "1.12 Write the programs for the following:\n",
        "\n",
        "1. Accept the marks of the student in five major subjects and disTlay the same.\n",
        "2. Calculate the sum of the marks of all subjects.Divide the total marks by number of subjects (i.e. 5), calculate\n",
        "percentage = total marks/5 and display the percentage.\n",
        "3. Find the grade of the student as per the following criteria . Hint: Use Match & case for this."
      ],
      "metadata": {
        "id": "LejQyDtAWqo0"
      }
    },
    {
      "cell_type": "code",
      "source": [
        "print('enter your score: ')\n",
        "sub1 = int(input('enter first subjects marks: '))\n",
        "sub2 = int(input('enter second subjects marks: '))\n",
        "sub3 = int(input('enter third subjects marks: '))\n",
        "sub4 = int(input('enter fourth subjects marks: '))\n",
        "sub5 = int(input('enter fifth subjects marks: '))\n",
        "\n",
        "percentage = ((sub1+sub2+sub3+sub4+sub5)/500) * 100\n",
        "\n",
        "if percentage > 85:\n",
        "  print('Your grade is A')\n",
        "elif percentage < 85 and percentage >= 75:\n",
        "  print(f'Your grade is B')\n",
        "elif percentage >= 50 and percentage <75:\n",
        "  print(f'Your grade is C')\n",
        "elif percentage > 30 and percentage <= 50:\n",
        "  print(f'Your grade is D')\n",
        "else:\n",
        "  print('you need to reappear for exam')"
      ],
      "metadata": {
        "colab": {
          "base_uri": "https://localhost:8080/"
        },
        "id": "pp6cHofdQBJF",
        "outputId": "648de594-c0ed-4fc0-a069-0dc3c18c75f2"
      },
      "execution_count": null,
      "outputs": [
        {
          "output_type": "stream",
          "name": "stdout",
          "text": [
            "enter your score: \n",
            "enter first subjects marks: 54\n",
            "enter second subjects marks: 65\n",
            "enter third subjects marks: 86\n",
            "enter fourth subjects marks: 43\n",
            "enter fifth subjects marks: 66\n",
            "Your grade is C\n"
          ]
        }
      ]
    },
    {
      "cell_type": "code",
      "source": [
        "66"
      ],
      "metadata": {
        "id": "ypcJkioLZRGb"
      },
      "execution_count": null,
      "outputs": []
    },
    {
      "cell_type": "markdown",
      "source": [
        "1.13 Write a program for VIBGYOR Spectrum based on their wavelength using."
      ],
      "metadata": {
        "id": "Asr7_Br6bgJL"
      }
    },
    {
      "cell_type": "code",
      "source": [
        "print('Enter the wavelength in range 400-720')\n",
        "wavelength = int(input('enter the wavelength'))\n",
        "\n",
        "if wavelength >=400 and wavelength < 440:\n",
        "  print('Spectrum color is Violet')\n",
        "\n",
        "elif wavelength >=440 and wavelength < 460:\n",
        "  print('Spectrum color is Indigo')\n",
        "\n",
        "elif wavelength >=460 and wavelength < 500:\n",
        "  print('Spectrum color is Blue')\n",
        "\n",
        "elif wavelength >=500 and wavelength < 570:\n",
        "  print('Spectrum color is Green')\n",
        "\n",
        "elif wavelength >=570 and wavelength < 590:\n",
        "  print('Spectrum color is Yellow')\n",
        "\n",
        "elif wavelength >=590 and wavelength < 620:\n",
        "  print('Spectrum color is Orange')\n",
        "\n",
        "elif wavelength >=620 and wavelength <= 720:\n",
        "  print('Spectrum color is Violet')\n",
        "\n",
        "else:\n",
        "  print('plz enter wavelength in range of 400-720')\n",
        "\n",
        "\n",
        "\n",
        "\n",
        "\n"
      ],
      "metadata": {
        "colab": {
          "base_uri": "https://localhost:8080/"
        },
        "id": "FpGpbwmwc-is",
        "outputId": "0b3df23c-0897-415b-8adb-46fc29d4e21d"
      },
      "execution_count": null,
      "outputs": [
        {
          "output_type": "stream",
          "name": "stdout",
          "text": [
            "Enter the wavelength in range 400-720\n",
            "enter the wavelength645\n",
            "Spectrum color is Violet\n"
          ]
        }
      ]
    },
    {
      "cell_type": "markdown",
      "source": [
        "1.14.Consider the gravitational interactions between the Earth, Moon, and Sun in our solar system.\n",
        "\n",
        "Given:\n",
        "\n",
        "mass_earth = 5.972e24 # Mass of Earth in kilograms\n",
        "\n",
        "mass_moon = 7.34767309e22 # Mass of Moon in kilograms\n",
        "\n",
        "mass_sun = 1.989e30 # Mass of Sun in kilograms\n",
        "\n",
        "distan0e_earth_sun = 1.496e11 # Average distan0e between Earth and Sun in meters\n",
        "\n",
        "distan0e_moon_earth = 3.844e8 # Average distan0e between Moon and Earth in meters"
      ],
      "metadata": {
        "id": "P9oCwgn8fEJc"
      }
    },
    {
      "cell_type": "markdown",
      "source": [
        "Calculate the gravitational for0e between the Earth and the Sun.\n",
        "\n",
        "Cal0ulate the gravitational for0e between the Moon and the Earth.\n",
        "\n",
        "Compare the 0al0ulated for0es to determine whi0h gravitational for0e is stronger.\n",
        "\n",
        "Explain whi0h celestial body (Earth or Moon is more attracted to the other based on the 0omparison."
      ],
      "metadata": {
        "id": "PGc_sLudiFz6"
      }
    },
    {
      "cell_type": "code",
      "source": [
        "# Given values\n",
        "G = 6.67430e-11  # Gravitational constant in m^3 kg^-1 s^-2\n",
        "mass_earth = 5.972e24  # Mass of Earth in kilograms\n",
        "mass_moon = 7.34767309e22  # Mass of Moon in kilograms\n",
        "mass_sun = 1.989e30  # Mass of Sun in kilograms\n",
        "distance_earth_sun = 1.496e11  # Average distance between Earth and Sun in meters\n",
        "distance_moon_earth = 3.844e8  # Average distance between Moon and Earth in meters\n",
        "\n",
        "# Calculate the gravitational force between the Earth and the Sun\n",
        "force_earth_sun = G * mass_earth * mass_sun / (distance_earth_sun ** 2)\n",
        "\n",
        "# Calculate the gravitational force between the Moon and the Earth\n",
        "force_moon_earth = G * mass_moon * mass_earth / (distance_moon_earth ** 2)\n",
        "\n",
        "# Print the results\n",
        "print(f\"Gravitational force between Earth and Sun: {force_earth_sun:.2e} N\")\n",
        "print(f\"Gravitational force between Moon and Earth: {force_moon_earth:.2e} N\")\n",
        "\n",
        "# Compare the forces\n",
        "if force_earth_sun > force_moon_earth:\n",
        "    print(\"The gravitational force between the Earth and the Sun is stronger.\")\n",
        "else:\n",
        "    print(\"The gravitational force between the Moon and the Earth is stronger.\")\n"
      ],
      "metadata": {
        "colab": {
          "base_uri": "https://localhost:8080/"
        },
        "id": "XyiuB6ZjdFYA",
        "outputId": "990fe9bb-0aff-49ad-8406-e21574163794"
      },
      "execution_count": null,
      "outputs": [
        {
          "output_type": "stream",
          "name": "stdout",
          "text": [
            "Gravitational force between Earth and Sun: 3.54e+22 N\n",
            "Gravitational force between Moon and Earth: 1.98e+20 N\n",
            "The gravitational force between the Earth and the Sun is stronger.\n"
          ]
        }
      ]
    },
    {
      "cell_type": "code",
      "source": [],
      "metadata": {
        "id": "J-YSg5kiivsl"
      },
      "execution_count": null,
      "outputs": []
    },
    {
      "cell_type": "markdown",
      "source": [
        "Q2. Design and implement a Python program for managing student information using object-oriented\n",
        "principles. Create a class called `Student` with encapsulated attributes for name, age, and roll number.\n",
        "Implement getter and setter methods for these attributes. Additionally, provide methods to display student\n",
        "information and update student details.\n",
        "\n",
        "Tasks\n",
        "\n",
        "i. Define the `Student` class with encapsulated attributes\n",
        "\n",
        "ii. Implement getter and setter methods for the attributes\n",
        "\n",
        "iii.  Write methods to display student information and update details\n",
        "\n",
        "iv. Create instances of the `Student` class and test the implemented functionality"
      ],
      "metadata": {
        "id": "PWQqqx5sllz2"
      }
    },
    {
      "cell_type": "code",
      "source": [
        "class student:\n",
        "  def __init__(self, name, age, roll_number):\n",
        "    self.__name = name\n",
        "    self.__age = age\n",
        "    self.__roll_number = roll_number\n",
        "\n",
        "    # getter method\n",
        "  def get_name(self):\n",
        "    return self.__name\n",
        "  def get_age(self):\n",
        "    return self.__age\n",
        "  def get_roll_number(self):\n",
        "    return self.__roll_number\n",
        "\n",
        "    # setter method\n",
        "  def set_name(self, name):\n",
        "    self.__name = name\n",
        "  def set_age(self, age):\n",
        "    self.__age = age\n",
        "  def set_roll_number(self, roll_number):\n",
        "    self.__roll_number = roll_number\n",
        "\n",
        "  # method to display student info.\n",
        "  def display_info(self):\n",
        "    print(f'Name:{self.get_name()}')\n",
        "    print(f'age:{self.get_age()}')\n",
        "    print(f'roll_number: {self.get_roll_number()}')\n",
        "\n",
        "\n",
        "student1 = student('Tejas', 20, 's123')\n",
        "student1.display_info()"
      ],
      "metadata": {
        "colab": {
          "base_uri": "https://localhost:8080/"
        },
        "id": "sei3rJBjJr3p",
        "outputId": "ff4e0fc8-43b2-45a4-fdcb-22d2fbdae7af"
      },
      "execution_count": null,
      "outputs": [
        {
          "output_type": "stream",
          "name": "stdout",
          "text": [
            "Name:Tejas\n",
            "age:20\n",
            "roll_number: s123\n"
          ]
        }
      ]
    },
    {
      "cell_type": "markdown",
      "source": [
        "Q3. Develop a Python program for managing library resources efficiently. Design a class named `LibraryBook`\n",
        "with attributes lie boo name, author, and availability status. Implement methods for borrowing and\n",
        "returning boos while ensuring proper encapsulation of attributes.\n",
        "\n",
        "Tasks\n",
        "\n",
        "i. Create the `LibraryBook` class with encapsulated attributes.\n",
        "\n",
        "ii. Implement methods for borrowing and returning books.\n",
        "\n",
        "iii. Ensure proper encapsulation to protect book details.\n",
        "\n",
        "iv. Test the borrowing and returning functionality with sample data."
      ],
      "metadata": {
        "id": "q9wqiWhDPvs-"
      }
    },
    {
      "cell_type": "code",
      "source": [
        "class LibraryBook:\n",
        "  def __init__(self, book_name, author):\n",
        "    self.__book_name = book_name\n",
        "    self.__author = author\n",
        "    self.__is_available = True\n",
        "\n",
        "  def borrow_book(self):\n",
        "    if self.__is_available:\n",
        "      print(f\"The book '{self.__book_name}' by {self.__author} has been borrowed\")\n",
        "      self.__is_available = False\n",
        "    else:\n",
        "      print(f\"sry, the book '{self.__book_name}' by {self.__author} has not available\")\n",
        "\n",
        "  def return_book(self):\n",
        "    if not self.__is_available:\n",
        "      self.__is_available = True\n",
        "      print(f\"The book '{self.__book_name}' by {self.__author} has been returned\")\n",
        "    else:\n",
        "      print(f'The book {self.__book_name} by {self.__author} was not been borrowed.')\n",
        "\n",
        "  def diplay_info(self):\n",
        "    status = 'Available' if self.__is_available else 'Not available'\n",
        "    print(f'Book name: {self.__book_name}')\n",
        "    print(f'Author: {self.__author}')\n",
        "    print(f'Availability status: {status}')\n",
        "\n",
        "\n",
        "book1 = LibraryBook('Playing it my way', 'Sachin')\n",
        "book2 = LibraryBook('1985', 'jogn')\n",
        "\n",
        "book1.diplay_info()\n",
        "book1.borrow_book()"
      ],
      "metadata": {
        "colab": {
          "base_uri": "https://localhost:8080/"
        },
        "id": "TFyW6P_cOz5c",
        "outputId": "d6e9ed6e-e560-4df7-ff8a-9fdc9814170d"
      },
      "execution_count": null,
      "outputs": [
        {
          "output_type": "stream",
          "name": "stdout",
          "text": [
            "Book name: Playing it my way\n",
            "Author: Sachin\n",
            "Availability status: Available\n",
            "The book 'Playing it my way' by Sachin has been borrowed\n"
          ]
        }
      ]
    },
    {
      "cell_type": "code",
      "source": [
        "book1.borrow_book()"
      ],
      "metadata": {
        "colab": {
          "base_uri": "https://localhost:8080/"
        },
        "id": "9ZfzbxdIWhgq",
        "outputId": "b61344d1-1bf3-4ac1-8456-407f73b72faa"
      },
      "execution_count": null,
      "outputs": [
        {
          "output_type": "stream",
          "name": "stdout",
          "text": [
            "The book 'Playing it my way' by Sachin has been borrowed\n"
          ]
        }
      ]
    },
    {
      "cell_type": "code",
      "source": [
        "book1.return_book()"
      ],
      "metadata": {
        "colab": {
          "base_uri": "https://localhost:8080/"
        },
        "id": "CBg14kx4XzXq",
        "outputId": "24d0a9d0-e97c-491e-be35-29f00be17ba1"
      },
      "execution_count": null,
      "outputs": [
        {
          "output_type": "stream",
          "name": "stdout",
          "text": [
            "The book 'Playing it my way' by Sachin has been returned\n"
          ]
        }
      ]
    },
    {
      "cell_type": "code",
      "source": [
        "book1.diplay_info()"
      ],
      "metadata": {
        "colab": {
          "base_uri": "https://localhost:8080/"
        },
        "id": "jFvPet6zX4oR",
        "outputId": "ef190939-9b41-4a7e-f329-c4c2b4a6af42"
      },
      "execution_count": null,
      "outputs": [
        {
          "output_type": "stream",
          "name": "stdout",
          "text": [
            "Book name: Playing it my way\n",
            "Author: Sachin\n",
            "Availability status: Not available\n"
          ]
        }
      ]
    },
    {
      "cell_type": "markdown",
      "source": [
        "Q4. Create a simple bankng system using object-oriented concepts in Python. Design classes representing\n",
        "different types of bank accounts such as savings and checking. Implement methods for deposit, withdraw,\n",
        "and balance inquiry. Utilize inheritance to manage different account types efficiently.\n",
        "\n",
        "Tasks\n",
        "\n",
        "i. Define base class(es) for bank accounts with common attributes and methods\n",
        "\n",
        "ii. Implement subclasses for specific account types (e.g., SavingsAccount, CheckingAccount)\n",
        "\n",
        "iii. Provide methods for deposit, withdraw, and balance inquiry in each subclass\n",
        "\n",
        "iv. Test the banking system by creating instances of different account types and performing transactions."
      ],
      "metadata": {
        "id": "mtklvTIFYthZ"
      }
    },
    {
      "cell_type": "code",
      "source": [
        "class BankAccount:\n",
        "  def __init__(self, account_number, account_holder, balance=0):\n",
        "    self.account_number = account_number\n",
        "    self.account_holder = account_holder\n",
        "    self.balance = balance\n",
        "\n",
        "  def deposit(self, amount):\n",
        "    if amount > 0:\n",
        "      self.balance += amount\n",
        "      print(f'deposited {amount} into account {self.account_number}')\n",
        "    else:\n",
        "      print('Deposit amount must be positive.')\n",
        "\n",
        "  def withdraw(self, amount):\n",
        "    if amount > 0:\n",
        "      if amount < self.balance:\n",
        "        self.balance -= amount\n",
        "        print(f'withdraw {amount} from account {self.account_number} and new remaining balance is {self.balance}')\n",
        "      else:\n",
        "        print('Insufficient funds for withdrawal')\n",
        "    else:\n",
        "      print('Withdrawn amount must be postive.')\n",
        "\n",
        "\n",
        "  def get_balance(self):\n",
        "    print(f'Account {self.account_number} balance: ${self.balance}')\n",
        "    return self.balance\n",
        "\n",
        "  def display_info(self):\n",
        "    print(f'Account number: {self.account_number}')\n",
        "    print(f'Account Holder: {self.account_holder}')\n",
        "    print(f'balance: {self.balance}')\n",
        "\n",
        "\n",
        "class SavingAccount(BankAccount):\n",
        "  def __init__(self, account_number, account_holder, balance=0, interest_rate=0.2):\n",
        "    super().__init__(account_number, account_holder, balance)\n",
        "    self.interest_rate = interest_rate\n",
        "\n",
        "  def apply_interest(self):\n",
        "    interest = self.balance * self.interest_rate\n",
        "    self.balance += interest\n",
        "    print(f'Applied interest of {interest} from checking account {self.account_number}. New balance: ${self.balance}')\n",
        "\n",
        "class CheckingAccount(BankAccount):\n",
        "  def __init__(self, account_number, account_holder, balance=0, overdraft_limit=500):\n",
        "    super().__init__(account_number, account_holder, balance)\n",
        "    self.overdraft_limit = overdraft_limit\n",
        "\n",
        "  def wihdrawn(self, amount):\n",
        "    if amount > 0:\n",
        "      if amount <= self.balance + self.overdraft_limit:\n",
        "        self.balance -= amount\n",
        "        print(f'Withdraw {amount} from checking account {self.account_number}. new balance {self.balance}')\n",
        "\n",
        "      else:\n",
        "        print('Withdrawal amount must be positice')\n",
        "    else:\n",
        "      print('Withdrawal amount must be positive.')\n",
        "\n",
        "savings = SavingAccount('Sa123', 'Tejas', 1000)\n",
        "savings.display_info()\n",
        "savings.deposit(500)\n",
        "savings.display_info()\n",
        "savings.withdraw(600)\n",
        "savings.display_info()\n"
      ],
      "metadata": {
        "colab": {
          "base_uri": "https://localhost:8080/"
        },
        "id": "5k0pPuzGYAxv",
        "outputId": "608bef99-1d7d-42a4-8234-1385befe3d5b"
      },
      "execution_count": null,
      "outputs": [
        {
          "output_type": "stream",
          "name": "stdout",
          "text": [
            "Account number: Sa123\n",
            "Account Holder: Tejas\n",
            "balance: 1000\n",
            "deposited 500 into account Sa123\n",
            "Account number: Sa123\n",
            "Account Holder: Tejas\n",
            "balance: 1500\n",
            "withdraw 600 from account Sa123 and new remaining balance is 900\n",
            "Account number: Sa123\n",
            "Account Holder: Tejas\n",
            "balance: 900\n"
          ]
        }
      ]
    },
    {
      "cell_type": "markdown",
      "source": [
        "Q5. Write a Python program that models different animals and their sounds. Design a base class called\n",
        "`Animal` with a method `make_sound()`. Create subclasses like `Dog` and `Cat` that override the\n",
        "`make_sound()` method to produce appropriate sounds.\n",
        "\n",
        "Tasks\n",
        "\n",
        "i. Define the `Animal` class with a method `make_sound()`\n",
        "\n",
        "ii. Create subclasses `Dog` and `Cat` that override the `make_sound()` method\n",
        "\n",
        "iii. Implement the sound generation logic for each subclass\n",
        "\n",
        "iv. Test the program by creating instances of `Dog` and `Cat` and calling the `make_sound()` method."
      ],
      "metadata": {
        "id": "fpfQJtL1xPNm"
      }
    },
    {
      "cell_type": "code",
      "source": [
        "class Animal:\n",
        "  def make_sound(self):\n",
        "    pass\n",
        "\n",
        "class Dog(Animal):\n",
        "  def make_sound(self):\n",
        "    return 'Woof! Woof!'\n",
        "\n",
        "class cat(Animal):\n",
        "  def make_sound(self):\n",
        "    return 'Meow! Meow!'\n",
        "\n",
        "dog = Dog()\n",
        "cat = cat()\n",
        "\n",
        "print('Dog Sound', dog.make_sound())\n",
        "print('Cat Sound', cat.make_sound())"
      ],
      "metadata": {
        "colab": {
          "base_uri": "https://localhost:8080/"
        },
        "id": "hIv0JubQwSX7",
        "outputId": "e3352fad-b83f-40d0-ec49-5a78f42ac0a6"
      },
      "execution_count": null,
      "outputs": [
        {
          "output_type": "stream",
          "name": "stdout",
          "text": [
            "Dog Sound Woof! Woof!\n",
            "Cat Sound Meow! Meow!\n"
          ]
        }
      ]
    },
    {
      "cell_type": "markdown",
      "source": [
        "Q6. Write a code for Restaurant Management System Using OOPS.\n",
        "\n",
        "i. Create a MenuItem class that has attributes such as name, description, price, and category.\n",
        "\n",
        "ii. Implement methods to add a new menu item, update menu item information, and remove a menu item\n",
        "from the menu.\n",
        "\n",
        "iii. Use en'apsulation to hide the menu item's unique identification number.\n",
        "\n",
        "iv. Inherit from the MenuItem class to create a FoodItem class and a BeverageItem class, each with their own\n",
        "specifiy attributes and methods."
      ],
      "metadata": {
        "id": "fWFZt8ah1Z2P"
      }
    },
    {
      "cell_type": "code",
      "source": [
        "class MenuItem:\n",
        "    __id_counter = 0  # Class variable to generate unique IDs for each menu item\n",
        "\n",
        "    def __init__(self, name, description, price, category):\n",
        "        MenuItem.__id_counter += 1\n",
        "        self.__item_id = MenuItem.__id_counter  # Encapsulated unique ID\n",
        "        self.name = name\n",
        "        self.description = description\n",
        "        self.price = price\n",
        "        self.category = category\n",
        "\n",
        "    def get_item_id(self):\n",
        "        return self.__item_id\n",
        "\n",
        "    def update_item(self, name=None, description=None, price=None, category=None):\n",
        "        if name:\n",
        "            self.name = name\n",
        "        if description:\n",
        "            self.description = description\n",
        "        if price:\n",
        "            self.price = price\n",
        "        if category:\n",
        "            self.category = category\n",
        "        print(f\"Item {self.__item_id} updated successfully.\")\n",
        "\n",
        "    def display_item_info(self):\n",
        "        print(f\"Item ID: {self.__item_id}\")\n",
        "        print(f\"Name: {self.name}\")\n",
        "        print(f\"Description: {self.description}\")\n",
        "        print(f\"Price: ${self.price:.2f}\")\n",
        "        print(f\"Category: {self.category}\")\n",
        "\n",
        "\n",
        "class FoodItem(MenuItem):\n",
        "    def __init__(self, name, description, price, cuisine_type):\n",
        "        super().__init__(name, description, price, category=\"Food\")\n",
        "        self.cuisine_type = cuisine_type\n",
        "\n",
        "    def display_item_info(self):\n",
        "        super().display_item_info()\n",
        "        print(f\"Cuisine Type: {self.cuisine_type}\")\n",
        "\n",
        "\n",
        "class BeverageItem(MenuItem):\n",
        "    def __init__(self, name, description, price, is_alcoholic):\n",
        "        super().__init__(name, description, price, category=\"Beverage\")\n",
        "        self.is_alcoholic = is_alcoholic\n",
        "\n",
        "    def display_item_info(self):\n",
        "        super().display_item_info()\n",
        "        alcohol_status = \"Alcoholic\" if self.is_alcoholic else \"Non-Alcoholic\"\n",
        "        print(f\"Alcoholic: {alcohol_status}\")\n",
        "\n",
        "\n",
        "pizza = FoodItem(\"Pizza\", \"Cheese Pizza with extra toppings\", 9.99, \"Italian\")\n",
        "coffee = BeverageItem(\"Coffee\", \"Hot brewed coffee\", 2.99, is_alcoholic=False)\n",
        "wine = BeverageItem(\"Wine\", \"Red wine\", 12.99, is_alcoholic=True)"
      ],
      "metadata": {
        "id": "Tzt_8pEZz49U"
      },
      "execution_count": null,
      "outputs": []
    },
    {
      "cell_type": "code",
      "source": [
        "pizza.display_item_info()"
      ],
      "metadata": {
        "colab": {
          "base_uri": "https://localhost:8080/"
        },
        "id": "42JF031H5b0f",
        "outputId": "db5acf3c-380c-42ee-f459-ca03520fb9d0"
      },
      "execution_count": null,
      "outputs": [
        {
          "output_type": "stream",
          "name": "stdout",
          "text": [
            "Item ID: 1\n",
            "Name: Pizza\n",
            "Description: Cheese Pizza with extra toppings\n",
            "Price: $9.99\n",
            "Category: Food\n",
            "Cuisine Type: Italian\n"
          ]
        }
      ]
    },
    {
      "cell_type": "markdown",
      "source": [
        "Q7. Write a code for Hotel Management System using OOps:\n",
        "\n",
        "i) Create a Room class that has attributes such as room number, room type, rate, and availability (private).\n",
        "\n",
        "ii) Implement methods to book a room, check in a guest, and check out a guest\n",
        "& Use en'apsulation to hide the room's unique identification number\n",
        "\n",
        "iii) Inherit from the Room class to create a SuiteRoom class and a StandardRoom class, each with their own\n",
        "specific attributes and methods."
      ],
      "metadata": {
        "id": "RR0Uf3VJ5nt0"
      }
    },
    {
      "cell_type": "code",
      "source": [
        "class Room:\n",
        "  __id_counter = 0\n",
        "\n",
        "  def __init__(self, room_number, room_type, rate):\n",
        "    Room.__id_counter += 1\n",
        "    self.__room_id = Room.__id_counter\n",
        "    # Encapsulated unique ID.\n",
        "    self.room_number = room_number\n",
        "    self.room_type = room_type\n",
        "    self.rate = rate\n",
        "    self.__availability = True\n",
        "    # Private attribute for room availability.\n",
        "\n",
        "  def get_room_id(self):\n",
        "    return self.__room_id\n",
        "\n",
        "  def is_available(self):\n",
        "    return self.__availability\n",
        "\n",
        "  def book_room(self):\n",
        "    if self.__availability:\n",
        "      print(f'Room {self.room_number} has been successfully booked.')\n",
        "      self.__availability = False\n",
        "    else:\n",
        "      print(f'room {self.room_number} is already booked.')\n",
        "\n",
        "  def check_in(self):\n",
        "    if not self.__availability:\n",
        "      print(f'Guest checked into room {self.room_number}.')\n",
        "    else:\n",
        "      print(f'Room {self.room_number} is not yet booked.')\n",
        "\n",
        "  def check_out(self):\n",
        "    if not self.__availability:\n",
        "      self.__availability = True\n",
        "      print(f'Guest checked out of room {self.room_number}. Room is now available')\n",
        "    else:\n",
        "      print(f'Room {self.room_number} is already available.')\n",
        "\n",
        "\n",
        "  def display_room_info(self):\n",
        "        availability_status = \"Available\" if self.__availability else \"Booked\"\n",
        "        print(f\"Room ID: {self.__room_id}\")\n",
        "        print(f\"Room Number: {self.room_number}\")\n",
        "        print(f\"Room Type: {self.room_type}\")\n",
        "        print(f\"Rate: ${self.rate:.2f}\")\n",
        "        print(f\"Availability: {availability_status}\")\n",
        "\n",
        "\n",
        "class SuiteRoom(Room):\n",
        "  def __init__(self, room_number, rate, suite_type, amenities):\n",
        "    super().__init__(room_number, room_type='Suite', rate=rate)\n",
        "    self.suite_type = suite_type\n",
        "    self.amenities = amenities\n",
        "\n",
        "  def display_room_info(self):\n",
        "    super().display_room_info()\n",
        "    print(f'Suite Type: {self.suite_type}')\n",
        "    print(f\"Amenities: {','.join(self.amenities)}\")\n",
        "\n",
        "\n",
        "class StandardRoom(Room):\n",
        "    def __init__(self, room_number, rate, bed_type):\n",
        "        super().__init__(room_number, room_type=\"Standard\", rate=rate)\n",
        "        self.bed_type = bed_type\n",
        "\n",
        "    def display_room_info(self):\n",
        "        super().display_room_info()\n",
        "        print(f\"Bed Type: {self.bed_type}\")\n",
        "\n",
        "\n",
        "suite1 = SuiteRoom(room_number=101, rate=250.00, suite_type=\"Executive\", amenities=[\"Wi-Fi\", \"Jacuzzi\", \"Ocean View\"])\n",
        "\n",
        "print(suite1.display_room_info())\n",
        "\n",
        "print(suite1.check_in())\n",
        "print(suite1.check_out)\n",
        "\n"
      ],
      "metadata": {
        "colab": {
          "base_uri": "https://localhost:8080/"
        },
        "id": "dSvWPuNi5kWN",
        "outputId": "d2c4c309-9022-426a-9bd4-42ad5e0960d9"
      },
      "execution_count": null,
      "outputs": [
        {
          "output_type": "stream",
          "name": "stdout",
          "text": [
            "Room ID: 1\n",
            "Room Number: 101\n",
            "Room Type: Suite\n",
            "Rate: $250.00\n",
            "Availability: Available\n",
            "Suite Type: Executive\n",
            "Amenities: Wi-Fi,Jacuzzi,Ocean View\n",
            "None\n",
            "Room 101 is not yet booked.\n",
            "None\n",
            "<bound method Room.check_out of <__main__.SuiteRoom object at 0x7ca382333730>>\n"
          ]
        }
      ]
    },
    {
      "cell_type": "markdown",
      "source": [
        "Q8. Write a code for Fitness Club Management System using OOPS.\n",
        "I. Create a Member class that has attributes such as name, age, membership type, and membership status\n",
        "(private)\n",
        "\n",
        "II. Implement methods to register a new member, renew a membership, and cancel a membership\n",
        "\n",
        "iii. Use en'apsulation to hide the member's unique identification number\n",
        "\n",
        "iv. Inherit from the Member class to create a FamilyMember class and an IndividualMember class, each with\n",
        "their own specific attributes and methods"
      ],
      "metadata": {
        "id": "J7Ym66ghD3UT"
      }
    },
    {
      "cell_type": "code",
      "source": [
        "class Member:\n",
        "    __id_counter = 0  # Class variable to generate unique IDs for each member\n",
        "\n",
        "    def __init__(self, name, age, membership_type):\n",
        "        Member.__id_counter += 1\n",
        "        self.__member_id = Member.__id_counter  # Encapsulated unique ID\n",
        "        self.name = name\n",
        "        self.age = age\n",
        "        self.membership_type = membership_type\n",
        "        self.__membership_status = False  # Private attribute for membership status\n",
        "\n",
        "    def get_member_id(self):\n",
        "        return self.__member_id\n",
        "\n",
        "    def register_member(self):\n",
        "        self.__membership_status = True\n",
        "        print(f\"Member {self.name} has been successfully registered.\")\n",
        "\n",
        "    def renew_membership(self):\n",
        "        if self.__membership_status:\n",
        "            print(f\"Membership for {self.name} has been renewed.\")\n",
        "        else:\n",
        "            print(f\"Membership for {self.name} is not active. Please register first.\")\n",
        "\n",
        "    def cancel_membership(self):\n",
        "        if self.__membership_status:\n",
        "            self.__membership_status = False\n",
        "            print(f\"Membership for {self.name} has been canceled.\")\n",
        "        else:\n",
        "            print(f\"Membership for {self.name} is not active.\")\n",
        "\n",
        "    def display_member_info(self):\n",
        "        membership_status = \"Active\" if self.__membership_status else \"Inactive\"\n",
        "        print(f\"Member ID: {self.__member_id}\")\n",
        "        print(f\"Name: {self.name}\")\n",
        "        print(f\"Age: {self.age}\")\n",
        "        print(f\"Membership Type: {self.membership_type}\")\n",
        "        print(f\"Membership Status: {membership_status}\")\n",
        "\n",
        "\n",
        "class FamilyMember(Member):\n",
        "    def __init__(self, name, age, membership_type, family_name, number_of_members):\n",
        "        super().__init__(name, age, membership_type)\n",
        "        self.family_name = family_name\n",
        "        self.number_of_members = number_of_members\n",
        "\n",
        "    def display_member_info(self):\n",
        "        super().display_member_info()\n",
        "        print(f\"Family Name: {self.family_name}\")\n",
        "        print(f\"Number of Family Members: {self.number_of_members}\")\n",
        "\n",
        "\n",
        "class IndividualMember(Member):\n",
        "    def __init__(self, name, age, membership_type, personal_trainer):\n",
        "        super().__init__(name, age, membership_type)\n",
        "        self.personal_trainer = personal_trainer\n",
        "\n",
        "    def display_member_info(self):\n",
        "        super().display_member_info()\n",
        "        print(f\"Personal Trainer: {self.personal_trainer}\")\n",
        "\n",
        "\n",
        "# Testing the Fitness Club Management System\n",
        "# Creating instances of FamilyMember and IndividualMember\n",
        "family_member = FamilyMember(name=\"John Doe\", age=40, membership_type=\"Family\", family_name=\"Doe Family\", number_of_members=4)\n",
        "individual_member = IndividualMember(name=\"Jane Smith\", age=28, membership_type=\"Individual\", personal_trainer=\"Yes\")\n",
        "\n",
        "# Registering members\n",
        "family_member.register_member()\n",
        "individual_member.register_member()\n",
        "\n",
        "# Displaying member information\n",
        "print(\"\\nDisplaying Member Information:\")\n",
        "family_member.display_member_info()\n",
        "print()\n",
        "individual_member.display_member_info()\n",
        "\n",
        "# Renewing memberships\n",
        "print(\"\\nRenewing Memberships:\")\n",
        "family_member.renew_membership()\n",
        "individual_member.renew_membership()\n",
        "\n",
        "# Canceling memberships\n",
        "print(\"\\nCanceling Memberships:\")\n",
        "family_member.cancel_membership()\n",
        "individual_member.cancel_membership()\n"
      ],
      "metadata": {
        "colab": {
          "base_uri": "https://localhost:8080/"
        },
        "id": "JZXl3edUCtzV",
        "outputId": "d994406c-6cea-484a-c019-245ded19a403"
      },
      "execution_count": null,
      "outputs": [
        {
          "output_type": "stream",
          "name": "stdout",
          "text": [
            "Member John Doe has been successfully registered.\n",
            "Member Jane Smith has been successfully registered.\n",
            "\n",
            "Displaying Member Information:\n",
            "Member ID: 1\n",
            "Name: John Doe\n",
            "Age: 40\n",
            "Membership Type: Family\n",
            "Membership Status: Active\n",
            "Family Name: Doe Family\n",
            "Number of Family Members: 4\n",
            "\n",
            "Member ID: 2\n",
            "Name: Jane Smith\n",
            "Age: 28\n",
            "Membership Type: Individual\n",
            "Membership Status: Active\n",
            "Personal Trainer: Yes\n",
            "\n",
            "Renewing Memberships:\n",
            "Membership for John Doe has been renewed.\n",
            "Membership for Jane Smith has been renewed.\n",
            "\n",
            "Canceling Memberships:\n",
            "Membership for John Doe has been canceled.\n",
            "Membership for Jane Smith has been canceled.\n"
          ]
        }
      ]
    },
    {
      "cell_type": "markdown",
      "source": [
        "Q9. Write a code for Event Management System using OOps.\n",
        "\n",
        "i. Create an Event class that has attributes such as name, date, time, location, and list of attendees (private).\n",
        "\n",
        "ii. Implement methods to create a new event, add or remove attendees, and get the total number of\n",
        "attendees.\n",
        "iii. Use encapsulation to hide the event's unique identification number.\n",
        "\n",
        "iv. Inherit from the Event 'lass to 'reate a PrivateEvent class and a Publi'Event class, each with their own\n",
        "specific attributes and methods."
      ],
      "metadata": {
        "id": "c5UbNoB1eQdN"
      }
    },
    {
      "cell_type": "code",
      "source": [
        "class Event:\n",
        "    __id_counter = 0  # Class variable to generate unique IDs for each member\n",
        "\n",
        "    def __init__(self, name, date, location):\n",
        "        Event.__id_counter += 1\n",
        "        self.event_id = Event.__id_counter\n",
        "        self.name = name\n",
        "        self.date = date\n",
        "        self.location = location\n",
        "        self.__attendess = []\n",
        "\n",
        "    def add_attendee(self, attendee):\n",
        "      self.__attendess.append(attendee)\n",
        "      print(f'{attendee} added to {self.name}')\n",
        "\n",
        "    def remove_attendee(self, attendee):\n",
        "      if attendee in self.__attendess:\n",
        "        self.__attendess.remove(attendee)\n",
        "        print(f'{attendee} removed from {self.name}')\n",
        "      else:\n",
        "        print(f'{attendee} not found in the attendees list')\n",
        "\n",
        "    def get_total_attendee(self):\n",
        "      return len(self.__attendess)\n",
        "\n",
        "\n",
        "    def get_event_details(self):\n",
        "      return {\n",
        "          'event_id': self.event_id,\n",
        "          'name': self.name,\n",
        "          'date': self.date,\n",
        "          'location': self.location,\n",
        "          'total_attendess': self.get_total_attendee()\n",
        "      }\n",
        "\n",
        "\n",
        "class PrivateEvent(Event):\n",
        "  def __init__(self, name, date, location, host):\n",
        "    super().__init__(name, date, location)\n",
        "    self.host = host\n",
        "\n",
        "  def invitations(self):\n",
        "    print(f'Invatations send by {self.host} for {self.name}')\n",
        "\n",
        "class publicEvent(Event):\n",
        "  def __init__(self, name, date, location , entry_fee):\n",
        "    super().__init__(name, date, location)\n",
        "    self.entry_fee = entry_fee\n",
        "\n",
        "  def announce_event(self):\n",
        "    print(f'{self.name} announced! Entry fee: {self.entry_fee}')\n",
        "\n",
        "\n",
        "private_event = PrivateEvent(\"Board Meeting\", \"2024-09-15\", \"Conference Room\", \"CEO\")\n",
        "private_event.add_attendee(\"Tejas\")\n",
        "private_event.add_attendee(\"Smith\")\n",
        "private_event.invitations()\n",
        "print(private_event.get_event_details())\n",
        "\n"
      ],
      "metadata": {
        "id": "286Ab498GOjy",
        "colab": {
          "base_uri": "https://localhost:8080/"
        },
        "outputId": "2fa469f3-3fcc-4d8b-9899-eb2fef0dd500"
      },
      "execution_count": null,
      "outputs": [
        {
          "output_type": "stream",
          "name": "stdout",
          "text": [
            "Tejas added to Board Meeting\n",
            "Smith added to Board Meeting\n",
            "Invatations send by CEO for Board Meeting\n",
            "{'event_id': 1, 'name': 'Board Meeting', 'date': '2024-09-15', 'location': 'Conference Room', 'total_attendess': 2}\n"
          ]
        }
      ]
    },
    {
      "cell_type": "markdown",
      "source": [
        "Q10. Write a code for Airline Reservation System using OOps.\n",
        "\n",
        "i) Create a Flight class that has attributes such as flight number, departure and arrival airports, departure and\n",
        "arrival times, and available seats (private)\n",
        "\n",
        "ii) Implement methods to book a seat, cancel a reservation, and get the remaining available seats\n",
        "\n",
        "iii) Use encapsulation to hide the flight's unique identification number\n",
        "\n",
        "iv) Inherit from the Flight class to create a Domesti'Flight class and an InternationalFlight class, each with their\n",
        "own specific attributes and methods."
      ],
      "metadata": {
        "id": "HTEjZnAe-U4E"
      }
    },
    {
      "cell_type": "code",
      "source": [
        "class Flight:\n",
        "  __id_counter = 0\n",
        "  # Class variable to generate unique IDs for each member\n",
        "  def __init__(self, flight_num, departure_airport, arrival_airport, departure_time, arrival_time, available_seats):\n",
        "    Flight.__id_counter += 1\n",
        "    # increment the counter for each new instance\n",
        "    self.__flight_id = Flight.__id_counter\n",
        "    self.flight_num = flight_num\n",
        "    self.departure_airport = departure_airport\n",
        "    self.arrival_airport = arrival_airport\n",
        "    self.departure_time = departure_time\n",
        "    self.arrival_time = arrival_time\n",
        "    self.__available_seats = available_seats\n",
        "\n",
        "  def book_seat(self):\n",
        "    if self.__available_seats > 0:\n",
        "      print(f'Seat booked successfully on flight {self.flight_num}')\n",
        "      self.__available_seats -= 1\n",
        "    else:\n",
        "      print(f'No seats available on flight {self.flight_num}')\n",
        "\n",
        "  def cancel_reservation(self):\n",
        "    self.__available_seats += 1\n",
        "    print(f'Reservation cancelled successfully on flight {self.flight_num}')\n",
        "\n",
        "  def get_remaining_seats(self):\n",
        "    return self.__available_seats\n",
        "\n",
        "  def get_flight_details(self):\n",
        "    return {\n",
        "        'Flight ID': self.__flight_id,\n",
        "        'Flight Num': self.flight_num,\n",
        "        'departure Airport': self.departure_airport,\n",
        "        'Arrival Airport': self.arrival_airport,\n",
        "        'Departure time': self.departure_time,\n",
        "        'arrival time': self.arrival_time,\n",
        "        'Available seats': self.__available_seats\n",
        "    }\n",
        "\n",
        "# derived class for domestic flight\n",
        "class domesticflight(Flight):\n",
        "  def __init__(self, flight_num, departure_airport, arrival_airport, departure_time, arrival_time, available_seats, cabin_class):\n",
        "    super().__init__(flight_num, departure_airport, arrival_airport, departure_time, arrival_time, available_seats)\n",
        "    self.cabin_class = cabin_class\n",
        "\n",
        "  def display_cabin_class(self):\n",
        "    print(f'cabin class for domestic flight is {self.cabin_class}')\n",
        "\n",
        "class Internationalflight(Flight):\n",
        "  def __init__(self, flight_num, departure_airport, arrival_airport, departure_time, arrival_time, available_seats, passport_required):\n",
        "    super().__init__(flight_num, departure_airport, arrival_airport, departure_time, arrival_time, available_seats)\n",
        "    self.passport_required = passport_required\n",
        "\n",
        "  def check_pass(self):\n",
        "    if self.passport_required:\n",
        "      print(f'passport is required for flight {self.flight_num}')\n",
        "    else:\n",
        "      print('not required')\n",
        "\n",
        "domestic_flight = domesticflight(\"DF123\", \"JFK\", \"LAX\", \"2024-09-15 08:00\", \"2024-09-15 11:00\", 100, \"Economy\")\n",
        "domestic_flight.book_seat()\n",
        "domestic_flight.book_seat()\n",
        "domestic_flight.display_cabin_class()\n",
        "print(domestic_flight.get_flight_details())\n",
        "\n",
        "# Create an International Flight\n",
        "international_flight = Internationalflight(\"IF456\", \"LAX\", \"LHR\", \"2024-09-20 18:00\", \"2024-09-21 06:00\", 200, True)\n",
        "international_flight.book_seat()\n",
        "international_flight.cancel_reservation()\n",
        "international_flight.check_pass()\n",
        "print(international_flight.get_flight_details())\n"
      ],
      "metadata": {
        "colab": {
          "base_uri": "https://localhost:8080/"
        },
        "id": "8y_mISEtmPwF",
        "outputId": "8d1dabde-f187-4b10-f7e1-a39b944e0472"
      },
      "execution_count": null,
      "outputs": [
        {
          "output_type": "stream",
          "name": "stdout",
          "text": [
            "Seat booked successfully on flight DF123\n",
            "Seat booked successfully on flight DF123\n",
            "cabin class for domestic flight is Economy\n",
            "{'Flight ID': 1, 'Flight Num': 'DF123', 'departure Airport': 'JFK', 'Arrival Airport': 'LAX', 'Departure time': '2024-09-15 08:00', 'arrival time': '2024-09-15 11:00', 'Available seats': 98}\n",
            "Seat booked successfully on flight IF456\n",
            "Reservation cancelled successfully on flight IF456\n",
            "passport is required for flight IF456\n",
            "{'Flight ID': 2, 'Flight Num': 'IF456', 'departure Airport': 'LAX', 'Arrival Airport': 'LHR', 'Departure time': '2024-09-20 18:00', 'arrival time': '2024-09-21 06:00', 'Available seats': 200}\n"
          ]
        }
      ]
    },
    {
      "cell_type": "markdown",
      "source": [
        "Q11. define a python module named constants.py containing constants like pi and speed of light."
      ],
      "metadata": {
        "id": "3ybPUNhAVlSU"
      }
    },
    {
      "cell_type": "code",
      "source": [
        "# contstants.py\n",
        "\n",
        "Pi = 3.141\n",
        "\n",
        "# speed of light (m/s)\n",
        "speed_of_light = 299792458"
      ],
      "metadata": {
        "id": "4jNOBaIfFki3"
      },
      "execution_count": null,
      "outputs": []
    },
    {
      "cell_type": "code",
      "source": [
        "# from constants import Pi, speed_of_light\n",
        "print(f'value of pi: {Pi}')\n",
        "print(f'Speed of light: {speed_of_light} m/s')"
      ],
      "metadata": {
        "colab": {
          "base_uri": "https://localhost:8080/"
        },
        "id": "Trua8i78kVcC",
        "outputId": "bb76c230-35a1-4c57-b38e-1cc3da4a9618"
      },
      "execution_count": null,
      "outputs": [
        {
          "output_type": "stream",
          "name": "stdout",
          "text": [
            "value of pi: 3.141\n",
            "Speed of light: 299792458 m/s\n"
          ]
        }
      ]
    },
    {
      "cell_type": "markdown",
      "source": [
        "Q12. Write a python module named calculator.py containing functions for addition, substraction, multiplication and division."
      ],
      "metadata": {
        "id": "Ak4CjI13k3MB"
      }
    },
    {
      "cell_type": "code",
      "source": [
        "# calculator.py\n",
        "\n",
        "def add(x,y):\n",
        "  return x + y\n",
        "\n",
        "def subtract(x,y):\n",
        "  return x - y\n",
        "\n",
        "def multiply(x,y):\n",
        "  return x * y\n",
        "\n",
        "def divide(x,y):\n",
        "  if y == 0:\n",
        "    raise ValueError('cannot divide by zero')\n",
        "  return x / y\n"
      ],
      "metadata": {
        "id": "s11uXtDskg2K"
      },
      "execution_count": null,
      "outputs": []
    },
    {
      "cell_type": "code",
      "source": [
        "# from calculator import add, subtract, multiply, divide\n",
        "# importing module named calculator. and importing various methods from it.\n",
        "\n",
        "x = 10\n",
        "y = 5\n",
        "\n",
        "print(f\"Addition: {add(x, y)}\")\n",
        "print(f\"Subtraction: {subtract(x, y)}\")\n",
        "print(f\"Multiplication: {multiply(x, y)}\")\n",
        "print(f\"Division: {divide(x, y)}\")\n"
      ],
      "metadata": {
        "colab": {
          "base_uri": "https://localhost:8080/"
        },
        "id": "4XfHu2mFmN0X",
        "outputId": "18584ba0-21c1-4170-abed-b1327585a791"
      },
      "execution_count": null,
      "outputs": [
        {
          "output_type": "stream",
          "name": "stdout",
          "text": [
            "Addition: 15\n",
            "Subtraction: 5\n",
            "Multiplication: 50\n",
            "Division: 2.0\n"
          ]
        }
      ]
    },
    {
      "cell_type": "markdown",
      "source": [
        "Q13. Implement a python package structure for a project named ecommerce, containing modules for product management and order processing."
      ],
      "metadata": {
        "id": "pOMVwB8wqncs"
      }
    },
    {
      "cell_type": "code",
      "source": [
        "ecommerce/\n",
        "│\n",
        "├── __init__.py           # Marks the ecommerce directory as a Python package\n",
        "├── product_management/\n",
        "│   ├── __init__.py       # Marks the product_management directory as a package\n",
        "│   ├── product.py        # Module for managing products\n",
        "│   └── inventory.py      # Module for managing inventory\n",
        "│\n",
        "└── order_processing/\n",
        "    ├── __init__.py       # Marks the order_processing directory as a package\n",
        "    ├── order.py          # Module for processing orders\n",
        "    └── payment.py        # Module for managing payments\n"
      ],
      "metadata": {
        "colab": {
          "base_uri": "https://localhost:8080/",
          "height": 106
        },
        "id": "xPM__8f1mvfw",
        "outputId": "a213c3b1-476e-400b-c164-0f3dcf579d8a"
      },
      "execution_count": null,
      "outputs": [
        {
          "output_type": "error",
          "ename": "SyntaxError",
          "evalue": "invalid character '│' (U+2502) (<ipython-input-20-28428f88ff3d>, line 2)",
          "traceback": [
            "\u001b[0;36m  File \u001b[0;32m\"<ipython-input-20-28428f88ff3d>\"\u001b[0;36m, line \u001b[0;32m2\u001b[0m\n\u001b[0;31m    │\u001b[0m\n\u001b[0m    ^\u001b[0m\n\u001b[0;31mSyntaxError\u001b[0m\u001b[0;31m:\u001b[0m invalid character '│' (U+2502)\n"
          ]
        }
      ]
    },
    {
      "cell_type": "markdown",
      "source": [
        "Q14. Implement a python module named string_utils.py containing functions for string manipulation, such as reversing and capitalizing strings."
      ],
      "metadata": {
        "id": "oAwhd3kJuy0B"
      }
    },
    {
      "cell_type": "code",
      "source": [
        "# string_utils.py\n",
        "\n",
        "def reverse_string(s):\n",
        "  return s[::-1]\n",
        "\n",
        "def capitalize_string(s):\n",
        "  return s.capitalize()\n"
      ],
      "metadata": {
        "id": "kdTtNKrLuU3n"
      },
      "execution_count": null,
      "outputs": []
    },
    {
      "cell_type": "code",
      "source": [
        "# from string_utils import reverse_string, capitalize_string\n",
        "\n",
        "s = 'hello world'\n",
        "\n",
        "reversed = reverse_string(s)\n",
        "capitalize = capitalize_string(s)\n",
        "\n",
        "print(f'reversed string : {reversed}')\n",
        "print(f'capitalized string: {capitalize}')"
      ],
      "metadata": {
        "colab": {
          "base_uri": "https://localhost:8080/"
        },
        "id": "b5WU5GDwv_cQ",
        "outputId": "b6bdc2a0-9371-4025-8d29-e307432b4f66"
      },
      "execution_count": null,
      "outputs": [
        {
          "output_type": "stream",
          "name": "stdout",
          "text": [
            "reversed string : dlrow olleh\n",
            "capitalized string: Hello world\n"
          ]
        }
      ]
    },
    {
      "cell_type": "markdown",
      "source": [
        "Q15. write a python module named file_operations.py with functions for reading, writing, and appending data to a file."
      ],
      "metadata": {
        "id": "8bSKg7epw2EQ"
      }
    },
    {
      "cell_type": "code",
      "source": [
        "# for writing data to a python file\n",
        "def write(file_path, data):\n",
        "  with open('file_path', 'w') as file:\n",
        "    file.write(data)\n",
        "\n",
        "# for appending data to a python file\n",
        "def append(file_path, data):\n",
        "  with open('file_path', 'a') as file:\n",
        "    file.write(data)\n",
        "\n",
        "\n",
        "# for reading data from .py file.\n",
        "def reading(file_path):\n",
        "  with open('file_path', 'r') as file:\n",
        "    return file.read()"
      ],
      "metadata": {
        "id": "ew5BifCpwdru"
      },
      "execution_count": null,
      "outputs": []
    },
    {
      "cell_type": "markdown",
      "source": [
        "Q16. Write a Python program to create a text file named \"employees.txt\" and write the details of employees,\n",
        "including their name, age, and salary, into the file."
      ],
      "metadata": {
        "id": "Yc9AggDy0LKU"
      }
    },
    {
      "cell_type": "code",
      "source": [
        "employees = [\n",
        "    {'name': 'Tejas', 'age': 22, 'salary': 45000},\n",
        "    {'name': 'dev', 'age': 24, 'salary': 34000}\n",
        "]\n",
        "\n",
        "with open('employee.txt', 'w') as file:\n",
        "  file.write('name\\tage\\tsalary\\n')\n",
        "  for employee in employees:\n",
        "    file.write(f\"{employee['name']}\\t{employee['age']}\\t{employee['salary']}\\n\")"
      ],
      "metadata": {
        "id": "jIn5a3lizTsR"
      },
      "execution_count": null,
      "outputs": []
    },
    {
      "cell_type": "markdown",
      "source": [
        "Q17. Develop a Python script that opens an existing text file named \"inventory.txt\" in read mode and displays\n",
        "the contents of the file line by line."
      ],
      "metadata": {
        "id": "nrq7-jZGy-C7"
      }
    },
    {
      "cell_type": "code",
      "source": [
        "with open('inventory.txt', 'w') as file:\n",
        "  file.write(\"Hello world'\\n\")\n",
        "  file.write('simple example of writing file.')\n"
      ],
      "metadata": {
        "id": "F8tp4dL_qc4Y"
      },
      "execution_count": null,
      "outputs": []
    },
    {
      "cell_type": "code",
      "source": [
        "with open ('inventory.txt', 'r') as file:\n",
        "  for i in file:\n",
        "    print(i, end='')\n",
        "  # end = '' - prvents adding extra newlines."
      ],
      "metadata": {
        "id": "-wQ9k6P1saQ4",
        "colab": {
          "base_uri": "https://localhost:8080/"
        },
        "outputId": "79727eca-aa56-47ef-8ac2-6f482b226b26"
      },
      "execution_count": null,
      "outputs": [
        {
          "output_type": "stream",
          "name": "stdout",
          "text": [
            "Hello world'\n",
            "simple example of writing file."
          ]
        }
      ]
    },
    {
      "cell_type": "markdown",
      "source": [
        "Q18. Create a Python script that reads a text file named \"expenses.txt\" and calculates the total amount spent\n",
        "on various expenses listed in the file."
      ],
      "metadata": {
        "id": "_Dl3MhTOEFn_"
      }
    },
    {
      "cell_type": "code",
      "source": [
        "expenses = [\n",
        "    {'name': 'rent', 'price': 200},\n",
        "    {'name': 'groceries', 'price': 150},\n",
        "    {'name': 'Internet', 'price': 68}\n",
        "]\n",
        "with open('expenses.txt', 'w') as file:\n",
        "  file.write('name\\tprice\\n')\n",
        "  for i in expenses:\n",
        "    # price = price[int]\n",
        "    file.write(f\"{i['name']}\\t{i['price']}\\n\")"
      ],
      "metadata": {
        "id": "J7frA98MCMbD"
      },
      "execution_count": null,
      "outputs": []
    },
    {
      "cell_type": "code",
      "source": [
        "def calculate_total_expenses(file_name):\n",
        "  total_expenses = 0\n",
        "  try:\n",
        "    with open('expenses.txt', 'r') as file:\n",
        "      next(file)\n",
        "      # next(file) - function is used to skip the header lined\n",
        "      for i in file:\n",
        "        parts = i.strip().split()\n",
        "        amount = float(parts[-1])\n",
        "        total_expenses += amount\n",
        "\n",
        "    print(f'total amount spent: {total_expenses}')\n",
        "\n",
        "  except FileNotFoundError:\n",
        "    print('file not found')\n",
        "  except Exception as e:\n",
        "    print(f'an error occurred: {e}')\n",
        "\n",
        "file = 'expenses.txt'\n",
        "calculate_total_expenses(file)"
      ],
      "metadata": {
        "colab": {
          "base_uri": "https://localhost:8080/"
        },
        "id": "mApCDYr-FaMa",
        "outputId": "3e71ae10-914e-4f34-a39a-245d6d7f2b09"
      },
      "execution_count": null,
      "outputs": [
        {
          "output_type": "stream",
          "name": "stdout",
          "text": [
            "total amount spent: 418.0\n"
          ]
        }
      ]
    },
    {
      "cell_type": "code",
      "source": [],
      "metadata": {
        "id": "Dgp153Q8n588"
      },
      "execution_count": null,
      "outputs": []
    },
    {
      "cell_type": "markdown",
      "source": [
        "Q19. Create a python program that reads a text file named 'paragraph.txt' and counts the occurrences of each word in the paragraph, displaying the results in alphabetical order."
      ],
      "metadata": {
        "id": "ENLdJa1sNvbP"
      }
    },
    {
      "cell_type": "code",
      "source": [
        "with open('paragraph.txt', 'w') as file:\n",
        "  file.write(\"This is a sample paragraph.This paragraph is meant to test the word count program.The word count program should count all words, regardless of their case.\")"
      ],
      "metadata": {
        "id": "2pdJwpFhJJOI"
      },
      "execution_count": null,
      "outputs": []
    },
    {
      "cell_type": "code",
      "source": [
        "text = open('paragraph.txt', 'r')\n",
        "\n",
        "d = dict()\n",
        "\n",
        "for i in text:\n",
        "  line = i.lower()\n",
        "  words = line.split(\" \")\n",
        "\n",
        "  for word in words:\n",
        "    if word in d:\n",
        "      d[word] += 1\n",
        "    else:\n",
        "      d[word] = 1\n",
        "\n",
        "for key in d.keys():\n",
        "  print(key, \":\", d[key])\n",
        "\n"
      ],
      "metadata": {
        "colab": {
          "base_uri": "https://localhost:8080/"
        },
        "id": "p6aKkjUMNdND",
        "outputId": "5aa0835e-7aa4-4645-d807-92f17eef4ce6"
      },
      "execution_count": null,
      "outputs": [
        {
          "output_type": "stream",
          "name": "stdout",
          "text": [
            "this : 1\n",
            "is : 2\n",
            "a : 1\n",
            "sample : 1\n",
            "paragraph.this : 1\n",
            "paragraph : 1\n",
            "meant : 1\n",
            "to : 1\n",
            "test : 1\n",
            "the : 1\n",
            "word : 2\n",
            "count : 3\n",
            "program.the : 1\n",
            "program : 1\n",
            "should : 1\n",
            "all : 1\n",
            "words, : 1\n",
            "regardless : 1\n",
            "of : 1\n",
            "their : 1\n",
            "case. : 1\n"
          ]
        }
      ]
    },
    {
      "cell_type": "markdown",
      "source": [
        "20. What do you mean by Measure of Central Tendency and Measures of Dispersion .How it can be\n",
        "calculated.*italicized text*"
      ],
      "metadata": {
        "id": "i-y_nDgeTBNu"
      }
    },
    {
      "cell_type": "markdown",
      "source": [
        "**Measure of central Tendency** :- One value around which data is revolving.\n",
        "\n",
        "CT - Represents the center of data.\n",
        "\n",
        "Most common measures of CT are :-\n",
        "1. Mean - arithmatic mean value of data. It is the sum of all values in dataset divided by total number of values.\n",
        "\n",
        "Mean = sum of all value/total count of value\n",
        "\n",
        "2. Median - Median is mid value of any data. It is the middle value in a dataset when the values are arranged in ascending or descending order.\n",
        "\n",
        "3. Mode - It is the value that occurs most frequently in a dataset.\n",
        "\n",
        "**Measures of Dispersion** :- These measures describe the spread of data points within a dataset. They provide insight into how much the data deviates from the CT.\n",
        "\n",
        "Most common measures of dispersion are:\n",
        "1. Range - It is difference between maximum and minimum values in a dataset.\n",
        "\n",
        "Range = maximum value - minimum value\n",
        "\n",
        "2. Variance - It is average of the squared differences from the mean.\n",
        "\n",
        "Variance = (xi - m)**2/2\n",
        "\n",
        "3. Standard Deviation - It is Square root of variance.\n",
        "\n",
        "SD = (Variance)*0.5\n",
        "\n",
        "4. Quantile - This are values that divide a list of no. into quarters(equal parts).\n",
        "\n",
        "5. Interquartile Range(IQR) - It is the difference between the third quartile(Q3) and the first quartile(Q1).\n",
        "\n",
        "IQR = Q3 - Q1"
      ],
      "metadata": {
        "id": "EsFeRf27jcre"
      }
    },
    {
      "cell_type": "markdown",
      "source": [
        "Q21. What do you mean by skewness. Explain its types. use graph to show.\n"
      ],
      "metadata": {
        "id": "dNXLRTmzp-9j"
      }
    },
    {
      "cell_type": "markdown",
      "source": [
        "**Skewness** - It is a statistical measure that describes the asymmetry of the distribution of data points in a dataset.\n",
        "\n",
        "It indicated whether the data is concentrated more on one side of the mean than the other.\n",
        "\n",
        "Skewness is a dataset symmetry.\n",
        "\n",
        "skewness types :-\n",
        "\n",
        "1. **Positive skeweness(right-skewed distribution)**: In this, tail on the right side is longer than left side.\n",
        "The mean is greater than the median, and both are greater than the mode.\n",
        "\n",
        "  Eg. Distribution of salary in a company, Distribution of marks in diff. exam.\n",
        "\n",
        "2. **Negative Skewness(left-skewed distribution)**: In this, tail on the left side is larger than right side.\n",
        "In this, mode is greater than median, and median is greater than mean.\n",
        "\n",
        "  Eg. Death rate, marks in exam.\n",
        "\n",
        "3. **Zero Skewness(Symmetrical Distribution)** :- In this data is evenly distributed on both side of the mean. The mean, median and mode are equal.\n",
        "\n",
        "  Eg. Height of Individuals in large population.\n",
        "\n",
        "\n",
        "**formula** -\n",
        "Skewness = ((xi - m)**3) /(n*(sigma)**3)\n",
        "\n",
        "xi = each individual dp\n",
        "m = mean\n",
        "sigma = SD\n",
        "n = no. of dp"
      ],
      "metadata": {
        "id": "ag-OiSV3qKY8"
      }
    },
    {
      "cell_type": "markdown",
      "source": [
        "![image.png](data:image/png;base64,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)"
      ],
      "metadata": {
        "id": "MbQE8kURve-R"
      }
    },
    {
      "cell_type": "markdown",
      "source": [
        "Q22. Explain PROBABILITY MASS FUNCTION (PMF) and PROBABILITY DENSITY FUNCTION (PDF). and what is the\n",
        "difference between them?"
      ],
      "metadata": {
        "id": "pOpJqEC9vqLs"
      }
    },
    {
      "cell_type": "markdown",
      "source": [
        "**Probability Mass function(PMF)** :- It is used for discrete random variables. It gives the probability that a discrete random variable is exactly equal to some value.\n",
        "\n",
        "If X is a discrete random variable, then the PMF of X is  \n",
        "          p(X-x) - p(x)\n",
        "  where p(x) = probability that the random variable X takes the value x.\n",
        "\n",
        "**Eg. Throwing a dice.**\n",
        "\n",
        "\n",
        "**Probability Density Function(PDF)** :- It is used for continuous random variables. It represents the probability density at each point in the range of continuous variable.\n",
        "The probability of the variable falling within a particular range is given by area under curve.\n",
        "\n",
        "mathematical representation :- if X is continuous random variable, then the PDF of X is denoted as f(x) and probability that X falls within a range [a,b] is given by\n",
        "        P(a <= X <= b) - integration a to b (f(x)) dx\n",
        "\n",
        "**eg. The height of people in a population.**\n",
        "\n",
        "\n",
        "**Difference between PMF and PDF** :\n",
        "\n",
        "1. Type of variable:  PMF is discrete random variables and PDF is continuoss random variables.\n",
        "2. Probability Interpretation: PMF gives same probability for various points, while PDF  at a specific point does not give a probability directly, instead probabilities are found by integrating the PDF over an interval.\n",
        "\n",
        "3. PMF are summed over discrete points while PDF are calculated as the area under the curve."
      ],
      "metadata": {
        "id": "v10mESsuxN1-"
      }
    },
    {
      "cell_type": "code",
      "source": [],
      "metadata": {
        "id": "JYf0ip4b3qfH"
      },
      "execution_count": null,
      "outputs": []
    },
    {
      "cell_type": "markdown",
      "source": [
        "Q23.What is correlation. Explain its type in details.what are the methods of determining correlation"
      ],
      "metadata": {
        "id": "-y5xPMpT3jmc"
      }
    },
    {
      "cell_type": "markdown",
      "source": [
        "**Correlation** - It measures the strength and direction of a linear relationship between two variables. It finds how changes in one variable are associates with changes in another variable.\n",
        "\n",
        "**Types of Correlation**:\n",
        "\n",
        "1. **Positive Correlation** : As one variable increases, the other variable also increases.\n",
        "\n",
        "  Eg. Height and weight of indiviuals often have a positive correlation\n",
        "\n",
        "  correlation coefficient(r): 0 to 1.\n",
        "\n",
        "2. **Negative Correlation** : As one variable increases, the other variable decreases.\n",
        "\n",
        "  Eg. The spped of a car and time taken to travel a fixed distance often have a negative correlation.\n",
        "\n",
        "  correlation coefficient(r) : -1 to 0.\n",
        "\n",
        "3. **No Correlation**: No pattern that can be detected between the variables.\n",
        "\n",
        "  Eg. Shoe size and intelligence\n",
        "\n",
        "\n",
        "**Methods of Determining Correlation**\n",
        "\n",
        "1. **Pearson Correlation Coefficient**: Measures the linear relationship between two variables. It ranges from -1 to 1, where 1 indicates a perfect positive linear relationship, -1 indicates a perfect negative linear relationship and 0 indicates no linear relationship.\n",
        "\n",
        "Formula:  \n",
        "\n",
        "![image.png](data:image/png;base64,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)\n",
        "\n",
        "r\t=\tcorrelation coefficient\n",
        "\n",
        "x_{i}\t=\tvalues of the x-variable in a sample\n",
        "\n",
        "{x}bar\t=\tmean of the values of the x-variable\n",
        "\n",
        "y_{i}\t=\tvalues of the y-variable in a sample\n",
        "\n",
        "\\bar{y}\t=\tmean of the values of the y-variable\n",
        "\n",
        "\n",
        "use - Best for normally distributes data with linear relationships.\n",
        "\n",
        "\n",
        "2. Spearman's Rank Correlation Coefficient : Measures the strength and direction of the monotonic relationship between two ranked variables.\n",
        "\n",
        "Formula\n",
        "\n",
        "![image.png](data:image/png;base64,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)"
      ],
      "metadata": {
        "id": "gcQMtCpB575q"
      }
    },
    {
      "cell_type": "markdown",
      "source": [
        "Q24. Calculate coefficient of correlation between the marks obtained by 10 students in Accountancy and\n",
        "statistics:\n",
        "\n",
        "Use Karl Pearson’s Coefficient of Correlation Method to find it."
      ],
      "metadata": {
        "id": "4SokKOOpCaTo"
      }
    },
    {
      "cell_type": "markdown",
      "source": [
        "Formula of Karl Pearson Correlation are\n",
        "\n",
        "\n",
        "\n",
        "![image.png](data:image/png;base64,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)"
      ],
      "metadata": {
        "id": "ailAsaZ8Eb-G"
      }
    },
    {
      "cell_type": "markdown",
      "source": [
        "steps:\n",
        "1. calculate Means:\n",
        "            X = summation of x/ total count of x\n",
        "            y = summation of y/total count of y\n",
        "\n",
        "2. calculate Covariance:\n",
        "            Cov(X,y) = summation((X(i) - X)(y(i) - y)/n)\n",
        "\n",
        "3. calculate SD:\n",
        "            sigma(x) = square_root(summation(X(i)-X)/n)\n",
        "            sigma(y) = square_root(summation(y(i)-y)/n)\n",
        "\n",
        "4. compute karl pearson correlation coefficient:\n",
        "\n",
        "        r = Cov(X,y)/(sigma(x).sigma(y))\n",
        "\n",
        "\n",
        "r = 0.64\n",
        "\n",
        "The coefficient of correlation r between the marks obtained in Accountancy and Statistics in approximately 0.64, indicating a moderate positive correlation."
      ],
      "metadata": {
        "id": "qYHPmgVVFJm1"
      }
    },
    {
      "cell_type": "code",
      "source": [],
      "metadata": {
        "id": "bNzytbTGQYVr"
      },
      "execution_count": null,
      "outputs": []
    },
    {
      "cell_type": "markdown",
      "source": [
        "Q25. Discuss the 4 differences between correlation and regression."
      ],
      "metadata": {
        "id": "yPcpVFTUKRyu"
      }
    },
    {
      "cell_type": "markdown",
      "source": [
        "Key differences between correlation and regression.\n",
        "\n",
        "1. **Purpose**:\n",
        "\n",
        "Correlation : It measures the strength and direction of the linear relationship between two variables. It finds how changes in one variable are associates with changes in another variable.\n",
        "\n",
        "Regression : Models the relationship between a dependent variable and one or more independent variables. It is used to predict the value of the dependent variable based on the independent variables.\n",
        "\n",
        "2. **Directionality**:\n",
        "\n",
        "Correlation : Symmetrical.\n",
        "Regression: Asymmetrical.\n",
        "\n",
        "3. **Output**:\n",
        "\n",
        "Correlation: provides a single number between -1 and 1, indicating the strength and direction of the linear relationship.\n",
        "\n",
        "Regression: Provides an equation of the form Y = mx+c, which can be used to predict the dependent variable Y based on the independent variable X.\n",
        "\n",
        "4. **use cases**:\n",
        "\n",
        "correlation: Used to assess how closly two variables move together. eg. examing relationship between height and weight.\n",
        "\n",
        "regression : used to make prediction.\n",
        "eg.predicting wt.based on height of person."
      ],
      "metadata": {
        "id": "TNCZXC8IKxdF"
      }
    },
    {
      "cell_type": "code",
      "source": [],
      "metadata": {
        "id": "6W0HUslDKZMG"
      },
      "execution_count": null,
      "outputs": []
    },
    {
      "cell_type": "markdown",
      "source": [
        "Q26. Find the most likely price at Delhi corresponding to the price of Rs. 70 at Agra from the following data:\n",
        "Coefficient of correlation between the prices of the two places +0.8."
      ],
      "metadata": {
        "id": "J_7yTT5TOQUa"
      }
    },
    {
      "cell_type": "markdown",
      "source": [
        "Formula for Estimation:\n",
        "To find the most likely price at Delhi (\n",
        "𝑋\n",
        "𝐷\n",
        "X\n",
        "D\n",
        "​\n",
        " ) given the price at Agra (\n",
        "𝑋\n",
        "𝐴\n",
        "X\n",
        "A\n",
        "​\n",
        " ), we use the formula for the regression line:\n",
        "\n",
        "𝑋\n",
        "𝐷\n",
        "=\n",
        "𝑋\n",
        "ˉ\n",
        "𝐷\n",
        "+\n",
        "𝑟\n",
        "⋅\n",
        "𝜎\n",
        "𝐷\n",
        "𝜎\n",
        "𝐴\n",
        "⋅\n",
        "(\n",
        "𝑋\n",
        "𝐴\n",
        "−\n",
        "𝑋\n",
        "ˉ\n",
        "𝐴\n",
        ")\n",
        "X\n",
        "D\n",
        "​\n",
        " =\n",
        "X\n",
        "ˉ\n",
        "  \n",
        "D\n",
        "​\n",
        " +\n",
        "σ\n",
        "A\n",
        "​\n",
        "\n",
        "r⋅σ\n",
        "D\n",
        "​\n",
        "\n",
        "​\n",
        " ⋅(X\n",
        "A\n",
        "​\n",
        " −\n",
        "X\n",
        "ˉ\n",
        "  \n",
        "A\n",
        "​\n",
        " )\n",
        "Steps:\n",
        "Find the mean and standard deviation for both locations.\n",
        "\n",
        "If these are not provided, you'll need to use sample data to compute them.\n",
        "Apply the formula:\n",
        "\n",
        "For demonstration, assume:\n",
        "\n",
        "Mean price at Agra (\n",
        "𝑋\n",
        "ˉ\n",
        "𝐴\n",
        "X\n",
        "ˉ\n",
        "  \n",
        "A\n",
        "​\n",
        " ) = Rs. 60\n",
        "Standard deviation at Agra (\n",
        "𝜎\n",
        "𝐴\n",
        "σ\n",
        "A\n",
        "​\n",
        " ) = Rs. 15\n",
        "Mean price at Delhi (\n",
        "𝑋\n",
        "ˉ\n",
        "𝐷\n",
        "X\n",
        "ˉ\n",
        "  \n",
        "D\n",
        "​\n",
        " ) = Rs. 80\n",
        "Standard deviation at Delhi (\n",
        "𝜎\n",
        "𝐷\n",
        "σ\n",
        "D\n",
        "​\n",
        " ) = Rs. 20\n",
        "Then,\n",
        "\n",
        "𝑋\n",
        "𝐷\n",
        "=\n",
        "𝑋\n",
        "ˉ\n",
        "𝐷\n",
        "+\n",
        "𝑟\n",
        "⋅\n",
        "𝜎\n",
        "𝐷\n",
        "𝜎\n",
        "𝐴\n",
        "⋅\n",
        "(\n",
        "𝑋\n",
        "𝐴\n",
        "−\n",
        "𝑋\n",
        "ˉ\n",
        "𝐴\n",
        ")\n",
        "X\n",
        "D\n",
        "​\n",
        " =\n",
        "X\n",
        "ˉ\n",
        "  \n",
        "D\n",
        "​\n",
        " +\n",
        "σ\n",
        "A\n",
        "​\n",
        "\n",
        "r⋅σ\n",
        "D\n",
        "​\n",
        "\n",
        "​\n",
        " ⋅(X\n",
        "A\n",
        "​\n",
        " −\n",
        "X\n",
        "ˉ\n",
        "  \n",
        "A\n",
        "​\n",
        " )\n",
        "\n",
        "𝑋\n",
        "𝐷\n",
        "=\n",
        "80\n",
        "+\n",
        "0.8\n",
        "⋅\n",
        "20\n",
        "15\n",
        "⋅\n",
        "(\n",
        "70\n",
        "−\n",
        "60\n",
        ")\n",
        "X\n",
        "D\n",
        "​\n",
        " =80+\n",
        "15\n",
        "0.8⋅20\n",
        "​\n",
        " ⋅(70−60)\n",
        "\n",
        "𝑋\n",
        "𝐷\n",
        "=\n",
        "80\n",
        "+\n",
        "16\n",
        "15\n",
        "⋅\n",
        "10\n",
        "X\n",
        "D\n",
        "​\n",
        " =80+\n",
        "15\n",
        "16\n",
        "​\n",
        " ⋅10\n",
        "\n",
        "𝑋\n",
        "𝐷\n",
        "=\n",
        "80\n",
        "+\n",
        "160\n",
        "15\n",
        "≈\n",
        "80\n",
        "+\n",
        "10.67\n",
        "X\n",
        "D\n",
        "​\n",
        " =80+\n",
        "15\n",
        "160\n",
        "​\n",
        " ≈80+10.67\n",
        "\n",
        "𝑋\n",
        "𝐷\n",
        "≈\n",
        "90.67\n",
        "X\n",
        "D\n",
        "​\n",
        " ≈90.67\n",
        "Therefore, the most likely price at Delhi corresponding to the price of Rs. 70 at Agra is approximately Rs. 90.67.\n",
        "\n",
        "Note: To get a precise estimate, you need the actual means and standard deviations for Agra and Delhi prices."
      ],
      "metadata": {
        "id": "IJYboOl4Og7z"
      }
    },
    {
      "cell_type": "code",
      "source": [],
      "metadata": {
        "id": "E4BFIcPTOeh4"
      },
      "execution_count": null,
      "outputs": []
    },
    {
      "cell_type": "markdown",
      "source": [
        "Q27. In a partially destroyed laboratory record of an analysis of correlation data, the following results only are\n",
        "legible: Variance of x = 9, Regression equations are: (i) 8x−10y = −66; (ii) 40x − 18y = 214. What are (a) the\n",
        "mean values of x and y, (b) the coefficient of correlation between x and y, (c) the σ of y."
      ],
      "metadata": {
        "id": "Wu_1Kl3EsLZe"
      }
    },
    {
      "cell_type": "code",
      "source": [],
      "metadata": {
        "id": "HpnAxAo1sS7R"
      },
      "execution_count": null,
      "outputs": []
    },
    {
      "cell_type": "markdown",
      "source": [
        "Q28.What is Normal Distribution? What are the four Assumptions of Normal Distribution? Explain in detail."
      ],
      "metadata": {
        "id": "ltX4-HalsiSI"
      }
    },
    {
      "cell_type": "markdown",
      "source": [
        "**Normal Distribution** :- It is also known as the Gaussian distribution, is a continuous probability distribution that is symmetric and bell-shaped.\n",
        "It is a type of continuous prob. distribution for a real-values random variable.\n",
        "\n",
        "**characteristics of Normal Distribution** -\n",
        "1. Symmetric - distribution is symmetric, meaning left and right sides of distribution are mirror images.\n",
        "\n",
        "2. Skewness = 0\n",
        "\n",
        "3. mean = median = mode :- The mean, median and mode are all equal and located at the center of the distribution.\n",
        "\n",
        "4. kurtosis = 3\n",
        "\n",
        "**Assumptions of Normal Distribution** :-\n",
        "1. Random Sampling - the data should be collected through a process that ensures each individual has an equal chance of being selected.\n",
        "2. Independence - The observations or data points should be independent of each other.\n",
        "3. Homogeneity of Variance\n",
        "4. Normally Distributed Residuals\n",
        "\n"
      ],
      "metadata": {
        "id": "41IaosHvtUzr"
      }
    },
    {
      "cell_type": "code",
      "source": [],
      "metadata": {
        "id": "bjjbg1cWsk_m"
      },
      "execution_count": null,
      "outputs": []
    },
    {
      "cell_type": "markdown",
      "source": [
        "Q29.Write all the characteristics or Properties of the Normal Distribution Curve."
      ],
      "metadata": {
        "id": "kgP7Nafavxvl"
      }
    },
    {
      "cell_type": "markdown",
      "source": [
        "Properties of NDC :-\n",
        "1. Symmetricity - Distribution curve is perfectly symmetrical about the mean. left side of curve is equal to right side of curve.\n",
        "\n",
        "2. Mean-Median-Mode :- all are equal and lie at the center of the distribution.\n",
        "3. Kurtosis = 3\n",
        "4. Bell-shaped Curve :- The Normal distribution has a characteristic bell-shaped curve, which is highest at mean and decreases symmetrically as we move away from mean.\n",
        "5. 68 ~ 95 ~ 99.7 :- Approximately, 68% of the data falls within one standard deviation of the mean.\n",
        "About 95% of the data falls within two std. deviations of the mean.\n",
        "Around 99.7% of the data falls within three std. deviations of the mean.\n",
        "6. No skewness - The normal distribution has skewness of 0, indicating that the distribution is perfectly symmetric.\n",
        "\n",
        "7. Area under the curve :- the total area under the ND curve is equal to 1, representing the total probability of all possible outcomes. This area corresponds to 100% of the data."
      ],
      "metadata": {
        "id": "lZTb4wtxwDlu"
      }
    },
    {
      "cell_type": "code",
      "source": [],
      "metadata": {
        "id": "gEgiUeO8v1ln"
      },
      "execution_count": null,
      "outputs": []
    },
    {
      "cell_type": "markdown",
      "source": [
        "Q30.Which of the following options are correct about Normal Distribution Curve.\n",
        "\n",
        "(a) Within a range 0.6745 of σ on both sides the middle 50% of the observations occur i,e. mean ±0.6745σ\n",
        "covers 50% area 25% on each side.\n",
        "\n",
        "(b) Mean ±1S.D. (i,e.μ ± 1σ) covers 68.268% area, 34.134 % area lies on either side of the mean.\n",
        "\n",
        "(c) Mean ±2S.D. (i,e. μ ± 2σ) covers 95.45% area, 47.725% area lies on either side of the mean.\n",
        "\n",
        "(d) Mean ±3 S.D. (i,e. μ ±3σ) covers 99.73% area, 49.856% area lies on the either side of the mean.\n",
        "\n",
        "(e) Only 0.27% area is outside the range μ ±3σ."
      ],
      "metadata": {
        "id": "rvlKoEzIy2VR"
      }
    },
    {
      "cell_type": "markdown",
      "source": [
        "Ans.\n",
        "\n",
        "All the options a, b, c, d, e are correct based on the properties of the normal distribution. These reflect the empirical rule, also known as 68~95~99.7 rule, which describes the percentage of data within 1, 2 and 3 SD from the mean."
      ],
      "metadata": {
        "id": "TsG0UyKeznnH"
      }
    },
    {
      "cell_type": "code",
      "source": [],
      "metadata": {
        "id": "56Fis8Kxy6BB"
      },
      "execution_count": null,
      "outputs": []
    },
    {
      "cell_type": "markdown",
      "source": [
        "Q31.The mean of a distribution is 60 with a standard deviation of 10. Assuming that the distribution is normal,\n",
        "what percentage of items be (i) between 60 and 72, (ii) between 50 and 60, (iii) beyond 72 and (iv) between\n",
        "70 and 80?"
      ],
      "metadata": {
        "id": "G0ybRtLqz-mX"
      }
    },
    {
      "cell_type": "markdown",
      "source": [
        "Z-score is calculated using,\n",
        "\n",
        "Z = (X-u)/SD\n",
        "\n",
        "where,\n",
        "X = value for which we are calculating the z-score\n",
        "u = mean\n",
        "sigma = SD\n",
        "\n",
        "Given - mean - 60, sd=10\n",
        "\n",
        "**i) Between 60 to 72**\n",
        "  For X - 60:\n",
        "      Z = (60-60)/10 = 0\n",
        "  For X - 72:\n",
        "      Z = (72-60)/10 = 1.2\n",
        "\n",
        "  using the z-table calculator:\n",
        "  The area to the left of Z = 0(mean) is 0.5(50%)\n",
        "  The area to the left of Z=1.2 is approximately 0.888(88.49%).\n",
        "\n",
        "  **percentage between 60 and 72**:\n",
        "          88.49 - 50 = **38.49**%\n",
        "\n",
        "\n",
        "ii) Between 50 and 60\n",
        "  For X-50:\n",
        "        Z = 50-60/10 = -1\n",
        "  For X=60:\n",
        "        Z = 60-60/10 = 0\n",
        "\n",
        "  **percentage between 50 and 60**:\n",
        "            50 - 15.87 = **34.13**%\n",
        "\n",
        "\n",
        "iii) Beyond 72\n",
        "  For X-72:\n",
        "      Z = 72-60/10 = 1.2\n",
        "\n",
        "  using z-table:\n",
        "        The area left of z=1.2 is 0.8849.\n",
        "  \n",
        "  **percentage beyond 72**:\n",
        "        100 - 88.49 = **11.51**%\n",
        "\n",
        "\n",
        "iv) Between 70 and 80.\n",
        "  For X-70,\n",
        "        Z = 70-60/10 = 1\n",
        "  For X-80,\n",
        "        Z = 80-60/10 = 2\n",
        "      \n",
        "  using the z-table,\n",
        "     The are to the left of Z=1 is approzimately 0.8414\n",
        "     The area to the left of z = 2 is apprimately 0.97.\n",
        "\n",
        "  **percentage between 70-80**\n",
        "        97.72 - 84.13 = **13.59**%"
      ],
      "metadata": {
        "id": "UtvAUja-3SQI"
      }
    },
    {
      "cell_type": "code",
      "source": [],
      "metadata": {
        "id": "ndVHItYI0Gbq"
      },
      "execution_count": null,
      "outputs": []
    },
    {
      "cell_type": "markdown",
      "source": [
        "Q32. 15000 students sat for an examination. The mean marks was 49 and the distribution of marks had a\n",
        "standard deviation of 6. Assuming that the marks were normally distributed what proportion of students\n",
        "scored (a) more than 55 marks, (b) more than 70 marks"
      ],
      "metadata": {
        "id": "axV8PA5N9h2d"
      }
    },
    {
      "cell_type": "markdown",
      "source": [
        "Ans.\n",
        "a) **More than 55 marks**\n",
        "\n",
        "X = 55, m = 49, sd = 6,\n",
        "\n",
        "Z = (X-m)/sd = (55-49)/6 = 1\n",
        "\n",
        "The Z-score of 1 corresponds to a cumulative probability of approximately 0.8413. This means 84.13% of students scored 55 marks or less.\n",
        "\n",
        "The proportion of students who scored more than 55 marks is:\n",
        "      1 - 0.8413 = 0.1587\n",
        "\n",
        "**Proportion of students who scored more than 55 marks is 15.87%**\n",
        "\n",
        "b) Proportion of students who scored more than 70 marks\n",
        "\n",
        "X = 70, m = 49, sd = 6\n",
        "\n",
        "Z = 70-49/6 = 3.5\n",
        "\n",
        "The Z-score of 3.5 corresponds to a cumulative probability of approximately 0.9998. This means 99.98% of students scored 70 marks or less.\n",
        "        1- 0.9998 = 0.0002\n",
        "\n",
        "**Proportion of students who scored more than 70 marks: 0.02%**"
      ],
      "metadata": {
        "id": "gjlXkzcVqSRM"
      }
    },
    {
      "cell_type": "code",
      "source": [],
      "metadata": {
        "id": "2Ggh66-99oTd"
      },
      "execution_count": null,
      "outputs": []
    },
    {
      "cell_type": "markdown",
      "source": [
        "Q33. If the height of 500 students are normally distributed with mean 65 inch and standard deviation 5 inch.\n",
        "How many students have height : a) greater than 70 inch. b) between 60 and 70 inch."
      ],
      "metadata": {
        "id": "b6H1LCCTsMWj"
      }
    },
    {
      "cell_type": "markdown",
      "source": [
        "Ans.\n",
        "\n",
        "Given - m = 65, sd=5, no. of students = 500\n",
        "\n",
        "a) **greater than 70 inches**.\n",
        "\n",
        "Z = (X-m)/sd = (70-65)/5 = 1\n",
        "\n",
        "The Z-score of 1 corresponds to a cumulative probability of approximately 0.8413. This means 84.13% of students have a height of 70 inches or less.\n",
        "\n",
        "The proportion of students with a height greater than 70 inches is:\n",
        "      1 - 0.8413 = 0.1587\n",
        "\n",
        "So, about 15.87% of students have a height greater than 70 inches.\n",
        "  No. of students = 500 * 0.1587 = 79.45\n",
        "\n",
        "**Approximately 80 students have height greater than 70 inches.**\n",
        "\n",
        "\n",
        "\n",
        "b) **between 60 and 70 inch**\n",
        "\n",
        "For X = 60, Z = (60-65)/5 = -1\n",
        "For X=70, Z = (70-65)/5 = 1\n",
        "\n",
        "The Z-score of -1 corresponds to a cumulative probability of approximately 0.1587.\n",
        "The Z-score of 1 corresponds to a cumulative probability of approximately 0.8413.\n",
        "The proportion of students with a height between 60 and 70 inches is:\n",
        "  0.8413 - 0.1587=0.6826\n",
        "\n",
        "No.of students = 0.68 * 500 = 341.1\n",
        "\n",
        "**No. of students with height between 60 and 70 inches ar 341 students.**"
      ],
      "metadata": {
        "id": "F1VXr7uPts5L"
      }
    },
    {
      "cell_type": "code",
      "source": [],
      "metadata": {
        "id": "J6xWe9ubsUjC"
      },
      "execution_count": null,
      "outputs": []
    },
    {
      "cell_type": "markdown",
      "source": [
        "Q34. What is the statistical hypothesis? Explain the errors in hypothesis testing.b)Explain the Sample. What\n",
        "are Large Samples & Small Samples?"
      ],
      "metadata": {
        "id": "WUc02_Yrvdqd"
      }
    },
    {
      "cell_type": "markdown",
      "source": [
        "Ans.\n",
        "\n",
        "**Statistical Hypothesis** :- It is a claim/predictive/generic statement, capable of being tested by scientific method.\n",
        "\n",
        "**Types of Statistical Hypothesis**:\n",
        "\n",
        "1. **Null Hypothesis(H₀)** :- It is a statement that is hold true unless we have sufficient evidence to reject it.\n",
        "\n",
        "2. **Alternate Hypothesis (Ha)** :- It is oppsite of null hypothesis.\n",
        "\n",
        "**Errors in Hypothesis testing**:\n",
        "\n",
        "1. **Type-I error** : It is rejection of null hypothesis when it is actually true.\n",
        "\n",
        "  eg.Innocent person is convicted.\n",
        "\n",
        "2. **Type-II error** : fail to reject the null hypothesis when it is actually false.\n",
        "\n",
        "  eg. A guily person is not convicted.\n",
        "\n",
        "\n",
        "**Sample** :- It is a subset of observations selected from a larger population.\n",
        "\n",
        "**Large Samples**: A large sample typically refers to a sample size that is sufficiently large to reporesent the population.\n",
        "\n",
        "In practice, a sample size greate than 30 is considered as 'large'.\n",
        "\n",
        "**Small Samples** :- A small sample refers to a sample size that is not large enough for the central limit theorem to apply.\n",
        "\n",
        "In practice, a sample size smaller than 30 is considered as 'small'.\n",
        "\n"
      ],
      "metadata": {
        "id": "XXHSXmTPwpIo"
      }
    },
    {
      "cell_type": "code",
      "source": [],
      "metadata": {
        "id": "l2m9iaomvzZX"
      },
      "execution_count": null,
      "outputs": []
    },
    {
      "cell_type": "markdown",
      "source": [
        "Q35.A random sample of size 25 from a population gives the sample standard derivation to be 9.0. Test the\n",
        "hypothesis that the population standard derivation is 10.5.\n",
        "Hint(Use chi-square distribution)."
      ],
      "metadata": {
        "id": "eQT1NO3l0MBC"
      }
    },
    {
      "cell_type": "markdown",
      "source": [
        " Ans.\n",
        "\n",
        "1. State the hypothesis,\n",
        "\n",
        "  Null hypothesis(H₀) = 10.5\n",
        "  \n",
        "  Alternate hypothesis =/ 10.5 (not equal to 10.5)\n",
        "\n",
        "2. Calculate the test statistic for chi-square dist.\n",
        "  X^2 = ((n-1).s^2)/(sigma)^2\n",
        "\n",
        "  n = sample size = 25,\n",
        "  s = sample standard deviation = 9.0\n",
        "  sigma = std. deviation = 10.5\n",
        "\n",
        "  X^2 = ((25-1).(9)^2)/((10.5)^2 = 17.63\n",
        "\n",
        "3. Degree of freedom and critical values\n",
        "\n",
        "   degree of freedom(dof) = n -1 = 24\n",
        "\n",
        "   assume alpha = 0.05\n",
        "\n",
        "   for alpha=0.05 and df=24, the critical values are:\n",
        "\n",
        "  lower critical value = 13.84\n",
        "\n",
        "  upper critical value = 36.41\n",
        "\n",
        "4. Since test statistic(17.63) falls within range of critical values , we **fail to reject the null hypothesis**. This means there is not enough evidence to conclude that the population std. deviation differ from 10.5.\n",
        "\n"
      ],
      "metadata": {
        "id": "irDDc1ld0RLt"
      }
    },
    {
      "cell_type": "code",
      "source": [],
      "metadata": {
        "id": "9bBo9oA10PbZ"
      },
      "execution_count": null,
      "outputs": []
    },
    {
      "cell_type": "markdown",
      "source": [
        "Q37.100 students of a PW IOI obtained the following grades in Data Science paper :\n",
        "Grade :[A, B, C, D, E]\n",
        "Total Frequency :[15, 17, 30, 22, 16]\n",
        "Using the χ 2 test , examine the hypothesis that the distribution of grades is uniform."
      ],
      "metadata": {
        "id": "xb7W0uHK9MAY"
      }
    },
    {
      "cell_type": "markdown",
      "source": [
        "Ans.\n",
        "\n",
        "1. State the Hypothesis,\n",
        "\n",
        "   Null hypotheis(H0): The grades are uniformly distributed. this means that each grade has the same expected frequency.\n",
        "\n",
        "   Alternate Hypothesis(Ha) :- The grades are not uniformly distributed.\n",
        "\n",
        "2. Calculate the expected frequency\n",
        "     E = total frequency/no.of grades = 100/5 = 20\n",
        "\n",
        "3. calculate the chi-square test statistic\n",
        "\n",
        "  X2 = summation((O - E)2/E)\n",
        "\n",
        "  For Grade A, X^2 = ((15-20)^2/20) = 1.25,\n",
        "\n",
        "  For Grade B, X^2 = ((17-20)^2/20) = 0.45,\n",
        "\n",
        "  For Grade C, X^2 = ((30-20)^2/20) = 5,\n",
        "\n",
        "  For Grade D, X^2 = ((22-20)^2/20) = 0.20,\n",
        "\n",
        "  For Grade E, X^2 = ((16-20)^2/20) = 0.80\n",
        "\n",
        "  Total X^2 = 1.25+0.45+5+0.20+0.80 = 7.70\n",
        "\n",
        "\n",
        "4. degree of freedom and critical value\n",
        "\n",
        "  Degree of Freedom = 5-1= 5\n",
        "  assume alpha = 0.05,\n",
        "\n",
        "  from chi-square distribution table, critical value for alpha = 0.05 and df=4 is 9.488\n",
        "\n",
        "5. calculated X^2 value is 7.70 which is less than critical value of 9.488. **Hence we fail to reject the null hypothesis.**"
      ],
      "metadata": {
        "id": "Lq4pCXba-_Ix"
      }
    },
    {
      "cell_type": "code",
      "source": [],
      "metadata": {
        "id": "raZAdCLk9YiJ"
      },
      "execution_count": null,
      "outputs": []
    },
    {
      "cell_type": "markdown",
      "source": [
        "Q38.  To study the performance of three detergents and three different water temp the following whiteness readings were obtained with specially designed equipmet. (use anova test)\n",
        "\n",
        "water temp             detergents A             detergents B       detergents C\n",
        "cold water              57                         55                        67\n",
        "worm water            49                         52                        68\n",
        "hot water                54                         46                        58"
      ],
      "metadata": {
        "id": "Wl152Y5HCQuV"
      }
    },
    {
      "cell_type": "markdown",
      "source": [
        "Ans.\n",
        "\n",
        "1. Organize the data\n",
        "\n",
        "2. State the Hypothesis\n",
        "  H0 : whiteness readings are equal across all detegents and water temp.\n",
        "  Ha : At least one group mean is different.\n",
        "\n",
        "3. Perform the Anova test\n",
        "\n",
        "Use two way anova because the threee detergents and three different water temp."
      ],
      "metadata": {
        "id": "fWtBMuEax8r7"
      }
    },
    {
      "cell_type": "code",
      "source": [
        "import pandas as pd\n",
        "import numpy as np # Import numpy for numerical operations\n",
        "import statsmodels.api as sm\n",
        "from statsmodels.formula.api import ols\n",
        "\n",
        "# Creating the data\n",
        "data = {\n",
        "    'Whiteness': [57, 55, 67, 49, 52, 68, 54, 46, 58],\n",
        "    'Detergent': ['A', 'B', 'C', 'A', 'B', 'C', 'A', 'B', 'C'],\n",
        "    'Water_Temperature': ['Cold', 'Cold', 'Cold', 'Warm', 'Warm', 'Warm', 'Hot', 'Hot', 'Hot']\n",
        "}\n",
        "\n",
        "# Creating a DataFrame\n",
        "df = pd.DataFrame(data)\n",
        "\n",
        "# Performing the two-way ANOVA\n",
        "model = ols('Whiteness ~ C(Detergent) + C(Water_Temperature) + C(Detergent):C(Water_Temperature)', data=df).fit()\n",
        "\n",
        "# Check for NaNs and infinities in model parameters\n",
        "print(\"NaNs in model parameters:\", np.any(np.isnan(model.params)))\n",
        "print(\"Infs in model parameters:\", np.any(np.isinf(model.params)))\n",
        "\n",
        "# Check for NaNs and infinities in residuals\n",
        "print(\"NaNs in residuals:\", np.any(np.isnan(model.resid)))\n",
        "print(\"Infs in residuals:\", np.any(np.isinf(model.resid)))\n",
        "\n",
        "# If NaNs or infs are present, handle them (example: replace with 0)\n",
        "# model.params = np.nan_to_num(model.params)\n",
        "# model.resid = np.nan_to_num(model.resid)\n",
        "\n",
        "anova_table = sm.stats.anova_lm(model, typ=2)\n",
        "print(anova_table)"
      ],
      "metadata": {
        "id": "vnTehJZrCXKP",
        "colab": {
          "base_uri": "https://localhost:8080/",
          "height": 505
        },
        "outputId": "4dbd9817-2947-4e4d-c267-f8384c4d77a4"
      },
      "execution_count": null,
      "outputs": [
        {
          "output_type": "stream",
          "name": "stdout",
          "text": [
            "NaNs in model parameters: False\n",
            "Infs in model parameters: False\n",
            "NaNs in residuals: False\n",
            "Infs in residuals: False\n"
          ]
        },
        {
          "output_type": "stream",
          "name": "stderr",
          "text": [
            "/usr/local/lib/python3.10/dist-packages/statsmodels/regression/linear_model.py:1718: RuntimeWarning: divide by zero encountered in scalar divide\n",
            "  return np.dot(wresid, wresid) / self.df_resid\n"
          ]
        },
        {
          "output_type": "error",
          "ename": "ValueError",
          "evalue": "array must not contain infs or NaNs",
          "traceback": [
            "\u001b[0;31m---------------------------------------------------------------------------\u001b[0m",
            "\u001b[0;31mValueError\u001b[0m                                Traceback (most recent call last)",
            "\u001b[0;32m<ipython-input-3-9f34066324a0>\u001b[0m in \u001b[0;36m<cell line: 31>\u001b[0;34m()\u001b[0m\n\u001b[1;32m     29\u001b[0m \u001b[0;31m# model.resid = np.nan_to_num(model.resid)\u001b[0m\u001b[0;34m\u001b[0m\u001b[0;34m\u001b[0m\u001b[0m\n\u001b[1;32m     30\u001b[0m \u001b[0;34m\u001b[0m\u001b[0m\n\u001b[0;32m---> 31\u001b[0;31m \u001b[0manova_table\u001b[0m \u001b[0;34m=\u001b[0m \u001b[0msm\u001b[0m\u001b[0;34m.\u001b[0m\u001b[0mstats\u001b[0m\u001b[0;34m.\u001b[0m\u001b[0manova_lm\u001b[0m\u001b[0;34m(\u001b[0m\u001b[0mmodel\u001b[0m\u001b[0;34m,\u001b[0m \u001b[0mtyp\u001b[0m\u001b[0;34m=\u001b[0m\u001b[0;36m2\u001b[0m\u001b[0;34m)\u001b[0m\u001b[0;34m\u001b[0m\u001b[0;34m\u001b[0m\u001b[0m\n\u001b[0m\u001b[1;32m     32\u001b[0m \u001b[0mprint\u001b[0m\u001b[0;34m(\u001b[0m\u001b[0manova_table\u001b[0m\u001b[0;34m)\u001b[0m\u001b[0;34m\u001b[0m\u001b[0;34m\u001b[0m\u001b[0m\n",
            "\u001b[0;32m/usr/local/lib/python3.10/dist-packages/statsmodels/stats/anova.py\u001b[0m in \u001b[0;36manova_lm\u001b[0;34m(*args, **kwargs)\u001b[0m\n\u001b[1;32m    351\u001b[0m     \u001b[0;32mif\u001b[0m \u001b[0mlen\u001b[0m\u001b[0;34m(\u001b[0m\u001b[0margs\u001b[0m\u001b[0;34m)\u001b[0m \u001b[0;34m==\u001b[0m \u001b[0;36m1\u001b[0m\u001b[0;34m:\u001b[0m\u001b[0;34m\u001b[0m\u001b[0;34m\u001b[0m\u001b[0m\n\u001b[1;32m    352\u001b[0m         \u001b[0mmodel\u001b[0m \u001b[0;34m=\u001b[0m \u001b[0margs\u001b[0m\u001b[0;34m[\u001b[0m\u001b[0;36m0\u001b[0m\u001b[0;34m]\u001b[0m\u001b[0;34m\u001b[0m\u001b[0;34m\u001b[0m\u001b[0m\n\u001b[0;32m--> 353\u001b[0;31m         \u001b[0;32mreturn\u001b[0m \u001b[0manova_single\u001b[0m\u001b[0;34m(\u001b[0m\u001b[0mmodel\u001b[0m\u001b[0;34m,\u001b[0m \u001b[0;34m**\u001b[0m\u001b[0mkwargs\u001b[0m\u001b[0;34m)\u001b[0m\u001b[0;34m\u001b[0m\u001b[0;34m\u001b[0m\u001b[0m\n\u001b[0m\u001b[1;32m    354\u001b[0m \u001b[0;34m\u001b[0m\u001b[0m\n\u001b[1;32m    355\u001b[0m     \u001b[0;32mif\u001b[0m \u001b[0mtyp\u001b[0m \u001b[0;32mnot\u001b[0m \u001b[0;32min\u001b[0m \u001b[0;34m[\u001b[0m\u001b[0;36m1\u001b[0m\u001b[0;34m,\u001b[0m \u001b[0;34m\"I\"\u001b[0m\u001b[0;34m]\u001b[0m\u001b[0;34m:\u001b[0m\u001b[0;34m\u001b[0m\u001b[0;34m\u001b[0m\u001b[0m\n",
            "\u001b[0;32m/usr/local/lib/python3.10/dist-packages/statsmodels/stats/anova.py\u001b[0m in \u001b[0;36manova_single\u001b[0;34m(model, **kwargs)\u001b[0m\n\u001b[1;32m     82\u001b[0m                                 n_rows, test, pr_test, robust)\n\u001b[1;32m     83\u001b[0m     \u001b[0;32melif\u001b[0m \u001b[0mtyp\u001b[0m \u001b[0;32min\u001b[0m \u001b[0;34m[\u001b[0m\u001b[0;36m2\u001b[0m\u001b[0;34m,\u001b[0m \u001b[0;34m\"II\"\u001b[0m\u001b[0;34m]\u001b[0m\u001b[0;34m:\u001b[0m\u001b[0;34m\u001b[0m\u001b[0;34m\u001b[0m\u001b[0m\n\u001b[0;32m---> 84\u001b[0;31m         return anova2_lm_single(model, design_info, n_rows, test, pr_test,\n\u001b[0m\u001b[1;32m     85\u001b[0m                                 robust)\n\u001b[1;32m     86\u001b[0m     \u001b[0;32melif\u001b[0m \u001b[0mtyp\u001b[0m \u001b[0;32min\u001b[0m \u001b[0;34m[\u001b[0m\u001b[0;36m3\u001b[0m\u001b[0;34m,\u001b[0m \u001b[0;34m\"III\"\u001b[0m\u001b[0;34m]\u001b[0m\u001b[0;34m:\u001b[0m\u001b[0;34m\u001b[0m\u001b[0;34m\u001b[0m\u001b[0m\n",
            "\u001b[0;32m/usr/local/lib/python3.10/dist-packages/statsmodels/stats/anova.py\u001b[0m in \u001b[0;36manova2_lm_single\u001b[0;34m(model, design_info, n_rows, test, pr_test, robust)\u001b[0m\n\u001b[1;32m    205\u001b[0m             \u001b[0mLVL\u001b[0m \u001b[0;34m=\u001b[0m \u001b[0mnp\u001b[0m\u001b[0;34m.\u001b[0m\u001b[0mdot\u001b[0m\u001b[0;34m(\u001b[0m\u001b[0mnp\u001b[0m\u001b[0;34m.\u001b[0m\u001b[0mdot\u001b[0m\u001b[0;34m(\u001b[0m\u001b[0mL1\u001b[0m\u001b[0;34m,\u001b[0m\u001b[0mrobust_cov\u001b[0m\u001b[0;34m)\u001b[0m\u001b[0;34m,\u001b[0m\u001b[0mL2\u001b[0m\u001b[0;34m.\u001b[0m\u001b[0mT\u001b[0m\u001b[0;34m)\u001b[0m\u001b[0;34m\u001b[0m\u001b[0;34m\u001b[0m\u001b[0m\n\u001b[1;32m    206\u001b[0m             \u001b[0;32mfrom\u001b[0m \u001b[0mscipy\u001b[0m \u001b[0;32mimport\u001b[0m \u001b[0mlinalg\u001b[0m\u001b[0;34m\u001b[0m\u001b[0;34m\u001b[0m\u001b[0m\n\u001b[0;32m--> 207\u001b[0;31m             \u001b[0morth_compl\u001b[0m\u001b[0;34m,\u001b[0m\u001b[0m_\u001b[0m \u001b[0;34m=\u001b[0m \u001b[0mlinalg\u001b[0m\u001b[0;34m.\u001b[0m\u001b[0mqr\u001b[0m\u001b[0;34m(\u001b[0m\u001b[0mLVL\u001b[0m\u001b[0;34m)\u001b[0m\u001b[0;34m\u001b[0m\u001b[0;34m\u001b[0m\u001b[0m\n\u001b[0m\u001b[1;32m    208\u001b[0m             \u001b[0mr\u001b[0m \u001b[0;34m=\u001b[0m \u001b[0mL1\u001b[0m\u001b[0;34m.\u001b[0m\u001b[0mshape\u001b[0m\u001b[0;34m[\u001b[0m\u001b[0;36m0\u001b[0m\u001b[0;34m]\u001b[0m \u001b[0;34m-\u001b[0m \u001b[0mL2\u001b[0m\u001b[0;34m.\u001b[0m\u001b[0mshape\u001b[0m\u001b[0;34m[\u001b[0m\u001b[0;36m0\u001b[0m\u001b[0;34m]\u001b[0m\u001b[0;34m\u001b[0m\u001b[0;34m\u001b[0m\u001b[0m\n\u001b[1;32m    209\u001b[0m             \u001b[0;31m# L1|2\u001b[0m\u001b[0;34m\u001b[0m\u001b[0;34m\u001b[0m\u001b[0m\n",
            "\u001b[0;32m/usr/local/lib/python3.10/dist-packages/scipy/linalg/_decomp_qr.py\u001b[0m in \u001b[0;36mqr\u001b[0;34m(a, overwrite_a, lwork, mode, pivoting, check_finite)\u001b[0m\n\u001b[1;32m    127\u001b[0m \u001b[0;34m\u001b[0m\u001b[0m\n\u001b[1;32m    128\u001b[0m     \u001b[0;32mif\u001b[0m \u001b[0mcheck_finite\u001b[0m\u001b[0;34m:\u001b[0m\u001b[0;34m\u001b[0m\u001b[0;34m\u001b[0m\u001b[0m\n\u001b[0;32m--> 129\u001b[0;31m         \u001b[0ma1\u001b[0m \u001b[0;34m=\u001b[0m \u001b[0mnumpy\u001b[0m\u001b[0;34m.\u001b[0m\u001b[0masarray_chkfinite\u001b[0m\u001b[0;34m(\u001b[0m\u001b[0ma\u001b[0m\u001b[0;34m)\u001b[0m\u001b[0;34m\u001b[0m\u001b[0;34m\u001b[0m\u001b[0m\n\u001b[0m\u001b[1;32m    130\u001b[0m     \u001b[0;32melse\u001b[0m\u001b[0;34m:\u001b[0m\u001b[0;34m\u001b[0m\u001b[0;34m\u001b[0m\u001b[0m\n\u001b[1;32m    131\u001b[0m         \u001b[0ma1\u001b[0m \u001b[0;34m=\u001b[0m \u001b[0mnumpy\u001b[0m\u001b[0;34m.\u001b[0m\u001b[0masarray\u001b[0m\u001b[0;34m(\u001b[0m\u001b[0ma\u001b[0m\u001b[0;34m)\u001b[0m\u001b[0;34m\u001b[0m\u001b[0;34m\u001b[0m\u001b[0m\n",
            "\u001b[0;32m/usr/local/lib/python3.10/dist-packages/numpy/lib/function_base.py\u001b[0m in \u001b[0;36masarray_chkfinite\u001b[0;34m(a, dtype, order)\u001b[0m\n\u001b[1;32m    628\u001b[0m     \u001b[0ma\u001b[0m \u001b[0;34m=\u001b[0m \u001b[0masarray\u001b[0m\u001b[0;34m(\u001b[0m\u001b[0ma\u001b[0m\u001b[0;34m,\u001b[0m \u001b[0mdtype\u001b[0m\u001b[0;34m=\u001b[0m\u001b[0mdtype\u001b[0m\u001b[0;34m,\u001b[0m \u001b[0morder\u001b[0m\u001b[0;34m=\u001b[0m\u001b[0morder\u001b[0m\u001b[0;34m)\u001b[0m\u001b[0;34m\u001b[0m\u001b[0;34m\u001b[0m\u001b[0m\n\u001b[1;32m    629\u001b[0m     \u001b[0;32mif\u001b[0m \u001b[0ma\u001b[0m\u001b[0;34m.\u001b[0m\u001b[0mdtype\u001b[0m\u001b[0;34m.\u001b[0m\u001b[0mchar\u001b[0m \u001b[0;32min\u001b[0m \u001b[0mtypecodes\u001b[0m\u001b[0;34m[\u001b[0m\u001b[0;34m'AllFloat'\u001b[0m\u001b[0;34m]\u001b[0m \u001b[0;32mand\u001b[0m \u001b[0;32mnot\u001b[0m \u001b[0mnp\u001b[0m\u001b[0;34m.\u001b[0m\u001b[0misfinite\u001b[0m\u001b[0;34m(\u001b[0m\u001b[0ma\u001b[0m\u001b[0;34m)\u001b[0m\u001b[0;34m.\u001b[0m\u001b[0mall\u001b[0m\u001b[0;34m(\u001b[0m\u001b[0;34m)\u001b[0m\u001b[0;34m:\u001b[0m\u001b[0;34m\u001b[0m\u001b[0;34m\u001b[0m\u001b[0m\n\u001b[0;32m--> 630\u001b[0;31m         raise ValueError(\n\u001b[0m\u001b[1;32m    631\u001b[0m             \"array must not contain infs or NaNs\")\n\u001b[1;32m    632\u001b[0m     \u001b[0;32mreturn\u001b[0m \u001b[0ma\u001b[0m\u001b[0;34m\u001b[0m\u001b[0;34m\u001b[0m\u001b[0m\n",
            "\u001b[0;31mValueError\u001b[0m: array must not contain infs or NaNs"
          ]
        }
      ]
    },
    {
      "cell_type": "code",
      "source": [],
      "metadata": {
        "id": "sdV0TMT3zaM4"
      },
      "execution_count": null,
      "outputs": []
    },
    {
      "cell_type": "markdown",
      "source": [
        "Q39. How would you create a basic Flask route that displays 'Hello, World!' on the homepage ?"
      ],
      "metadata": {
        "id": "Ch11iaL0IpeJ"
      }
    },
    {
      "cell_type": "code",
      "source": [
        "#  pip install flask"
      ],
      "metadata": {
        "colab": {
          "base_uri": "https://localhost:8080/"
        },
        "id": "mjbM2N0tI0jc",
        "outputId": "7cac5835-7d41-4df3-e632-e80b3649f806"
      },
      "execution_count": null,
      "outputs": [
        {
          "output_type": "stream",
          "name": "stdout",
          "text": [
            "Requirement already satisfied: flask in /usr/local/lib/python3.10/dist-packages (2.2.5)\n",
            "Requirement already satisfied: Werkzeug>=2.2.2 in /usr/local/lib/python3.10/dist-packages (from flask) (3.0.3)\n",
            "Requirement already satisfied: Jinja2>=3.0 in /usr/local/lib/python3.10/dist-packages (from flask) (3.1.4)\n",
            "Requirement already satisfied: itsdangerous>=2.0 in /usr/local/lib/python3.10/dist-packages (from flask) (2.2.0)\n",
            "Requirement already satisfied: click>=8.0 in /usr/local/lib/python3.10/dist-packages (from flask) (8.1.7)\n",
            "Requirement already satisfied: MarkupSafe>=2.0 in /usr/local/lib/python3.10/dist-packages (from Jinja2>=3.0->flask) (2.1.5)\n"
          ]
        }
      ]
    },
    {
      "cell_type": "code",
      "source": [
        "from flask import Flask, request\n",
        "\n",
        "app = Flask(__name__)\n",
        "\n",
        "@app.route('/hello')\n",
        "def home():\n",
        "  return f'Hello, World !'\n",
        "\n",
        "if __name__ == '__main__':\n",
        "  app.run(host = '0.0.0.0')"
      ],
      "metadata": {
        "colab": {
          "base_uri": "https://localhost:8080/"
        },
        "id": "3wQrWAgbJFQW",
        "outputId": "990995b6-b003-4497-d519-70c98550b5c6"
      },
      "execution_count": null,
      "outputs": [
        {
          "output_type": "stream",
          "name": "stdout",
          "text": [
            " * Serving Flask app '__main__'\n",
            " * Debug mode: off\n"
          ]
        },
        {
          "output_type": "stream",
          "name": "stderr",
          "text": [
            "INFO:werkzeug:\u001b[31m\u001b[1mWARNING: This is a development server. Do not use it in a production deployment. Use a production WSGI server instead.\u001b[0m\n",
            " * Running on all addresses (0.0.0.0)\n",
            " * Running on http://127.0.0.1:5000\n",
            " * Running on http://172.28.0.12:5000\n",
            "INFO:werkzeug:\u001b[33mPress CTRL+C to quit\u001b[0m\n"
          ]
        }
      ]
    },
    {
      "cell_type": "code",
      "source": [],
      "metadata": {
        "id": "Ot1U0g2gJjNX"
      },
      "execution_count": null,
      "outputs": []
    },
    {
      "cell_type": "markdown",
      "source": [
        "Q40.Explain how to set up a Flask application to handle form submissions using POST requests."
      ],
      "metadata": {
        "id": "27LVWskcSkhh"
      }
    },
    {
      "cell_type": "code",
      "source": [
        "from flask import Flask, request, render_template\n",
        "\n",
        "app = Flask(__name__)\n",
        "\n",
        "# Route for displaying the form\n",
        "@app.route('/')\n",
        "def index():\n",
        "    return render_template('form.html')\n",
        "\n",
        "# Route for handling form submission\n",
        "@app.route('/submit', methods=['POST'])\n",
        "def submit():\n",
        "    # Get form data\n",
        "    name = request.form.get('name')\n",
        "    email = request.form.get('email')\n",
        "\n",
        "    # Process the data (e.g., save it to a database, send an email, etc.)\n",
        "    # For this example, we'll just return a message with the submitted data\n",
        "    return f\"Hello, {name}! Your email address is {email}.\"\n",
        "\n",
        "if __name__ == '__main__':\n",
        "    app.run(debug=True)\n"
      ],
      "metadata": {
        "id": "Ery3cCzGS113"
      },
      "execution_count": null,
      "outputs": []
    },
    {
      "cell_type": "code",
      "source": [],
      "metadata": {
        "id": "8sob0wEsFymV"
      },
      "execution_count": null,
      "outputs": []
    },
    {
      "cell_type": "markdown",
      "source": [
        "Q41. Write a flask route that accepts a parameter in the url and displays it on the page."
      ],
      "metadata": {
        "id": "av2mlfrfFyOC"
      }
    },
    {
      "cell_type": "code",
      "source": [
        "from flask import Flask\n",
        "\n",
        "app = Flask(__name__)\n",
        "\n",
        "@app.route('/user/<username>')\n",
        "def show_user(username):\n",
        "  return f'hello {username} !'\n",
        "\n",
        "if __name__ == '__main__':\n",
        "  app.run(debug=True)\n"
      ],
      "metadata": {
        "colab": {
          "base_uri": "https://localhost:8080/"
        },
        "id": "JBWhECz-F58L",
        "outputId": "88382217-5f8b-412b-984d-204c098ab199"
      },
      "execution_count": null,
      "outputs": [
        {
          "output_type": "stream",
          "name": "stdout",
          "text": [
            " * Serving Flask app '__main__'\n",
            " * Debug mode: on\n"
          ]
        },
        {
          "output_type": "stream",
          "name": "stderr",
          "text": [
            "INFO:werkzeug:\u001b[31m\u001b[1mWARNING: This is a development server. Do not use it in a production deployment. Use a production WSGI server instead.\u001b[0m\n",
            " * Running on http://127.0.0.1:5000\n",
            "INFO:werkzeug:\u001b[33mPress CTRL+C to quit\u001b[0m\n",
            "INFO:werkzeug: * Restarting with stat\n"
          ]
        }
      ]
    },
    {
      "cell_type": "code",
      "source": [],
      "metadata": {
        "id": "H741lJhGGfuf"
      },
      "execution_count": null,
      "outputs": []
    },
    {
      "cell_type": "markdown",
      "source": [
        "Q42.How can you implement user authentication in a Flask application?"
      ],
      "metadata": {
        "id": "747Y3jGRI2vM"
      }
    },
    {
      "cell_type": "code",
      "source": [],
      "metadata": {
        "id": "6fRMzQYwI8nD"
      },
      "execution_count": null,
      "outputs": []
    },
    {
      "cell_type": "markdown",
      "source": [
        "Q43.Describe the process of connecting a Flask app to a SQLite database using SQLAlchemy."
      ],
      "metadata": {
        "id": "7SBy5UlHJ7Dm"
      }
    },
    {
      "cell_type": "markdown",
      "source": [],
      "metadata": {
        "id": "mZayijtEKB2I"
      }
    },
    {
      "cell_type": "code",
      "source": [],
      "metadata": {
        "id": "RXu1DQo-KAwY"
      },
      "execution_count": null,
      "outputs": []
    },
    {
      "cell_type": "markdown",
      "source": [
        "Q44. How would you create a RESTful API endpoint in Flask that returns JSON data?"
      ],
      "metadata": {
        "id": "OoJDsDYrKD0e"
      }
    },
    {
      "cell_type": "code",
      "source": [],
      "metadata": {
        "id": "MBOQkc7BKICJ"
      },
      "execution_count": null,
      "outputs": []
    },
    {
      "cell_type": "markdown",
      "source": [
        "Q45.Explain how to use Flask-WTF to create and validate forms in a Flask application."
      ],
      "metadata": {
        "id": "QpTMSqc8KI8d"
      }
    },
    {
      "cell_type": "code",
      "source": [],
      "metadata": {
        "id": "ozJh_9uJKNTu"
      },
      "execution_count": null,
      "outputs": []
    },
    {
      "cell_type": "markdown",
      "source": [
        "Q46.How can you implement file uploads in a Flask application?"
      ],
      "metadata": {
        "id": "49XqKQqVKOK2"
      }
    },
    {
      "cell_type": "code",
      "source": [],
      "metadata": {
        "id": "2h1yGGLyKQYC"
      },
      "execution_count": null,
      "outputs": []
    },
    {
      "cell_type": "markdown",
      "source": [
        "Q47. 47.Describe the steps to create a Flask blueprint and why you might use one."
      ],
      "metadata": {
        "id": "HiFUCGKFKRjY"
      }
    },
    {
      "cell_type": "code",
      "source": [],
      "metadata": {
        "id": "3_cQjsZXKU0z"
      },
      "execution_count": null,
      "outputs": []
    },
    {
      "cell_type": "markdown",
      "source": [
        "Q49.How would you deploy a Flask application to a production server using Gunicorn and Nginx?"
      ],
      "metadata": {
        "id": "AwORg_ZQKXpE"
      }
    },
    {
      "cell_type": "code",
      "source": [],
      "metadata": {
        "id": "4rK-I69-Kb8y"
      },
      "execution_count": null,
      "outputs": []
    }
  ]
}