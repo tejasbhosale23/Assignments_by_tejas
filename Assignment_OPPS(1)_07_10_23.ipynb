{
  "nbformat": 4,
  "nbformat_minor": 0,
  "metadata": {
    "colab": {
      "provenance": [],
      "authorship_tag": "ABX9TyMshGudLDMa6dLCFsLzp4ej",
      "include_colab_link": true
    },
    "kernelspec": {
      "name": "python3",
      "display_name": "Python 3"
    },
    "language_info": {
      "name": "python"
    }
  },
  "cells": [
    {
      "cell_type": "markdown",
      "metadata": {
        "id": "view-in-github",
        "colab_type": "text"
      },
      "source": [
        "<a href=\"https://colab.research.google.com/github/tejasbhosalepw/Assignments_by_tejas/blob/main/Assignment_OPPS(1)_07_10_23.ipynb\" target=\"_parent\"><img src=\"https://colab.research.google.com/assets/colab-badge.svg\" alt=\"Open In Colab\"/></a>"
      ]
    },
    {
      "cell_type": "markdown",
      "source": [
        "Problem 1: Bank Account Create a class representing a bank account with attributes like account number, account holder name, and balance. Implement methods to deposit and withdraw money from the account."
      ],
      "metadata": {
        "id": "fL5CCs50CJNS"
      }
    },
    {
      "cell_type": "code",
      "source": [
        "class bank:\n",
        "  def __init__(self, acc_num, acc_name, balance):\n",
        "    self.account_num =  acc_num,\n",
        "    self.account_name = acc_name,\n",
        "    self.account_balance = balance\n",
        "\n",
        "  def deposit(self, num):\n",
        "    # return self.account_balance + num\n",
        "    print('total balance in account is', self.account_balance + num)\n",
        "  def withdraw(self, amount):\n",
        "    print('total balance left is', self.account_balance - amount)"
      ],
      "metadata": {
        "id": "_wOM_70QCNDM"
      },
      "execution_count": null,
      "outputs": []
    },
    {
      "cell_type": "code",
      "source": [
        "tejas = bank(234353, 'Tejas_bhosale', 500)"
      ],
      "metadata": {
        "id": "4NOeO11iCWBF"
      },
      "execution_count": null,
      "outputs": []
    },
    {
      "cell_type": "code",
      "source": [
        "tejas.deposit(500)"
      ],
      "metadata": {
        "colab": {
          "base_uri": "https://localhost:8080/"
        },
        "id": "00YqvSLHCpWo",
        "outputId": "2a1c275b-1d69-435e-f0ed-f7058f380e99"
      },
      "execution_count": null,
      "outputs": [
        {
          "output_type": "stream",
          "name": "stdout",
          "text": [
            "total balance in account is 1000\n"
          ]
        }
      ]
    },
    {
      "cell_type": "markdown",
      "source": [
        "Problem 2: Employee Management Create a class representing an employee with attributes like employee ID, name, and salary. Implement methods to calculate the yearly bonus and display employee details."
      ],
      "metadata": {
        "id": "TZn6JdVQCuUu"
      }
    },
    {
      "cell_type": "code",
      "source": [
        "class Employee:\n",
        "  def __init__(self, name, emp_id, salary):\n",
        "      self.name = name\n",
        "      self.id = emp_id\n",
        "      self.salary = salary\n",
        "  def bonus(self, num):\n",
        "    return self.salary * (num/100) + self.salary\n",
        "  def details(self):\n",
        "    print(f'Name is {self.name} and employee id is {self.id} and salary is {self.salary}')\n",
        "\n"
      ],
      "metadata": {
        "id": "96ZzdYM3CtCe"
      },
      "execution_count": null,
      "outputs": []
    },
    {
      "cell_type": "code",
      "source": [
        "dev = Employee('harshal', 'R123',400)"
      ],
      "metadata": {
        "id": "gLYInQn9EETJ"
      },
      "execution_count": null,
      "outputs": []
    },
    {
      "cell_type": "code",
      "source": [
        "dev.bonus(10)"
      ],
      "metadata": {
        "colab": {
          "base_uri": "https://localhost:8080/"
        },
        "id": "o8hjlfXQEWhO",
        "outputId": "78d1c53d-8bd3-408a-ca66-ee7aa1222d4d"
      },
      "execution_count": null,
      "outputs": [
        {
          "output_type": "stream",
          "name": "stdout",
          "text": [
            "name is harshal and employee id is R123 and salary is 400\n"
          ]
        }
      ]
    },
    {
      "cell_type": "code",
      "source": [
        "dev.details()"
      ],
      "metadata": {
        "colab": {
          "base_uri": "https://localhost:8080/"
        },
        "id": "nuR8MNFlEYs8",
        "outputId": "3dd1af56-c5a0-4b4f-aaf6-7d06d7a61063"
      },
      "execution_count": null,
      "outputs": [
        {
          "output_type": "stream",
          "name": "stdout",
          "text": [
            "name is harshal and employee id is R123 and salary is 400\n"
          ]
        }
      ]
    },
    {
      "cell_type": "markdown",
      "source": [
        "Problem 3: Vehicle Rental Create a class representing a vehicle rental system. Implement methods to rent a vehicle, return a vehicle, and display available vehicles."
      ],
      "metadata": {
        "id": "GfqlHN-xFBW6"
      }
    },
    {
      "cell_type": "code",
      "source": [
        "class vehicle:\n",
        "  def __init__(self,vehicle, model):\n",
        "    self.vehicle = vehicle\n",
        "    self.model = model\n",
        "  def __str__(self):\n",
        "    return f' The vehicle is {self.vehicle} and model is{self.model}'\n",
        "\n",
        "class RentalSystem:\n",
        "  def __init__(self):\n",
        "    self.vehicles = []\n",
        "\n",
        "  def add_vehicle(self, vehicle):\n",
        "    self.vehicles.append(vehicle)\n",
        "\n",
        "  def rent_vehicle(self, vehicle_id):\n",
        "    for vehicle in self.vehicles:\n",
        "\n"
      ],
      "metadata": {
        "id": "BFKAEX-UE8Z8"
      },
      "execution_count": null,
      "outputs": []
    },
    {
      "cell_type": "markdown",
      "source": [
        "Problem 4: Library Catalog Create classes representing a library and a book. Implement methods to add books to the library, borrow books, and display available books."
      ],
      "metadata": {
        "id": "RD2QUBw3IuwX"
      }
    },
    {
      "cell_type": "code",
      "source": [
        "class Book:\n",
        "  def __init__(self, book_id, title):\n",
        "    self.book_id = book_id\n",
        "    self.title = title\n",
        "    # self.author = author\n",
        "    # self.is_available = is_available\n",
        "\n",
        "  def __str__(self):\n",
        "    return f\"{self.title} and (ID: {self.book_id})\"\n",
        "\n",
        "class Library:\n",
        "  def __init__(self):\n",
        "    self.books = []\n",
        "\n",
        "  def add_book(self,book):\n",
        "    self.books.append(book)\n",
        "    print(f\"Book '{book.title}' added to the library.\")\n",
        "\n",
        "  def borrow_book(self, book_id):\n",
        "    for book in self.books:\n",
        "      if book.book_id == book_id:\n",
        "        print(f\"Book '{book.title}' borrowed successfully. \")\n",
        "      else:\n",
        "        print(f'Book with ID {book_id} not available for borrowing')\n",
        "\n",
        "  def display_available_books(self):\n",
        "    available_books = [book for book in self.books]\n",
        "    if not available_books:\n",
        "      print('No books available in library')\n",
        "    else:\n",
        "      print('available books')\n",
        "      for book in available_books:\n",
        "        print(book)\n",
        "\n",
        "book1 = Book(book_id=1, title=\"The Great Gatsby\")\n",
        "book2 = Book(book_id=2, title=\"To Kill a Mockingbird\")\n",
        "book3 = Book(book_id=3, title=\"1984\")\n",
        "\n",
        "library = Library()\n",
        "library.add_book(book1)\n",
        "library.add_book(book2)\n",
        "library.add_book(book3)\n",
        "\n",
        "library.display_available_books()\n",
        "\n",
        "library.borrow_book(1)\n",
        "# library.borrow_book(2)\n",
        "\n",
        "library.display_available_books()"
      ],
      "metadata": {
        "id": "eYcg9jDTI4GP",
        "colab": {
          "base_uri": "https://localhost:8080/"
        },
        "outputId": "9baa3bd7-bce1-48ef-d51a-7433b32b7e97"
      },
      "execution_count": null,
      "outputs": [
        {
          "output_type": "stream",
          "name": "stdout",
          "text": [
            "Book 'The Great Gatsby' added to the library.\n",
            "Book 'To Kill a Mockingbird' added to the library.\n",
            "Book '1984' added to the library.\n",
            "available books\n",
            "The Great Gatsby and (ID: 1)\n",
            "To Kill a Mockingbird and (ID: 2)\n",
            "1984 and (ID: 3)\n",
            "Book 'The Great Gatsby' borrowed successfully. \n",
            "Book with ID 1 not available for borrowing\n",
            "Book with ID 1 not available for borrowing\n",
            "available books\n",
            "The Great Gatsby and (ID: 1)\n",
            "To Kill a Mockingbird and (ID: 2)\n",
            "1984 and (ID: 3)\n"
          ]
        }
      ]
    },
    {
      "cell_type": "markdown",
      "source": [
        "Problem 5: Product Inventory Create classes representing a product and an inventory system. Implement methods to add products to the inventory, update product quantity, and display available products."
      ],
      "metadata": {
        "id": "Jy0G9OxHI45K"
      }
    },
    {
      "cell_type": "code",
      "source": [
        "class Product:\n",
        "  def __init__(self, product_id, name, price, quantity):\n",
        "    self.product_id = product_id\n",
        "    self.name = name\n",
        "    self.price = price\n",
        "    self.quantity = quantity\n",
        "\n",
        "  def display_product(self):\n",
        "    print(f'Product Id: {self.product_id}, Name:{self.name}, Price:{self.price}, Quantity:{self.quantity}')\n",
        "\n",
        "class Inventorysystem:\n",
        "  def __init__(self):\n",
        "    self.inventory = {}\n",
        "  def add_product(self, product):\n",
        "    if product.product_id not in self.inventory:\n",
        "      self.inventory[product.product_id] = product\n",
        "      print(f'{product.name} added to the inventory')\n",
        "    else:\n",
        "      print(f'{product.name} is already in the inventory.')\n",
        "\n",
        "  def update_quantity(self, product_id, new_quantity):\n",
        "    if product_id in self.inventory:\n",
        "      self.inventory[product_id].quantity = new_quantity\n",
        "      print(f'Quantity for product id {product_id} updated to {new_quantity}.')\n",
        "    else:\n",
        "      print(f'Product with ID {product_id} not found in the inventory')\n",
        "\n",
        "  def display_inventory(self):\n",
        "    if not self.inventory:\n",
        "      print('Inventory is empty.')\n",
        "    else:\n",
        "      print('Current Inventory')\n",
        "      for product in self.inventory.values():\n",
        "        product.display_product()\n",
        "\n",
        "if __name__ == \"__main__\":\n",
        "  product1 = Product(1, 'Laptop', 999, 10)\n",
        "  product2 = Product(2, 'SmartPhone', 500, 20)\n",
        "  product3 = Product(3, 'headphone', 1500, 30)\n",
        "\n",
        "\n",
        "  inventory_system = Inventorysystem()\n",
        "  # Add products to the inventory\n",
        "  inventory_system.add_product(product1)\n",
        "  inventory_system.add_product(product2)\n",
        "  inventory_system.add_product(product3)\n",
        "\n",
        "# display initial inventory\n",
        "  inventory_system.display_inventory()\n",
        "  # update quantity of a product\n",
        "  inventory_system.update_quantity(1,15)\n",
        "\n",
        "  # display updated inventory\n",
        "  inventory_system.display_inventory()"
      ],
      "metadata": {
        "id": "SzwqKENAI6sX",
        "colab": {
          "base_uri": "https://localhost:8080/"
        },
        "outputId": "57f91a7c-7e9e-4330-8e9c-23e5b86e6f31"
      },
      "execution_count": null,
      "outputs": [
        {
          "output_type": "stream",
          "name": "stdout",
          "text": [
            "Laptop added to the inventory\n",
            "SmartPhone added to the inventory\n",
            "headphone added to the inventory\n",
            "Current Inventory\n",
            "Product Id: 1, Name:Laptop, Price:999, Quantity:10\n",
            "Product Id: 2, Name:SmartPhone, Price:500, Quantity:20\n",
            "Product Id: 3, Name:headphone, Price:1500, Quantity:30\n",
            "Quantity for product id 1 updated to 15.\n",
            "Current Inventory\n",
            "Product Id: 1, Name:Laptop, Price:999, Quantity:15\n",
            "Product Id: 2, Name:SmartPhone, Price:500, Quantity:20\n",
            "Product Id: 3, Name:headphone, Price:1500, Quantity:30\n"
          ]
        }
      ]
    },
    {
      "cell_type": "markdown",
      "source": [
        "Problem 6: Shape Calculation Create a class representing a shape with attributes like length, width, and height. Implement methods to calculate the area and perimeter of the shape."
      ],
      "metadata": {
        "id": "hlqhMWboI7a0"
      }
    },
    {
      "cell_type": "code",
      "source": [
        "class shape:\n",
        "  def __init__(self, length, width, height):\n",
        "    self.length = length\n",
        "    self.width = width\n",
        "    self.height = height\n",
        "  def area(self):\n",
        "    return 2*self.length*(self.width-self.height)\n",
        "  def perimeter(self):\n",
        "    return self.length + self.width + self.height\n"
      ],
      "metadata": {
        "id": "bdMTzNrxI9Km"
      },
      "execution_count": null,
      "outputs": []
    },
    {
      "cell_type": "code",
      "source": [
        "dev = shape(21,16,9)"
      ],
      "metadata": {
        "id": "nrFIamXAqLob"
      },
      "execution_count": null,
      "outputs": []
    },
    {
      "cell_type": "code",
      "source": [
        "dev.area()"
      ],
      "metadata": {
        "colab": {
          "base_uri": "https://localhost:8080/"
        },
        "id": "_6hTrXo6qd4m",
        "outputId": "d167e4ed-9ecd-4f76-dde5-5d9b722e8bec"
      },
      "execution_count": null,
      "outputs": [
        {
          "output_type": "execute_result",
          "data": {
            "text/plain": [
              "294"
            ]
          },
          "metadata": {},
          "execution_count": 48
        }
      ]
    },
    {
      "cell_type": "code",
      "source": [
        "dev.perimeter()"
      ],
      "metadata": {
        "colab": {
          "base_uri": "https://localhost:8080/"
        },
        "id": "DwmbUze8IoIL",
        "outputId": "ea792697-1ff0-4f21-fe72-11394abc097e"
      },
      "execution_count": null,
      "outputs": [
        {
          "output_type": "execute_result",
          "data": {
            "text/plain": [
              "46"
            ]
          },
          "metadata": {},
          "execution_count": 51
        }
      ]
    },
    {
      "cell_type": "markdown",
      "source": [
        "Problem 7: Student Management Create a class representing a student with attributes like student ID, name, and grades. Implement methods to calculate the average grade and display student details."
      ],
      "metadata": {
        "id": "imG0L4W_I9vt"
      }
    },
    {
      "cell_type": "code",
      "source": [
        "class student:\n",
        "  def __init__(self, ID, name, sub1, sub2, sub3, sub4):\n",
        "    self.student_id = ID\n",
        "    self.student_name = name\n",
        "    self.sub1 = sub1\n",
        "    self.sub2 = sub2\n",
        "    self.sub3 = sub3\n",
        "    self.sub4 = sub4\n",
        "\n",
        "    total = self.sub1 + self.sub2 + self.sub3 + self.sub4\n",
        "    self.avg = total/4\n",
        "\n",
        "  def avg_grade(self):\n",
        "    if self.avg > 90:\n",
        "      return 'A+'\n",
        "    elif self.avg > 80:\n",
        "      return 'A'\n",
        "    elif self.avg > 70:\n",
        "      return 'B+'\n",
        "    elif self.avg > 50:\n",
        "      return 'c'\n",
        "    else:\n",
        "      return 'Fail'\n",
        "\n",
        "  def student_details(self):\n",
        "    print('student id', self.student_id)\n",
        "    print('student name', self.student_name)\n",
        "    print('student grade', self.avg_grade())\n",
        "  def __str__(self):\n",
        "    return f'The name of student is {self.student_name} the id is {self.student_id} and grade is {self.avg_grade()}'\n",
        "\n",
        "teja = student(20, 'tejas', 23,65, 45,87)\n",
        "teja.student_details()\n",
        "print(teja)\n",
        "# teja.avg_grade()"
      ],
      "metadata": {
        "id": "8J8X4oyZI_u9",
        "colab": {
          "base_uri": "https://localhost:8080/"
        },
        "outputId": "8b871236-ea96-41d9-a92f-a5e415115c97"
      },
      "execution_count": null,
      "outputs": [
        {
          "output_type": "stream",
          "name": "stdout",
          "text": [
            "student id 20\n",
            "student name tejas\n",
            "student grade c\n",
            "The name of student is tejas the id is 20 and grade is c\n"
          ]
        }
      ]
    },
    {
      "cell_type": "markdown",
      "source": [
        "Problem 8: Email Management Create a class representing an email with attributes like sender, recipient, and subject. Implement methods to send an email and display email details."
      ],
      "metadata": {
        "id": "jOahSlaQJAQJ"
      }
    },
    {
      "cell_type": "code",
      "source": [
        "class Email:\n",
        "  def __init__(self, sender, recipient, subject):\n",
        "    self.sender = sender\n",
        "    self.recipient = recipient\n",
        "    self.subject = subject\n",
        "    # self.is_sent = False\n",
        "\n",
        "  def send_email(self):\n",
        "    print(f'Email sent from {self.sender} to {self.recipient} with subject \"{self.subject}\" .')\n",
        "\n",
        "  def display_email_details(self):\n",
        "    print(\"Email Details:\")\n",
        "    print(f\"Sender: {self.sender}\")\n",
        "    print(f\"Recipient: {self.recipient}\")\n",
        "    print(f\"Subject: {self.subject}\")\n",
        "\n",
        "email = Email(sender='sender@gmail.com', recipient='receiver@gmail.com', subject = 'meeting detail')\n",
        "email.display_email_details()\n",
        "email.send_email()"
      ],
      "metadata": {
        "id": "csJIUf9QJCgZ",
        "colab": {
          "base_uri": "https://localhost:8080/"
        },
        "outputId": "56749591-189e-489e-88a7-2ddac0bcad42"
      },
      "execution_count": null,
      "outputs": [
        {
          "output_type": "stream",
          "name": "stdout",
          "text": [
            "Email Details:\n",
            "Sender: sender@gmail.com\n",
            "Recipient: receiver@gmail.com\n",
            "Subject: meeting detail\n",
            "Email sent from sender@gmail.com to receiver@gmail.com with subject \"meeting detail\" .\n"
          ]
        }
      ]
    },
    {
      "cell_type": "markdown",
      "source": [
        "Problem 9: Social Media Profile Create a class representing a social media profile with attributes like username and posts. Implement methods to add posts, display posts, and search for posts by keyword."
      ],
      "metadata": {
        "id": "hx2nxaWpJDN5"
      }
    },
    {
      "cell_type": "code",
      "source": [
        "class SocialMediaProfile:\n",
        "    def __init__(self, username):\n",
        "        self.username = username\n",
        "        self.posts = []\n",
        "\n",
        "    def add_post(self, content):\n",
        "        post = {\"content\": content, \"author\": self.username}\n",
        "        self.posts.append(post)\n",
        "        print(f\"New post added by {self.username}\")\n",
        "\n",
        "    def display_posts(self):\n",
        "        if not self.posts:\n",
        "            print(f\"{self.username}'s profile has no posts.\")\n",
        "        else:\n",
        "            print(f\"{self.username}'s Posts:\")\n",
        "            for index, post in enumerate(self.posts, start=1):\n",
        "                print(f\"Post {index}: {post['content']}\")\n",
        "\n",
        "    def search_posts(self, keyword):\n",
        "        matching_posts = []\n",
        "        for post in self.posts:\n",
        "          if keyword.lower() in post['content'].lower():\n",
        "            matching_posts.append(post)\n",
        "\n",
        "        #  [post for post in self.posts if keyword.lower() in post['content'].lower()]\n",
        "        if not matching_posts:\n",
        "            print(f\"No posts found containing the keyword '{keyword}'.\")\n",
        "        else:\n",
        "            print(f\"Posts containing the keyword '{keyword}':\")\n",
        "            for index, post in enumerate(matching_posts, start=1):\n",
        "                print(f\"Post {index}: {post['content']}\")\n",
        "\n",
        "# Example usage:\n",
        "if __name__ == \"__main__\":\n",
        "    # Create a social media profile\n",
        "    my_profile = SocialMediaProfile(\"john_doe\")\n",
        "\n",
        "    # Add posts to the profile\n",
        "    my_profile.add_post(\"Hello, everyone! What a great day!\")\n",
        "    my_profile.add_post(\"Enjoying a cup of coffee. #morningvibes\")\n",
        "    my_profile.add_post(\"Excited for the weekend! Any plans?\")\n",
        "\n",
        "    # Display posts\n",
        "    my_profile.display_posts()\n",
        "\n",
        "    # Search for posts containing a keyword\n",
        "    my_profile.search_posts(\"weekend\")\n"
      ],
      "metadata": {
        "id": "x_BmnVttJFTQ",
        "colab": {
          "base_uri": "https://localhost:8080/"
        },
        "outputId": "a5d67cf4-da74-4bfe-ec40-7dfa4f96c351"
      },
      "execution_count": null,
      "outputs": [
        {
          "output_type": "stream",
          "name": "stdout",
          "text": [
            "New post added by john_doe\n",
            "New post added by john_doe\n",
            "New post added by john_doe\n",
            "john_doe's Posts:\n",
            "Post 1: Hello, everyone! What a great day!\n",
            "Post 2: Enjoying a cup of coffee. #morningvibes\n",
            "Post 3: Excited for the weekend! Any plans?\n",
            "Posts containing the keyword 'weekend':\n",
            "Post 1: Excited for the weekend! Any plans?\n"
          ]
        }
      ]
    },
    {
      "cell_type": "markdown",
      "source": [
        "Problem 10: ToDo List Create a class representing a ToDo list with attributes like tasks and due dates. Implement methods to add tasks, mark tasks as completed, and display pending tasks."
      ],
      "metadata": {
        "id": "3U-kkBm9JFxt"
      }
    },
    {
      "cell_type": "code",
      "source": [
        "class ToDoList:\n",
        "\n",
        "  def __init__(self):\n",
        "      self.tasks = {}\n",
        "\n",
        "  def add_task(self, task, due_date):\n",
        "      \"\"\"\n",
        "      Add a new task to the ToDo list.\n",
        "\n",
        "      Parameters:\n",
        "      - task: The task description (string).\n",
        "      - due_date: The due date of the task (string).\n",
        "      \"\"\"\n",
        "      self.tasks[task] = {'due_date': due_date, 'completed': False}\n",
        "\n",
        "  def mark_as_completed(self, task):\n",
        "      \"\"\"\n",
        "      Mark a task as completed.\n",
        "\n",
        "      Parameters:\n",
        "      - task: The task to be marked as completed (string).\n",
        "      \"\"\"\n",
        "      if task in self.tasks:\n",
        "          self.tasks[task]['completed'] = True\n",
        "      else:\n",
        "          print(f\"Task '{task}' not found in the ToDo list.\")\n",
        "\n",
        "  def display_pending_tasks(self):\n",
        "      \"\"\"\n",
        "      Display pending tasks that are not completed yet.\n",
        "      \"\"\"\n",
        "      pending_tasks = [task for task, info in self.tasks.items() if not info['completed']]\n",
        "      if not pending_tasks:\n",
        "          print(\"No pending tasks.\")\n",
        "      else:\n",
        "          print(\"Pending tasks:\")\n",
        "          for task in pending_tasks:\n",
        "              print(f\"- {task} (Due Date: {self.tasks[task]['due_date']})\")\n",
        "\n",
        "\n",
        "# Example usage:\n",
        "todo_list = ToDoList()\n",
        "\n",
        "# Adding tasks\n",
        "todo_list.add_task(\"Complete assignment\", \"2023-11-20\")\n",
        "todo_list.add_task(\"Buy groceries\", \"2023-11-22\")\n",
        "todo_list.add_task(\"Read a book\", \"2023-11-25\")\n",
        "\n",
        "# Displaying pending tasks\n",
        "todo_list.display_pending_tasks()\n",
        "\n",
        "# Marking a task as completed\n",
        "todo_list.mark_as_completed(\"Complete assignment\")\n",
        "\n",
        "# Displaying updated pending tasks\n",
        "todo_list.display_pending_tasks()\n"
      ],
      "metadata": {
        "id": "AM_3A1meAzLl",
        "colab": {
          "base_uri": "https://localhost:8080/"
        },
        "outputId": "0acfc9a2-2a91-4bc8-8181-23018b9034e3"
      },
      "execution_count": 1,
      "outputs": [
        {
          "output_type": "stream",
          "name": "stdout",
          "text": [
            "Pending tasks:\n",
            "- Complete assignment (Due Date: 2023-11-20)\n",
            "- Buy groceries (Due Date: 2023-11-22)\n",
            "- Read a book (Due Date: 2023-11-25)\n",
            "Pending tasks:\n",
            "- Buy groceries (Due Date: 2023-11-22)\n",
            "- Read a book (Due Date: 2023-11-25)\n"
          ]
        }
      ]
    },
    {
      "cell_type": "code",
      "source": [],
      "metadata": {
        "id": "Csfv-99R3oc-"
      },
      "execution_count": null,
      "outputs": []
    }
  ]
}