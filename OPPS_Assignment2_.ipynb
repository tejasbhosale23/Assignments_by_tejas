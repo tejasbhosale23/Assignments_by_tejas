{
  "nbformat": 4,
  "nbformat_minor": 0,
  "metadata": {
    "colab": {
      "provenance": [],
      "authorship_tag": "ABX9TyPFbN1vUBjGREpqIv4XnKWg",
      "include_colab_link": true
    },
    "kernelspec": {
      "name": "python3",
      "display_name": "Python 3"
    },
    "language_info": {
      "name": "python"
    }
  },
  "cells": [
    {
      "cell_type": "markdown",
      "metadata": {
        "id": "view-in-github",
        "colab_type": "text"
      },
      "source": [
        "<a href=\"https://colab.research.google.com/github/tejasbhosalepw/Assignments_by_tejas/blob/main/OPPS_Assignment2_.ipynb\" target=\"_parent\"><img src=\"https://colab.research.google.com/assets/colab-badge.svg\" alt=\"Open In Colab\"/></a>"
      ]
    },
    {
      "cell_type": "markdown",
      "source": [
        "\n",
        "\n",
        "\n",
        "\n",
        "\n",
        "\n",
        "**Constructor**"
      ],
      "metadata": {
        "id": "4mTFF-rLSYwL"
      }
    },
    {
      "cell_type": "markdown",
      "source": [
        "Q1. What is a constructor in Python? Explain its purpose and usage."
      ],
      "metadata": {
        "id": "yj2ItxQCSgBS"
      }
    },
    {
      "cell_type": "markdown",
      "source": [
        "**Constructors** are generally used for instantiating an object. The task of constructor is assign values to the data members of the class when an object of the class is created. __init__() method is called the constructor.\n",
        "\n",
        "**Purpose** :- To construct an object and assign values to the object's members."
      ],
      "metadata": {
        "id": "jWrBRbLcSmPg"
      }
    },
    {
      "cell_type": "markdown",
      "source": [
        "Q2. Differentiate between a parameterless constructor and a parameterized constructor in Python."
      ],
      "metadata": {
        "id": "XcO3dr0VU9Zm"
      }
    },
    {
      "cell_type": "markdown",
      "source": [
        "**Parameterized Constructor** :- A parameterized constructor is a constructor that takes one or more arguments. It is used to create an object with custom values for its attributes.\n",
        "\n",
        "**Non-Parameterized Constructor** :- A non-parameterized constructor is a constructor that does not take any arguments."
      ],
      "metadata": {
        "id": "aZqKJ51fzoBX"
      }
    },
    {
      "cell_type": "markdown",
      "source": [
        "Q3. How do you define a constructor in a Python class? Provide an example."
      ],
      "metadata": {
        "id": "gaYLqiNJkdWI"
      }
    },
    {
      "cell_type": "markdown",
      "source": [
        "In Python the **__init__()** method is called the constructor and is always called when an object is created.\n",
        "\n",
        "eg.\n",
        "class constructor:\n",
        "  def __init__(self, name):\n",
        "    self.name = name\n"
      ],
      "metadata": {
        "id": "jFw0XdJokyVu"
      }
    },
    {
      "cell_type": "markdown",
      "source": [
        "Q4. Explain the `__init__` method in Python and its role in constructors."
      ],
      "metadata": {
        "id": "bd5WPFG34MRs"
      }
    },
    {
      "cell_type": "markdown",
      "source": [
        "In python, **__init__** is an instance method that initializes a newly created object.\n",
        "\n",
        "It takes the object as its first argument followed by additional arguments.\n",
        "\n",
        "The method takes the object as its first argument(self), followed by any additional arguments that need to be passed to it.\n",
        "\n",
        "**Role of constructor** :- The task of constructor is to initialize to the data members of the class when an object of the class is created."
      ],
      "metadata": {
        "id": "Jnt6Hxr74UFl"
      }
    },
    {
      "cell_type": "markdown",
      "source": [
        "Q5. In a class named `Person`, create a constructor that initializes the `name` and `age` attributes. Provide an\n",
        "\n",
        "example of creating an object of this class."
      ],
      "metadata": {
        "id": "i5DPGtDt4WOD"
      }
    },
    {
      "cell_type": "code",
      "source": [
        "class person:\n",
        "  def __init__(self, name, age):\n",
        "    self.name = name\n",
        "    self.age = age"
      ],
      "metadata": {
        "id": "U1_gbD_xMMIG"
      },
      "execution_count": null,
      "outputs": []
    },
    {
      "cell_type": "markdown",
      "source": [
        "Q6. How can you call a constructor explicitly in Python? Give an example."
      ],
      "metadata": {
        "id": "_E0uXGv94cEI"
      }
    },
    {
      "cell_type": "markdown",
      "source": [
        "we define constructor by using __init__() method.\n",
        "\n",
        "The __init__ method lets the class initialize the object's attributes and serves no other purpose."
      ],
      "metadata": {
        "id": "AS_hn6Dr4jza"
      }
    },
    {
      "cell_type": "markdown",
      "source": [
        "Q7. What is the significance of the `self` parameter in Python constructors? Explain with an example."
      ],
      "metadata": {
        "id": "snpZTFGX4lDI"
      }
    },
    {
      "cell_type": "markdown",
      "source": [
        "**self()** :- This method is used to initialize attributes of object. self parameter in the constructor refers to the instance being created and allows you to access and set its attributes.\n",
        "\n",
        "eg.\n",
        "def __init__(self, name):\n",
        "  self.name = name"
      ],
      "metadata": {
        "id": "AEoyVa1X4olr"
      }
    },
    {
      "cell_type": "markdown",
      "source": [
        "Q8. Discuss the concept of default constructors in Python. When are they used?"
      ],
      "metadata": {
        "id": "5F7-SOav4pYy"
      }
    },
    {
      "cell_type": "markdown",
      "source": [
        " **Default Constructor**: A default constructor is a constructor that takes no arguments. It is used to create an object with default values for its attributes.\n",
        "\n",
        " **used** :- Using the default constructor, data members can be initialized to some realistic values in its definition even though no arguments are specified explicitly."
      ],
      "metadata": {
        "id": "ScjpBqow4s9X"
      }
    },
    {
      "cell_type": "markdown",
      "source": [
        "Q9. Create a Python class called `Rectangle` with a constructor that initializes the `width` and `height`\n",
        "attributes. Provide a method to calculate the area of the rectangle."
      ],
      "metadata": {
        "id": "waMY5qgo4uPU"
      }
    },
    {
      "cell_type": "code",
      "source": [
        "class rectangle:\n",
        "  def __init__(self, width, height):\n",
        "    self.width = width\n",
        "    self.height = height\n",
        "  def area(self):\n",
        "    print(self.width * self.height)"
      ],
      "metadata": {
        "id": "g2htio5ZwXcK"
      },
      "execution_count": null,
      "outputs": []
    },
    {
      "cell_type": "code",
      "source": [
        "dev = rectangle(23,32)"
      ],
      "metadata": {
        "id": "cLMYjE5MwxuA"
      },
      "execution_count": null,
      "outputs": []
    },
    {
      "cell_type": "code",
      "source": [
        "dev.area()"
      ],
      "metadata": {
        "colab": {
          "base_uri": "https://localhost:8080/"
        },
        "id": "OroC2Bmfw7xw",
        "outputId": "ddb4523d-0e22-4bf4-b78d-25514b3cb71c"
      },
      "execution_count": null,
      "outputs": [
        {
          "output_type": "stream",
          "name": "stdout",
          "text": [
            "736\n"
          ]
        }
      ]
    },
    {
      "cell_type": "markdown",
      "source": [
        "Q10.  How can you have multiple constructors in a Python class? Explain with an example"
      ],
      "metadata": {
        "id": "KvJJU7Fg4x8k"
      }
    },
    {
      "cell_type": "markdown",
      "source": [
        "A class can have **multiple constructors** that differ in the number and/or type of their parameters. A class can have multiple constructors that assign the fields in different ways.\n",
        "\n",
        "It's not, however, possible to have two constructors with the exact same parameters."
      ],
      "metadata": {
        "id": "KXWCE_j741uS"
      }
    },
    {
      "cell_type": "markdown",
      "source": [
        "Q11. What is method overloading, and how is it related to constructors in Python?"
      ],
      "metadata": {
        "id": "0IHHee2h0GGK"
      }
    },
    {
      "cell_type": "markdown",
      "source": [
        "**method overloading** :- It is a feature that allows same operator to have different meanings. Overloading is a method or operator that can do different functionalities with the same name.\n",
        "\n",
        "Python does not support functional or constructor overloading. Multiple constructors in Python can be simulated by providing optional arguments and using default values. Multiple constructors in Python can also be simulated based on the data type of the argument passed in the __init__() function."
      ],
      "metadata": {
        "id": "_eetg-wT0zP0"
      }
    },
    {
      "cell_type": "markdown",
      "source": [
        "Q12.Explain the use of the `super()` function in Python constructors. Provide an example."
      ],
      "metadata": {
        "id": "nWnftwHf3BRQ"
      }
    },
    {
      "cell_type": "markdown",
      "source": [
        "**super() function** :- The super() function is used to give access to methods and properties of a parent or sibling class. The super() function returns an object that represents the parent class."
      ],
      "metadata": {
        "id": "HoEeiG-U6kTg"
      }
    },
    {
      "cell_type": "code",
      "source": [
        "class test:\n",
        "  def __init__(self, name):\n",
        "    self.name = name\n",
        "class test1:\n",
        "  def __init__(self,name, age):\n",
        "    super().__init__(name)\n",
        "    self.age = age"
      ],
      "metadata": {
        "id": "xm9HpCZE70Wc"
      },
      "execution_count": null,
      "outputs": []
    },
    {
      "cell_type": "markdown",
      "source": [
        "Q13. Create a class called `Book` with a constructor that initializes the `title`, `author`, and `published_year`\n",
        "attributes. Provide a method to display book details"
      ],
      "metadata": {
        "id": "hHhhWuyL3Itd"
      }
    },
    {
      "cell_type": "code",
      "source": [
        "class book:\n",
        "  def __init__(self, title, author, published_year):\n",
        "    self.title = title\n",
        "    self.author = author\n",
        "    self.published_year = published_year\n",
        "  def detail(self):\n",
        "    print(f'The name of book is {self.title} the author is {self.author} and published year is {self.published_year}')"
      ],
      "metadata": {
        "id": "F_wJwwDDSlVt"
      },
      "execution_count": null,
      "outputs": []
    },
    {
      "cell_type": "code",
      "source": [
        "a = book('rich dad poor dad', 'robert kiyosaki', 2000)\n",
        "a.detail()"
      ],
      "metadata": {
        "colab": {
          "base_uri": "https://localhost:8080/"
        },
        "id": "dWJabGb19ZP1",
        "outputId": "2c768633-49c2-4e8f-90eb-48cb2f312cf0"
      },
      "execution_count": null,
      "outputs": [
        {
          "output_type": "stream",
          "name": "stdout",
          "text": [
            "The name of book is rich dad poor dad the author is robert kiyosaki and published year is 2000\n"
          ]
        }
      ]
    },
    {
      "cell_type": "markdown",
      "source": [
        "Q14. Discuss the differences between constructors and regular methods in Python classes."
      ],
      "metadata": {
        "id": "Sk7__lM13PQ0"
      }
    },
    {
      "cell_type": "markdown",
      "source": [
        "**Constructors** :- 1. It is block of code that initializes newly created object.\n",
        "2. This can be used to initialize the object.\n",
        "3. It is invoked when a object is created using the keyword new.\n",
        "4. A Constructor does not have a return type.\n",
        "\n",
        "**regular methods** :- 1. It is collection of statements that returns value upon its execution.\n",
        "2. method consists of code to be executed.\n",
        "3. method must have return type.\n",
        "4. Method is invoked through method calls.\n"
      ],
      "metadata": {
        "id": "7dIPDA4nJkpQ"
      }
    },
    {
      "cell_type": "markdown",
      "source": [
        "Q15.  Explain the role of the `self` parameter in instance variable initialization within a constructor"
      ],
      "metadata": {
        "id": "a0ZU2KJH3TFN"
      }
    },
    {
      "cell_type": "markdown",
      "source": [
        "In constructor, **'self'** is used to initialize the instance variable (arg1 and arg2) with the values passed as arguments.\n",
        "\n",
        "**self** is used to accessed and print values of arguments(arg1 and arg2).\n",
        "\n",
        "**self** is convention not a keyword."
      ],
      "metadata": {
        "id": "S_RhIwWMM0Sk"
      }
    },
    {
      "cell_type": "markdown",
      "source": [
        "Q16.  How do you prevent a class from having multiple instances by using constructors in Python? Provide an\n",
        "example"
      ],
      "metadata": {
        "id": "CVGBgGXL3XFT"
      }
    },
    {
      "cell_type": "markdown",
      "source": [
        "By using **@classmethod decorator** and **super() method** we prevent class having multiple instances."
      ],
      "metadata": {
        "id": "tNK0Mqx2O404"
      }
    },
    {
      "cell_type": "code",
      "source": [
        "class DemoClass:\n",
        "     @classmethod\n",
        "     def class_method(cls):\n",
        "         print(f\"A class method from {cls.__name__}!\")\n",
        "\n",
        "DemoClass.class_method()\n",
        "A class method from DemoClass!\n",
        "demo = DemoClass()\n",
        "demo.class_method()\n",
        "A class method from DemoClass!"
      ],
      "metadata": {
        "id": "u-9FiCqUP5pN"
      },
      "execution_count": null,
      "outputs": []
    },
    {
      "cell_type": "markdown",
      "source": [
        "Q17.  Create a Python class called `Student` with a constructor that takes a list of subjects as a parameter and\n",
        "initializes the `subjects` attribute."
      ],
      "metadata": {
        "id": "4GpsbjFH3bJ3"
      }
    },
    {
      "cell_type": "code",
      "source": [
        "class student:\n",
        "  def __init__(self, sub1, sub2, sub3, sub4):\n",
        "    self.sub1 = sub1\n",
        "    self.sub2 = sub2\n",
        "    self.sub3 = sub3\n",
        "    self.sub4 = sub4\n",
        "  def subject(self):\n",
        "    print(f'subjects are{self.sub1} {self.sub2} {self.sub3} {self.sub4}' )"
      ],
      "metadata": {
        "id": "g3YHPvhv3ekY"
      },
      "execution_count": null,
      "outputs": []
    },
    {
      "cell_type": "code",
      "source": [
        "tej = student('marathi', 'hindi', 'english', 'science')\n",
        "tej.subject()"
      ],
      "metadata": {
        "id": "6V-yNgPbRlnp"
      },
      "execution_count": null,
      "outputs": []
    },
    {
      "cell_type": "markdown",
      "source": [
        "Q18.  What is the purpose of the `__del__` method in Python classes, and how does it relate to constructors?"
      ],
      "metadata": {
        "id": "uHHg50Rn3fJo"
      }
    },
    {
      "cell_type": "markdown",
      "source": [
        "__del__ :- The del keyword is used to delete objects. In Python everything is an object, so the del keyword can also be used to delete variables, lists, or parts of a list etc.\n",
        "\n"
      ],
      "metadata": {
        "id": "iQnFhC86UAz0"
      }
    },
    {
      "cell_type": "markdown",
      "source": [
        "Q19.  Explain the use of constructor chaining in Python. Provide a practical example"
      ],
      "metadata": {
        "id": "C4CKhoB73jWd"
      }
    },
    {
      "cell_type": "markdown",
      "source": [
        "**Constructor chaining** :- It is the process of calling one constructor from another constructor.\n",
        "\n",
        "It is useful when we want to invoke multiple constructors, one after another, by initializing only one instance.\n",
        "\n",
        "eg. dealing with inheritance."
      ],
      "metadata": {
        "id": "t_0BuQppS17V"
      }
    },
    {
      "cell_type": "markdown",
      "source": [
        "Q20. Create a Python class called `Car` with a default constructor that initializes the `make` and `model`\n",
        "attributes. Provide a method to display car information"
      ],
      "metadata": {
        "id": "r9QLuDL_3ovD"
      }
    },
    {
      "cell_type": "code",
      "source": [
        "class car:\n",
        "  def __init__(self):\n",
        "    self.make = 'Tata'\n",
        "    self.model = 'suzuki'\n",
        "  def print(self):\n",
        "    print(f'car maker is {self.make} and car model is {self.model}')"
      ],
      "metadata": {
        "id": "QG8so7Nz3r5v"
      },
      "execution_count": null,
      "outputs": []
    },
    {
      "cell_type": "code",
      "source": [
        "dev = car()\n",
        "dev.print()"
      ],
      "metadata": {
        "id": "MQRhsUySzGhK",
        "colab": {
          "base_uri": "https://localhost:8080/"
        },
        "outputId": "bd732581-29ff-4608-93d6-e4d5a48a3825"
      },
      "execution_count": null,
      "outputs": [
        {
          "output_type": "stream",
          "name": "stdout",
          "text": [
            "car maker is Tata and car model is suzuki\n"
          ]
        }
      ]
    },
    {
      "cell_type": "markdown",
      "source": [
        "**Inheritance**"
      ],
      "metadata": {
        "id": "Ulbp-sUwbAc7"
      }
    },
    {
      "cell_type": "markdown",
      "source": [
        "Q1. What is inheritance in Python? Explain its significance in object-oriented programming"
      ],
      "metadata": {
        "id": "PhS9FD74bL8c"
      }
    },
    {
      "cell_type": "markdown",
      "source": [
        "**Inheritance** :- It allows to define a class that inherits all the methods and properties from another class. parent class is the class being inherited from, also called base class.\n",
        "\n",
        "**significance** :- It **reduces code duplication** by allowing derived classes to reuse the properties and methods defined in base class."
      ],
      "metadata": {
        "id": "r910V3rpeT7e"
      }
    },
    {
      "cell_type": "markdown",
      "source": [
        "Q2.Differentiate between single inheritance and multiple inheritance in Python. Provide examples for each."
      ],
      "metadata": {
        "id": "0ggJyl1Eg480"
      }
    },
    {
      "cell_type": "markdown",
      "source": [
        "**Single inheritance** :- In this, derived class inherits the single base class.\n",
        "\n",
        "**multiple inheritance** :- In this, derived class inherits the two or more base class."
      ],
      "metadata": {
        "id": "vlcxV1-diYO-"
      }
    },
    {
      "cell_type": "code",
      "source": [
        "# single inheritance\n",
        "\n",
        "class parent:\n",
        "  def fun(self):\n",
        "    print('this function is in parent class')\n",
        "class child(parent):\n",
        "  def fun1(self):\n",
        "    print('this is in child class')\n",
        "obj = child()\n",
        "obj.fun()\n",
        "obj.fun1()"
      ],
      "metadata": {
        "colab": {
          "base_uri": "https://localhost:8080/"
        },
        "id": "UsfM-Za8hHVm",
        "outputId": "f10d188e-5083-46b8-bf77-d49c156bc997"
      },
      "execution_count": null,
      "outputs": [
        {
          "output_type": "stream",
          "name": "stdout",
          "text": [
            "this function is in parent class\n",
            "this is in child class\n"
          ]
        }
      ]
    },
    {
      "cell_type": "code",
      "source": [
        "# example of multiple inheritance\n",
        "\n",
        "class mother:\n",
        "  mothername = ''\n",
        "  def mother(self):\n",
        "    print(self.mothername)\n",
        "class father:\n",
        "  fathername = ''\n",
        "  def father(self):\n",
        "    print(self.fathername)\n",
        "class son(mother, father):\n",
        "  def parents(self):\n",
        "    print('father :', self.fathername)\n",
        "    print('mother :', self.mothername)\n",
        "\n",
        "s1 = son()\n",
        "s1.fathername = 'ram'\n",
        "s1.mothername = 'sita'\n",
        "s1.parents()"
      ],
      "metadata": {
        "colab": {
          "base_uri": "https://localhost:8080/"
        },
        "id": "nLeRD8lSj8wf",
        "outputId": "c99e5ec2-3ba4-42c5-f666-78d7e3409372"
      },
      "execution_count": null,
      "outputs": [
        {
          "output_type": "stream",
          "name": "stdout",
          "text": [
            "father : ram\n",
            "mother : sita\n"
          ]
        }
      ]
    },
    {
      "cell_type": "markdown",
      "source": [
        "Q3. Create a Python class called `Vehicle` with attributes `color` and `speed`. Then, create a child class called\n",
        "`Car` that inherits from `Vehicle` and adds a `brand` attribute. Provide an example of creating a `Car` object."
      ],
      "metadata": {
        "id": "w3CJJf3JiLJt"
      }
    },
    {
      "cell_type": "code",
      "source": [
        "class vehicle:\n",
        "  def __init__(self, color, speed):\n",
        "    self.color = color\n",
        "    self.speed = speed\n",
        "\n",
        "class car(vehicle):\n",
        "  def __init__(self, color, speed, brand):\n",
        "    super().__init__(color, speed)\n",
        "    self.brand = brand\n",
        "\n",
        "  def detail(self):\n",
        "    print(f'vehicle color is {self.color} and speed is {self.speed} and brand is {self.brand}')\n",
        "\n",
        "s1 = car('pink', 2324, 'tata')\n",
        "s1.detail()"
      ],
      "metadata": {
        "colab": {
          "base_uri": "https://localhost:8080/"
        },
        "id": "l_4dYh_yiPER",
        "outputId": "7d25b030-3d37-4493-cee7-99b9c597147e"
      },
      "execution_count": null,
      "outputs": [
        {
          "output_type": "stream",
          "name": "stdout",
          "text": [
            "vehicle color is pink and speed is 2324 and brand is tata\n"
          ]
        }
      ]
    },
    {
      "cell_type": "markdown",
      "source": [
        "Q4. Explain the concept of method overriding in inheritance. Provide a practical example"
      ],
      "metadata": {
        "id": "eARqvx43nOaQ"
      }
    },
    {
      "cell_type": "markdown",
      "source": [
        "**method overriding** :- It allows you to redefine a method in a subclass or the derived class previously defined in its parent or the superclass."
      ],
      "metadata": {
        "id": "9NILEm0kpheQ"
      }
    },
    {
      "cell_type": "code",
      "source": [
        "class Parent():\n",
        "    def __init__(self):\n",
        "        self.value = \"Inside Parent\"\n",
        "    def show(self):\n",
        "        print(self.value)\n",
        "# Defining child class\n",
        "class Child(Parent):\n",
        "    def __init__(self):\n",
        "        self.value = \"Inside Child\"\n",
        "    def show(self):\n",
        "        print(self.value)\n",
        "\n",
        "obj1 = Parent()\n",
        "obj2 = Child()\n",
        "\n",
        "obj1.show()\n",
        "obj2.show()"
      ],
      "metadata": {
        "colab": {
          "base_uri": "https://localhost:8080/"
        },
        "id": "kfzX51F2mXIU",
        "outputId": "ec153c64-33e7-441c-ac9a-596c98067d3d"
      },
      "execution_count": null,
      "outputs": [
        {
          "output_type": "stream",
          "name": "stdout",
          "text": [
            "Inside Parent\n",
            "Inside Child\n"
          ]
        }
      ]
    },
    {
      "cell_type": "markdown",
      "source": [
        "Q5. How can you access the methods and attributes of a parent class from a child class in Python? Give an\n",
        "example."
      ],
      "metadata": {
        "id": "jIf-57lGnYCE"
      }
    },
    {
      "cell_type": "markdown",
      "source": [
        "we access the methods and attributs of parent class by using **inheritance** and **super()** method."
      ],
      "metadata": {
        "id": "LkeJ170lyYQE"
      }
    },
    {
      "cell_type": "code",
      "source": [
        "class parent:\n",
        "  def __init__(self, name):\n",
        "    self.name = name\n",
        "  def show(self):\n",
        "    print(self.name)\n",
        "class child(parent):\n",
        "  def __init__(self, name, city):\n",
        "    super().__init__(name)\n",
        "    self.city = city\n",
        "  def show1(self):\n",
        "    print(self.city)\n",
        "\n",
        "obj1 = child('tejas', 'pune')\n",
        "obj1.show()\n",
        "obj1.show1()\n"
      ],
      "metadata": {
        "colab": {
          "base_uri": "https://localhost:8080/"
        },
        "id": "8gV3QJvAnaXh",
        "outputId": "fe204405-68a8-48ea-fe8e-65ef1624fbf5"
      },
      "execution_count": null,
      "outputs": [
        {
          "output_type": "stream",
          "name": "stdout",
          "text": [
            "tejas\n",
            "pune\n"
          ]
        }
      ]
    },
    {
      "cell_type": "markdown",
      "source": [
        "Q6. Discuss the use of the `super()` function in Python inheritance. When and why is it used? Provide an\n",
        "example."
      ],
      "metadata": {
        "id": "QrcePBSAna3K"
      }
    },
    {
      "cell_type": "markdown",
      "source": [
        "**Super() function** :- This can be used to access the attributes and methods of multiple parent classes in a child class when multiple inheritances is used."
      ],
      "metadata": {
        "id": "oyhqo7Nu5kAQ"
      }
    },
    {
      "cell_type": "code",
      "source": [
        "class name:\n",
        "  def __init__(self, name):\n",
        "    self.name = name\n",
        "class city(name):\n",
        "  def __init__(self,name, city):\n",
        "    super().__init__(name)\n",
        "    self.city = city\n",
        "  def show(self):\n",
        "    print(f'the name is {self.name} and city is {self.city}')\n",
        "\n",
        "dev = city('tejas', 'thane')\n",
        "dev.show()"
      ],
      "metadata": {
        "colab": {
          "base_uri": "https://localhost:8080/"
        },
        "id": "Cf9t0OoanctF",
        "outputId": "697c995f-ddfb-463d-ab35-c9703d18c439"
      },
      "execution_count": null,
      "outputs": [
        {
          "output_type": "stream",
          "name": "stdout",
          "text": [
            "the name is tejas and city is thane\n"
          ]
        }
      ]
    },
    {
      "cell_type": "markdown",
      "source": [
        "Q7. Create a Python class called `Animal` with a method `speak()`. Then, create child classes `Dog` and `Cat` that inherit from `Animal` and override the `speak()` method. Provide an example of using these classes."
      ],
      "metadata": {
        "id": "KTZDrbGdndhv"
      }
    },
    {
      "cell_type": "code",
      "source": [
        "class Animal:\n",
        "  def speak(self):\n",
        "    print('animal class')\n",
        "class Dog:\n",
        "  def speak(self):\n",
        "    print('dog class')\n",
        "\n",
        "class cat(Animal, Dog):\n",
        "  t1=Animal()\n",
        "  t1.speak()\n",
        "  t2=Dog()\n",
        "  t2.speak()\n",
        "  # print('test2 class')\n",
        "t=cat()\n",
        "t.speak()"
      ],
      "metadata": {
        "colab": {
          "base_uri": "https://localhost:8080/"
        },
        "id": "AVNumQ5hnf_y",
        "outputId": "23dca1cc-4c56-4cf4-ae11-4268b9be2048"
      },
      "execution_count": null,
      "outputs": [
        {
          "output_type": "stream",
          "name": "stdout",
          "text": [
            "animal class\n",
            "dog class\n",
            "animal class\n"
          ]
        }
      ]
    },
    {
      "cell_type": "markdown",
      "source": [
        "Q8. Explain the role of the `isinstance()` function in Python and how it relates to inheritance."
      ],
      "metadata": {
        "id": "pF3y9PxFng18"
      }
    },
    {
      "cell_type": "markdown",
      "source": [
        "**isinstance()** :- The isintance() function in python is a built-in function used for type checking. It varifies if an object is of a specified type, returning True if it is, and False otherwise.\n",
        "\n",
        "If inheritance is present in the program, then the function can be used to check if a specified class is the parent class of an object or not."
      ],
      "metadata": {
        "id": "RPnWAgMAcHO5"
      }
    },
    {
      "cell_type": "markdown",
      "source": [
        "Q9.What is the purpose of the `issubclass()` function in Python? Provide an example."
      ],
      "metadata": {
        "id": "3fEJ50hynk9z"
      }
    },
    {
      "cell_type": "markdown",
      "source": [
        "**issubclass()** :- It is a built-in function that is used to check whether a class is the subclass of another class in the program or not."
      ],
      "metadata": {
        "id": "141A81Ctf2Pi"
      }
    },
    {
      "cell_type": "code",
      "source": [
        "class myage:\n",
        "  age = 23\n",
        "\n",
        "class myobj(myage):\n",
        "  name = 'jon'\n",
        "  age = myage\n",
        "\n",
        "dev = issubclass(myobj, myage)\n",
        "dev"
      ],
      "metadata": {
        "id": "aacEoXhWnpcN",
        "colab": {
          "base_uri": "https://localhost:8080/"
        },
        "outputId": "6ec8f42f-1ceb-4e6d-94c2-283e12a7c94e"
      },
      "execution_count": null,
      "outputs": [
        {
          "output_type": "execute_result",
          "data": {
            "text/plain": [
              "True"
            ]
          },
          "metadata": {},
          "execution_count": 2
        }
      ]
    },
    {
      "cell_type": "markdown",
      "source": [
        "Q10. Discuss the concept of constructor inheritance in Python. How are constructors inherited in child classes?"
      ],
      "metadata": {
        "id": "7zJTGKTxnqL2"
      }
    },
    {
      "cell_type": "markdown",
      "source": [
        "In Python, every class inherits from a built-in basic class called 'object'. The constructor i.e. the '__init__' function of a class is invoked when we create an object variable or an instance of the class. The variables defined within __init__() are called instance variables or objects.\n"
      ],
      "metadata": {
        "id": "cZ7IrTkXk1kE"
      }
    },
    {
      "cell_type": "markdown",
      "source": [
        "Q11. Create a Python class called `Shape` with a method `area()` that calculates the area of a shape. Then, create child classes `Circle` and `Rectangle` that inherit from `Shape` and implement the `area()` method\n",
        "accordingly. Provide an example."
      ],
      "metadata": {
        "id": "B0eHwQxvk4Wi"
      }
    },
    {
      "cell_type": "code",
      "source": [
        "class shape:\n",
        "  def __init__(self, length, breadth):\n",
        "    self.length = length\n",
        "    self.breadth = breadth\n",
        "    # self.radius = radius\n",
        "\n",
        "class rectangle(shape):\n",
        "  def __init__(self, length, breadth):\n",
        "    super().__init__(length, breadth)\n",
        "  def area(self):\n",
        "    print(f'area of rectangle is {self.length*self.breadth}')\n",
        "\n",
        "class circle(shape):\n",
        "  def __init__(self, radius):\n",
        "    self.radius = radius\n",
        "  def area(self):\n",
        "    print(f'area of circle is {3.14*self.radius}')\n",
        "\n",
        "dev = shape(23,32)\n",
        "# dev.area()\n",
        "dev = rectangle(12,2)\n",
        "dev.area()\n",
        "sam = circle(2)\n",
        "sam.area()\n"
      ],
      "metadata": {
        "colab": {
          "base_uri": "https://localhost:8080/"
        },
        "id": "UrdnFSP-lCK2",
        "outputId": "8f846a30-fb33-403d-a914-74050768378a"
      },
      "execution_count": null,
      "outputs": [
        {
          "output_type": "stream",
          "name": "stdout",
          "text": [
            "area of rectangle is 24\n",
            "area of circle is 6.28\n"
          ]
        }
      ]
    },
    {
      "cell_type": "markdown",
      "source": [
        "Q12. Explain the use of abstract base classes (ABCs) in Python and how they relate to inheritance. Provide an\n",
        "example using the `abc` module."
      ],
      "metadata": {
        "id": "YeNr7dovlCyv"
      }
    },
    {
      "cell_type": "markdown",
      "source": [
        "Abstract base classes(ABCs) :- It is a class that is used as a blueprint for other classes.\n",
        "\n",
        "This are a powerful feature in python since they help you define a blueprint for other classes that may have something in common."
      ],
      "metadata": {
        "id": "-gViJTIVzj66"
      }
    },
    {
      "cell_type": "code",
      "source": [
        "from abc import ABC, abstractmethod\n",
        "\n",
        "class Details(ABC):\n",
        "  @abstractmethod\n",
        "  def getname(self):\n",
        "    return self.name\n",
        "\n",
        "  @abstractmethod\n",
        "  def getrole(self):\n",
        "    return self.role\n",
        "\n",
        "class sachin(Details):\n",
        "  def __init__(self, name='sachin'):\n",
        "    self.name = name\n",
        "    self.role = 'python dev'\n",
        "  def getname(self):\n",
        "    return self.name\n",
        "  def getrole(self):\n",
        "    return self.role\n",
        "\n",
        "detail = sachin()\n",
        "print(detail.getname())\n",
        "print(detail.getrole())\n"
      ],
      "metadata": {
        "id": "Hiaqb0KKlFJo",
        "colab": {
          "base_uri": "https://localhost:8080/"
        },
        "outputId": "470a98b1-f708-4bb4-a131-1e69b71b3902"
      },
      "execution_count": null,
      "outputs": [
        {
          "output_type": "stream",
          "name": "stdout",
          "text": [
            "sachin\n",
            "python dev\n"
          ]
        }
      ]
    },
    {
      "cell_type": "markdown",
      "source": [
        "Q13. How can you prevent a child class from modifying certain attributes or methods inherited from a parent\n",
        "class in Python?"
      ],
      "metadata": {
        "id": "5rxVpUmblGf4"
      }
    },
    {
      "cell_type": "code",
      "source": [],
      "metadata": {
        "id": "4_lOz7YllI1f"
      },
      "execution_count": null,
      "outputs": []
    },
    {
      "cell_type": "markdown",
      "source": [
        "Q14. Create a Python class called `Employee` with attributes `name` and `salary`. Then, create a child class\n",
        "`Manager` that inherits from `Employee` and adds an attribute `department`. Provide an example."
      ],
      "metadata": {
        "id": "Jn6RjbRXlJmc"
      }
    },
    {
      "cell_type": "code",
      "source": [
        "class Employee:\n",
        "  def __init__(self, name, salary):\n",
        "    self.name = name\n",
        "    self.salary = salary\n",
        "\n",
        "class manager(Employee):\n",
        "  def __init__(self, name, salary, department):\n",
        "    super().__init__(name, salary)\n",
        "    self.department = department\n",
        "\n",
        "  def details(self):\n",
        "    print(f'The name is {self.name} and salary is {self.salary} and department is {self.department}')\n",
        "\n",
        "tej = manager('tejas', 30000, 'development')\n",
        "tej.details()"
      ],
      "metadata": {
        "colab": {
          "base_uri": "https://localhost:8080/"
        },
        "id": "0Xu2SF-UlOXf",
        "outputId": "fc63045c-bd2a-4817-f03c-5ca94cf22334"
      },
      "execution_count": null,
      "outputs": [
        {
          "output_type": "stream",
          "name": "stdout",
          "text": [
            "The name is tejas and salary is 30000 and department is development\n"
          ]
        }
      ]
    },
    {
      "cell_type": "markdown",
      "source": [
        "Q15. Discuss the concept of method overloading in Python inheritance. How does it differ from method\n",
        "overriding?"
      ],
      "metadata": {
        "id": "LP2Bd7tPlPGQ"
      }
    },
    {
      "cell_type": "markdown",
      "source": [
        "**Method overloading** :- This can be thought as many methods with same name accepting different number of arguments within same class.\n",
        "\n",
        "**method Overriding** occurs when the method signature is the same in the superclass and the child class.\n",
        "\n",
        "**method Overloading** occurs when two or more methods in the same class have the same name but different parameters."
      ],
      "metadata": {
        "id": "Xmpe1Sb8BdIj"
      }
    },
    {
      "cell_type": "markdown",
      "source": [
        "Q16. Explain the purpose of the `__init__()` method in Python inheritance and how it is utilized in child classes."
      ],
      "metadata": {
        "id": "tn4GTXywlRvk"
      }
    },
    {
      "cell_type": "markdown",
      "source": [
        "__init__()  :- It is a method known as the constructor. It is automatically called when a new instance (object) of a class is created. The __init__ method allows you to initialize the attributes (variables) of an object.\n",
        "\n",
        "\n",
        "we utilized __init__() method is used in child classes by using **super()** method."
      ],
      "metadata": {
        "id": "-Dw7I0N7D8lA"
      }
    },
    {
      "cell_type": "markdown",
      "source": [
        "Q17.  Create a Python class called `Bird` with a method `fly()`. Then, create child classes `Eagle` and `Sparrow` that inherit from `Bird` and implement the `fly()` method differently. Provide an example of using these\n",
        "classes."
      ],
      "metadata": {
        "id": "ipqK3XVwlVAk"
      }
    },
    {
      "cell_type": "code",
      "source": [
        "class Bird:\n",
        "  def fly():\n",
        "    print('bird can fly')\n",
        "\n",
        "class Eagle(Bird):\n",
        "  def fly():\n",
        "    print('Eagle also fly')\n",
        "\n",
        "class Sparrow(Bird):\n",
        "  def fly():\n",
        "    print('Sparrow also fly')\n",
        "\n",
        "obj  = Bird\n",
        "obj.fly()\n",
        "obj1 = Eagle\n",
        "obj1.fly()\n",
        "obj2 = Sparrow\n",
        "obj2.fly()"
      ],
      "metadata": {
        "colab": {
          "base_uri": "https://localhost:8080/"
        },
        "id": "RtnRievqlZNc",
        "outputId": "0cc342c3-e96e-49a0-83e2-7c124b667753"
      },
      "execution_count": null,
      "outputs": [
        {
          "output_type": "stream",
          "name": "stdout",
          "text": [
            "bird can fly\n",
            "Eagle also fly\n",
            "Sparrow also fly\n"
          ]
        }
      ]
    },
    {
      "cell_type": "markdown",
      "source": [
        "Q18.What is the \"diamond problem\" in multiple inheritance, and how does Python address it?"
      ],
      "metadata": {
        "id": "Y0uhCbAZlZuF"
      }
    },
    {
      "cell_type": "markdown",
      "source": [
        "The **diamond problem** is an ambiguity that is arisen when there are two classes say B and C that inherit / are derived from a single class A, and there is another class D, that is a class derived from multiple inheritance and inherits from B as well as C."
      ],
      "metadata": {
        "id": "ZYton-qqXR0J"
      }
    },
    {
      "cell_type": "markdown",
      "source": [
        "Q19. Discuss the concept of \"is-a\" and \"has-a\" relationships in inheritance, and provide examples of each."
      ],
      "metadata": {
        "id": "HRYzGpb9ldxY"
      }
    },
    {
      "cell_type": "markdown",
      "source": [
        "**Is-a** :- Whenever one class inherits another class it is called as IS-A relationship.\n",
        "\n",
        " This relationship is implemented using inheritance, where a subclass (derived class) inherits properties and behaviors from a superclass (base class).\n",
        "\n",
        "**Has-A relationship** :- Whenever an instance of one class is used in another class it is called Has-A relationship\n",
        "\n",
        "This relationship is implemented using composition, where an object of one class is used as a component in another class."
      ],
      "metadata": {
        "id": "BMal59mbF-ml"
      }
    },
    {
      "cell_type": "markdown",
      "source": [
        "Q20. Create a Python class hierarchy for a university system. Start with a base class `Person` and create child\n",
        "classes `Student` and `Professor`, each with their own attributes and methods. Provide an example of using\n",
        "these classes in a university context."
      ],
      "metadata": {
        "id": "6vfbs9fnlhR8"
      }
    },
    {
      "cell_type": "code",
      "source": [
        "class person:\n",
        "  def __init__(self, name):\n",
        "    self.name = name\n",
        "  def detail(self):\n",
        "    print(f'the name is {self.name}')\n",
        "\n",
        "class student(person):\n",
        "  def __init__(self, name, age):\n",
        "    super().__init__(name)\n",
        "    self.age = age\n",
        "  def detail(self):\n",
        "    print(f'The name is {self.name} and age is {self.age}')\n",
        "\n",
        "class professor(person):\n",
        "  def __init__(self, name, subject):\n",
        "    super().__init__(name)\n",
        "    self.subject = subject\n",
        "  def detail(self):\n",
        "    print(f'the name is {self.name} and your subject is {self.subject}')\n",
        "\n",
        "john = person('john')\n",
        "john.detail()\n",
        "dev = student('deva', 23)\n",
        "dev.detail()\n",
        "teja = professor('tejas', 'math')\n",
        "teja.detail()\n"
      ],
      "metadata": {
        "id": "DrpEavoPlj8w",
        "colab": {
          "base_uri": "https://localhost:8080/"
        },
        "outputId": "9fa11c05-dffb-4f2d-e82a-5684d52ff766"
      },
      "execution_count": null,
      "outputs": [
        {
          "output_type": "stream",
          "name": "stdout",
          "text": [
            "the name is john\n",
            "The name is deva and age is 23\n",
            "the name is tejas and your subject is math\n"
          ]
        }
      ]
    },
    {
      "cell_type": "markdown",
      "source": [
        "**Encapsulation**"
      ],
      "metadata": {
        "id": "ClClJTQVX1bd"
      }
    },
    {
      "cell_type": "markdown",
      "source": [
        "Q1. Explain the concept of encapsulation in Python. What is its role in object-oriented programming?"
      ],
      "metadata": {
        "id": "YOAM7yhOYwr0"
      }
    },
    {
      "cell_type": "markdown",
      "source": [
        "**Encapsulation** :- It is used to restrict access to methods and variables.\n",
        "\n",
        "In encapsulation, the variables of class will be hidden from other classes, can be accessed only through the methods of their current class.\n",
        "\n",
        "In encapsulation, code and data are wrapped together within a single unit form being modified by accident.**bold text**"
      ],
      "metadata": {
        "id": "8rgeKCH5Y2xg"
      }
    },
    {
      "cell_type": "markdown",
      "source": [
        "Q2. Describe the key principles of encapsulation, including access control and data hiding."
      ],
      "metadata": {
        "id": "7iYNhy6DY34H"
      }
    },
    {
      "cell_type": "markdown",
      "source": [
        "**Principles of encapsulation**\n",
        "\n",
        "1. Hiding data : users will have no idea how classes are being implemented or stored. All that users will know is that values are being passed and initialized.\n",
        "2. More flexibility :- Enables to set variables as red or write only.\n",
        "3. Easy to reuse :- with encapsulation, it's easy to change and adapt to new requirements."
      ],
      "metadata": {
        "id": "k57CAhDwwCXU"
      }
    },
    {
      "cell_type": "markdown",
      "source": [
        "Q3. How can you achieve encapsulation in Python classes? Provide an example."
      ],
      "metadata": {
        "id": "d6QU8BTVY7EU"
      }
    },
    {
      "cell_type": "code",
      "source": [
        "class Students:\n",
        "   def __init__(self, name, rank, points):\n",
        "      self.name = name\n",
        "      self.rank = rank\n",
        "      self.points = points\n",
        "\n",
        "   def demofunc(self):\n",
        "      print(\"I am \"+self.name)\n",
        "      print(\"I got Rank \",+self.rank)\n",
        "\n",
        "st1 = Students(\"Steve\", 1, 100)\n",
        "st2 = Students(\"Chris\", 2, 90)\n",
        "st3 = Students(\"Mark\", 3, 76)\n",
        "st4 = Students(\"Kate\", 4, 60)\n",
        "\n",
        "st1.demofunc()\n",
        "st2.demofunc()\n",
        "st3.demofunc()\n",
        "st4.demofunc()"
      ],
      "metadata": {
        "id": "Awb-ecSSY9Su",
        "colab": {
          "base_uri": "https://localhost:8080/"
        },
        "outputId": "90877cc0-cbcb-456d-f5a3-5d4080a348b8"
      },
      "execution_count": null,
      "outputs": [
        {
          "output_type": "stream",
          "name": "stdout",
          "text": [
            "I am Steve\n",
            "I got Rank  1\n",
            "I am Chris\n",
            "I got Rank  2\n",
            "I am Mark\n",
            "I got Rank  3\n",
            "I am Kate\n",
            "I got Rank  4\n"
          ]
        }
      ]
    },
    {
      "cell_type": "markdown",
      "source": [
        "Q4. Discuss the difference between public, private, and protected access modifiers in Python."
      ],
      "metadata": {
        "id": "RJcnvmAeaHZz"
      }
    },
    {
      "cell_type": "markdown",
      "source": [
        "**Public access modifiers** :- This are accessible by any class and function.\n",
        "\n",
        "**Private data attributes** :- Private data attributes are only accessible inside the class.\n",
        "\n",
        "**protected data attributes** :- It should only be accessed inside the class environment and can be accessed inside the sub-classes."
      ],
      "metadata": {
        "id": "SYrWT-JJY-jb"
      }
    },
    {
      "cell_type": "markdown",
      "source": [
        "Q5. Create a Python class called `Person` with a private attribute `__name`. Provide methods to get and set the\n",
        "name attribute."
      ],
      "metadata": {
        "id": "h26ZVAmPabv-"
      }
    },
    {
      "cell_type": "code",
      "source": [
        "class person:\n",
        "  def __init__(self, name):\n",
        "    self.__name = name\n",
        "  def name(self):\n",
        "    print(f' the name is {self.__name}')\n",
        "dev = person('deva')\n",
        "dev.name()"
      ],
      "metadata": {
        "id": "1AwKlD_ZabMo",
        "colab": {
          "base_uri": "https://localhost:8080/"
        },
        "outputId": "ed8a2829-8cea-4479-a7ed-a007f3dcb87c"
      },
      "execution_count": null,
      "outputs": [
        {
          "output_type": "stream",
          "name": "stdout",
          "text": [
            " the name is deva\n"
          ]
        }
      ]
    },
    {
      "cell_type": "code",
      "source": [
        "dev._person__name = 'sam'"
      ],
      "metadata": {
        "id": "kihLn3-a9nAS"
      },
      "execution_count": null,
      "outputs": []
    },
    {
      "cell_type": "code",
      "source": [
        "dev.name()"
      ],
      "metadata": {
        "colab": {
          "base_uri": "https://localhost:8080/"
        },
        "id": "y_4sRF3b9s53",
        "outputId": "71593297-e3a0-4636-b314-4df92c792198"
      },
      "execution_count": null,
      "outputs": [
        {
          "output_type": "stream",
          "name": "stdout",
          "text": [
            " the name is sam\n"
          ]
        }
      ]
    },
    {
      "cell_type": "markdown",
      "source": [
        "Q6. Explain the purpose of getter and setter methods in encapsulation. Provide examples"
      ],
      "metadata": {
        "id": "nF5zfBzFafMQ"
      }
    },
    {
      "cell_type": "markdown",
      "source": [
        "**getter method** :- A method that allows to access an attribute in a given class.\n",
        "\n",
        "**Setter method** :- A method that allows to set the value of an attribute in a class."
      ],
      "metadata": {
        "id": "oGdrcrPkYNx6"
      }
    },
    {
      "cell_type": "code",
      "source": [],
      "metadata": {
        "id": "pHH31uDfaiEi"
      },
      "execution_count": null,
      "outputs": []
    },
    {
      "cell_type": "markdown",
      "source": [
        "Q7. What is name mangling in Python, and how does it affect encapsulation?"
      ],
      "metadata": {
        "id": "3gY9gBJ0ai37"
      }
    },
    {
      "cell_type": "markdown",
      "source": [
        "**Name Mangling** :- It is used to restrict private class attributes or methods from being accessed from outside the class.\n",
        "\n",
        "most high-level programming languages have a way of making the attributes and methods of the class to be private or protected."
      ],
      "metadata": {
        "id": "kNbYzI1QzoIc"
      }
    },
    {
      "cell_type": "markdown",
      "source": [
        "Q8. Create a Python class called `BankAccount` with private attributes for the account balance (`__balance`) and account number (`__account_number`). Provide methods for depositing and withdrawing money"
      ],
      "metadata": {
        "id": "zYqMYQHsamJ1"
      }
    },
    {
      "cell_type": "code",
      "source": [
        "class Bankaccount:\n",
        "  def __init__(self, balance, account_number):\n",
        "    self.__balance = balance\n",
        "    self.__account_number = account_number\n",
        "\n",
        "  def deposit(self, amount):\n",
        "    if amount > 0:\n",
        "      self.__balance += amount\n",
        "      print(f\"deposited amount is {amount}. new balance is : {self.__balance}\")\n",
        "    else:\n",
        "      print('invalid deposit amount. amount must be greater than 1')\n",
        "\n",
        "  def withdrawing(self, amount):\n",
        "    if amount > 0 and amount <= self.__balance:\n",
        "      self.__balance -= amount\n",
        "      print(f'Withdrawn amount is {amount}. new balance is: {self.__balance}')\n",
        "    elif amount <=0:\n",
        "      print('Invalid withdrawn amount. amount must be greater than 0')\n",
        "    else:\n",
        "      print('insufficient funds for withdrawal')\n",
        "\n",
        "dev = Bankaccount(23000, 12345678)\n",
        "dev.deposit(2323)\n",
        "dev.withdrawing(500)\n",
        "# dev.withdrawing(299)"
      ],
      "metadata": {
        "id": "44_N-UeBcbt8",
        "colab": {
          "base_uri": "https://localhost:8080/"
        },
        "outputId": "79a5b7b2-f60f-430b-ea30-6a9c1187bb13"
      },
      "execution_count": null,
      "outputs": [
        {
          "output_type": "stream",
          "name": "stdout",
          "text": [
            "deposited amount is 2323. new balance is : 25323\n",
            "Withdrawn amount is 500. new balance is: 24823\n"
          ]
        }
      ]
    },
    {
      "cell_type": "markdown",
      "source": [
        "Q9. Discuss the advantages of encapsulation in terms of code maintainability and security"
      ],
      "metadata": {
        "id": "vn3LzrQ5ccfy"
      }
    },
    {
      "cell_type": "markdown",
      "source": [
        "**Advantages of encapsulation :**\n",
        "\n",
        "1. Protect an object from unwanted access by client.\n",
        "2. Allows access to a level without revealing the complex details below that level.\n",
        "3. Hiding the data.\n",
        "4. reduces the human errors."
      ],
      "metadata": {
        "id": "tdkwZo7u-6p5"
      }
    },
    {
      "cell_type": "markdown",
      "source": [
        "Q10. How can you access private attributes in Python? Provide an example demonstrating the use of name\n",
        "mangling"
      ],
      "metadata": {
        "id": "woNFrh2Bcg2t"
      }
    },
    {
      "cell_type": "markdown",
      "source": [
        "By using the class name."
      ],
      "metadata": {
        "id": "lP3mY8NkABzn"
      }
    },
    {
      "cell_type": "code",
      "source": [
        "class person:\n",
        "  def __init__(self, name, city):\n",
        "    self.__name = name\n",
        "    self.city = city\n",
        "  def details(self):\n",
        "    return f'the name is {self.__name} and city is {self.city}'\n",
        "\n",
        "dev = person('tejas', 'pune')\n",
        "dev.details()"
      ],
      "metadata": {
        "id": "8a99bUoNcjkj",
        "colab": {
          "base_uri": "https://localhost:8080/",
          "height": 35
        },
        "outputId": "4fb77d3e-4379-48cb-8560-6cc784111791"
      },
      "execution_count": null,
      "outputs": [
        {
          "output_type": "execute_result",
          "data": {
            "text/plain": [
              "'the name is tejas and city is pune'"
            ],
            "application/vnd.google.colaboratory.intrinsic+json": {
              "type": "string"
            }
          },
          "metadata": {},
          "execution_count": 21
        }
      ]
    },
    {
      "cell_type": "code",
      "source": [
        "dev._person__name = 'sam'"
      ],
      "metadata": {
        "id": "wrDL43EIAlwx"
      },
      "execution_count": null,
      "outputs": []
    },
    {
      "cell_type": "code",
      "source": [
        "dev.details()"
      ],
      "metadata": {
        "colab": {
          "base_uri": "https://localhost:8080/",
          "height": 35
        },
        "id": "LDRSaNt-AhlQ",
        "outputId": "68626a35-91c9-4344-e597-08a24c8ce68c"
      },
      "execution_count": null,
      "outputs": [
        {
          "output_type": "execute_result",
          "data": {
            "text/plain": [
              "'the name is sam and city is pune'"
            ],
            "application/vnd.google.colaboratory.intrinsic+json": {
              "type": "string"
            }
          },
          "metadata": {},
          "execution_count": 23
        }
      ]
    },
    {
      "cell_type": "markdown",
      "source": [
        "Q11. Create a Python class hierarchy for a school system, including classes for students, teachers, and courses,\n",
        "and implement encapsulation principles to protect sensitive information."
      ],
      "metadata": {
        "id": "ZzixL0GsAxoA"
      }
    },
    {
      "cell_type": "code",
      "source": [
        "class student:\n",
        "  def __init__(self, name, id):\n",
        "    self.name = name\n",
        "    self.__id = id\n",
        "  def info(self):\n",
        "    return f'Student name is {self.name} and id is {self.__id}'\n",
        "\n",
        "class teachers:\n",
        "  def __init__(self, name, sub1, sub2):\n",
        "    self.name = name\n",
        "    self.sub1 = sub1\n",
        "    self.__sub2 = sub2\n",
        "  def detail(self):\n",
        "    return f'The Teacher is {self.name} and subject is {self.sub1} and {self.__sub2}'\n",
        "\n",
        "class courses(student, teachers):\n",
        "  def __init__(self, name, sub1, course_name, price):\n",
        "    super().__init__(name,id)\n",
        "    self.sub1 = sub1\n",
        "    self.course = course_name\n",
        "    self.price = price\n",
        "\n",
        "  def details(self):\n",
        "    return f'student name is {self.name} his subject is {self.sub1} and course price is {self.price}'\n",
        "\n",
        "dev = student('tejas', 's121')\n",
        "print(dev.info())\n",
        "john = teachers('angelo', 'english', 'hindi')\n",
        "print(john.detail())\n",
        "data = courses('tejas', 'englsih','data science', 12312)\n",
        "print(data.details())\n"
      ],
      "metadata": {
        "colab": {
          "base_uri": "https://localhost:8080/"
        },
        "id": "pxi6GOqyBCs0",
        "outputId": "38587123-80f9-43d5-f6d2-b88b82020938"
      },
      "execution_count": null,
      "outputs": [
        {
          "output_type": "stream",
          "name": "stdout",
          "text": [
            "Student name is tejas and id is s121\n",
            "The Teacher is angelo and subject is english and hindi\n",
            "student name is tejas his subject is englsih and course price is 12312\n"
          ]
        }
      ]
    },
    {
      "cell_type": "markdown",
      "source": [
        "Q12. Explain the concept of property decorators in Python and how they relate to encapsulation."
      ],
      "metadata": {
        "id": "x39uu3clBDnO"
      }
    },
    {
      "cell_type": "markdown",
      "source": [
        "**@ property decorator** :- It is a built-in decorator for the property() function in python.\n",
        "\n",
        "It is used to give 'special' functionality to certain methods to make them act as getters, setters, or deleters when we define properties in a class.\n",
        "\n",
        "It is helpful in defining the properties effortlessly without manually calling the inbuild function property()."
      ],
      "metadata": {
        "id": "J6Uqev7kaxBc"
      }
    },
    {
      "cell_type": "markdown",
      "source": [
        "Q13. What is data hiding, and why is it important in encapsulation? Provide examples."
      ],
      "metadata": {
        "id": "xvL0MmXPBIxE"
      }
    },
    {
      "cell_type": "markdown",
      "source": [
        "**Data hiding** is an object-oriented programming (OOP) technique specifically used to hide internal object details (i.e., data members).\n",
        "\n",
        "It concentrates on the accessibility of an object member within a class, while data encapsulation focuses on how the data is accessed and how different objects behave. Encapsulation is mainly accomplished through information hiding and not just information concealing."
      ],
      "metadata": {
        "id": "ZL3ZEHf7KT7i"
      }
    },
    {
      "cell_type": "markdown",
      "source": [
        "Q14. Create a Python class called `Employee` with private attributes for salary (`__salary`) and employee ID (`__employee_id`). Provide a method to calculate yearly bonuses."
      ],
      "metadata": {
        "id": "8Vd0c-7vBMbL"
      }
    },
    {
      "cell_type": "code",
      "source": [
        "class Employee:\n",
        "  def __init__(self, name, salary, emp_id):\n",
        "    self.name = name\n",
        "    self.__salary = salary\n",
        "    self__employee_id = emp_id\n",
        "  def bonus(self):\n",
        "    if self.__salary > 50000:\n",
        "      print('your bonus is 5000')\n",
        "    elif self.__salary > 30000:\n",
        "      print('your bonus is 3000')\n",
        "    elif self.__salary > 10000:\n",
        "      print('your bonus is 15000')\n",
        "    else:\n",
        "      print('you are not eligible for bonus.')\n",
        "\n",
        "  def __str__(self):\n",
        "    return 'happy diwali'\n",
        "\n",
        "dev = Employee('tejas', 32000, 'E101')\n",
        "dev.bonus()\n",
        "print(dev)"
      ],
      "metadata": {
        "colab": {
          "base_uri": "https://localhost:8080/"
        },
        "id": "XNGZlU_PBOyc",
        "outputId": "e70bbfa7-2be0-4882-8203-1cc19c9a1b6e"
      },
      "execution_count": null,
      "outputs": [
        {
          "output_type": "stream",
          "name": "stdout",
          "text": [
            "your bonus is 3000\n",
            "happy diwali\n"
          ]
        }
      ]
    },
    {
      "cell_type": "markdown",
      "source": [
        "Q15. Discuss the use of accessors and mutators in encapsulation. How do they help maintain control over\n",
        "attribute access?"
      ],
      "metadata": {
        "id": "304CPUskBPmt"
      }
    },
    {
      "cell_type": "markdown",
      "source": [
        "**Accessor method** :- This method is used to access the state of the object i.e., the data hidden in the object can be accessed from this method.\n",
        "\n",
        "**Mutator Method** :- This method is used to mutate/modify the state of an object i.e. it alters the hidden value of the data variable."
      ],
      "metadata": {
        "id": "A6pKDl02THSE"
      }
    },
    {
      "cell_type": "code",
      "source": [
        "class car:\n",
        "  def __init__(self, carname):\n",
        "    self.__make = carname\n",
        "\n",
        "  # mutator method\n",
        "  def set_make(self, carname):\n",
        "    self.__make = carname\n",
        "\n",
        "  # accessor method\n",
        "  def get_make(self):\n",
        "    return self.__make\n",
        "\n",
        "mycar = car('Ford')\n",
        "\n",
        "print(mycar.get_make())\n",
        "\n",
        "mycar.set_make('audi')\n",
        "print(mycar.get_make())\n",
        "\n"
      ],
      "metadata": {
        "colab": {
          "base_uri": "https://localhost:8080/"
        },
        "id": "LjV3s_KeBSDj",
        "outputId": "54077930-cc68-41ec-8e0e-2ba34532d9f1"
      },
      "execution_count": null,
      "outputs": [
        {
          "output_type": "stream",
          "name": "stdout",
          "text": [
            "Ford\n",
            "audi\n"
          ]
        }
      ]
    },
    {
      "cell_type": "markdown",
      "source": [
        "Q16. What are the potential drawbacks or disadvantages of using encapsulation in Python?"
      ],
      "metadata": {
        "id": "AWMhIX-SBSrL"
      }
    },
    {
      "cell_type": "markdown",
      "source": [
        "**Disadvantages of encapsulation** :-\n",
        "1. Code Size :- The length of the code increases drastically in the case of encapsulation as we need to provide all the methods with the specifiers.\n",
        "\n",
        "2. More Instructions :- As the size of the code increases, therefore, you need to provide additional instructions for every method.\n",
        "\n",
        "3. Increased code execution :- Encapsulation results in an increase in the duration of the program execution. It is because more instructions are added to the code therefore they require more time to execute.\n",
        "\n",
        "**Advantages of encapsulation** :-\n",
        "\n",
        "1. Data Protection :- The program runner will not be able to identify or see which methods are present in the code.\n",
        "2. Flexibility :- The code which is encapsulated looks more cleaner and flexible, and can be changed as per the needs. This also helps in debugging the code if needed.\n",
        "3. Reusability :- The methods can be changed and the code is reusable."
      ],
      "metadata": {
        "id": "lAhxbPS9VlWJ"
      }
    },
    {
      "cell_type": "markdown",
      "source": [
        "Q17. Create a Python class for a library system that encapsulates book information, including titles, authors,\n",
        "and availability status."
      ],
      "metadata": {
        "id": "LYj79uvUBVsK"
      }
    },
    {
      "cell_type": "code",
      "source": [
        "class library:\n",
        "  def __init__(self, bookname, author, availability_status):\n",
        "    self.__bookname = bookname\n",
        "    self.author = author\n",
        "    self.availability_status = availability_status\n",
        "\n",
        "  def info(self):\n",
        "    print(f'The bookname{self.__bookname} the author of book is {self.author} and book availability staus is {self.availability_status}')\n",
        "\n",
        "dev = library('wings of fire', 'abdul kalam', 'no')\n",
        "dev.info()"
      ],
      "metadata": {
        "id": "CiNHwrK6BXs7",
        "colab": {
          "base_uri": "https://localhost:8080/"
        },
        "outputId": "46b14333-3e87-4d17-e7d1-d75697d770e1"
      },
      "execution_count": null,
      "outputs": [
        {
          "output_type": "stream",
          "name": "stdout",
          "text": [
            "The booknamewings of fire the author of book is abdul kalam and book availability staus is no\n"
          ]
        }
      ]
    },
    {
      "cell_type": "code",
      "source": [
        "dev.bookname = 'playing it my way'"
      ],
      "metadata": {
        "id": "57siDhFqtdqV"
      },
      "execution_count": null,
      "outputs": []
    },
    {
      "cell_type": "code",
      "source": [
        "dev.info()"
      ],
      "metadata": {
        "colab": {
          "base_uri": "https://localhost:8080/"
        },
        "id": "OHCPsOFbtqnG",
        "outputId": "7e220b2f-5507-490b-e8a1-fadc37028df3"
      },
      "execution_count": null,
      "outputs": [
        {
          "output_type": "stream",
          "name": "stdout",
          "text": [
            "The booknamewings of fire the author of book is abdul kalam and book availability staus is no\n"
          ]
        }
      ]
    },
    {
      "cell_type": "markdown",
      "source": [
        "Q18. Explain how encapsulation enhances code reusability and modularity in Python programs."
      ],
      "metadata": {
        "id": "9P7MqPF5BYQ5"
      }
    },
    {
      "cell_type": "markdown",
      "source": [
        "**Modularity and Reusability** :- By bundling related data and functionality into classes, we achieve modularity, making it simple to understand, refactor, and reuse code.\n",
        "\n",
        "Encapsulation allows you to group related data and methods together, making your Python code more organized and easier to understand."
      ],
      "metadata": {
        "id": "_C3rLEX3Xq4-"
      }
    },
    {
      "cell_type": "markdown",
      "source": [
        "Q19. Describe the concept of information hiding in encapsulation. Why is it essential in software development?"
      ],
      "metadata": {
        "id": "8F4rfY_RBa_F"
      }
    },
    {
      "cell_type": "markdown",
      "source": [
        "**Data encapsulation** targets how the data is accessed and how different objects behave.\n",
        "\n",
        "Data hiding focuses on object member accessibility within a class, and information hiding is the most common encapsulation method.\n"
      ],
      "metadata": {
        "id": "Rs8RWNvMYnq2"
      }
    },
    {
      "cell_type": "markdown",
      "source": [
        "Q20. Create a Python class called `Customer` with private attributes for customer details like name, address,\n",
        "and contact information. Implement encapsulation to ensure data integrity and security."
      ],
      "metadata": {
        "id": "MqkihTUbBeNB"
      }
    },
    {
      "cell_type": "code",
      "source": [
        "class Customer:\n",
        "  def __init__(self, name, address, contact_info):\n",
        "    self.name = name\n",
        "    self.__address = address\n",
        "    self.contact_info = contact_info\n",
        "\n",
        "  def details(self):\n",
        "    return f'welcome to community {self.name}'\n",
        "\n",
        "teja = Customer('tejas', 'ahmendnagar', 92311321)\n",
        "teja.details()\n"
      ],
      "metadata": {
        "id": "-DZOA_JABhA4",
        "colab": {
          "base_uri": "https://localhost:8080/",
          "height": 35
        },
        "outputId": "ed42f326-53e9-463c-9d31-e0b4407d3cc3"
      },
      "execution_count": null,
      "outputs": [
        {
          "output_type": "execute_result",
          "data": {
            "text/plain": [
              "'welcome to community tejas'"
            ],
            "application/vnd.google.colaboratory.intrinsic+json": {
              "type": "string"
            }
          },
          "metadata": {},
          "execution_count": 41
        }
      ]
    },
    {
      "cell_type": "markdown",
      "source": [
        "**Polymorphism:**"
      ],
      "metadata": {
        "id": "UNfRQavmBiCA"
      }
    },
    {
      "cell_type": "markdown",
      "source": [
        "Q1. What is polymorphism in Python? Explain how it is related to object-oriented programming."
      ],
      "metadata": {
        "id": "sIBD29gYwG6M"
      }
    },
    {
      "cell_type": "markdown",
      "source": [
        "**Polymorphism** :- polymorphism means having many forms. polymorphism means the same function name being used for different types.\n",
        "\n",
        "The key difference is the data types and number of arguments used in function.\n",
        "\n",
        "In **oops** it performs different things as per the objects's class, which calls it.\n"
      ],
      "metadata": {
        "id": "MoRc-m8qwLa9"
      }
    },
    {
      "cell_type": "markdown",
      "source": [
        "Q2. Describe the difference between compile-time polymorphism and runtime polymorphism in Python"
      ],
      "metadata": {
        "id": "h8wcnhphwM7d"
      }
    },
    {
      "cell_type": "markdown",
      "source": [
        "**compile-time polymorphism** :- It is illustrated by method overloading.\n",
        "\n",
        "It is sometimes referred to as dynamic binding, late binding and overriding.\n",
        "\n",
        "**runtime polymorphism** :- It is illustrated by method overriding.\n",
        "\n",
        "It is sometimes referred to as dynamic binding, early binding and overloading."
      ],
      "metadata": {
        "id": "xPa8WRN6fsBT"
      }
    },
    {
      "cell_type": "markdown",
      "source": [
        "Q3. Create a Python class hierarchy for shapes (e.g., circle, square, triangle) and demonstrate polymorphism\n",
        " through a common method, such as `calculate_area()`"
      ],
      "metadata": {
        "id": "eIE1ced1wRNE"
      }
    },
    {
      "cell_type": "code",
      "source": [
        "class circle:\n",
        "  def __init__(self, radius):\n",
        "    self.radius = radius\n",
        "  def calculate_area(self):\n",
        "    print(f'area of circle is {3.14 * (self.radius)**2}')\n",
        "\n",
        "class square:\n",
        "  def __init__(self, side):\n",
        "    self.side = side\n",
        "  def calculate_area(self):\n",
        "    print(f'area of square is {self.side**2}')\n",
        "\n",
        "class triangle:\n",
        "  def __init__(self, base, height):\n",
        "    self.base = base\n",
        "    self.height = height\n",
        "  def calculate_area(self):\n",
        "    print(f'area of triangle {0.5 * self.base * self.height}')\n",
        "\n",
        "dev = circle(23)\n",
        "dev.calculate_area()\n",
        "john = square(12)\n",
        "john.calculate_area()\n",
        "sam = triangle(11,8)\n",
        "sam.calculate_area()"
      ],
      "metadata": {
        "id": "nDa0IYG1wTq_",
        "colab": {
          "base_uri": "https://localhost:8080/"
        },
        "outputId": "cbf91fe0-27a6-49de-a68c-3c09ededb597"
      },
      "execution_count": null,
      "outputs": [
        {
          "output_type": "stream",
          "name": "stdout",
          "text": [
            "area of circle is 1661.0600000000002\n",
            "area of square is 144\n",
            "area of triangle 44.0\n"
          ]
        }
      ]
    },
    {
      "cell_type": "markdown",
      "source": [
        "Q4. Explain the concept of method overriding in polymorphism. Provide an example."
      ],
      "metadata": {
        "id": "_N_ZE7-KwUk8"
      }
    },
    {
      "cell_type": "markdown",
      "source": [
        "**method overriding** :- It is the process of redefining certain methods and attributes to fit the the child class.\n",
        "\n",
        "It allows you to redefine a method in a subclass or the derived class previously defined in its parent or the superclass."
      ],
      "metadata": {
        "id": "E8HXQlklqCjM"
      }
    },
    {
      "cell_type": "code",
      "source": [
        "\n",
        "class Vehicle:\n",
        "    def __init__(self, brand, model, price):\n",
        "        self.brand = brand\n",
        "        self.model = model\n",
        "        self.price = price\n",
        "    def show(self):\n",
        "        print('Details:', self.brand, self.model, 'Price:', self.price)\n",
        "    def max_speed(self):\n",
        "        print('Vehicle max speed is 160')\n",
        "\n",
        "# inherit from vehicle class\n",
        "class Car(Vehicle):\n",
        "    def max_speed(self):\n",
        "        print('Car max speed is 260')\n",
        "\n",
        "# Car Object\n",
        "car = Car('Audi', 'R8', 9000000)\n",
        "car.show()\n",
        "# call methods from Car class\n",
        "car.max_speed()\n",
        "# Vehicle Object\n",
        "vehicle = Vehicle('Nissan', 'Magnite', 550000)\n",
        "vehicle.show()\n",
        "# call method from a Vehicle class\n",
        "vehicle.max_speed()"
      ],
      "metadata": {
        "id": "HX38tHjdwcUE",
        "colab": {
          "base_uri": "https://localhost:8080/"
        },
        "outputId": "8ed4c9ba-0326-453d-adae-c42c6939d175"
      },
      "execution_count": null,
      "outputs": [
        {
          "output_type": "stream",
          "name": "stdout",
          "text": [
            "Details: Audi R8 Price: 9000000\n",
            "Car max speed is 260\n",
            "Details: Nissan Magnite Price: 550000\n",
            "Vehicle max speed is 160\n"
          ]
        }
      ]
    },
    {
      "cell_type": "markdown",
      "source": [
        "Q5. How is polymorphism different from method overloading in Python? Provide examples for both."
      ],
      "metadata": {
        "id": "7DDTAHoLwdbL"
      }
    },
    {
      "cell_type": "markdown",
      "source": [
        "**method overloadingr** :- Two or more methods have the same name but different numbers of parameters or different types of parameters, or both. These methods are called overloaded methods and this is called method overloading."
      ],
      "metadata": {
        "id": "R0hl_qvDvBGf"
      }
    },
    {
      "cell_type": "code",
      "source": [
        "class baseclass:\n",
        "  def __init__(self, name):\n",
        "      self.name = name\n",
        "  def area1(self):\n",
        "    pass\n",
        "  def __str__(self):\n",
        "    return self.name\n",
        "class rectangle(baseclass):\n",
        "  def __init__(self, length, breadth):\n",
        "      super().__init__(\"rectangle\")\n",
        "      self.length = length\n",
        "      self.breadth = breadth\n",
        "  def area1(self):\n",
        "    return self.length * self.breadth\n",
        "class triangle(baseclass):\n",
        "  def __init__(self, height, base):\n",
        "      super().__init__(\"triangle\")\n",
        "      self.height = height\n",
        "      self.base = base\n",
        "  def area1(self):\n",
        "    return (self.base * self.height) / 2\n",
        "a = rectangle(90, 80)\n",
        "b = triangle(77, 64)\n",
        "print(\"The shape is: \", b)\n",
        "print(\"The area of shape is\", b.area1())\n",
        "print(\"The shape is:\", a)\n",
        "print(\"The area of shape is\", a.area1())"
      ],
      "metadata": {
        "id": "Gnz6RGKhwfkr",
        "colab": {
          "base_uri": "https://localhost:8080/"
        },
        "outputId": "c4ed4ac7-2fac-4a57-b715-141d160b7ec2"
      },
      "execution_count": null,
      "outputs": [
        {
          "output_type": "stream",
          "name": "stdout",
          "text": [
            "The shape is:  triangle\n",
            "The area of shape is 2464.0\n",
            "The shape is: rectangle\n",
            "The area of shape is 7200\n"
          ]
        }
      ]
    },
    {
      "cell_type": "markdown",
      "source": [
        "Q6. Create a Python class called `Animal` with a method `speak()`. Then, create child classes like `Dog`, `Cat`, and `Bird`, each with their own `speak()` method. Demonstrate polymorphism by calling the `speak()` method\n",
        "on objects of different subclasses"
      ],
      "metadata": {
        "id": "56ssAyyRwgJ6"
      }
    },
    {
      "cell_type": "code",
      "source": [
        "class Animal:\n",
        "    def speak(self):\n",
        "        raise NotImplementedError(\"Subclass must implement this method\")\n",
        "\n",
        "class Dog(Animal):\n",
        "    def speak(self):\n",
        "        return \"Woof!\"\n",
        "\n",
        "class Cat(Animal):\n",
        "    def speak(self):\n",
        "        return \"Meow!\"\n",
        "class Bird(Animal):\n",
        "  def speak(self):\n",
        "    return 'chiv'\n",
        "# Create a list of Animal objects\n",
        "animals = [Dog(), Cat(), Bird()]\n",
        "\n",
        "# Call the speak method on each object\n",
        "for animal in animals:\n",
        "    print(animal.speak())"
      ],
      "metadata": {
        "id": "qt8XVhdcwiAj",
        "colab": {
          "base_uri": "https://localhost:8080/"
        },
        "outputId": "874310eb-718c-48c0-e258-584e5aa8e3e2"
      },
      "execution_count": null,
      "outputs": [
        {
          "output_type": "stream",
          "name": "stdout",
          "text": [
            "Woof!\n",
            "Meow!\n",
            "chiv\n"
          ]
        }
      ]
    },
    {
      "cell_type": "markdown",
      "source": [
        "Q7. Discuss the use of abstract methods and classes in achieving polymorphism in Python. Provide an example\n",
        "using the `abc` module."
      ],
      "metadata": {
        "id": "kWZuv1rywi3c"
      }
    },
    {
      "cell_type": "markdown",
      "source": [
        "**abstract class** :- With abstract classes, polymorphism is achieved through the implementation of the abstract methods in the subclasses.\n",
        "\n",
        "each subclass can provide a different implementation, allowing for a variety of behaviors."
      ],
      "metadata": {
        "id": "9mvyaiC2DcwH"
      }
    },
    {
      "cell_type": "code",
      "source": [
        "from abc import ABC, abstractmethod\n",
        "\n",
        "class AbstractAnimal(ABC):\n",
        "  @abstractmethod\n",
        "  def make_sound(self):\n",
        "    pass\n",
        "\n",
        "class Dog(AbstractAnimal):\n",
        "  def make_sound(self):\n",
        "    return 'Woof'\n",
        "\n",
        "class Cat(AbstractAnimal):\n",
        "  def make_sound(self):\n",
        "    return 'meow'\n",
        "\n",
        "dog = Dog()\n",
        "print(dog.make_sound())\n",
        "cat = Cat()\n",
        "print(cat.make_sound())"
      ],
      "metadata": {
        "id": "Qy2qrSujwlCx",
        "colab": {
          "base_uri": "https://localhost:8080/"
        },
        "outputId": "5f97aa4b-be32-454d-b677-74fc5a6f6614"
      },
      "execution_count": null,
      "outputs": [
        {
          "output_type": "stream",
          "name": "stdout",
          "text": [
            "Woof\n",
            "meow\n"
          ]
        }
      ]
    },
    {
      "cell_type": "markdown",
      "source": [
        "Q8. Create a Python class hierarchy for a vehicle system (e.g., car, bicycle, boat) and implement a polymorphic `start()` method that prints a message specific to each vehicle type."
      ],
      "metadata": {
        "id": "k3EEteaXwlwE"
      }
    },
    {
      "cell_type": "code",
      "source": [
        "class vehicle:\n",
        "  def start(self):\n",
        "    pass\n",
        "class bicycle(vehicle):\n",
        "  def start(self):\n",
        "    return 'bicycle have slow speed'\n",
        "class car(vehicle):\n",
        "  def start(self):\n",
        "    return 'car has fast speed'\n",
        "class boat(vehicle):\n",
        "  def start(self):\n",
        "    return 'boat has medium speed'\n",
        "\n",
        "vehicles = [bicycle(), car(), boat()]\n",
        "for vehicle in vehicles:\n",
        "  print(vehicle.start())\n"
      ],
      "metadata": {
        "id": "z2NB8PTAwoBx",
        "colab": {
          "base_uri": "https://localhost:8080/"
        },
        "outputId": "cbae0224-b555-4cb7-f03c-6b06d5af28fc"
      },
      "execution_count": null,
      "outputs": [
        {
          "output_type": "stream",
          "name": "stdout",
          "text": [
            "bicycle have slow speed\n",
            "car has fast speed\n",
            "boat has medium speed\n"
          ]
        }
      ]
    },
    {
      "cell_type": "markdown",
      "source": [
        "Q9. Explain the significance of the `isinstance()` and `issubclass()` functions in Python polymorphism."
      ],
      "metadata": {
        "id": "oNlfFAiHwoll"
      }
    },
    {
      "cell_type": "markdown",
      "source": [
        "**isinstance()** :- It checks whether or not the object is an instance or subclass of the classinfo.\n",
        "It asks whether an object is an instance of a class.\n",
        "\n",
        "**Issubclass()** :- It asks whether one class is a subclass of another class."
      ],
      "metadata": {
        "id": "YVS6JYSdGlyP"
      }
    },
    {
      "cell_type": "markdown",
      "source": [
        "Q10. What is the role of the `@abstractmethod` decorator in achieving polymorphism in Python? Provide an\n",
        "example."
      ],
      "metadata": {
        "id": "sXNfIXfBwrTe"
      }
    },
    {
      "cell_type": "code",
      "source": [],
      "metadata": {
        "id": "YruA-5S0wuWg"
      },
      "execution_count": null,
      "outputs": []
    },
    {
      "cell_type": "markdown",
      "source": [
        "Q11. Create a Python class called `Shape` with a polymorphic method `area()` that calculates the area of different shapes (e.g., circle, rectangle, triangle)."
      ],
      "metadata": {
        "id": "kVlUkgu3wvJh"
      }
    },
    {
      "cell_type": "code",
      "source": [
        "class Shape:\n",
        "  def area(self):\n",
        "    pass\n",
        "\n",
        "class Circle(Shape):\n",
        "  def __init__(self, radius):\n",
        "    self.radius = radius\n",
        "  def area(self):\n",
        "    return self.radius ** 2 * 3.14\n",
        "\n",
        "class Rectangle(Shape):\n",
        "  def __init__(self, width, height):\n",
        "    self.width = width\n",
        "    self.height = height\n",
        "  def area(self):\n",
        "    return self.width * self.height\n",
        "\n",
        "class Triangle(Shape):\n",
        "  def __init__(self, base, height):\n",
        "    self.base = base\n",
        "    self.height = height\n",
        "  def area(self):\n",
        "    return self.base * self.height / 2\n",
        "\n",
        "p = Circle(4)\n",
        "q = Rectangle(4,5)\n",
        "r = Triangle(5,8)\n",
        "print(p.area())\n",
        "print(q.area())\n",
        "print(r.area())"
      ],
      "metadata": {
        "id": "D2Zs5znAwxZa",
        "colab": {
          "base_uri": "https://localhost:8080/"
        },
        "outputId": "5a45b1c0-628b-4b9d-9596-6dd593ff79ea"
      },
      "execution_count": null,
      "outputs": [
        {
          "output_type": "stream",
          "name": "stdout",
          "text": [
            "50.24\n",
            "20\n",
            "20.0\n"
          ]
        }
      ]
    },
    {
      "cell_type": "markdown",
      "source": [
        "Q12. Discuss the benefits of polymorphism in terms of code reusability and flexibility in Python programs."
      ],
      "metadata": {
        "id": "xy1bUSWEwyNH"
      }
    },
    {
      "cell_type": "markdown",
      "source": [
        "**Polymorphism promotes code reusability and flexibility in several ways** :-\n",
        "\n",
        "With method overloading, we can have multiple methods with the same name but different parameter lists, which reduces the need to create multiple functions for similar tasks."
      ],
      "metadata": {
        "id": "oilif8tgN9CC"
      }
    },
    {
      "cell_type": "markdown",
      "source": [
        "Q13. Explain the use of the `super()` function in Python polymorphism. How does it help call methods of parent\n",
        "classes?"
      ],
      "metadata": {
        "id": "Fnrq5cviw5Sa"
      }
    },
    {
      "cell_type": "markdown",
      "source": [
        "**super() function** :- It is used to give access to methods and properties of a parent or sibling class.\n",
        "\n",
        "The super() function returns an object that represents the parent class."
      ],
      "metadata": {
        "id": "i_s2EjASOreI"
      }
    },
    {
      "cell_type": "markdown",
      "source": [
        "Q14. Create a Python class hierarchy for a banking system with various account types (e.g., savings, checking, credit card) and demonstrate polymorphism by implementing a common `withdraw()` method."
      ],
      "metadata": {
        "id": "wRkVMLYgw63v"
      }
    },
    {
      "cell_type": "code",
      "source": [
        "class banking:\n",
        "  def withdraw(self):\n",
        "    pass\n",
        "\n",
        "class savings(banking):\n",
        "  def __init__(self, amount):\n",
        "    self.amount = amount\n",
        "  def withdraw(self):\n",
        "    return f'{self.amount} is withdrawn from saving account'\n",
        "class current(banking):\n",
        "  def __init__(self, amount):\n",
        "    self.amount = amount\n",
        "  def withdraw(self):\n",
        "    return f'{self.amount} is withdrawn from current account'\n",
        "\n",
        "class credit_card(banking):\n",
        "  def __init__(self, amount):\n",
        "    self.amount = amount\n",
        "  def withdraw(self):\n",
        "    return f'{self.amount} is withdrawn from credit card account'\n",
        "\n",
        "dev = savings(234)\n",
        "print(dev.withdraw())\n",
        "john = current(500)\n",
        "print(john.withdraw())\n",
        "\n",
        "\n"
      ],
      "metadata": {
        "id": "Qh7d-B_Qw9uj",
        "colab": {
          "base_uri": "https://localhost:8080/"
        },
        "outputId": "8e7bd809-5492-437f-cfaf-9a1c724b5aa1"
      },
      "execution_count": null,
      "outputs": [
        {
          "output_type": "stream",
          "name": "stdout",
          "text": [
            "234 is withdrawn from saving account\n",
            "500 is withdrawn from current account\n"
          ]
        }
      ]
    },
    {
      "cell_type": "markdown",
      "source": [
        "Q15. Describe the concept of operator overloading in Python and how it relates to polymorphism. Provide\n",
        "examples using operators like `+` and `*`."
      ],
      "metadata": {
        "id": "cIDqg941w-TO"
      }
    },
    {
      "cell_type": "markdown",
      "source": [
        "**Operator Overloading** :- It means giving extended meaning beyond their predefined operational meaning.\n",
        "\n",
        "For example operator + is used to add two integers as well as join two strings and merge two lists. It is achievable because ‘+’ operator is overloaded by int class and str class.\n"
      ],
      "metadata": {
        "id": "zQACLKvL-X0L"
      }
    },
    {
      "cell_type": "code",
      "source": [
        "class A:\n",
        "    def __init__(self, a):\n",
        "        self.a = a\n",
        "\n",
        "    def __add__(self, o):\n",
        "        return self.a + o.a\n",
        "\n",
        "    def __mul__(self, o):\n",
        "      return self.a * o.a\n",
        "ob1 = A(1)\n",
        "ob2 = A(2)\n",
        "ob3 = A(\"Geeks\")\n",
        "ob4 = A(\"For\")\n",
        "\n",
        "print(ob1 + ob2)\n",
        "print(ob1 * ob2)\n",
        "print(ob3 + ob4)\n",
        "# print(ob3 * ob4)\n",
        "# Actual working when Binary Operator is used.\n",
        "# print(A.__add__(ob1 , ob2))\n",
        "# print(A.__add__(ob3,ob4))\n",
        "# #And can also be Understand as :\n",
        "# print(ob1.__add__(ob2))\n",
        "# print(ob3.__add__(ob4)) qq"
      ],
      "metadata": {
        "id": "NOfUQ_lFxASE",
        "colab": {
          "base_uri": "https://localhost:8080/"
        },
        "outputId": "0ce6a11f-a1ef-4384-c629-0893e10be22d"
      },
      "execution_count": null,
      "outputs": [
        {
          "output_type": "stream",
          "name": "stdout",
          "text": [
            "3\n",
            "2\n",
            "GeeksFor\n"
          ]
        }
      ]
    },
    {
      "cell_type": "markdown",
      "source": [
        "Q16. What is dynamic polymorphism, and how is it achieved in Python?"
      ],
      "metadata": {
        "id": "bsWoyS9IxBPM"
      }
    },
    {
      "cell_type": "markdown",
      "source": [
        "**Dynamic polymorphism** :- It is a process or mechanism in which a call to an overridden method is to resolve at runtime rather than compile-time.\n",
        "\n",
        "It is also known as runtime polymorphism or dynamic method dispatch.\n",
        "\n",
        "We can achieve dynamic polymorphism by using the method overriding."
      ],
      "metadata": {
        "id": "Dk_7S5Tqwmgw"
      }
    },
    {
      "cell_type": "markdown",
      "source": [
        "Q17. Create a Python class hierarchy for employees in a company (e.g., manager, developer, designer) and implement polymorphism through a common `calculate_salary()"
      ],
      "metadata": {
        "id": "lQKbnAZOxKMZ"
      }
    },
    {
      "cell_type": "code",
      "source": [
        "class Employees:\n",
        "  def calculate_salary():\n",
        "    pass\n",
        "class manager(Employees):\n",
        "  def calculate_salary(self):\n",
        "    return 'Your salary is 30000'\n",
        "class developer(Employees):\n",
        "  def calculate_salary(self):\n",
        "    return 'your salary is 50000'\n",
        "class designer(Employees):\n",
        "  def calculate_salary(self):\n",
        "    return 'your salary is 45000'\n",
        "\n",
        "Employee = (manager(), developer(), designer())\n",
        "for Employees in Employee:\n",
        "  print(Employees.calculate_salary())"
      ],
      "metadata": {
        "id": "PRREdla_xOg-",
        "colab": {
          "base_uri": "https://localhost:8080/"
        },
        "outputId": "2b6c5bad-1e23-4670-a73a-9dc34558848c"
      },
      "execution_count": null,
      "outputs": [
        {
          "output_type": "stream",
          "name": "stdout",
          "text": [
            "Your salary is 30000\n",
            "your salary is 50000\n",
            "your salary is 45000\n"
          ]
        }
      ]
    },
    {
      "cell_type": "markdown",
      "source": [
        "Q18. Discuss the concept of function pointers and how they can be used to achieve polymorphism in Python."
      ],
      "metadata": {
        "id": "YEg3NX7WxPJY"
      }
    },
    {
      "cell_type": "markdown",
      "source": [
        "**Function pointers** :-\n",
        "1. Import the module in which the functions are located.\n",
        "2. Define a dictionary where the keys are points to the functions and the values are actual functions.\n",
        "3. call the functions by accessing the dictionary keys."
      ],
      "metadata": {
        "id": "qfa6X-Rk-s_Q"
      }
    },
    {
      "cell_type": "markdown",
      "source": [
        "Q19. Explain the role of interfaces and abstract classes in polymorphism, drawing comparisons between them."
      ],
      "metadata": {
        "id": "Yiaa0TeWhxqO"
      }
    },
    {
      "cell_type": "markdown",
      "source": [
        "**Role of Interfaces in polymorphism** :\n",
        "1. **Defining a contract** :- It declare a set of method signature without providing any implementation details.\n",
        "2. **Enforcing Consistency** :- Interfaces promote consistency across classses that implement them.\n",
        "3. **Achieving polymorphism** :- It enable polymorphism  by allowing objects of different classes to be treated as instances of the same interface.\n",
        "4.**Flexibility in implementation**\n",
        "5. **Do not provide any common implementation**.\n",
        "6. **Support multiple inheritance in python.**\n",
        "\n",
        "**Role of abstract classes in polymorphism**:-\n",
        "1. **Providing Common Base** :- It serve as a common base class that provides a partial implementation and defines abstract methods to be implemented by concrete subclasses.\n",
        "2. **Code Reusability** :- It facilitate code reuse by providing a shared set of methods that can be inherited by multiple subclasses.\n",
        "3. **Defining polymorphic behavior** :- Abstract classes contribute to polymorphism by allowing objects of different concrete subclasses to be treated as instances of abstract class.\n",
        "4. **support single inheritance in python.**\n",
        "\n",
        "**Interfaces** focus on defining common set of method signatures, promoting a contract among implementing classes. **Abstract classes**, provide a base class with a mix of abstract and concrete methods, allowing for some shared implementation in addtion to defining a common interface.\n",
        "\n",
        "**abstract class** :- 1. An abstract features developer's class can consist of abstract as well as concrete methods.\n",
        "2. It is used when there are some common feature shared by all objects.\n",
        "3. It is comparatively fast.\n",
        "\n",
        "**Interfaces** :- 1. All methods of an interface are abstract.\n",
        "2. it is used when all the feature need to be implemented differently for different objects.\n",
        "3. It is comparatively slow."
      ],
      "metadata": {
        "id": "DzdS8AU4hzeu"
      }
    },
    {
      "cell_type": "markdown",
      "source": [
        "Q20. Create a Python class for a zoo simulation, demonstrating polymorphism with different animal types (e.g., mammals, birds, reptiles) and their behavior (e.g., eating, sleeping, making sounds)"
      ],
      "metadata": {
        "id": "t1fCqg1Dh1En"
      }
    },
    {
      "cell_type": "code",
      "source": [
        "class Animal:\n",
        "  def __init__(self, name):\n",
        "    self.name = name\n",
        "\n",
        "  def make_sound(self):\n",
        "    pass\n",
        "  def eat(self):\n",
        "    pass\n",
        "  def sleep(self):\n",
        "    print(f'{self.name} is sleeping')\n",
        "\n",
        "class Mammal(Animal):\n",
        "  def make_sound(self):\n",
        "    return 'mammal sound'\n",
        "  def eat(self):\n",
        "    return f'{self.name} is eating like a mammal.'\n",
        "\n",
        "class bird(Animal):\n",
        "  def make_sound(self):\n",
        "    return 'Bird sound'\n",
        "  def eat(self):\n",
        "    return f'{self.name} is pecking at its food.'\n",
        "\n",
        "class reptile(Animal):\n",
        "  def make_sound(self):\n",
        "    return 'Reptile sound'\n",
        "  def eat(self):\n",
        "    return f'{self.name} is snapping up its prey.'\n",
        "\n",
        "# Zoo simulation\n",
        "def simulate_zoo(animals):\n",
        "  for animal in animals:\n",
        "    print(f'\\n{animal.name}: ')\n",
        "    print(animal.make_sound())\n",
        "    print(animal.eat())\n",
        "\n",
        "Lion = Mammal('lion')\n",
        "parrot = bird('Parrot')\n",
        "snake = reptile('Snake')\n",
        "\n",
        "animals = [Lion, parrot, snake]\n",
        "\n",
        "simulate_zoo(animals)\n"
      ],
      "metadata": {
        "id": "tcUZLa2rh5PF",
        "colab": {
          "base_uri": "https://localhost:8080/"
        },
        "outputId": "b4cbb3b0-fce1-476d-f627-34a33bf2fdf0"
      },
      "execution_count": null,
      "outputs": [
        {
          "output_type": "stream",
          "name": "stdout",
          "text": [
            "\n",
            "lion: \n",
            "mammal sound\n",
            "lion is eating like a mammal.\n",
            "\n",
            "Parrot: \n",
            "Bird sound\n",
            "Parrot is pecking at its food.\n",
            "\n",
            "Snake: \n",
            "Reptile sound\n",
            "Snake is snapping up its prey.\n"
          ]
        }
      ]
    },
    {
      "cell_type": "markdown",
      "source": [
        "**Abstraction**"
      ],
      "metadata": {
        "id": "5JsQ12gFPuBR"
      }
    },
    {
      "cell_type": "markdown",
      "source": [
        "Q1. What is abstraction in Python, and how does it relate to object-oriented programming?"
      ],
      "metadata": {
        "id": "igVNYEDwPyeJ"
      }
    },
    {
      "cell_type": "markdown",
      "source": [
        "**Abstraction** :- It is defined as a process of handling complexity by hiding unnecessary information from the user and showing only the essential features of an object.\n",
        "\n",
        "In abstraction, a programmer hides all but the relevant data about an object in order to reduce complexity and increase efficiency."
      ],
      "metadata": {
        "id": "jeM-G8dDxGPf"
      }
    },
    {
      "cell_type": "markdown",
      "source": [
        "Q2. Describe the benefits of abstraction in terms of code organization and complexity reduction\n"
      ],
      "metadata": {
        "id": "MULUOlT2P2uo"
      }
    },
    {
      "cell_type": "markdown",
      "source": [
        "It reduces the complexity of viewing the things. Helps to increase security of an application or program as only important details are provided to the user.\n",
        "\n",
        "Avoids code duplication and increases reusability.\n",
        "\n",
        "Can change internal implementation of class independently without affecting the user."
      ],
      "metadata": {
        "id": "qODSdKBjQve7"
      }
    },
    {
      "cell_type": "markdown",
      "source": [
        "Q3. Create a Python class called `Shape` with an abstract method `calculate_area()`. Then, create child classes (e.g., `Circle`, `Rectangle`) that implement the `calculate_area()` method. Provide an example of\n",
        "using these classes"
      ],
      "metadata": {
        "id": "zKqqBpe5P63l"
      }
    },
    {
      "cell_type": "code",
      "source": [
        "from abc import ABC, abstractmethod\n",
        "class shape(ABC):\n",
        "  @abstractmethod\n",
        "  def calculate_area():\n",
        "    pass\n",
        "\n",
        "class circle(shape):\n",
        "  def __init__(self, radius):\n",
        "    self.radius = radius\n",
        "  def calculate_area(self):\n",
        "    return f'area of circle is {3.14*self.radius}'\n",
        "\n",
        "class rectangle(shape):\n",
        "  def __init__(self, length, width):\n",
        "    self.length = length\n",
        "    self.width = width\n",
        "  def calculate_area(self):\n",
        "    return f'area of rectangle is {self.length * self.width}'\n",
        "\n",
        "dev = rectangle(12,6)\n",
        "print(dev.calculate_area())\n",
        "\n",
        "john = circle(23)\n",
        "print(john.calculate_area())"
      ],
      "metadata": {
        "id": "8ChJqMzAP9df",
        "colab": {
          "base_uri": "https://localhost:8080/"
        },
        "outputId": "e1dd1478-5443-473d-b1ab-0b1c41f44db1"
      },
      "execution_count": null,
      "outputs": [
        {
          "output_type": "stream",
          "name": "stdout",
          "text": [
            "area of rectangle is 72\n",
            "area of circle is 72.22\n"
          ]
        }
      ]
    },
    {
      "cell_type": "markdown",
      "source": [
        "Q4. Explain the concept of abstract classes in Python and how they are defined using the `abc` module. Provide\n",
        "an example."
      ],
      "metadata": {
        "id": "QJURlH40P-fk"
      }
    },
    {
      "cell_type": "markdown",
      "source": [
        "**Abstract Class** :- A class is called abstract class if it contains one or more abstract methods.\n",
        "\n",
        "An abstract method is a method that is declared, but contains no implementation.\n",
        "\n",
        "abstact classes may not be instantiated, and its abstract methods must be implemented by its subclasses.\n",
        "\n",
        "It is typically created to declare a set of methods that must be created in any child class build on top of abstract class.\n",
        "\n",
        "A method becomes abstract when decorated with the keyword @abstractmethod."
      ],
      "metadata": {
        "id": "lrM9jBIOgjmu"
      }
    },
    {
      "cell_type": "code",
      "source": [
        "from abc import ABC, abstractmethod\n",
        "\n",
        "class polygon(ABC):\n",
        "  @abstractmethod\n",
        "  def sides(self):\n",
        "    pass\n",
        "\n",
        "class triangle(polygon):\n",
        "  def sides(self):\n",
        "    print('3 sides')\n",
        "\n",
        "class pentagon(polygon):\n",
        "  def sides(self):\n",
        "    print('5 sides')\n",
        "\n",
        "\n",
        "T = triangle()\n",
        "T.sides()\n",
        "\n",
        "R = pentagon()\n",
        "R.sides()\n",
        "\n"
      ],
      "metadata": {
        "id": "yW8oV2zrQA5R",
        "colab": {
          "base_uri": "https://localhost:8080/"
        },
        "outputId": "f8d269b8-2d74-487f-cef9-078cb4adc0f0"
      },
      "execution_count": null,
      "outputs": [
        {
          "output_type": "stream",
          "name": "stdout",
          "text": [
            "3 sides\n",
            "5 sides\n"
          ]
        }
      ]
    },
    {
      "cell_type": "markdown",
      "source": [
        "Q5. How do abstract classes differ from regular classes in Python? Discuss their use cases"
      ],
      "metadata": {
        "id": "_E-VYf07QBzo"
      }
    },
    {
      "cell_type": "markdown",
      "source": [
        "**regular classes** contain only normal methods whereas **abstract classes** may contain both normal methods and abstract methods.\n",
        "\n",
        "**regular class** provides an implementation of abstract methods, and **abstract class** can provide an implementation by invoking the methods via super().\n",
        "\n"
      ],
      "metadata": {
        "id": "bMFPuv9wqQlj"
      }
    },
    {
      "cell_type": "markdown",
      "source": [
        "Q6. Create a Python class for a bank account and demonstrate abstraction by hiding the account balance and\n",
        "providing methods to deposit and withdraw funds"
      ],
      "metadata": {
        "id": "NYvi5WNWQFjb"
      }
    },
    {
      "cell_type": "code",
      "source": [
        "class bank_account:\n",
        "  def __init__(self):\n",
        "    self.__balance = 40000\n",
        "\n",
        "  def deposit(self):\n",
        "    amount = float(input('enter amount to be deposited : '))\n",
        "    self.__balance += amount\n",
        "    print('amount deposited in account', amount)\n",
        "\n",
        "  def withdraw(self):\n",
        "    amount = float(input('enter amount to be withdrawn: '))\n",
        "    if self.__balance >= amount:\n",
        "      self.__balance -= amount\n",
        "      print('you withdraw', amount)\n",
        "    else:\n",
        "      print('insufficient fund')\n",
        "\n",
        "  def display(self):\n",
        "    print('net balance=', self.__balance)\n",
        "s = bank_account()\n",
        "s.deposit()\n",
        "s.withdraw()\n",
        "s.display()"
      ],
      "metadata": {
        "id": "RxbnW-b6QHvX",
        "colab": {
          "base_uri": "https://localhost:8080/"
        },
        "outputId": "48ec18a8-dea4-469d-87a5-bda9d13ec3b5"
      },
      "execution_count": null,
      "outputs": [
        {
          "output_type": "stream",
          "name": "stdout",
          "text": [
            "enter amount to be deposited500\n",
            "amount deposited in account 500.0\n",
            "enter amount to be withdrawn: 450\n",
            "you withdraw 450.0\n",
            "net balance= 40050.0\n"
          ]
        }
      ]
    },
    {
      "cell_type": "markdown",
      "source": [
        "Q7. Discuss the concept of interface classes in Python and their role in achieving abstraction"
      ],
      "metadata": {
        "id": "qLWhtrY8QImE"
      }
    },
    {
      "cell_type": "markdown",
      "source": [
        "**Interface classes** :- It is a collection of abstract methods and constants.\n",
        "\n",
        "They define a set of functinalities that class must implement. so, an interface is like a contract a class agrees to fulfill so that other classes know how to use it and communicate with it."
      ],
      "metadata": {
        "id": "FaTOSKWUKNBV"
      }
    },
    {
      "cell_type": "markdown",
      "source": [
        "Q8. Create a Python class hierarchy for animals and implement abstraction by defining common methods (e.g., `eat()`, `sleep()`) in an abstract base class."
      ],
      "metadata": {
        "id": "ANQP-QNyQME9"
      }
    },
    {
      "cell_type": "code",
      "source": [
        "from abc import ABC, abstractmethod\n",
        "\n",
        "class animal(ABC):\n",
        "  @abstractmethod\n",
        "  def eat(self):\n",
        "    pass\n",
        "  def sleep(self):\n",
        "    pass\n",
        "\n",
        "class cat(animal):\n",
        "  def eat(self):\n",
        "    return f'cat is eating'\n",
        "  def sleep(self):\n",
        "    return f'cat is sleeping'\n",
        "\n",
        "class dog(animal):\n",
        "  def eat(self):\n",
        "    return f'dog is eating'\n",
        "  def sleep(self):\n",
        "    return f'dog is sleeping'\n",
        "\n",
        "A = cat()\n",
        "print(A.eat())\n",
        "print(A.sleep())\n",
        "\n",
        "B = dog()\n",
        "print(B.eat())\n",
        "print(B.sleep())"
      ],
      "metadata": {
        "id": "A42Sei1-QPPW",
        "colab": {
          "base_uri": "https://localhost:8080/"
        },
        "outputId": "d6607f78-bd94-4f8d-9e24-b1999d522e71"
      },
      "execution_count": null,
      "outputs": [
        {
          "output_type": "stream",
          "name": "stdout",
          "text": [
            "cat is eating\n",
            "cat is sleeping\n",
            "dog is eating\n",
            "dog is sleeping\n"
          ]
        }
      ]
    },
    {
      "cell_type": "markdown",
      "source": [
        "Q9. Explain the significance of encapsulation in achieving abstraction. Provide examples."
      ],
      "metadata": {
        "id": "AMOSAZWYQQBh"
      }
    },
    {
      "cell_type": "markdown",
      "source": [
        "**Abstraction** hides the unnecessary detail but shows the essential information while **encapsulation** hides the code and data into a single entity so that the data can be protected from outside.\n",
        "\n",
        "**Abstraction** addresses design problems while **encapsulation** addresses implementation problems.\n",
        "\n"
      ],
      "metadata": {
        "id": "40v8IQ-AI6ft"
      }
    },
    {
      "cell_type": "markdown",
      "source": [
        "Q10. What is the purpose of abstract methods, and how do they enforce abstraction in Python classes?"
      ],
      "metadata": {
        "id": "oKWDvTfyQUCq"
      }
    },
    {
      "cell_type": "markdown",
      "source": [
        "**purpose of abstract methods** :-\n",
        "\n",
        "1. It is method that has a declaration but does not have an implementation.\n",
        "2. It is used for creating blueprints for classes or interfaces.\n",
        "3. This can only be implemented using subclasses or classes that implement the interfaces.\n",
        "\n",
        "**abstract method enforce abstraction by** :-\n",
        "1. **Defining a contract** :- Abstract methods define a contract that concrete subclasses must follow. This contract ensures that certain methods are present in each concrete implementation.\n",
        "2. **Hiding Implementation Details** :- Abstract methods allow to focus on what classs should do without concerning yourself with how it achieves that behavior.\n",
        "3. **Promoting Consistency** :- Abstract methods promote consistency across different implementations."
      ],
      "metadata": {
        "id": "4tbSkZoDK5YN"
      }
    },
    {
      "cell_type": "markdown",
      "source": [
        "Q11. Create a Python class for a vehicle system and demonstrate abstraction by defining common methods (e.g., `start()`, `stop()`) in an abstract base class."
      ],
      "metadata": {
        "id": "EACPSKs8QXd7"
      }
    },
    {
      "cell_type": "code",
      "source": [
        "from abc import ABC, abstractmethod\n",
        "\n",
        "class vehicle(ABC):\n",
        "  @abstractmethod\n",
        "  def start(self):\n",
        "    pass\n",
        "  @abstractmethod\n",
        "  def stop(self):\n",
        "    pass\n",
        "\n",
        "class car(vehicle):\n",
        "  def start(self):\n",
        "    return 'car is started'\n",
        "  def stop(self):\n",
        "    return 'car is stopped'\n",
        "\n",
        "class truck(vehicle):\n",
        "  def start(self):\n",
        "    return 'truck starts at 7AM'\n",
        "  def stop(self):\n",
        "    return 'truck stops at 10PM'\n",
        "\n",
        "C = car()\n",
        "print(C.start())\n",
        "print(C.stop())\n",
        "\n",
        "T = truck()\n",
        "print(T.start())\n",
        "print(T.stop())"
      ],
      "metadata": {
        "id": "lg8wB2F2QZ9S",
        "colab": {
          "base_uri": "https://localhost:8080/"
        },
        "outputId": "a8959ff9-6205-4212-d8be-ec6a4611e521"
      },
      "execution_count": null,
      "outputs": [
        {
          "output_type": "stream",
          "name": "stdout",
          "text": [
            "car is started\n",
            "car is stopped\n",
            "truck starts at 7AM\n",
            "truck stops at 10PM\n"
          ]
        }
      ]
    },
    {
      "cell_type": "markdown",
      "source": [
        "Q12. Describe the use of abstract properties in Python and how they can be employed in abstract classes."
      ],
      "metadata": {
        "id": "X2wPX-QEQaqc"
      }
    },
    {
      "cell_type": "markdown",
      "source": [
        "**Use of abstract properties** :-\n",
        "1. This can be used to enforce a certain interface for attributes in abstract base classes.\n",
        "2. Abstract properties are declared using '@property' decorator along with '@abstractmethod' decorator. This ensures that concrete subclasses must provide an implementation for the property.\n",
        "3. Abstract properties are useful when we want to define a common interface for classes that share a certain attribute but may have different implementations for it.\n",
        "\n",
        "Below are example how it is employed."
      ],
      "metadata": {
        "id": "Eqj6STgqSLPr"
      }
    },
    {
      "cell_type": "code",
      "source": [
        "from abc import ABC, abstractmethod\n",
        "class shape(ABC):\n",
        "  @abstractmethod\n",
        "  # abstractmethod decorator ensures that concrete subclasses must provide their own implementation for area.\n",
        "  def area(self):\n",
        "    pass\n",
        "\n",
        "class square(shape):\n",
        "  def __init__(self, side):\n",
        "    self.side = side\n",
        "\n",
        "  def area(self):\n",
        "    return self.side ** 2\n",
        "\n",
        "\n",
        "dev = square(5)\n",
        "dev.area()"
      ],
      "metadata": {
        "colab": {
          "base_uri": "https://localhost:8080/"
        },
        "id": "l7Rgiu0MtEdy",
        "outputId": "ec4f30a4-2154-4ab0-8368-18798a1b50e1"
      },
      "execution_count": null,
      "outputs": [
        {
          "output_type": "execute_result",
          "data": {
            "text/plain": [
              "25"
            ]
          },
          "metadata": {},
          "execution_count": 2
        }
      ]
    },
    {
      "cell_type": "markdown",
      "source": [
        "Q13. Create a Python class hierarchy for employees in a company (e.g., manager, developer, designer) and implement abstraction by defining a common `get_salary()` method."
      ],
      "metadata": {
        "id": "j5p8tdRsh9WJ"
      }
    },
    {
      "cell_type": "code",
      "source": [
        "\n",
        "class employees(ABC):\n",
        "  def get_salary():\n",
        "    pass\n",
        "\n",
        "class manager(employees):\n",
        "  def get_salary(self):\n",
        "    amount = float(input('enter the amount : '))\n",
        "    return f'manger salary is {amount}'\n",
        "\n",
        "class developer(employees):\n",
        "  def get_salary(self):\n",
        "    amount = float(input('enter the amount : '))\n",
        "    return f'developer salary is {amount}'\n",
        "\n",
        "class designer(employees):\n",
        "  def get_salary(self):\n",
        "    amount = float(input('enter the amount : '))\n",
        "    return f'designer salary is {amount}'\n",
        "\n",
        "sam = manager()\n",
        "print(sam.get_salary())\n",
        "\n",
        "dev = developer()\n",
        "print(dev.get_salary())\n",
        "\n",
        "john = designer()\n",
        "print(john.get_salary())"
      ],
      "metadata": {
        "id": "154j8yd4iAe9",
        "colab": {
          "base_uri": "https://localhost:8080/"
        },
        "outputId": "2691927b-166b-41be-97a3-b1db199b252d"
      },
      "execution_count": null,
      "outputs": [
        {
          "output_type": "stream",
          "name": "stdout",
          "text": [
            "enter the amount : 20000\n",
            "manger salary is 20000.0\n",
            "enter the amount : 12321\n",
            "developer salary is 12321.0\n",
            "enter the amount : 10000\n",
            "designer salary is 10000.0\n"
          ]
        }
      ]
    },
    {
      "cell_type": "markdown",
      "source": [
        "Q14. Discuss the differences between abstract classes and concrete classes in Python, including their\n",
        "instantiation."
      ],
      "metadata": {
        "id": "dghUxKPFiBfR"
      }
    },
    {
      "cell_type": "markdown",
      "source": [
        "**regular classes** contain only normal methods whereas **abstract classes** may contain both normal methods and abstract methods.\n",
        "\n",
        "**regular class** provides an implementation of abstract methods, and **abstract class** can provide an implementation by invoking the methods via super()."
      ],
      "metadata": {
        "id": "qE5tsGLgZe82"
      }
    },
    {
      "cell_type": "markdown",
      "source": [
        "Q15. Explain the concept of abstract data types (ADTs) and their role in achieving abstraction in Python"
      ],
      "metadata": {
        "id": "9dAhjALfiE2s"
      }
    },
    {
      "cell_type": "markdown",
      "source": [
        "**Abstract data types (ADTs)** :- This are high-level conceptual model that defines a set of operations on data and behavior of these operations, independent of any specific implementation.\n",
        "\n",
        "This are a way of encapsulating data and operations on that data into a single unit.\n",
        "\n",
        "**key features of ADTs**: The user does not need to know the implementation of the data structure only essentials are provided."
      ],
      "metadata": {
        "id": "1z_lyf-oaAsA"
      }
    },
    {
      "cell_type": "markdown",
      "source": [
        "Q16. Create a Python class for a computer system, demonstrating abstraction by defining common methods (e.g., `power_on()`, `shutdown()`) in an abstract base class."
      ],
      "metadata": {
        "id": "bHRM42z9iH2a"
      }
    },
    {
      "cell_type": "code",
      "source": [
        "from abc import ABC, abstractmethod\n",
        "class computer:\n",
        "  @abstractmethod\n",
        "  def power_on(self):\n",
        "    pass\n",
        "  @abstractmethod\n",
        "  def shotdown(self):\n",
        "    pass\n",
        "\n",
        "class lenovo(computer):\n",
        "  def power_on(self, sec):\n",
        "    return f'lenovo starts in {sec} sec'\n",
        "  def shutdown(self, sec):\n",
        "    return f'lenovo shutdown in {sec} sec'\n",
        "\n",
        "class asus(computer):\n",
        "  def power_on(self, sec):\n",
        "    return f'asus starts in {sec} sec'\n",
        "  def shutdown(self, sec):\n",
        "    return f'asus starts in {sec} sec'\n",
        "A = lenovo()\n",
        "print(A.power_on(30))\n",
        "print(A.shutdown(25))\n",
        "\n",
        "B = asus()\n",
        "print(B.power_on(15))\n",
        "print(B.shutdown(12))\n"
      ],
      "metadata": {
        "id": "_BGoVoYuiKC5",
        "colab": {
          "base_uri": "https://localhost:8080/"
        },
        "outputId": "e528652b-775e-491c-99d5-6069bdec6646"
      },
      "execution_count": null,
      "outputs": [
        {
          "output_type": "stream",
          "name": "stdout",
          "text": [
            "lenovo starts in 30 sec\n",
            "lenovo shutdown in 25 sec\n",
            "asus starts in 15 sec\n",
            "asus starts in 12 sec\n"
          ]
        }
      ]
    },
    {
      "cell_type": "markdown",
      "source": [
        "Q17. Discuss the benefits of using abstraction in large-scale software development projects"
      ],
      "metadata": {
        "id": "nYv_Ca1AiL-L"
      }
    },
    {
      "cell_type": "markdown",
      "source": [
        "**Benefits of using abstraction** :-\n",
        "\n",
        "1. It reduces complexity of viewing the things.\n",
        "2. helps to increase security of an application or program as only important details are provided to the user.\n",
        "3. Avoids code duplication and increases reusability.\n",
        "4. can change internal implementation of class independently without affecting the user."
      ],
      "metadata": {
        "id": "-oedu4aDK4oa"
      }
    },
    {
      "cell_type": "markdown",
      "source": [
        "Q18. Explain how abstraction enhances code reusability and modularity in Python programs."
      ],
      "metadata": {
        "id": "z257VB5TiO8Z"
      }
    },
    {
      "cell_type": "markdown",
      "source": [
        "Below are keys points that how abstraction enhances code reusability and modularity in python programs.\n",
        "\n",
        "1. **Encapsulation of implementation details** :- Abstraction allows to encapsulate the internal details of class, exposing only what is necessary for user.\n",
        "2. **Code reusability** :- By defining abstract classes and interfaces, we can create a blueprint for common functionalities that can be reused across multiple classes.\n",
        "3. **Modularity** :- Abstraction promotes modularity by breaking down a system into smaller, independent modules or classes. This modular design makes it easier to understand, maintain and extend the codebase.\n",
        "4. **Improved Maintenance** :- Abstraction makes code more maintainable by providing a clear separation between the interface and the implementation."
      ],
      "metadata": {
        "id": "e9nJwgATM8ix"
      }
    },
    {
      "cell_type": "markdown",
      "source": [
        "Q19. Create a Python class for a library system, implementing abstraction by defining common methods (e.g., `add_book()`, `borrow_book()`) in an abstract base class."
      ],
      "metadata": {
        "id": "gZZfrpD1iRYN"
      }
    },
    {
      "cell_type": "code",
      "source": [
        "from abc import ABC, abstractmethod\n",
        "class library(ABC):\n",
        "  @abstractmethod\n",
        "  def add_book(self):\n",
        "    pass\n",
        "  def borrow_book(self):\n",
        "    pass\n",
        "\n",
        "class book(library):\n",
        "  def __init__(self):\n",
        "    self.book = ['wings of fire', 'playing it my way']\n",
        "  def add_book(self, book1):\n",
        "    self.book.append(book1)\n",
        "    return f'book avilable are {self.book}'\n",
        "  def borrow_book(self, book2):\n",
        "    for self.book2 in self.book:\n",
        "      if self.book2 in self.book:\n",
        "        return f'you borrow the book'\n",
        "      else:\n",
        "        return 'book is not available in list'\n",
        "\n",
        "A = book()\n",
        "A.add_book('bhagvatgeeta')\n",
        "print(A.add_book('ramayan'))\n",
        "\n",
        "print(A.borrow_book('ramayan'))"
      ],
      "metadata": {
        "id": "K3DPjQ2qiS9y",
        "colab": {
          "base_uri": "https://localhost:8080/"
        },
        "outputId": "f0eb0555-c71f-49c7-9e46-39eb15418e3b"
      },
      "execution_count": null,
      "outputs": [
        {
          "output_type": "stream",
          "name": "stdout",
          "text": [
            "book avilable are ['wings of fire', 'playing it my way', 'bhagvatgeeta', 'ramayan']\n",
            "you borrow the book wings of fire\n"
          ]
        }
      ]
    },
    {
      "cell_type": "markdown",
      "source": [
        "Q20. Describe the concept of method abstraction in Python and how it relates to polymorphism"
      ],
      "metadata": {
        "id": "E0PFIyPHiTf4"
      }
    },
    {
      "cell_type": "markdown",
      "source": [
        "**Abstraction** :- It is process of handling complexity by hiding unncessary information from the user.\n",
        "\n",
        "The users only interact with the basic implementation of the function, but inner working is hidden.\n",
        "\n",
        "Abstraction provides a programmer to hide all irrelevant data of an application in order to reduce complexity and increase the efficiency of the program.\n",
        "\n",
        "\n",
        "**Abstraction relates to polymorphism** :\n",
        "\n",
        "In abstraction, we basically define the class as abstract and methods we want to enforce as abstract without actually putting any code inside those methods.\n",
        "\n",
        "Then we create child class extending the parent abstract class and implement the abstract methods in that child class.\n"
      ],
      "metadata": {
        "id": "4ozzB7e-SpBI"
      }
    },
    {
      "cell_type": "markdown",
      "source": [
        "**Composition**"
      ],
      "metadata": {
        "id": "-kjyWqda09s0"
      }
    },
    {
      "cell_type": "markdown",
      "source": [
        "Q1. Explain the concept of composition in Python and how it is used to build complex objects from simpler ones."
      ],
      "metadata": {
        "id": "DQl45kR01EpR"
      }
    },
    {
      "cell_type": "markdown",
      "source": [
        "**composition in python** :- It is a concept that models a relationship.\n",
        "\n",
        "It is the way of combining two or more functions in such a way that the output of one function becomes the input of second fucntion.\n",
        "\n",
        "It enables creating complex types by combining objects of other types.\n",
        "\n",
        "composition implies a strong relationship where child class is part of the parent class, and it cannot exist independently."
      ],
      "metadata": {
        "id": "ITU4fEYY8ltm"
      }
    },
    {
      "cell_type": "markdown",
      "source": [
        "Q2. Describe the difference between composition and inheritance in object-oriented programming"
      ],
      "metadata": {
        "id": "E8Hno46x1Ihn"
      }
    },
    {
      "cell_type": "markdown",
      "source": [
        "**Inheritance** establishes common behavior and interfaces for classes, while **composition** combines and reuses existing classes to create more complex objects.\n",
        "\n",
        "**Inheritance** cannot extend final class. whereas **composition** allows code reuse even from final classes.\n",
        "\n",
        "**Inheritance** creates 'Is-a' relationship implies a hierarchy of types. while **composition** creates 'Has-a' relationship, emphasis presence of one class as a component of other class."
      ],
      "metadata": {
        "id": "soHheCrgfxTG"
      }
    },
    {
      "cell_type": "markdown",
      "source": [
        "Q3. Create a Python class called `Author` with attributes for name and birthdate. Then, create a `Book` class\n",
        "that contains an instance of `Author` as a composition. Provide an example of creating a `Book` object."
      ],
      "metadata": {
        "id": "N3EMmQHw1Mm0"
      }
    },
    {
      "cell_type": "code",
      "source": [
        "class Author:\n",
        "  def __init__(self, name, birthdate):\n",
        "    self.name = name\n",
        "    self.birthdate = birthdate\n",
        "  def detail(self):\n",
        "    return f' author is {self.name} and birthdate is {self.birthdate}'\n",
        "\n",
        "class Book(Author):\n",
        "  def __init__(self,bookname,name, birthdate):\n",
        "    # super().__init__(name, birthdate)\n",
        "    self.bookname = bookname\n",
        "    self.obj1 = Author(name,birthdate)\n",
        "\n",
        "  def detail1(self):\n",
        "    print(f'the book name is {self.bookname}' + self.obj1.detail())\n",
        "\n",
        "dev = Book('Wings of fire', 'abdul kalam', '12-02-1999')\n",
        "dev.detail1()"
      ],
      "metadata": {
        "id": "vSjLUkh01PVO",
        "colab": {
          "base_uri": "https://localhost:8080/"
        },
        "outputId": "212e804c-7d18-4896-f66b-d061232e5c12"
      },
      "execution_count": null,
      "outputs": [
        {
          "output_type": "stream",
          "name": "stdout",
          "text": [
            "the book name is Wings of fire author is abdul kalam and birthdate is 12-02-1999\n"
          ]
        }
      ]
    },
    {
      "cell_type": "markdown",
      "source": [
        "Q4. Discuss the benefits of using composition over inheritance in Python, especially in terms of code flexibility\n",
        "and reusability."
      ],
      "metadata": {
        "id": "GZoqUiXW1P9y"
      }
    },
    {
      "cell_type": "markdown",
      "source": [
        "**Benifits of composition over inheritance** :-\n",
        "1. **Testing scope** : unit testing is easy in composition because we know what all methods we are using from another class.\n",
        "2. **Reduce dependencies** : Composition allows for looser coupling between objects compared to inheritance.\n",
        "3. composition enables to reuse code by adding objects to other objects.\n",
        "\n",
        "Composition enables to **reuse code** by adding objects to other objects, as opposed to inheriting the interface and implementation of other classes."
      ],
      "metadata": {
        "id": "fM8iaQNmoYwg"
      }
    },
    {
      "cell_type": "markdown",
      "source": [
        "Q5. How can you implement composition in Python classes? Provide examples of using composition to create\n",
        "complex objects."
      ],
      "metadata": {
        "id": "0QbAfeCY1S4C"
      }
    },
    {
      "cell_type": "markdown",
      "source": [
        "**Implement composition in python classes**:\n",
        "1. One of the classes that exist in the composition is created from one examples of the others.\n",
        "2. we can also use function in some aspects of a class without using all the properties of another class.\n",
        "3. It is possible to reuse code by adding objects to different objects.\n",
        "\n",
        "**e.g.** :- A car has a battery(a battery is part of a car). A person has a heart(a heart is part of a person)."
      ],
      "metadata": {
        "id": "CA-CrP0frs6W"
      }
    },
    {
      "cell_type": "markdown",
      "source": [
        "Q6. Create a Python class hierarchy for a music player system, using composition to represent playlists and\n",
        "songs"
      ],
      "metadata": {
        "id": "pVVWgUMx1VvX"
      }
    },
    {
      "cell_type": "code",
      "source": [
        "class music:\n",
        "  def __init__(self, playlist, songs):\n",
        "    self.playlist = playlist\n",
        "    self.songs = songs\n",
        "  def detail(self):\n",
        "    return f'The name of playlist is {self.playlist} and song is {self.songs}'\n",
        "\n",
        "class composite:\n",
        "  def __init__(self, playlist, songs):\n",
        "\n",
        "    self.obj1 = music(playlist, songs)\n",
        "    # print('composite class object also created')\n",
        "\n",
        "  def detail1(self):\n",
        "    return self.obj1.detail()\n",
        "    # return f'the name of playlist is {self.playlist} and song is {self.songs}'\n",
        "obj2 = composite('bollywood hits', ['hum sath sath hey', 'ilahi'])\n",
        "print(obj2.detail1())"
      ],
      "metadata": {
        "id": "rCrwxRx21Xi8",
        "colab": {
          "base_uri": "https://localhost:8080/"
        },
        "outputId": "a6439e64-63f8-4c9d-eeb2-04abe701d681"
      },
      "execution_count": null,
      "outputs": [
        {
          "output_type": "stream",
          "name": "stdout",
          "text": [
            "The name of playlist is bollywood hits and song is ['hum sath sath hey', 'ilahi']\n"
          ]
        }
      ]
    },
    {
      "cell_type": "markdown",
      "source": [
        "Q7. Explain the concept of \"has-a\" relationships in composition and how it helps design software systems."
      ],
      "metadata": {
        "id": "P-TEDMQq1YLA"
      }
    },
    {
      "cell_type": "markdown",
      "source": [
        "**Has-a-relationship** :- The class composite can contain an object of another class component. This type of relationship is known as Has-a-relationship.\n",
        "In this, one class has a reference to an occation of another class of a similar class.\n",
        "\n",
        "It allows one class to have another class as a part of its structure."
      ],
      "metadata": {
        "id": "UkOZHeqJPtxa"
      }
    },
    {
      "cell_type": "markdown",
      "source": [
        "Q8. Create a Python class for a computer system, using composition to represent components like CPU, RAM,\n",
        "and storage devices."
      ],
      "metadata": {
        "id": "1gQEevST1bA9"
      }
    },
    {
      "cell_type": "code",
      "source": [
        "class computer:\n",
        "  def __init__(self, CPU, RAM, storage_devices):\n",
        "    self.CPU = CPU\n",
        "    self.RAM =RAM\n",
        "    self.storage_devices = storage_devices\n",
        "  def detail(self):\n",
        "    return f'The cpu of computer is {self.CPU} and ram is {self.RAM} and storage is {self.storage_devices}'\n",
        "\n",
        "class asus:\n",
        "  def __init__(self, CPU, RAM, storage_devices):\n",
        "    self.obj = computer(CPU,RAM, storage_devices)\n",
        "  def detail1(self):\n",
        "    return self.obj.detail()\n",
        "\n",
        "dev = asus('512', '8GB', '256GB')\n",
        "dev.detail1()"
      ],
      "metadata": {
        "id": "nteCT5Ze1cyr",
        "colab": {
          "base_uri": "https://localhost:8080/",
          "height": 35
        },
        "outputId": "427748e3-746e-43cd-81fb-512593be3084"
      },
      "execution_count": null,
      "outputs": [
        {
          "output_type": "execute_result",
          "data": {
            "text/plain": [
              "'The cpu of computer is 512 and ram is 8GB and storage is 256GB'"
            ],
            "application/vnd.google.colaboratory.intrinsic+json": {
              "type": "string"
            }
          },
          "metadata": {},
          "execution_count": 42
        }
      ]
    },
    {
      "cell_type": "markdown",
      "source": [
        "Q9. Describe the concept of \"delegation\" in composition and how it simplifies the design of complex systems"
      ],
      "metadata": {
        "id": "OlVRi10P1dap"
      }
    },
    {
      "cell_type": "markdown",
      "source": [
        "**Delegation** :- It is responsible for performing certain tasks on behalf of another object, called the delegator.\n",
        "\n",
        "The delgator passes requests for certain actions to the delegate, which then performs the actions on behlaf of the delegator."
      ],
      "metadata": {
        "id": "d00ItiAVlmR-"
      }
    },
    {
      "cell_type": "markdown",
      "source": [
        "Q10. Create a Python class for a car, using composition to represent components like the engine, wheels, and\n",
        "transmission."
      ],
      "metadata": {
        "id": "nRWQObmM1gYI"
      }
    },
    {
      "cell_type": "code",
      "source": [
        "class car:\n",
        "  def __init__(self, engine, wheels, transmission):\n",
        "    self.engine = engine\n",
        "    self.wheels = wheels\n",
        "    self.transmission = transmission\n",
        "  def detail(self):\n",
        "    return f'The car engine {self.engine} and it is {self.wheels} wheeler and transmission is {self.transmission}'\n",
        "\n",
        "class audi:\n",
        "  def __init__(self, engine, wheels, transmission):\n",
        "    self.obj = car(engine, wheels, transmission)\n",
        "\n",
        "  def detail1(self):\n",
        "    return self.obj.detail()\n",
        "\n",
        "dev = audi('TFSi', 4, 'drive system')\n",
        "dev.detail1()"
      ],
      "metadata": {
        "id": "9E2Ry3eg1kir",
        "colab": {
          "base_uri": "https://localhost:8080/",
          "height": 35
        },
        "outputId": "c9f509cd-7dbd-4c4f-a2b0-001566da1a1a"
      },
      "execution_count": null,
      "outputs": [
        {
          "output_type": "execute_result",
          "data": {
            "text/plain": [
              "'The car engine TFSi and it is 4 wheeler and transmission is drive system'"
            ],
            "application/vnd.google.colaboratory.intrinsic+json": {
              "type": "string"
            }
          },
          "metadata": {},
          "execution_count": 44
        }
      ]
    },
    {
      "cell_type": "markdown",
      "source": [
        "Q11. How can you encapsulate and hide the details of composed objects in Python classes to maintain\n",
        "abstraction?"
      ],
      "metadata": {
        "id": "FLFEk4gV1lOf"
      }
    },
    {
      "cell_type": "markdown",
      "source": [
        "using encapsulation, we can hide an object's internal representation from the outside.This is called information hiding.\n",
        "\n",
        "by using **Protected memeber** and **Private member** we hide the details of composed objects in python classes.\n",
        "\n",
        "It is way we can restrict access to methods and variables from outside of class."
      ],
      "metadata": {
        "id": "W73qRTZtpq3w"
      }
    },
    {
      "cell_type": "markdown",
      "source": [
        "Q12. Create a Python class for a university course, using composition to represent students, instructors, and\n",
        "course materials"
      ],
      "metadata": {
        "id": "A3c2qOvg1oit"
      }
    },
    {
      "cell_type": "code",
      "source": [
        "class course:\n",
        "  def __init__(self, name, city):\n",
        "    self.name = name\n",
        "    self.city = city\n",
        "\n",
        "  def detail(self):\n",
        "    return f'student name is {self.name} from {self.city}'\n",
        "class students:\n",
        "  def __init__(self, name, city, instructors, course_material):\n",
        "    self.obj = course(name, city)\n",
        "    self.instructors = instructors\n",
        "    self.course_material = course_material\n",
        "\n",
        "  def details(self):\n",
        "    return f'{self.obj.detail()} your instructors is {self.instructors} and course name is {self.course_material}'\n",
        "\n",
        "dev = students('Tejas', 'pune', 'dr.pande', 'maths')\n",
        "dev.details()\n"
      ],
      "metadata": {
        "id": "KCCU7QvD1qRG",
        "colab": {
          "base_uri": "https://localhost:8080/",
          "height": 35
        },
        "outputId": "be2901f2-df05-4a7b-9377-40ab2145a409"
      },
      "execution_count": null,
      "outputs": [
        {
          "output_type": "execute_result",
          "data": {
            "text/plain": [
              "'student name is Tejas from pune your instructors is dr.pande and course name is maths'"
            ],
            "application/vnd.google.colaboratory.intrinsic+json": {
              "type": "string"
            }
          },
          "metadata": {},
          "execution_count": 4
        }
      ]
    },
    {
      "cell_type": "markdown",
      "source": [
        "Q13. Discuss the challenges and drawbacks of composition, such as increased complexity and potential for\n",
        "tight coupling between objects"
      ],
      "metadata": {
        "id": "G5RvXfja1q4H"
      }
    },
    {
      "cell_type": "markdown",
      "source": [
        "**drawbacks of composition** :\n",
        "1. The behavior of the system may be harder to understand just by looking at the source code.\n",
        "2. It can require more effort to design and implement a compositional system than a monolithic one.\n",
        "3. It can also lead to code that is more difficult to debug and optimize."
      ],
      "metadata": {
        "id": "6FWjyWQjwOSs"
      }
    },
    {
      "cell_type": "markdown",
      "source": [
        "Q14. Create a Python class hierarchy for a restaurant system, using composition to represent menus, dishes,\n",
        "and ingredients"
      ],
      "metadata": {
        "id": "aGQxLEfr1u-l"
      }
    },
    {
      "cell_type": "code",
      "source": [
        "class Ingredient:\n",
        "  def __init__(self, name, quantity, unit):\n",
        "    self.name = name\n",
        "    self.quantity = quantity\n",
        "    self.unit = unit\n",
        "  def __str__(self):\n",
        "    return f\"{self.quantity} {self.unit} of {self.name}\"\n",
        "\n",
        "class Dish:\n",
        "  def __init__(self,name, ingredients):\n",
        "    self.name = name\n",
        "    self.ingredients = ingredients\n",
        "  def __str__(self):\n",
        "    return f\"Dish:{self.name}, Ingredients: {', '.join(str(ingredient) for ingredient in self.ingredients)}\"\n",
        "\n",
        "class Menu:\n",
        "  def __init__(self,name,dishes):\n",
        "    self.name = name\n",
        "    self.dishes = dishes\n",
        "  def __str__(self):\n",
        "    return f\"Menu: {self.name}, Dishes: {', '.join(dish.name for dish in self.dishes)}\"\n",
        "\n",
        "class Restaurant:\n",
        "  def __init__(self, name, menus):\n",
        "    self.name = name\n",
        "    self.menus = menus\n",
        "  def __str__(self):\n",
        "    return f\"Restaurant: {self.name}, Menus:{', '.join(menu.name for menu in self.menus)}\"\n",
        "\n",
        "if __name__ == \"__main__\":\n",
        "  # create ingredients\n",
        "  ingredient1 = Ingredient('Tomato', 2, 'pos')\n",
        "  ingredient2 = Ingredient(\"Cheese\", 200, \"g\")\n",
        "  ingredient3 = Ingredient(\"Bread\", 4, \"slices\")\n",
        "  #  create dishes\n",
        "  dish1 = Dish('Pizza', [ingredient1, ingredient2])\n",
        "  dish2 = Dish('sandwich', [ingredient2, ingredient3])\n",
        "  # create menus\n",
        "  menu1 = Menu('Lunch menu', [dish1, dish2])\n",
        "  # create restaurant\n",
        "  restaurant = Restaurant('The Tasty place', [menu1])\n",
        "\n",
        "  print(restaurant)"
      ],
      "metadata": {
        "id": "95Y4cA0b1wt7",
        "colab": {
          "base_uri": "https://localhost:8080/"
        },
        "outputId": "ed189860-bccd-4f40-9f6c-fcc797ad4d75"
      },
      "execution_count": null,
      "outputs": [
        {
          "output_type": "stream",
          "name": "stdout",
          "text": [
            "Restaurant: The Tasty place, Menus:Lunch menu\n"
          ]
        }
      ]
    },
    {
      "cell_type": "markdown",
      "source": [
        "Q15. Explain how composition enhances code maintainability and modularity in Python programs"
      ],
      "metadata": {
        "id": "EpEU_Apl1xgi"
      }
    },
    {
      "cell_type": "markdown",
      "source": [
        "Composition involves building complex functionality by combining simpler, more manegeable components.\n",
        "Below are keys points that how composition enhances code maintainability and modularity in python programs.\n",
        "1. **separation of concerns** :- Composition encourages breaking down the program into smaller, specialized classes, each responsible for specific functionality. This makes code easier to understand, maintain.\n",
        "2. **code reusability** :- composition allows to reuse existing classes in different parts of program.\n",
        "3. **Flexibility and adaptability** :- With composition, we can easily modify components without affecting the rest of the program.\n",
        "4. **Easier testing** :- components created through composition can be tested in isolation, simplifying the testing process."
      ],
      "metadata": {
        "id": "b_ocZb5IAYf6"
      }
    },
    {
      "cell_type": "markdown",
      "source": [
        "Q16. Create a Python class for a computer game character, using composition to represent attributes like\n",
        "weapons, armor, and inventory."
      ],
      "metadata": {
        "id": "h91XTTEM10he"
      }
    },
    {
      "cell_type": "code",
      "source": [
        "class Weapon:\n",
        "    def __init__(self, name, damage):\n",
        "        self.name = name\n",
        "        self.damage = damage\n",
        "\n",
        "    def attack(self):\n",
        "        print(f\"{self.name} attacks for {self.damage} damage!\")\n",
        "\n",
        "class Armor:\n",
        "    def __init__(self, name, defense):\n",
        "        self.name = name\n",
        "        self.defense = defense\n",
        "\n",
        "    def defend(self):\n",
        "        print(f\"{self.name} provides {self.defense} points of defense.\")\n",
        "\n",
        "class Inventory:\n",
        "    def __init__(self):\n",
        "        self.items = []\n",
        "\n",
        "    def add_item(self, item):\n",
        "        self.items.append(item)\n",
        "        print(f\"Added {item} to the inventory.\")\n",
        "\n",
        "class Character:\n",
        "    def __init__(self, name, health):\n",
        "        self.name = name\n",
        "        self.health = health\n",
        "        self.weapon = None\n",
        "        self.armor = None\n",
        "        self.inventory = Inventory()\n",
        "\n",
        "    def equip_weapon(self, weapon):\n",
        "        self.weapon = weapon\n",
        "        print(f\"{self.name} equips {weapon.name}.\")\n",
        "\n",
        "    def equip_armor(self, armor):\n",
        "        self.armor = armor\n",
        "        print(f\"{self.name} equips {armor.name}.\")\n",
        "\n",
        "    def take_damage(self, damage):\n",
        "        if self.armor:\n",
        "            damage -= self.armor.defense\n",
        "            if damage < 0:\n",
        "                damage = 0\n",
        "        self.health -= damage\n",
        "        print(f\"{self.name} takes {damage} damage. Health: {self.health}\")\n",
        "\n",
        "if __name__ == \"__main__\":\n",
        "    player = Character(name=\"Hero\", health=100)\n",
        "\n",
        "    # Create a weapon and armor\n",
        "    sword = Weapon(name=\"Sword\", damage=20)\n",
        "    helmet = Armor(name=\"Helmet\", defense=10)\n",
        "\n",
        "    # Equip the character\n",
        "    player.equip_weapon(sword)\n",
        "    player.equip_armor(helmet)\n",
        "\n",
        "    # Attack with the equipped weapon\n",
        "    player.weapon.attack()\n",
        "\n",
        "    # Defend with the equipped armor\n",
        "    player.armor.defend()\n",
        "\n",
        "    # Take damage\n",
        "    player.take_damage(15)\n",
        "\n",
        "    # Add items to the inventory\n",
        "    player.inventory.add_item(\"Health Potion\")\n",
        "    player.inventory.add_item(\"Magic Scroll\")\n"
      ],
      "metadata": {
        "id": "aCZS0CAc12qF",
        "colab": {
          "base_uri": "https://localhost:8080/"
        },
        "outputId": "bf50c518-7cc8-4429-e318-8f0bf3444337"
      },
      "execution_count": null,
      "outputs": [
        {
          "output_type": "stream",
          "name": "stdout",
          "text": [
            "Hero equips Sword.\n",
            "Hero equips Helmet.\n",
            "Sword attacks for 20 damage!\n",
            "Helmet provides 10 points of defense.\n",
            "Hero takes 5 damage. Health: 95\n",
            "Added Health Potion to the inventory.\n",
            "Added Magic Scroll to the inventory.\n"
          ]
        }
      ]
    },
    {
      "cell_type": "markdown",
      "source": [
        "Q17. Describe the concept of \"aggregation\" in composition and how it differs from simple composition."
      ],
      "metadata": {
        "id": "QchbyQvD13U3"
      }
    },
    {
      "cell_type": "markdown",
      "source": [
        "**Aggregation** :- It is a concept in which an object of one class can own or access another independent object of another class.\n",
        "\n",
        "It represents Has-A's relationship.\n",
        "\n",
        "It is a unidirectional association i.e. one way relationship.\n",
        "\n",
        "In aggregation, both the entries can survive individually which means ending one entity will not affect the other entity.\n",
        "\n",
        "\n",
        "**How it is differ from simple composition** :-\n",
        "\n",
        "1. **Aggregation** differs from ordinary composition in that it does not imply ownership while **composition** is a way to wrap simple objects into single unit.\n",
        "2. In **Aggregation,** parent Has-A relationship with child entity while in **composition**, parent entity owns child entity.\n",
        "3. **Aggregation** tells about a collection while **composition** tells about a mixture.\n",
        "4. **Aggregation** is a weak association while **composition** is a strong association."
      ],
      "metadata": {
        "id": "fI1ZCOkBz5Ji"
      }
    },
    {
      "cell_type": "markdown",
      "source": [
        "Q18. Create a Python class for a house, using composition to represent rooms, furniture, and appliances"
      ],
      "metadata": {
        "id": "uqXqj5l816Wl"
      }
    },
    {
      "cell_type": "code",
      "source": [
        "class House:\n",
        "  def __init__(self, name):\n",
        "    self.name = name\n",
        "    self.rooms = []\n",
        "  def add_room(self,room):\n",
        "    self.rooms.append(room)\n",
        "    print(f'Added {room.name} to the {self.name}.')\n",
        "  def describe_house(self):\n",
        "    print(f'\\nDescription of {self.name}:\\n')\n",
        "    for room in self.rooms:\n",
        "      room.describe_contents()\n",
        "\n",
        "class Furniture:\n",
        "  def __init__(self, name):\n",
        "    self.name = name\n",
        "  def describe(self):\n",
        "    print(f'This is a {self.name}')\n",
        "\n",
        "class Appliance:\n",
        "  def __init__(self, name):\n",
        "    self.name = name\n",
        "  def describe(self):\n",
        "    print(f'this is a {self.name}')\n",
        "\n",
        "class Room:\n",
        "  def __init__(self, name):\n",
        "    self.name = name\n",
        "    self.furniture = []\n",
        "    self.appliances = []\n",
        "\n",
        "  def add_furniture(self, furniture):\n",
        "    self.furniture.append(furniture)\n",
        "    print(f'added {furniture.name} to the {self.name}')\n",
        "\n",
        "  def add_appliance(self, appliance):\n",
        "      self.appliances.append(appliance)\n",
        "      print(f\"Added {appliance.name} to the {self.name}.\")\n",
        "\n",
        "  def describe_contents(self):\n",
        "      print(f\"\\nContents of {self.name}:\")\n",
        "      for item in self.furniture + self.appliances:\n",
        "            item.describe()\n",
        "\n",
        "if __name__ == \"__main__\":\n",
        "  my_house = House(name='My dream house')\n",
        "\n",
        "  # create rooms\n",
        "  living_room = Room(name='Living room')\n",
        "  kitchen = Room(name='Kitchen')\n",
        "  bedroom = Room(name='Bedroom')\n",
        "\n",
        "  # create furniture and appliances\n",
        "  sofa = Furniture(name = 'Sofa')\n",
        "  dining_table = Furniture(name='dining table')\n",
        "  refrigerator = Appliance(name='refrigerator')\n",
        "  oven = Appliance(name='oven')\n",
        "\n",
        "  # furniture and appliances adding to room\n",
        "  living_room.add_furniture(sofa)\n",
        "  living_room.add_furniture(dining_table)\n",
        "  kitchen.add_appliance(refrigerator)\n",
        "  kitchen.add_appliance(oven)\n",
        "\n",
        "  # add rooms to the house\n",
        "  my_house.add_room(living_room)\n",
        "  my_house.add_room(kitchen)\n",
        "  my_house.add_room(bedroom)\n",
        "\n",
        "  # decribe the content of house\n",
        "  my_house.describe_house()\n",
        "\n",
        "\n"
      ],
      "metadata": {
        "id": "Bik0cHnS18yl",
        "colab": {
          "base_uri": "https://localhost:8080/"
        },
        "outputId": "50ea39b8-da9d-4d4c-8f7b-d2bb8b875c96"
      },
      "execution_count": null,
      "outputs": [
        {
          "output_type": "stream",
          "name": "stdout",
          "text": [
            "added Sofa to the Living room\n",
            "added dining table to the Living room\n",
            "Added refrigerator to the Kitchen.\n",
            "Added oven to the Kitchen.\n",
            "Added Living room to the My dream house.\n",
            "Added Kitchen to the My dream house.\n",
            "Added Bedroom to the My dream house.\n",
            "\n",
            "Description of My dream house:\n",
            "\n",
            "\n",
            "Contents of Living room:\n",
            "This is a Sofa\n",
            "This is a dining table\n",
            "\n",
            "Contents of Kitchen:\n",
            "this is a refrigerator\n",
            "this is a oven\n",
            "\n",
            "Contents of Bedroom:\n"
          ]
        }
      ]
    },
    {
      "cell_type": "markdown",
      "source": [
        "Q19. How can you achieve flexibility in composed objects by allowing them to be replaced or modified\n",
        "dynamically at runtime?"
      ],
      "metadata": {
        "id": "8tGrjJjG19bb"
      }
    },
    {
      "cell_type": "markdown",
      "source": [
        "Composition combines existing classes to create more complex classes, which promotes code reuse.\n",
        "\n",
        "Because objects can be dynamically composed at runtime and easily replaced or modified without affecting the entire system, composition allows for greater flexibility and modularity."
      ],
      "metadata": {
        "id": "TtB-Nz-M-GQY"
      }
    },
    {
      "cell_type": "markdown",
      "source": [
        "Q20. Create a Python class for a social media application, using composition to represent users, posts, and\n",
        "comments"
      ],
      "metadata": {
        "id": "irWDkTDZ2AKr"
      }
    },
    {
      "cell_type": "code",
      "source": [
        "class Comment:\n",
        "  def __init__(self, text, commenter):\n",
        "    self.text = text\n",
        "    self.commenter = commenter\n",
        "\n",
        "  def __str__(self):\n",
        "    return f'Comment: {self.text} by {self.commenter.username}'\n",
        "\n",
        "class Post:\n",
        "  def __init__(self, content, author):\n",
        "    self.content = content\n",
        "    self.author = author\n",
        "    self.comments = []\n",
        "\n",
        "  def add_comment(self, text, commenter):\n",
        "    # composition\n",
        "    comment = Comment(text, commenter)\n",
        "    self.comments.append(comment)\n",
        "    return comment\n",
        "\n",
        "  def __str__(self):\n",
        "    return f'Post: {self.content} by {self.author}'\n",
        "\n",
        "class User:\n",
        "  def __init__(self, username, email):\n",
        "    self.username = username\n",
        "    self.email = email\n",
        "    self.posts = []\n",
        "\n",
        "  def create_post(self, content):\n",
        "    post = Post(self,content)\n",
        "    self.posts.append(post)\n",
        "    return post\n",
        "\n",
        "  def __str__(self):\n",
        "    return f'user:{self.username}'\n",
        "\n",
        "\n",
        "if __name__ == \"__main__\":\n",
        "  # creating user\n",
        "\n",
        "  user1 = User('Alice', 'alice@gmail.com')\n",
        "  user2 = User('john', 'john@gmail.com')\n",
        "\n",
        "  # user1 creating a post\n",
        "  post1 = user1.create_post('Hello, this is my first post')\n",
        "\n",
        "  # user2 comments on the post\n",
        "  comment1 = post1.add_comment('nice post', user2)\n",
        "\n",
        "  print(user1)\n",
        "  print(post1)\n",
        "  print(comment1)"
      ],
      "metadata": {
        "id": "9mF83Ls72BzI",
        "colab": {
          "base_uri": "https://localhost:8080/"
        },
        "outputId": "8112ca10-ecbe-4a6d-af74-81b9da7ecaa3"
      },
      "execution_count": null,
      "outputs": [
        {
          "output_type": "stream",
          "name": "stdout",
          "text": [
            "user:Alice\n",
            "Post: user:Alice by Hello, this is my first post\n",
            "Comment: nice post by john\n"
          ]
        }
      ]
    }
  ]
}