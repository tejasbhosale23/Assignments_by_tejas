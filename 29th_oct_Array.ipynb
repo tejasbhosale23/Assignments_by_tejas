{
  "nbformat": 4,
  "nbformat_minor": 0,
  "metadata": {
    "colab": {
      "provenance": [],
      "authorship_tag": "ABX9TyPvV6KkjPdpkROLiBsCcx4M",
      "include_colab_link": true
    },
    "kernelspec": {
      "name": "python3",
      "display_name": "Python 3"
    },
    "language_info": {
      "name": "python"
    }
  },
  "cells": [
    {
      "cell_type": "markdown",
      "metadata": {
        "id": "view-in-github",
        "colab_type": "text"
      },
      "source": [
        "<a href=\"https://colab.research.google.com/github/tejasbhosalepw/Assignments_by_tejas/blob/main/29th_oct_Array.ipynb\" target=\"_parent\"><img src=\"https://colab.research.google.com/assets/colab-badge.svg\" alt=\"Open In Colab\"/></a>"
      ]
    },
    {
      "cell_type": "markdown",
      "source": [
        "1.Given an array, check if it contains any duplicates or not.\n",
        "\n",
        "arr = [1, 2, 4, 2, 5, 9]\n",
        "\n",
        "Output = True"
      ],
      "metadata": {
        "id": "dkzT0Ip9kk_r"
      }
    },
    {
      "cell_type": "code",
      "source": [
        "def is_duplicates(arr):\n",
        "  list2 = set(arr)\n",
        "  if len(arr) == len(list2):\n",
        "    return False\n",
        "  else:\n",
        "    return True\n",
        "\n",
        "arr = [1,2,4,2,5,9]\n",
        "print(is_duplicates(arr))"
      ],
      "metadata": {
        "colab": {
          "base_uri": "https://localhost:8080/"
        },
        "id": "Bul1yvNgkvvP",
        "outputId": "a78bd5d4-0439-4774-b9a6-f63a89ce3e53"
      },
      "execution_count": 1,
      "outputs": [
        {
          "output_type": "stream",
          "name": "stdout",
          "text": [
            "True\n"
          ]
        }
      ]
    },
    {
      "cell_type": "markdown",
      "source": [
        "2.Given an array and an integer k, rotate the array to the right by k steps.\n",
        "\n",
        "arr = [1, 2, 3, 4, 5, 6, 7] k = 3\n",
        "\n",
        "Output = [5, 6, 7, 1, 2, 3, 4]"
      ],
      "metadata": {
        "id": "Tpq_Qmumlknf"
      }
    },
    {
      "cell_type": "code",
      "source": [
        "def rotate_array(arr, k):\n",
        "  n = len(arr)\n",
        "  # in case k is larger than the length of the array\n",
        "  k = k % n\n",
        "\n",
        "  # reverse the last k elements\n",
        "  arr[:k] = reversed(arr[:k])\n",
        "  # reverse the first n-k elements\n",
        "  arr[k:] = reversed(arr[k:])\n",
        "\n",
        "  arr.reverse()\n",
        "  return arr\n",
        "if __name__ == '__main__':\n",
        "  arr = [1,2,3,4,5,6,7]\n",
        "  k = 3\n",
        "  result = rotate_array(arr, k)\n",
        "  print(result)\n"
      ],
      "metadata": {
        "colab": {
          "base_uri": "https://localhost:8080/"
        },
        "id": "53UF-UzOlgWu",
        "outputId": "56f10418-962a-4d73-aa4c-9409ada52dd9"
      },
      "execution_count": 6,
      "outputs": [
        {
          "output_type": "stream",
          "name": "stdout",
          "text": [
            "[4, 5, 6, 7, 1, 2, 3]\n"
          ]
        }
      ]
    },
    {
      "cell_type": "markdown",
      "source": [
        "3.Reverse the given array in-place, means without using any extra data structure.\n",
        "\n",
        "arr = [2, 4, 5, 7, 9, 12]\n",
        "\n",
        "Output = [12, 9, 7, 5, 4, 2]"
      ],
      "metadata": {
        "id": "0dAE355-o1tr"
      }
    },
    {
      "cell_type": "code",
      "source": [
        "def reverse(arr):\n",
        "  return arr[::-1]\n",
        "\n",
        "arr = [2,4,5,7,9,12]\n",
        "print(reverse(arr))\n",
        "\n",
        "# Time complexity = O(1)\n",
        "# Space Complexity = O(1)"
      ],
      "metadata": {
        "colab": {
          "base_uri": "https://localhost:8080/"
        },
        "id": "Xba1ZP8ToF9L",
        "outputId": "bf28b8b4-cf2f-4b0b-f268-e74bee22850e"
      },
      "execution_count": 7,
      "outputs": [
        {
          "output_type": "stream",
          "name": "stdout",
          "text": [
            "[12, 9, 7, 5, 4, 2]\n"
          ]
        }
      ]
    },
    {
      "cell_type": "markdown",
      "source": [
        "4.Given an array of integers, find the maximum element in an array\n",
        "\n",
        "arr = [10, 5, 20, 8, 15]\n",
        "\n",
        "Output = 20"
      ],
      "metadata": {
        "id": "VgC_vm4gpU5f"
      }
    },
    {
      "cell_type": "code",
      "source": [
        "def largest(arr):\n",
        "  max = arr[0]\n",
        "  for i in range(len(arr)):\n",
        "    if arr[i] > max:\n",
        "      max = arr[i]\n",
        "  return max\n",
        "\n",
        "arr = [10,5,20,8,15]\n",
        "print(largest(arr))"
      ],
      "metadata": {
        "colab": {
          "base_uri": "https://localhost:8080/"
        },
        "id": "dbpXKfHXpUIc",
        "outputId": "7e99ef48-b3ee-4c45-d740-fff45ccbdb70"
      },
      "execution_count": 8,
      "outputs": [
        {
          "output_type": "stream",
          "name": "stdout",
          "text": [
            "20\n"
          ]
        }
      ]
    },
    {
      "cell_type": "markdown",
      "source": [
        "5.Given a sorted array, remove the duplicate element without using any extra data structure.\n",
        "\n",
        "arr = [1, 1, 2, 2, 2, 3, 3, 4, 4, 4, 5, 5]\n",
        "\n",
        "Output = [1, 2, 3, 4, 5]\n"
      ],
      "metadata": {
        "id": "xnPSayCLq-t_"
      }
    },
    {
      "cell_type": "code",
      "source": [
        "def duplicate(arr):\n",
        "  n = len(arr)\n",
        "  if n==0 or n==1:\n",
        "    return n\n",
        "\n",
        "  # to store index of next unique element.\n",
        "  j = 0\n",
        "  for i in range(n-1):\n",
        "    if arr[i] != arr[i+1]:\n",
        "      arr[j] = arr[i]\n",
        "      j += 1\n",
        "  arr[j] = arr[n-1]\n",
        "  return j +1\n",
        "\n",
        "if __name__ == '__main__':\n",
        "  arr = [1,1,2,2,2,3,3,4,4,5,4,]\n",
        "  n = len(arr)\n",
        "\n",
        "  # remove duplicates() returns new size of array.\n",
        "  n = duplicate(arr)\n",
        "  for i in range(n):\n",
        "    print(arr[i], end='')"
      ],
      "metadata": {
        "id": "psuMMfQZqtas"
      },
      "execution_count": null,
      "outputs": []
    }
  ]
}